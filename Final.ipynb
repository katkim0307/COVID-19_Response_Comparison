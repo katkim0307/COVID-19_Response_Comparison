{
 "cells": [
  {
   "cell_type": "code",
   "execution_count": 1,
   "metadata": {},
   "outputs": [
    {
     "name": "stderr",
     "output_type": "stream",
     "text": [
      "\n",
      "Bad key \"text.kerning_factor\" on line 4 in\n",
      "C:\\Users\\dun4g\\anaconda3\\envs\\GIS\\lib\\site-packages\\matplotlib\\mpl-data\\stylelib\\_classic_test_patch.mplstyle.\n",
      "You probably need to get an updated matplotlibrc file from\n",
      "https://github.com/matplotlib/matplotlib/blob/v3.1.3/matplotlibrc.template\n",
      "or from the matplotlib source distribution\n"
     ]
    }
   ],
   "source": [
    "import os\n",
    "import sys\n",
    "import requests\n",
    "import urllib\n",
    "import zipfile\n",
    "import glob\n",
    "import datetime\n",
    "from datetime import date\n",
    "\n",
    "import pandas as pd\n",
    "import geopandas as gpd\n",
    "import matplotlib.pyplot as plt\n",
    "import matplotlib.dates as mdates\n",
    "import matplotlib.ticker as ticker\n",
    "import matplotlib.patches as patches\n",
    "import matplotlib.cm as cm\n",
    "import matplotlib.colors as colors\n",
    "import plotly\n",
    "import plotly.graph_objs as go\n",
    "from plotly.graph_objs import *\n",
    "import plotly.offline as offline\n",
    "import plotly.figure_factory as ff\n",
    "import numpy as np\n",
    "import seaborn as sns\n",
    "import warnings\n",
    "import networkx as nx\n",
    "#import osmnx as ox   # Error"
   ]
  },
  {
   "cell_type": "markdown",
   "metadata": {},
   "source": [
    "# US COVID-19 Case Data Visualisation\n",
    "## Procedure 1: US States and Counties GeoDataFrame (EPSG: 2163)\n",
    "### US State"
   ]
  },
  {
   "cell_type": "code",
   "execution_count": 2,
   "metadata": {},
   "outputs": [],
   "source": [
    "# Read US States Boundary Shapefile\n",
    "us_states_gdf = gpd.read_file('Data/input/us_state/cb_2018_us_state_5m.shp')\n",
    "\n",
    "# Converting the CRS to US National Atlas Equal Area Projection (EPSG: 2163)\n",
    "us_states_gdf.to_crs(epsg=2163, inplace=True)"
   ]
  },
  {
   "cell_type": "code",
   "execution_count": 3,
   "metadata": {},
   "outputs": [],
   "source": [
    "# Adding a column 'coords' for later use (labeling each State)\n",
    "# https://stackoverflow.com/questions/38899190/geopandas-label-polygons\n",
    "us_states_gdf['coords'] = us_states_gdf['geometry'].apply(lambda x: x.representative_point().coords[:])\n",
    "us_states_gdf['coords'] = [coords[0] for coords in us_states_gdf['coords']]"
   ]
  },
  {
   "cell_type": "markdown",
   "metadata": {},
   "source": [
    "### US County"
   ]
  },
  {
   "cell_type": "code",
   "execution_count": 4,
   "metadata": {},
   "outputs": [],
   "source": [
    "# Read US Counties Boundary Shapefile\n",
    "us_counties_gdf = gpd.read_file('Data/input/us_counties/cb_2018_us_county_5m.shp')\n",
    "\n",
    "# Adding a 'FULLFP' column that concatenates 'STATEFP' and 'COUNTYFP'\n",
    "us_counties_gdf['FULLFP'] = us_counties_gdf['STATEFP'] + us_counties_gdf['COUNTYFP']\n",
    "\n",
    "# Converting the CRS to US National Atlas Equal Area Projection (EPSG: 2163)\n",
    "us_counties_gdf.to_crs(epsg=2163, inplace=True)"
   ]
  },
  {
   "cell_type": "code",
   "execution_count": 5,
   "metadata": {},
   "outputs": [],
   "source": [
    "# Read US State Name, FIPS, and Postcode csv file \n",
    "fips_csv_dir = 'Data/input/us_state_fips/us-state-ansi-fips.csv'\n",
    "fips_df = pd.read_csv(fips_csv_dir, dtype={' fips':object})"
   ]
  },
  {
   "cell_type": "code",
   "execution_count": 6,
   "metadata": {},
   "outputs": [],
   "source": [
    "# Rename columns\n",
    "fips_df.rename(columns=\n",
    "    {' fips': 'fips',\n",
    "    ' stusps': 'postcode',},\n",
    "    inplace=True)"
   ]
  },
  {
   "cell_type": "code",
   "execution_count": 7,
   "metadata": {},
   "outputs": [],
   "source": [
    "# Attribute Joins - Merging `us_counties_gdf` and `fips_df` on `'STATEFP'` and `'fips'`\n",
    "merged_df = pd.merge(\n",
    "    left=us_counties_gdf, \n",
    "    right=fips_df, \n",
    "    how='left', \n",
    "    left_on='STATEFP', \n",
    "    right_on='fips'\n",
    ")"
   ]
  },
  {
   "cell_type": "code",
   "execution_count": 8,
   "metadata": {},
   "outputs": [],
   "source": [
    "# Remove (drop) 'fips' column\n",
    "merged_df = merged_df.drop(['fips'], axis=1)"
   ]
  },
  {
   "cell_type": "code",
   "execution_count": 9,
   "metadata": {},
   "outputs": [],
   "source": [
    "# Make us_gdf a GeoDataFrame of merged_df\n",
    "us_counties_gdf = gpd.GeoDataFrame(merged_df,\n",
    "                                   crs={'init': 'epsg:2163'},\n",
    "                                   geometry=merged_df['geometry'])"
   ]
  },
  {
   "cell_type": "markdown",
   "metadata": {},
   "source": [
    "## Procedure 2: US COVID-19 Cases/Deaths/Testing DataFrame\n",
    "### [New York Times US Counties Data](https://github.com/nytimes/covid-19-data)\n",
    "### [Johns Hopkins Uni & Med US County](https://github.com/CSSEGISandData/COVID-19/tree/master/csse_covid_19_data/csse_covid_19_time_series)\n",
    "### [New York City Data](https://github.com/thecityny/covid-19-nyc-data)"
   ]
  },
  {
   "cell_type": "code",
   "execution_count": 10,
   "metadata": {},
   "outputs": [],
   "source": [
    "# Read NYTimes COVID-19 US Counties Data\n",
    "nytimes_counties_df = pd.read_csv('https://raw.githubusercontent.com/nytimes/covid-19-data/master/us-counties.csv', \n",
    "                                  dtype={'fips':object}\n",
    "                                 )"
   ]
  },
  {
   "cell_type": "code",
   "execution_count": 11,
   "metadata": {},
   "outputs": [],
   "source": [
    "# Changing the 'date' dtype from object to datetime\n",
    "nytimes_counties_df['date']=pd.to_datetime(nytimes_counties_df['date'])\n",
    "\n",
    "# There are missing 'fips' values that will cause trouble later on\n",
    "#nytimes_counties_df['fips'].fillna(0)"
   ]
  },
  {
   "cell_type": "code",
   "execution_count": 12,
   "metadata": {},
   "outputs": [
    {
     "data": {
      "text/html": [
       "<div>\n",
       "<style scoped>\n",
       "    .dataframe tbody tr th:only-of-type {\n",
       "        vertical-align: middle;\n",
       "    }\n",
       "\n",
       "    .dataframe tbody tr th {\n",
       "        vertical-align: top;\n",
       "    }\n",
       "\n",
       "    .dataframe thead th {\n",
       "        text-align: right;\n",
       "    }\n",
       "</style>\n",
       "<table border=\"1\" class=\"dataframe\">\n",
       "  <thead>\n",
       "    <tr style=\"text-align: right;\">\n",
       "      <th></th>\n",
       "      <th>date</th>\n",
       "      <th>county</th>\n",
       "      <th>state</th>\n",
       "      <th>fips</th>\n",
       "      <th>cases</th>\n",
       "      <th>deaths</th>\n",
       "    </tr>\n",
       "  </thead>\n",
       "  <tbody>\n",
       "    <tr>\n",
       "      <th>0</th>\n",
       "      <td>2020-01-21</td>\n",
       "      <td>Snohomish</td>\n",
       "      <td>Washington</td>\n",
       "      <td>53061</td>\n",
       "      <td>1</td>\n",
       "      <td>0</td>\n",
       "    </tr>\n",
       "    <tr>\n",
       "      <th>1</th>\n",
       "      <td>2020-01-22</td>\n",
       "      <td>Snohomish</td>\n",
       "      <td>Washington</td>\n",
       "      <td>53061</td>\n",
       "      <td>1</td>\n",
       "      <td>0</td>\n",
       "    </tr>\n",
       "    <tr>\n",
       "      <th>2</th>\n",
       "      <td>2020-01-23</td>\n",
       "      <td>Snohomish</td>\n",
       "      <td>Washington</td>\n",
       "      <td>53061</td>\n",
       "      <td>1</td>\n",
       "      <td>0</td>\n",
       "    </tr>\n",
       "    <tr>\n",
       "      <th>3</th>\n",
       "      <td>2020-01-24</td>\n",
       "      <td>Cook</td>\n",
       "      <td>Illinois</td>\n",
       "      <td>17031</td>\n",
       "      <td>1</td>\n",
       "      <td>0</td>\n",
       "    </tr>\n",
       "    <tr>\n",
       "      <th>4</th>\n",
       "      <td>2020-01-24</td>\n",
       "      <td>Snohomish</td>\n",
       "      <td>Washington</td>\n",
       "      <td>53061</td>\n",
       "      <td>1</td>\n",
       "      <td>0</td>\n",
       "    </tr>\n",
       "  </tbody>\n",
       "</table>\n",
       "</div>"
      ],
      "text/plain": [
       "        date     county       state   fips  cases  deaths\n",
       "0 2020-01-21  Snohomish  Washington  53061      1       0\n",
       "1 2020-01-22  Snohomish  Washington  53061      1       0\n",
       "2 2020-01-23  Snohomish  Washington  53061      1       0\n",
       "3 2020-01-24       Cook    Illinois  17031      1       0\n",
       "4 2020-01-24  Snohomish  Washington  53061      1       0"
      ]
     },
     "execution_count": 12,
     "metadata": {},
     "output_type": "execute_result"
    }
   ],
   "source": [
    "nytimes_counties_df.head()"
   ]
  },
  {
   "cell_type": "markdown",
   "metadata": {},
   "source": [
    "# PROBLEM: There are unknown counties with NaN fips\n",
    "### Possible Solution: Use the JHU's data instead of NYTimes (Ask how to use the data where each date is a column head)"
   ]
  },
  {
   "cell_type": "code",
   "execution_count": 13,
   "metadata": {},
   "outputs": [
    {
     "data": {
      "text/plain": [
       "array(['New York', 'Rhode Island', 'New Jersey', 'Puerto Rico',\n",
       "       'Virgin Islands', 'Guam', 'Maine', 'Massachusetts', 'Louisiana',\n",
       "       'Kentucky', 'Nevada', 'Tennessee', 'Arkansas', 'Georgia',\n",
       "       'Missouri', 'Minnesota', 'California', 'Colorado', 'Florida',\n",
       "       'Hawaii', 'Illinois', 'Vermont', 'Idaho', 'Michigan', 'Ohio',\n",
       "       'Utah', 'Mississippi', 'Northern Mariana Islands', 'Nebraska',\n",
       "       'Connecticut', 'Indiana', 'Alaska', 'Arizona', 'New Mexico',\n",
       "       'Pennsylvania', 'Virginia', 'New Hampshire', 'South Dakota',\n",
       "       'Washington', 'Delaware', 'Kansas', 'North Dakota', 'Maryland',\n",
       "       'Iowa'], dtype=object)"
      ]
     },
     "execution_count": 13,
     "metadata": {},
     "output_type": "execute_result"
    }
   ],
   "source": [
    "null_fips_df = nytimes_counties_df[nytimes_counties_df['fips'].isnull()]\n",
    "null_fips_df['state'].unique()"
   ]
  },
  {
   "cell_type": "code",
   "execution_count": 14,
   "metadata": {},
   "outputs": [
    {
     "data": {
      "text/html": [
       "<div>\n",
       "<style scoped>\n",
       "    .dataframe tbody tr th:only-of-type {\n",
       "        vertical-align: middle;\n",
       "    }\n",
       "\n",
       "    .dataframe tbody tr th {\n",
       "        vertical-align: top;\n",
       "    }\n",
       "\n",
       "    .dataframe thead th {\n",
       "        text-align: right;\n",
       "    }\n",
       "</style>\n",
       "<table border=\"1\" class=\"dataframe\">\n",
       "  <thead>\n",
       "    <tr style=\"text-align: right;\">\n",
       "      <th></th>\n",
       "      <th>date</th>\n",
       "      <th>county</th>\n",
       "      <th>state</th>\n",
       "      <th>fips</th>\n",
       "      <th>cases</th>\n",
       "      <th>deaths</th>\n",
       "    </tr>\n",
       "  </thead>\n",
       "  <tbody>\n",
       "    <tr>\n",
       "      <th>416</th>\n",
       "      <td>2020-03-01</td>\n",
       "      <td>New York City</td>\n",
       "      <td>New York</td>\n",
       "      <td>NaN</td>\n",
       "      <td>1</td>\n",
       "      <td>0</td>\n",
       "    </tr>\n",
       "    <tr>\n",
       "      <th>448</th>\n",
       "      <td>2020-03-02</td>\n",
       "      <td>New York City</td>\n",
       "      <td>New York</td>\n",
       "      <td>NaN</td>\n",
       "      <td>1</td>\n",
       "      <td>0</td>\n",
       "    </tr>\n",
       "    <tr>\n",
       "      <th>482</th>\n",
       "      <td>2020-03-03</td>\n",
       "      <td>New York City</td>\n",
       "      <td>New York</td>\n",
       "      <td>NaN</td>\n",
       "      <td>2</td>\n",
       "      <td>0</td>\n",
       "    </tr>\n",
       "    <tr>\n",
       "      <th>518</th>\n",
       "      <td>2020-03-04</td>\n",
       "      <td>New York City</td>\n",
       "      <td>New York</td>\n",
       "      <td>NaN</td>\n",
       "      <td>2</td>\n",
       "      <td>0</td>\n",
       "    </tr>\n",
       "    <tr>\n",
       "      <th>565</th>\n",
       "      <td>2020-03-05</td>\n",
       "      <td>New York City</td>\n",
       "      <td>New York</td>\n",
       "      <td>NaN</td>\n",
       "      <td>4</td>\n",
       "      <td>0</td>\n",
       "    </tr>\n",
       "    <tr>\n",
       "      <th>...</th>\n",
       "      <td>...</td>\n",
       "      <td>...</td>\n",
       "      <td>...</td>\n",
       "      <td>...</td>\n",
       "      <td>...</td>\n",
       "      <td>...</td>\n",
       "    </tr>\n",
       "    <tr>\n",
       "      <th>105654</th>\n",
       "      <td>2020-05-01</td>\n",
       "      <td>New York City</td>\n",
       "      <td>New York</td>\n",
       "      <td>NaN</td>\n",
       "      <td>169701</td>\n",
       "      <td>12700</td>\n",
       "    </tr>\n",
       "    <tr>\n",
       "      <th>108522</th>\n",
       "      <td>2020-05-02</td>\n",
       "      <td>New York City</td>\n",
       "      <td>New York</td>\n",
       "      <td>NaN</td>\n",
       "      <td>172364</td>\n",
       "      <td>12895</td>\n",
       "    </tr>\n",
       "    <tr>\n",
       "      <th>111396</th>\n",
       "      <td>2020-05-03</td>\n",
       "      <td>New York City</td>\n",
       "      <td>New York</td>\n",
       "      <td>NaN</td>\n",
       "      <td>174341</td>\n",
       "      <td>13064</td>\n",
       "    </tr>\n",
       "    <tr>\n",
       "      <th>114279</th>\n",
       "      <td>2020-05-04</td>\n",
       "      <td>New York City</td>\n",
       "      <td>New York</td>\n",
       "      <td>NaN</td>\n",
       "      <td>175661</td>\n",
       "      <td>13207</td>\n",
       "    </tr>\n",
       "    <tr>\n",
       "      <th>117161</th>\n",
       "      <td>2020-05-05</td>\n",
       "      <td>New York City</td>\n",
       "      <td>New York</td>\n",
       "      <td>NaN</td>\n",
       "      <td>176935</td>\n",
       "      <td>13336</td>\n",
       "    </tr>\n",
       "  </tbody>\n",
       "</table>\n",
       "<p>72 rows × 6 columns</p>\n",
       "</div>"
      ],
      "text/plain": [
       "             date         county     state fips   cases  deaths\n",
       "416    2020-03-01  New York City  New York  NaN       1       0\n",
       "448    2020-03-02  New York City  New York  NaN       1       0\n",
       "482    2020-03-03  New York City  New York  NaN       2       0\n",
       "518    2020-03-04  New York City  New York  NaN       2       0\n",
       "565    2020-03-05  New York City  New York  NaN       4       0\n",
       "...           ...            ...       ...  ...     ...     ...\n",
       "105654 2020-05-01  New York City  New York  NaN  169701   12700\n",
       "108522 2020-05-02  New York City  New York  NaN  172364   12895\n",
       "111396 2020-05-03  New York City  New York  NaN  174341   13064\n",
       "114279 2020-05-04  New York City  New York  NaN  175661   13207\n",
       "117161 2020-05-05  New York City  New York  NaN  176935   13336\n",
       "\n",
       "[72 rows x 6 columns]"
      ]
     },
     "execution_count": 14,
     "metadata": {},
     "output_type": "execute_result"
    }
   ],
   "source": [
    "null_fips_df[null_fips_df['state']=='New York']"
   ]
  },
  {
   "cell_type": "code",
   "execution_count": 15,
   "metadata": {
    "scrolled": true
   },
   "outputs": [],
   "source": [
    "# Creating a DataFrame for plotting charts (Set 'date' as the index)\n",
    "nytimes_counties_plot_df = nytimes_counties_df.copy()\n",
    "nytimes_counties_plot_df.set_index('date', inplace=True)"
   ]
  },
  {
   "cell_type": "markdown",
   "metadata": {},
   "source": [
    "### [COVID Tracking Project Latest US & States Current Data](https://covidtracking.com/api)"
   ]
  },
  {
   "cell_type": "code",
   "execution_count": 16,
   "metadata": {},
   "outputs": [],
   "source": [
    "# Read COVID Tracking Project US COVID-19 Current Data\n",
    "covtrack_us_now_df = pd.read_json('https://covidtracking.com/api/v1/us/current.json')[['positive', 'death', 'total']]"
   ]
  },
  {
   "cell_type": "code",
   "execution_count": 17,
   "metadata": {},
   "outputs": [],
   "source": [
    "# Read COVID Tracking Project US States COVID-19 Current Data\n",
    "covtrack_states_now_df = pd.read_json('https://covidtracking.com/api/v1/states/current.json', dtype={'fips':object})[\n",
    "    ['state', 'fips', 'positive', 'death', 'total']\n",
    "]"
   ]
  },
  {
   "cell_type": "markdown",
   "metadata": {},
   "source": [
    "### [COVID Tracking Project US Accumulative Data](https://covidtracking.com/api)"
   ]
  },
  {
   "cell_type": "code",
   "execution_count": 18,
   "metadata": {},
   "outputs": [],
   "source": [
    "# Read COVID Tracking Project US COVID-19 Accumulative Data\n",
    "covtrack_us_hist_df = pd.read_json('https://covidtracking.com/api/v1/us/daily.json', dtype={'fips':object})[\n",
    "    ['date','positive', 'death', 'total']\n",
    "]"
   ]
  },
  {
   "cell_type": "code",
   "execution_count": 19,
   "metadata": {},
   "outputs": [],
   "source": [
    "# Creating a new column, 'datetime' that converts 'date' from dtype: int to the Dtype: str of datetime\n",
    "covtrack_us_hist_df['datetime']=pd.to_datetime(covtrack_us_hist_df['date'].astype(str), format='%Y-%m-%d')\n",
    "\n",
    "# Converting the Dtype to datetime\n",
    "covtrack_us_hist_df['datetime']=pd.to_datetime(covtrack_us_hist_df['datetime'])"
   ]
  },
  {
   "cell_type": "code",
   "execution_count": 20,
   "metadata": {},
   "outputs": [],
   "source": [
    "# Creating a DataFrame for plotting charts (Set 'datetime' as the index)\n",
    "covtrack_us_hist_plot_df = covtrack_us_hist_df[['datetime', 'positive', 'death', 'total']].copy()\n",
    "covtrack_us_hist_plot_df.set_index('datetime', inplace=True)"
   ]
  },
  {
   "cell_type": "markdown",
   "metadata": {},
   "source": [
    "### [COVID Tracking Project States Accumulative Data](https://covidtracking.com/api)"
   ]
  },
  {
   "cell_type": "code",
   "execution_count": 21,
   "metadata": {},
   "outputs": [],
   "source": [
    "# Read COVID Tracking Project US States COVID-19 Accumulative Data\n",
    "covtrack_states_hist_df = pd.read_json('https://covidtracking.com/api/v1/states/daily.json', dtype={'fips':object})[\n",
    "    ['date', 'state', 'fips', 'positive', 'death', 'total']\n",
    "]"
   ]
  },
  {
   "cell_type": "code",
   "execution_count": 22,
   "metadata": {},
   "outputs": [],
   "source": [
    "# Creating a new column, 'datetime' that converts 'date' from dtype: int to the Dtype: str of datetime\n",
    "covtrack_states_hist_df['datetime']=pd.to_datetime(covtrack_states_hist_df['date'].astype(str), format='%Y-%m-%d')\n",
    "\n",
    "# Converting the Dtype to datetime\n",
    "covtrack_states_hist_df['datetime']=pd.to_datetime(covtrack_states_hist_df['datetime'])"
   ]
  },
  {
   "cell_type": "code",
   "execution_count": 23,
   "metadata": {},
   "outputs": [],
   "source": [
    "# # Creating a DataFrame for plotting charts (Set 'datetime' as the index)\n",
    "covtrack_states_hist_plot_df = covtrack_states_hist_df[['datetime', 'state', 'fips', 'positive', 'death', 'total']].copy()\n",
    "covtrack_states_hist_plot_df.set_index('datetime', inplace=True)"
   ]
  },
  {
   "cell_type": "markdown",
   "metadata": {},
   "source": [
    "## Procedure 3: Merge US COVID-19 DataFrame with GeoDataFrame `us_cov19_counties_gdf` and `us_cov19_states_gdf`\n",
    "### `nytimes_counties_df`"
   ]
  },
  {
   "cell_type": "code",
   "execution_count": 24,
   "metadata": {},
   "outputs": [],
   "source": [
    "# Merge NYTimes US Counties COVID-19 Data with us_counties_gdf\n",
    "us_cov19_counties_df = pd.merge(\n",
    "    nytimes_counties_df,\n",
    "    us_counties_gdf[['FULLFP', 'STATEFP', 'COUNTYFP', 'geometry', 'postcode']],\n",
    "    left_on='fips',\n",
    "    right_on='FULLFP',\n",
    "    how='left',\n",
    ")"
   ]
  },
  {
   "cell_type": "code",
   "execution_count": 25,
   "metadata": {},
   "outputs": [],
   "source": [
    "us_cov19_counties_gdf = gpd.GeoDataFrame(us_cov19_counties_df, \n",
    "                                         crs={'init': 'epsg:2163'},\n",
    "                                         geometry='geometry')"
   ]
  },
  {
   "cell_type": "code",
   "execution_count": 26,
   "metadata": {},
   "outputs": [],
   "source": [
    "us_cov19_counties_gdf = us_cov19_counties_gdf.drop(['FULLFP'], axis=1)"
   ]
  },
  {
   "cell_type": "markdown",
   "metadata": {},
   "source": [
    "# <font color = 'orangered'> This works only sometimes... </font>"
   ]
  },
  {
   "cell_type": "code",
   "execution_count": 27,
   "metadata": {
    "scrolled": true
   },
   "outputs": [
    {
     "ename": "AttributeError",
     "evalue": "'function' object has no attribute 'set_index'",
     "output_type": "error",
     "traceback": [
      "\u001b[1;31m---------------------------------------------------------------------------\u001b[0m",
      "\u001b[1;31mAttributeError\u001b[0m                            Traceback (most recent call last)",
      "\u001b[1;32m<ipython-input-27-7e4dd524f02f>\u001b[0m in \u001b[0;36m<module>\u001b[1;34m\u001b[0m\n\u001b[0;32m      1\u001b[0m us_cov19_counties_plot_gdf = us_cov19_counties_gdf[['date', 'county', 'state', 'postcode', 'fips', \n\u001b[0;32m      2\u001b[0m                                                     'STATEFP', 'COUNTYFP', 'cases', 'deaths', 'geometry']].copy\n\u001b[1;32m----> 3\u001b[1;33m \u001b[0mus_cov19_counties_plot_gdf\u001b[0m\u001b[1;33m.\u001b[0m\u001b[0mset_index\u001b[0m\u001b[1;33m(\u001b[0m\u001b[1;34m'date'\u001b[0m\u001b[1;33m,\u001b[0m \u001b[0minplace\u001b[0m\u001b[1;33m=\u001b[0m\u001b[1;32mTrue\u001b[0m\u001b[1;33m)\u001b[0m\u001b[1;33m\u001b[0m\u001b[1;33m\u001b[0m\u001b[0m\n\u001b[0m",
      "\u001b[1;31mAttributeError\u001b[0m: 'function' object has no attribute 'set_index'"
     ]
    }
   ],
   "source": [
    "us_cov19_counties_plot_gdf = us_cov19_counties_gdf[['date', 'county', 'state', 'postcode', 'fips', \n",
    "                                                    'STATEFP', 'COUNTYFP', 'cases', 'deaths', 'geometry']].copy\n",
    "us_cov19_counties_plot_gdf.set_index('date', inplace=True)"
   ]
  },
  {
   "cell_type": "markdown",
   "metadata": {},
   "source": [
    "### `covtrack_states_now_df`"
   ]
  },
  {
   "cell_type": "code",
   "execution_count": 28,
   "metadata": {},
   "outputs": [],
   "source": [
    "# Merge COVID Tracking Project US States COVID-19 Accumulative Data with us_states_gdf\n",
    "us_cov19_states_now_df = pd.merge(\n",
    "    covtrack_states_now_df,\n",
    "    us_states_gdf[['STATEFP', 'NAME', 'coords', 'geometry']],\n",
    "    left_on='fips',\n",
    "    right_on='STATEFP',\n",
    "    how='left',\n",
    ")"
   ]
  },
  {
   "cell_type": "code",
   "execution_count": 29,
   "metadata": {},
   "outputs": [],
   "source": [
    "us_cov19_states_now_gdf = gpd.GeoDataFrame(us_cov19_states_now_df, \n",
    "                                           crs={'init': 'epsg:2163'},\n",
    "                                           geometry='geometry')"
   ]
  },
  {
   "cell_type": "code",
   "execution_count": 30,
   "metadata": {},
   "outputs": [],
   "source": [
    "us_cov19_states_now_gdf = us_cov19_states_now_gdf.drop(['STATEFP'], axis=1)"
   ]
  },
  {
   "cell_type": "code",
   "execution_count": 46,
   "metadata": {},
   "outputs": [
    {
     "data": {
      "text/html": [
       "<div>\n",
       "<style scoped>\n",
       "    .dataframe tbody tr th:only-of-type {\n",
       "        vertical-align: middle;\n",
       "    }\n",
       "\n",
       "    .dataframe tbody tr th {\n",
       "        vertical-align: top;\n",
       "    }\n",
       "\n",
       "    .dataframe thead th {\n",
       "        text-align: right;\n",
       "    }\n",
       "</style>\n",
       "<table border=\"1\" class=\"dataframe\">\n",
       "  <thead>\n",
       "    <tr style=\"text-align: right;\">\n",
       "      <th></th>\n",
       "      <th>state</th>\n",
       "      <th>fips</th>\n",
       "      <th>positive</th>\n",
       "      <th>death</th>\n",
       "      <th>total</th>\n",
       "      <th>NAME</th>\n",
       "      <th>coords</th>\n",
       "      <th>geometry</th>\n",
       "    </tr>\n",
       "  </thead>\n",
       "  <tbody>\n",
       "    <tr>\n",
       "      <th>0</th>\n",
       "      <td>AK</td>\n",
       "      <td>02</td>\n",
       "      <td>372</td>\n",
       "      <td>10</td>\n",
       "      <td>23655</td>\n",
       "      <td>Alaska</td>\n",
       "      <td>(-2180339.847699951, 2622589.4473532755)</td>\n",
       "      <td>MULTIPOLYGON (((-4288629.978 3426273.416, -428...</td>\n",
       "    </tr>\n",
       "    <tr>\n",
       "      <th>1</th>\n",
       "      <td>AL</td>\n",
       "      <td>01</td>\n",
       "      <td>8581</td>\n",
       "      <td>340</td>\n",
       "      <td>109516</td>\n",
       "      <td>Alabama</td>\n",
       "      <td>(1249493.1603794529, -1279834.742587857)</td>\n",
       "      <td>MULTIPOLYGON (((1150023.442 -1526367.945, 1150...</td>\n",
       "    </tr>\n",
       "    <tr>\n",
       "      <th>2</th>\n",
       "      <td>AR</td>\n",
       "      <td>05</td>\n",
       "      <td>3568</td>\n",
       "      <td>85</td>\n",
       "      <td>59003</td>\n",
       "      <td>Arkansas</td>\n",
       "      <td>(685109.6121825308, -1101604.851975698)</td>\n",
       "      <td>POLYGON ((482000.986 -928930.836, 487242.080 -...</td>\n",
       "    </tr>\n",
       "    <tr>\n",
       "      <th>3</th>\n",
       "      <td>AZ</td>\n",
       "      <td>04</td>\n",
       "      <td>9707</td>\n",
       "      <td>426</td>\n",
       "      <td>91737</td>\n",
       "      <td>Arizona</td>\n",
       "      <td>(-1085734.3498492904, -1127761.0539318295)</td>\n",
       "      <td>POLYGON ((-1386135.563 -1256471.688, -1386636....</td>\n",
       "    </tr>\n",
       "    <tr>\n",
       "      <th>4</th>\n",
       "      <td>CA</td>\n",
       "      <td>06</td>\n",
       "      <td>58815</td>\n",
       "      <td>2412</td>\n",
       "      <td>809036</td>\n",
       "      <td>California</td>\n",
       "      <td>(-1751658.9889987549, -642191.5542591754)</td>\n",
       "      <td>MULTIPOLYGON (((-1717278.368 -1090204.876, -17...</td>\n",
       "    </tr>\n",
       "  </tbody>\n",
       "</table>\n",
       "</div>"
      ],
      "text/plain": [
       "  state fips  positive  death   total        NAME  \\\n",
       "0    AK   02       372     10   23655      Alaska   \n",
       "1    AL   01      8581    340  109516     Alabama   \n",
       "2    AR   05      3568     85   59003    Arkansas   \n",
       "3    AZ   04      9707    426   91737     Arizona   \n",
       "4    CA   06     58815   2412  809036  California   \n",
       "\n",
       "                                       coords  \\\n",
       "0    (-2180339.847699951, 2622589.4473532755)   \n",
       "1    (1249493.1603794529, -1279834.742587857)   \n",
       "2     (685109.6121825308, -1101604.851975698)   \n",
       "3  (-1085734.3498492904, -1127761.0539318295)   \n",
       "4   (-1751658.9889987549, -642191.5542591754)   \n",
       "\n",
       "                                            geometry  \n",
       "0  MULTIPOLYGON (((-4288629.978 3426273.416, -428...  \n",
       "1  MULTIPOLYGON (((1150023.442 -1526367.945, 1150...  \n",
       "2  POLYGON ((482000.986 -928930.836, 487242.080 -...  \n",
       "3  POLYGON ((-1386135.563 -1256471.688, -1386636....  \n",
       "4  MULTIPOLYGON (((-1717278.368 -1090204.876, -17...  "
      ]
     },
     "execution_count": 46,
     "metadata": {},
     "output_type": "execute_result"
    }
   ],
   "source": [
    "us_cov19_states_now_gdf.head()"
   ]
  },
  {
   "cell_type": "markdown",
   "metadata": {},
   "source": [
    "### `covtrack_states_hist_df`"
   ]
  },
  {
   "cell_type": "code",
   "execution_count": 31,
   "metadata": {},
   "outputs": [],
   "source": [
    "# Merge COVID Tracking Project US States COVID-19 Accumulative Data with us_states_gdf\n",
    "us_cov19_states_df = pd.merge(\n",
    "    covtrack_states_hist_df,\n",
    "    us_states_gdf[['STATEFP', 'NAME', 'coords', 'geometry']],\n",
    "    left_on='fips',\n",
    "    right_on='STATEFP',\n",
    "    how='left',\n",
    ")"
   ]
  },
  {
   "cell_type": "code",
   "execution_count": 32,
   "metadata": {},
   "outputs": [],
   "source": [
    "us_cov19_states_gdf = gpd.GeoDataFrame(us_cov19_states_df, \n",
    "                                       crs={'init': 'epsg:2163'},\n",
    "                                       geometry='geometry')"
   ]
  },
  {
   "cell_type": "code",
   "execution_count": 33,
   "metadata": {},
   "outputs": [],
   "source": [
    "us_cov19_states_gdf = us_cov19_states_gdf.drop(['STATEFP'], axis=1)"
   ]
  },
  {
   "cell_type": "code",
   "execution_count": 34,
   "metadata": {},
   "outputs": [],
   "source": [
    "# Creating a DataFrame for plotting charts (Set 'datetime' as the index)\n",
    "us_cov19_states_plot_gdf = us_cov19_states_gdf[['datetime', 'date', 'NAME', 'state', 'fips', 'positive', 'death', 'total', 'coords', 'geometry']].copy()\n",
    "us_cov19_states_plot_gdf.set_index('datetime', inplace=True)"
   ]
  },
  {
   "cell_type": "markdown",
   "metadata": {},
   "source": [
    "## Procedure 4: US COVID-19 Data Visualisation\n",
    "### US History Chart `covtrack_us_hist_df`"
   ]
  },
  {
   "cell_type": "markdown",
   "metadata": {
    "scrolled": true
   },
   "source": [
    "# <font color = 'orangered'> QUESTION 2: How do I set the x-axis label (date) to show in `%b %d` format by monthly?? </font>"
   ]
  },
  {
   "cell_type": "code",
   "execution_count": 40,
   "metadata": {},
   "outputs": [
    {
     "data": {
      "image/png": "[encoded data removed]",
      "text/plain": [
       "<Figure size 432x288 with 1 Axes>"
      ]
     },
     "metadata": {
      "needs_background": "light"
     },
     "output_type": "display_data"
    }
   ],
   "source": [
    "fig, ax = plt.subplots()\n",
    "\n",
    "covtrack_us_hist_plot_df.plot(\n",
    "    ax=ax,\n",
    "    #x='datetime',\n",
    "    y=['positive', 'death', 'total'],\n",
    "    color=['#EDBB99', '#F1948A', '#82E0AA'],\n",
    "    xlim=('2020-01-22', '2020-03-31'),\n",
    "    ylim=(0, 70000),\n",
    ");\n",
    "\n",
    "# x-axis label\n",
    "plt.xlabel('Date')\n",
    "\n",
    "# Rename legend\n",
    "ax.legend(['Positive', 'Death', 'Test'])\n",
    "\n",
    "# set ticks every month\n",
    "ax.xaxis.set_major_locator(mdates.MonthLocator())\n",
    "\n",
    "# set major ticks format\n",
    "ax.xaxis.set_major_formatter(mdates.DateFormatter('%b %d'))\n",
    "\n",
    "plt.title('Early US COVID-19 Total Cases/Deaths/Tests', fontdict={'size':20});"
   ]
  },
  {
   "cell_type": "markdown",
   "metadata": {},
   "source": [
    "### US States Confirmed Cases `us_cov19_states_now_gdf`\n",
    "# <font color = 'red'> QUESTION 3: How do I change the pre-set legend values?  BoxPlot scheme is good but I just want the numbers to be prettier like 20,000 instead of 20,482.25. </font>"
   ]
  },
  {
   "cell_type": "code",
   "execution_count": 36,
   "metadata": {
    "scrolled": false
   },
   "outputs": [
    {
     "data": {
      "image/png": "[encoded data removed]",
      "text/plain": [
       "<Figure size 720x576 with 2 Axes>"
      ]
     },
     "metadata": {
      "needs_background": "light"
     },
     "output_type": "display_data"
    }
   ],
   "source": [
    "# from datetime import date\n",
    "\n",
    "fig, ax = plt.subplots(figsize=(10,8))\n",
    "\n",
    "# Normalize the Legend Color and create the legend bar\n",
    "# https://towardsdatascience.com/mapping-with-matplotlib-pandas-geopandas-and-basemap-in-python-d11b57ab5dac\n",
    "vmin, vmax = us_cov19_states_now_gdf.positive.min(), us_cov19_states_now_gdf.positive.max()\n",
    "legend_bar = plt.cm.ScalarMappable(\n",
    "     norm=plt.Normalize(vmin=vmin, vmax=vmax), \n",
    "     cmap='YlOrRd')\n",
    "\n",
    "# Plot\n",
    "us_cov19_states_now_gdf.plot(\n",
    "    ax=ax,\n",
    "    column='positive',\n",
    "    cmap='YlOrRd',\n",
    "    #markersize=2,\n",
    "    edgecolor='white',\n",
    "    legend=True,\n",
    "    scheme='BoxPlot', # or Quantile,\n",
    "    legend_kwds={'loc': 'lower left'},\n",
    ")\n",
    "\n",
    "# Title  \n",
    "today = datetime.datetime.now()\n",
    "ax.set_title('US Total Confirmed Cases (as of ' + today.strftime('%b %d') + ')', fontdict={'size':20});\n",
    "\n",
    "# Add the Color Legend Bar\n",
    "# https://stackoverflow.com/questions/18195758/set-matplotlib-colorbar-size-to-match-graph\n",
    "fig.colorbar(legend_bar, ax=ax, orientation='horizontal', fraction=0.05, pad=0.05, shrink=0.8)\n",
    "\n",
    "# Customizing legend values\n",
    "# leg = ax.get_legend()\n",
    "# leg.get_texts()[0].('New label 1')\n",
    "# leg.get_texts()[1].set_text('New label 2')\n",
    "\n",
    "# Displaying each State Postcode\n",
    "for idx, row in us_cov19_states_now_gdf.iterrows():\n",
    "    plt.annotate(s=row['state'], xy=row['coords'],\n",
    "                 horizontalalignment='center',\n",
    "                 #font.family='serif',\n",
    "                 color='lightgrey',\n",
    "                 #alpha=0.9,\n",
    "                 #bbox={'facecolor':'white', 'alpha':0.5, 'pad':1, 'edgecolor':'lightyellow'}\n",
    "                )\n",
    "\n",
    "# Turn off the box and the axes label\n",
    "ax.axis(False)\n",
    "ax.get_xaxis().set_visible(False)\n",
    "ax.get_yaxis().set_visible(False)\n",
    "\n",
    "# Crop the map to an appropriate size (via coordinate)\n",
    "ax.set_xlim(-4700000, 3000000)\n",
    "ax.set_ylim(-2500000, 1000000);\n",
    "# ax.set_ylim(-2500000, 4200000);  # shows alaska"
   ]
  },
  {
   "cell_type": "markdown",
   "metadata": {},
   "source": [
    "### More interactive choropleth map of the US State Total Confirmed Cases "
   ]
  },
  {
   "cell_type": "code",
   "execution_count": 47,
   "metadata": {},
   "outputs": [
    {
     "data": {
      "text/html": [
       "<div>\n",
       "<style scoped>\n",
       "    .dataframe tbody tr th:only-of-type {\n",
       "        vertical-align: middle;\n",
       "    }\n",
       "\n",
       "    .dataframe tbody tr th {\n",
       "        vertical-align: top;\n",
       "    }\n",
       "\n",
       "    .dataframe thead th {\n",
       "        text-align: right;\n",
       "    }\n",
       "</style>\n",
       "<table border=\"1\" class=\"dataframe\">\n",
       "  <thead>\n",
       "    <tr style=\"text-align: right;\">\n",
       "      <th></th>\n",
       "      <th>state</th>\n",
       "      <th>fips</th>\n",
       "      <th>positive</th>\n",
       "      <th>death</th>\n",
       "      <th>total</th>\n",
       "      <th>STATEFP</th>\n",
       "      <th>NAME</th>\n",
       "      <th>coords</th>\n",
       "      <th>geometry</th>\n",
       "    </tr>\n",
       "  </thead>\n",
       "  <tbody>\n",
       "    <tr>\n",
       "      <th>0</th>\n",
       "      <td>AK</td>\n",
       "      <td>02</td>\n",
       "      <td>372</td>\n",
       "      <td>10</td>\n",
       "      <td>23655</td>\n",
       "      <td>02</td>\n",
       "      <td>Alaska</td>\n",
       "      <td>(-2180339.847699951, 2622589.4473532755)</td>\n",
       "      <td>MULTIPOLYGON (((-4288629.978 3426273.416, -428...</td>\n",
       "    </tr>\n",
       "    <tr>\n",
       "      <th>1</th>\n",
       "      <td>AL</td>\n",
       "      <td>01</td>\n",
       "      <td>8581</td>\n",
       "      <td>340</td>\n",
       "      <td>109516</td>\n",
       "      <td>01</td>\n",
       "      <td>Alabama</td>\n",
       "      <td>(1249493.1603794529, -1279834.742587857)</td>\n",
       "      <td>MULTIPOLYGON (((1150023.442 -1526367.945, 1150...</td>\n",
       "    </tr>\n",
       "    <tr>\n",
       "      <th>2</th>\n",
       "      <td>AR</td>\n",
       "      <td>05</td>\n",
       "      <td>3568</td>\n",
       "      <td>85</td>\n",
       "      <td>59003</td>\n",
       "      <td>05</td>\n",
       "      <td>Arkansas</td>\n",
       "      <td>(685109.6121825308, -1101604.851975698)</td>\n",
       "      <td>POLYGON ((482000.986 -928930.836, 487242.080 -...</td>\n",
       "    </tr>\n",
       "    <tr>\n",
       "      <th>3</th>\n",
       "      <td>AZ</td>\n",
       "      <td>04</td>\n",
       "      <td>9707</td>\n",
       "      <td>426</td>\n",
       "      <td>91737</td>\n",
       "      <td>04</td>\n",
       "      <td>Arizona</td>\n",
       "      <td>(-1085734.3498492904, -1127761.0539318295)</td>\n",
       "      <td>POLYGON ((-1386135.563 -1256471.688, -1386636....</td>\n",
       "    </tr>\n",
       "    <tr>\n",
       "      <th>4</th>\n",
       "      <td>CA</td>\n",
       "      <td>06</td>\n",
       "      <td>58815</td>\n",
       "      <td>2412</td>\n",
       "      <td>809036</td>\n",
       "      <td>06</td>\n",
       "      <td>California</td>\n",
       "      <td>(-1751658.9889987549, -642191.5542591754)</td>\n",
       "      <td>MULTIPOLYGON (((-1717278.368 -1090204.876, -17...</td>\n",
       "    </tr>\n",
       "  </tbody>\n",
       "</table>\n",
       "</div>"
      ],
      "text/plain": [
       "  state fips  positive  death   total STATEFP        NAME  \\\n",
       "0    AK   02       372     10   23655      02      Alaska   \n",
       "1    AL   01      8581    340  109516      01     Alabama   \n",
       "2    AR   05      3568     85   59003      05    Arkansas   \n",
       "3    AZ   04      9707    426   91737      04     Arizona   \n",
       "4    CA   06     58815   2412  809036      06  California   \n",
       "\n",
       "                                       coords  \\\n",
       "0    (-2180339.847699951, 2622589.4473532755)   \n",
       "1    (1249493.1603794529, -1279834.742587857)   \n",
       "2     (685109.6121825308, -1101604.851975698)   \n",
       "3  (-1085734.3498492904, -1127761.0539318295)   \n",
       "4   (-1751658.9889987549, -642191.5542591754)   \n",
       "\n",
       "                                            geometry  \n",
       "0  MULTIPOLYGON (((-4288629.978 3426273.416, -428...  \n",
       "1  MULTIPOLYGON (((1150023.442 -1526367.945, 1150...  \n",
       "2  POLYGON ((482000.986 -928930.836, 487242.080 -...  \n",
       "3  POLYGON ((-1386135.563 -1256471.688, -1386636....  \n",
       "4  MULTIPOLYGON (((-1717278.368 -1090204.876, -17...  "
      ]
     },
     "execution_count": 47,
     "metadata": {},
     "output_type": "execute_result"
    }
   ],
   "source": [
    "us_cov19_states_now_df.head()"
   ]
  },
  {
   "cell_type": "code",
   "execution_count": 62,
   "metadata": {},
   "outputs": [
    {
     "ename": "AttributeError",
     "evalue": "'Series' object has no attribute 'style'",
     "output_type": "error",
     "traceback": [
      "\u001b[1;31m---------------------------------------------------------------------------\u001b[0m",
      "\u001b[1;31mAttributeError\u001b[0m                            Traceback (most recent call last)",
      "\u001b[1;32m<ipython-input-62-201a5bfc6179>\u001b[0m in \u001b[0;36m<module>\u001b[1;34m\u001b[0m\n\u001b[0;32m      7\u001b[0m     \u001b[0mus_cov19_states_now_df\u001b[0m\u001b[1;33m[\u001b[0m\u001b[0mcol\u001b[0m\u001b[1;33m]\u001b[0m \u001b[1;33m=\u001b[0m \u001b[0mus_cov19_states_now_df\u001b[0m\u001b[1;33m[\u001b[0m\u001b[0mcol\u001b[0m\u001b[1;33m]\u001b[0m\u001b[1;33m.\u001b[0m\u001b[0mastype\u001b[0m\u001b[1;33m(\u001b[0m\u001b[0mstr\u001b[0m\u001b[1;33m)\u001b[0m\u001b[1;33m\u001b[0m\u001b[1;33m\u001b[0m\u001b[0m\n\u001b[0;32m      8\u001b[0m \u001b[1;33m\u001b[0m\u001b[0m\n\u001b[1;32m----> 9\u001b[1;33m \u001b[0mus_cov19_states_now_df\u001b[0m\u001b[1;33m[\u001b[0m\u001b[1;34m'text'\u001b[0m\u001b[1;33m]\u001b[0m\u001b[1;33m.\u001b[0m\u001b[0mstyle\u001b[0m\u001b[1;33m.\u001b[0m\u001b[0mformat\u001b[0m\u001b[1;33m(\u001b[0m\u001b[1;34m\"{:,.0f}\"\u001b[0m\u001b[1;33m)\u001b[0m\u001b[1;33m\u001b[0m\u001b[1;33m\u001b[0m\u001b[0m\n\u001b[0m\u001b[0;32m     10\u001b[0m \u001b[0mus_cov19_states_now_df\u001b[0m\u001b[1;33m[\u001b[0m\u001b[1;34m'text'\u001b[0m\u001b[1;33m]\u001b[0m \u001b[1;33m=\u001b[0m \u001b[0mus_cov19_states_now_df\u001b[0m\u001b[1;33m[\u001b[0m\u001b[1;34m'NAME'\u001b[0m\u001b[1;33m]\u001b[0m \u001b[1;33m+\u001b[0m \u001b[1;34m'<br>'\u001b[0m \u001b[1;33m+\u001b[0m\u001b[0;31m \u001b[0m\u001b[0;31m\\\u001b[0m\u001b[1;33m\u001b[0m\u001b[1;33m\u001b[0m\u001b[0m\n\u001b[0;32m     11\u001b[0m                         \u001b[1;34m'Cases: '\u001b[0m \u001b[1;33m+\u001b[0m \u001b[0mus_cov19_states_now_df\u001b[0m\u001b[1;33m[\u001b[0m\u001b[1;34m'positive'\u001b[0m\u001b[1;33m]\u001b[0m \u001b[1;33m+\u001b[0m \u001b[1;34m'<br>'\u001b[0m \u001b[1;33m+\u001b[0m\u001b[0;31m \u001b[0m\u001b[0;31m\\\u001b[0m\u001b[1;33m\u001b[0m\u001b[1;33m\u001b[0m\u001b[0m\n",
      "\u001b[1;32m~\\anaconda3\\envs\\GIS\\lib\\site-packages\\pandas\\core\\generic.py\u001b[0m in \u001b[0;36m__getattr__\u001b[1;34m(self, name)\u001b[0m\n\u001b[0;32m   5272\u001b[0m             \u001b[1;32mif\u001b[0m \u001b[0mself\u001b[0m\u001b[1;33m.\u001b[0m\u001b[0m_info_axis\u001b[0m\u001b[1;33m.\u001b[0m\u001b[0m_can_hold_identifiers_and_holds_name\u001b[0m\u001b[1;33m(\u001b[0m\u001b[0mname\u001b[0m\u001b[1;33m)\u001b[0m\u001b[1;33m:\u001b[0m\u001b[1;33m\u001b[0m\u001b[1;33m\u001b[0m\u001b[0m\n\u001b[0;32m   5273\u001b[0m                 \u001b[1;32mreturn\u001b[0m \u001b[0mself\u001b[0m\u001b[1;33m[\u001b[0m\u001b[0mname\u001b[0m\u001b[1;33m]\u001b[0m\u001b[1;33m\u001b[0m\u001b[1;33m\u001b[0m\u001b[0m\n\u001b[1;32m-> 5274\u001b[1;33m             \u001b[1;32mreturn\u001b[0m \u001b[0mobject\u001b[0m\u001b[1;33m.\u001b[0m\u001b[0m__getattribute__\u001b[0m\u001b[1;33m(\u001b[0m\u001b[0mself\u001b[0m\u001b[1;33m,\u001b[0m \u001b[0mname\u001b[0m\u001b[1;33m)\u001b[0m\u001b[1;33m\u001b[0m\u001b[1;33m\u001b[0m\u001b[0m\n\u001b[0m\u001b[0;32m   5275\u001b[0m \u001b[1;33m\u001b[0m\u001b[0m\n\u001b[0;32m   5276\u001b[0m     \u001b[1;32mdef\u001b[0m \u001b[0m__setattr__\u001b[0m\u001b[1;33m(\u001b[0m\u001b[0mself\u001b[0m\u001b[1;33m,\u001b[0m \u001b[0mname\u001b[0m\u001b[1;33m:\u001b[0m \u001b[0mstr\u001b[0m\u001b[1;33m,\u001b[0m \u001b[0mvalue\u001b[0m\u001b[1;33m)\u001b[0m \u001b[1;33m->\u001b[0m \u001b[1;32mNone\u001b[0m\u001b[1;33m:\u001b[0m\u001b[1;33m\u001b[0m\u001b[1;33m\u001b[0m\u001b[0m\n",
      "\u001b[1;31mAttributeError\u001b[0m: 'Series' object has no attribute 'style'"
     ]
    }
   ],
   "source": [
    "# color scheme for the map plot (white to red)\n",
    "state_color_scale = ['#FFEBEE', '#FFCDD2', '#EF9A9A', '#E57373', '#EF5350', \n",
    "                      '#F44336', '#E53935', '#D32F2F', '#C62828', '#B71C1C']\n",
    "\n",
    "# creating a new column that will include the mouse-hovering text for each state\n",
    "for col in us_cov19_states_now_df.columns:\n",
    "    us_cov19_states_now_df[col] = us_cov19_states_now_df[col].astype(str)\n",
    "\n",
    "#us_cov19_states_now_df.head().style.format(\"{:,.0f}\")\n",
    "us_cov19_states_now_df['text'] = us_cov19_states_now_df['NAME'] + '<br>' + \\\n",
    "                        'Cases: ' + us_cov19_states_now_df['positive'] + '<br>' + \\\n",
    "                        'Deaths: ' + us_cov19_states_now_df['death'] + '<br>' + \\\n",
    "                        'Tests: ' + us_cov19_states_now_df['total']\n",
    "\n",
    "fig = go.Figure(data=go.Choropleth(\n",
    "    locations=us_cov19_states_now_df['state'],  # the column with the state post code\n",
    "    z = us_cov19_states_now_df['positive'].astype(float),  # the variable I want to color-code\n",
    "    locationmode = 'USA-states',\n",
    "    #binning_endpoints=[2500, 7500, 21000, 50000, 350000],\n",
    "    zmax = 350000,\n",
    "    zmid = 30000,\n",
    "    zmin = 0,\n",
    "    colorscale = state_color_scale, # 'YlOrRd',\n",
    "    autocolorscale = False,\n",
    "    text = us_cov19_states_now_df['text'], # hover text\n",
    "    marker_line_color = 'white',     # for the lines separating states\n",
    "    marker_line_width = 2,    \n",
    "    colorbar_title = 'Confirmed Cases'\n",
    "))\n",
    "\n",
    "state_latest_update = datetime.datetime.now()\n",
    "\n",
    "# updating the layout\n",
    "fig.update_layout(\n",
    "    title_text = 'US State COVID-19 Confirmed Cases (latest update: ' + state_latest_update.strftime('%b %d') + ')',\n",
    "    geo = dict(\n",
    "            scope = 'usa',\n",
    "            projection=go.layout.geo.Projection(type='albers usa'),\n",
    "            # showlakes = True,  # if you want to give color to the lakes\n",
    "            # lakecolor = 'rgb(73, 216, 230)'\n",
    "    )\n",
    ")\n",
    "\n",
    "fig.show()"
   ]
  },
  {
   "cell_type": "markdown",
   "metadata": {},
   "source": [
    "### by US Counties `us_cov19_counties_df`\n",
    "\n",
    "Plotly Choropleth Maps: https://plotly.com/python/choropleth-maps/\n",
    "\n",
    "Interactive Map 1: https://towardsdatascience.com/a-complete-guide-to-an-interactive-geographical-map-using-python-f4c5197e23e0\n",
    "\n",
    "Interactive Map 2: https://amaral.northwestern.edu/blog/step-step-how-plot-map-slider-represent-time-evolu"
   ]
  },
  {
   "cell_type": "code",
   "execution_count": 64,
   "metadata": {
    "scrolled": true
   },
   "outputs": [
    {
     "data": {
      "text/html": [
       "<div>\n",
       "<style scoped>\n",
       "    .dataframe tbody tr th:only-of-type {\n",
       "        vertical-align: middle;\n",
       "    }\n",
       "\n",
       "    .dataframe tbody tr th {\n",
       "        vertical-align: top;\n",
       "    }\n",
       "\n",
       "    .dataframe thead th {\n",
       "        text-align: right;\n",
       "    }\n",
       "</style>\n",
       "<table border=\"1\" class=\"dataframe\">\n",
       "  <thead>\n",
       "    <tr style=\"text-align: right;\">\n",
       "      <th></th>\n",
       "      <th>date</th>\n",
       "      <th>county</th>\n",
       "      <th>state</th>\n",
       "      <th>fips</th>\n",
       "      <th>cases</th>\n",
       "      <th>deaths</th>\n",
       "      <th>FULLFP</th>\n",
       "      <th>STATEFP</th>\n",
       "      <th>COUNTYFP</th>\n",
       "      <th>geometry</th>\n",
       "      <th>postcode</th>\n",
       "    </tr>\n",
       "  </thead>\n",
       "  <tbody>\n",
       "    <tr>\n",
       "      <th>0</th>\n",
       "      <td>2020-01-21</td>\n",
       "      <td>Snohomish</td>\n",
       "      <td>Washington</td>\n",
       "      <td>53061</td>\n",
       "      <td>1</td>\n",
       "      <td>0</td>\n",
       "      <td>53061</td>\n",
       "      <td>53</td>\n",
       "      <td>061</td>\n",
       "      <td>MULTIPOLYGON (((-1634037.628 566970.701, -1633...</td>\n",
       "      <td>WA</td>\n",
       "    </tr>\n",
       "    <tr>\n",
       "      <th>1</th>\n",
       "      <td>2020-01-22</td>\n",
       "      <td>Snohomish</td>\n",
       "      <td>Washington</td>\n",
       "      <td>53061</td>\n",
       "      <td>1</td>\n",
       "      <td>0</td>\n",
       "      <td>53061</td>\n",
       "      <td>53</td>\n",
       "      <td>061</td>\n",
       "      <td>MULTIPOLYGON (((-1634037.628 566970.701, -1633...</td>\n",
       "      <td>WA</td>\n",
       "    </tr>\n",
       "    <tr>\n",
       "      <th>2</th>\n",
       "      <td>2020-01-23</td>\n",
       "      <td>Snohomish</td>\n",
       "      <td>Washington</td>\n",
       "      <td>53061</td>\n",
       "      <td>1</td>\n",
       "      <td>0</td>\n",
       "      <td>53061</td>\n",
       "      <td>53</td>\n",
       "      <td>061</td>\n",
       "      <td>MULTIPOLYGON (((-1634037.628 566970.701, -1633...</td>\n",
       "      <td>WA</td>\n",
       "    </tr>\n",
       "    <tr>\n",
       "      <th>3</th>\n",
       "      <td>2020-01-24</td>\n",
       "      <td>Cook</td>\n",
       "      <td>Illinois</td>\n",
       "      <td>17031</td>\n",
       "      <td>1</td>\n",
       "      <td>0</td>\n",
       "      <td>17031</td>\n",
       "      <td>17</td>\n",
       "      <td>031</td>\n",
       "      <td>POLYGON ((965008.651 -256879.590, 966661.997 -...</td>\n",
       "      <td>IL</td>\n",
       "    </tr>\n",
       "    <tr>\n",
       "      <th>4</th>\n",
       "      <td>2020-01-24</td>\n",
       "      <td>Snohomish</td>\n",
       "      <td>Washington</td>\n",
       "      <td>53061</td>\n",
       "      <td>1</td>\n",
       "      <td>0</td>\n",
       "      <td>53061</td>\n",
       "      <td>53</td>\n",
       "      <td>061</td>\n",
       "      <td>MULTIPOLYGON (((-1634037.628 566970.701, -1633...</td>\n",
       "      <td>WA</td>\n",
       "    </tr>\n",
       "  </tbody>\n",
       "</table>\n",
       "</div>"
      ],
      "text/plain": [
       "        date     county       state   fips  cases  deaths FULLFP STATEFP  \\\n",
       "0 2020-01-21  Snohomish  Washington  53061      1       0  53061      53   \n",
       "1 2020-01-22  Snohomish  Washington  53061      1       0  53061      53   \n",
       "2 2020-01-23  Snohomish  Washington  53061      1       0  53061      53   \n",
       "3 2020-01-24       Cook    Illinois  17031      1       0  17031      17   \n",
       "4 2020-01-24  Snohomish  Washington  53061      1       0  53061      53   \n",
       "\n",
       "  COUNTYFP                                           geometry postcode  \n",
       "0      061  MULTIPOLYGON (((-1634037.628 566970.701, -1633...       WA  \n",
       "1      061  MULTIPOLYGON (((-1634037.628 566970.701, -1633...       WA  \n",
       "2      061  MULTIPOLYGON (((-1634037.628 566970.701, -1633...       WA  \n",
       "3      031  POLYGON ((965008.651 -256879.590, 966661.997 -...       IL  \n",
       "4      061  MULTIPOLYGON (((-1634037.628 566970.701, -1633...       WA  "
      ]
     },
     "execution_count": 64,
     "metadata": {},
     "output_type": "execute_result"
    }
   ],
   "source": [
    "us_cov19_counties_df.head()"
   ]
  },
  {
   "cell_type": "code",
   "execution_count": 37,
   "metadata": {},
   "outputs": [],
   "source": [
    "# import datetime\n",
    "county_start_date = datetime.datetime(2020, 5, 4)\n",
    "\n",
    "county_start_df = us_cov19_counties_df[(us_cov19_counties_df['date']==county_start_date)]"
   ]
  },
  {
   "cell_type": "code",
   "execution_count": 38,
   "metadata": {},
   "outputs": [],
   "source": [
    "# color scheme for the map plot (white to red)\n",
    "county_color_scale = ['#FFEBEE', '#FFCDD2', '#EF9A9A', '#E57373', '#EF5350', \n",
    "                      '#F44336', '#E53935', '#D32F2F', '#C62828', '#B71C1C']\n",
    "\n",
    "# creating a new column that will include the mouse-hovering text for each county\n",
    "# for col in county_start_df.columns:\n",
    "#     county_start_df[col] = county_start_df[col].astype(str)\n",
    "\n",
    "# county_start_df['text'] = county_start_df['county'] + ', ' + county_start_df['postcode'] + '<br>' + \\\n",
    "#                         'Cases: ' + county_start_df['cases'] + '<br>' + \\\n",
    "#                         'Deaths: ' + county_start_df['deaths']"
   ]
  },
  {
   "cell_type": "markdown",
   "metadata": {},
   "source": [
    "# PROBLEM: Possibly because of the missing `fips` value from `nytimes` data?"
   ]
  },
  {
   "cell_type": "code",
   "execution_count": 41,
   "metadata": {},
   "outputs": [
    {
     "ename": "ValueError",
     "evalue": "cannot convert float NaN to integer",
     "output_type": "error",
     "traceback": [
      "\u001b[1;31m---------------------------------------------------------------------------\u001b[0m",
      "\u001b[1;31mValueError\u001b[0m                                Traceback (most recent call last)",
      "\u001b[1;32m<ipython-input-41-7d79962f0b7d>\u001b[0m in \u001b[0;36m<module>\u001b[1;34m\u001b[0m\n\u001b[0;32m     16\u001b[0m     \u001b[0masp\u001b[0m\u001b[1;33m=\u001b[0m\u001b[1;36m2.9\u001b[0m\u001b[1;33m,\u001b[0m   \u001b[1;31m#Sets the ratio between height and width\u001b[0m\u001b[1;33m\u001b[0m\u001b[1;33m\u001b[0m\u001b[0m\n\u001b[0;32m     17\u001b[0m     \u001b[0mtitle_text\u001b[0m\u001b[1;33m=\u001b[0m\u001b[1;34m'US COVID-19 Confirmed Cases (latest update: '\u001b[0m \u001b[1;33m+\u001b[0m \u001b[0mcounty_start_date\u001b[0m\u001b[1;33m.\u001b[0m\u001b[0mstrftime\u001b[0m\u001b[1;33m(\u001b[0m\u001b[1;34m'%b %d'\u001b[0m\u001b[1;33m)\u001b[0m \u001b[1;33m+\u001b[0m \u001b[1;34m')'\u001b[0m\u001b[1;33m,\u001b[0m\u001b[1;33m\u001b[0m\u001b[1;33m\u001b[0m\u001b[0m\n\u001b[1;32m---> 18\u001b[1;33m     \u001b[0mlegend_title\u001b[0m\u001b[1;33m=\u001b[0m\u001b[1;34m'Confirmed Cases'\u001b[0m\u001b[1;33m,\u001b[0m\u001b[1;33m\u001b[0m\u001b[1;33m\u001b[0m\u001b[0m\n\u001b[0m\u001b[0;32m     19\u001b[0m )\n\u001b[0;32m     20\u001b[0m \u001b[1;33m\u001b[0m\u001b[0m\n",
      "\u001b[1;32m~\\anaconda3\\envs\\GIS\\lib\\site-packages\\plotly\\figure_factory\\_county_choropleth.py\u001b[0m in \u001b[0;36mcreate_choropleth\u001b[1;34m(fips, values, scope, binning_endpoints, colorscale, order, simplify_county, simplify_state, asp, show_hover, show_state_data, state_outline, county_outline, centroid_marker, round_legend_values, exponent_format, legend_title, **layout_options)\u001b[0m\n\u001b[0;32m    802\u001b[0m \u001b[1;33m\u001b[0m\u001b[0m\n\u001b[0;32m    803\u001b[0m     \u001b[1;32melse\u001b[0m\u001b[1;33m:\u001b[0m\u001b[1;33m\u001b[0m\u001b[1;33m\u001b[0m\u001b[0m\n\u001b[1;32m--> 804\u001b[1;33m         \u001b[1;32mfor\u001b[0m \u001b[0mindex\u001b[0m\u001b[1;33m,\u001b[0m \u001b[0mf\u001b[0m \u001b[1;32min\u001b[0m \u001b[0menumerate\u001b[0m\u001b[1;33m(\u001b[0m\u001b[0mfips\u001b[0m\u001b[1;33m)\u001b[0m\u001b[1;33m:\u001b[0m\u001b[1;33m\u001b[0m\u001b[1;33m\u001b[0m\u001b[0m\n\u001b[0m\u001b[0;32m    805\u001b[0m             \u001b[1;32mfor\u001b[0m \u001b[0mj\u001b[0m\u001b[1;33m,\u001b[0m \u001b[0minter\u001b[0m \u001b[1;32min\u001b[0m \u001b[0menumerate\u001b[0m\u001b[1;33m(\u001b[0m\u001b[0mintervals\u001b[0m\u001b[1;33m)\u001b[0m\u001b[1;33m:\u001b[0m\u001b[1;33m\u001b[0m\u001b[1;33m\u001b[0m\u001b[0m\n\u001b[0;32m    806\u001b[0m                 \u001b[1;32mif\u001b[0m \u001b[0minter\u001b[0m\u001b[1;33m[\u001b[0m\u001b[1;36m0\u001b[0m\u001b[1;33m]\u001b[0m \u001b[1;33m<\u001b[0m \u001b[0mvalues\u001b[0m\u001b[1;33m[\u001b[0m\u001b[0mindex\u001b[0m\u001b[1;33m]\u001b[0m \u001b[1;33m<=\u001b[0m \u001b[0minter\u001b[0m\u001b[1;33m[\u001b[0m\u001b[1;36m1\u001b[0m\u001b[1;33m]\u001b[0m\u001b[1;33m:\u001b[0m\u001b[1;33m\u001b[0m\u001b[1;33m\u001b[0m\u001b[0m\n",
      "\u001b[1;32m~\\anaconda3\\envs\\GIS\\lib\\site-packages\\plotly\\figure_factory\\_county_choropleth.py\u001b[0m in \u001b[0;36m<lambda>\u001b[1;34m(x)\u001b[0m\n\u001b[0;32m    669\u001b[0m \u001b[1;33m\u001b[0m\u001b[0m\n\u001b[0;32m    670\u001b[0m     \u001b[1;31m# make fips numeric\u001b[0m\u001b[1;33m\u001b[0m\u001b[1;33m\u001b[0m\u001b[1;33m\u001b[0m\u001b[0m\n\u001b[1;32m--> 671\u001b[1;33m     \u001b[0mfips\u001b[0m \u001b[1;33m=\u001b[0m \u001b[0mmap\u001b[0m\u001b[1;33m(\u001b[0m\u001b[1;32mlambda\u001b[0m \u001b[0mx\u001b[0m\u001b[1;33m:\u001b[0m \u001b[0mint\u001b[0m\u001b[1;33m(\u001b[0m\u001b[0mx\u001b[0m\u001b[1;33m)\u001b[0m\u001b[1;33m,\u001b[0m \u001b[0mfips\u001b[0m\u001b[1;33m)\u001b[0m\u001b[1;33m\u001b[0m\u001b[1;33m\u001b[0m\u001b[0m\n\u001b[0m\u001b[0;32m    672\u001b[0m \u001b[1;33m\u001b[0m\u001b[0m\n\u001b[0;32m    673\u001b[0m     \u001b[1;32mif\u001b[0m \u001b[0mbinning_endpoints\u001b[0m\u001b[1;33m:\u001b[0m\u001b[1;33m\u001b[0m\u001b[1;33m\u001b[0m\u001b[0m\n",
      "\u001b[1;31mValueError\u001b[0m: cannot convert float NaN to integer"
     ]
    }
   ],
   "source": [
    "#import plotly.figure_factory as ff\n",
    "\n",
    "#endpts = list(np.linspace(1, 350000, len(county_color_scale)-1))\n",
    "fips = county_start_df['fips'].tolist()\n",
    "values = county_start_df['cases'].tolist()\n",
    "\n",
    "# creating a fig object for plotting\n",
    "fig = ff.create_choropleth(\n",
    "    fips=fips, values=values, scope=['usa'],\n",
    "    binning_endpoints=[2500, 7500, 21000, 50000, 350000], # scheme: 'boxplot'\n",
    "    colorscale=county_color_scale,\n",
    "    county_outline={'color': 'rgb(255,255,255)', 'width': 0.5}, \n",
    "    round_legend_values=True,\n",
    "    show_state_data=False,\n",
    "    show_hover=True,\n",
    "    asp=2.9,   #Sets the ratio between height and width\n",
    "    title_text='US COVID-19 Confirmed Cases (latest update: ' + county_start_date.strftime('%b %d') + ')',\n",
    "    legend_title='Confirmed Cases',\n",
    ")\n",
    "\n",
    "fig.layout.template = None\n",
    "fig.show()\n",
    "    \n",
    "# fig = go.Figure(data=go.Choropleth(\n",
    "#     locations=county_start_df['fips'],  # the column with the county fips\n",
    "#     z = county_start_df['cases'].astype(float),  # the variable I want to color-code\n",
    "#     locationmode = 'USA-states',\n",
    "#     colorscale = county_color_scale,\n",
    "#     autocolorscale = False,\n",
    "#     text = county_start_df['text'], # hover text\n",
    "#     marker_line_color = 'white',     # for the lines separating states\n",
    "#     marker_line_width = 2,    \n",
    "#     colorbar_title = 'COVID-19 Confirmed Cases'\n",
    "# ))"
   ]
  },
  {
   "cell_type": "markdown",
   "metadata": {},
   "source": [
    "### by US States `covtrack_state_hist_df` or `us_cov19_states_gdf` \n",
    "Interactive Map 2: https://amaral.northwestern.edu/blog/step-step-how-plot-map-slider-represent-time-evolu"
   ]
  },
  {
   "cell_type": "code",
   "execution_count": 97,
   "metadata": {},
   "outputs": [
    {
     "data": {
      "text/plain": [
       "(3377, 11)"
      ]
     },
     "execution_count": 97,
     "metadata": {},
     "output_type": "execute_result"
    }
   ],
   "source": [
    "us_cov19_states_df.shape"
   ]
  },
  {
   "cell_type": "code",
   "execution_count": 43,
   "metadata": {},
   "outputs": [],
   "source": [
    "# import datetime\n",
    "state_start_date = datetime.datetime(2020, 1, 22)\n",
    "\n",
    "state_start_df = us_cov19_states_df[(us_cov19_states_df['datetime']==state_start_date)]"
   ]
  },
  {
   "cell_type": "code",
   "execution_count": 44,
   "metadata": {},
   "outputs": [
    {
     "data": {
      "text/html": [
       "<div>\n",
       "<style scoped>\n",
       "    .dataframe tbody tr th:only-of-type {\n",
       "        vertical-align: middle;\n",
       "    }\n",
       "\n",
       "    .dataframe tbody tr th {\n",
       "        vertical-align: top;\n",
       "    }\n",
       "\n",
       "    .dataframe thead th {\n",
       "        text-align: right;\n",
       "    }\n",
       "</style>\n",
       "<table border=\"1\" class=\"dataframe\">\n",
       "  <thead>\n",
       "    <tr style=\"text-align: right;\">\n",
       "      <th></th>\n",
       "      <th>date</th>\n",
       "      <th>state</th>\n",
       "      <th>fips</th>\n",
       "      <th>positive</th>\n",
       "      <th>death</th>\n",
       "      <th>total</th>\n",
       "      <th>datetime</th>\n",
       "      <th>STATEFP</th>\n",
       "      <th>NAME</th>\n",
       "      <th>coords</th>\n",
       "      <th>geometry</th>\n",
       "    </tr>\n",
       "  </thead>\n",
       "  <tbody>\n",
       "    <tr>\n",
       "      <th>3488</th>\n",
       "      <td>20200122</td>\n",
       "      <td>WA</td>\n",
       "      <td>53</td>\n",
       "      <td>1.0</td>\n",
       "      <td>NaN</td>\n",
       "      <td>1</td>\n",
       "      <td>2020-01-22</td>\n",
       "      <td>53</td>\n",
       "      <td>Washington</td>\n",
       "      <td>(-1527952.2481166585, 464302.92549199006)</td>\n",
       "      <td>MULTIPOLYGON (((-1634037.628 566970.701, -1633...</td>\n",
       "    </tr>\n",
       "  </tbody>\n",
       "</table>\n",
       "</div>"
      ],
      "text/plain": [
       "          date state fips  positive  death  total   datetime STATEFP  \\\n",
       "3488  20200122    WA   53       1.0    NaN      1 2020-01-22      53   \n",
       "\n",
       "            NAME                                     coords  \\\n",
       "3488  Washington  (-1527952.2481166585, 464302.92549199006)   \n",
       "\n",
       "                                               geometry  \n",
       "3488  MULTIPOLYGON (((-1634037.628 566970.701, -1633...  "
      ]
     },
     "execution_count": 44,
     "metadata": {},
     "output_type": "execute_result"
    }
   ],
   "source": [
    "state_start_df"
   ]
  },
  {
   "cell_type": "code",
   "execution_count": 45,
   "metadata": {},
   "outputs": [],
   "source": [
    "# color scheme for the map plot (white to red)\n",
    "state_color_scale = [[0.0, '#ffffff'], [0.2, '#ff9999'], [0.4, '#ff4d4d'],\n",
    "                     [0.6, '#ff1a1a'], [0.8, '#cc0000'], [1.0, '#4d0000']]\n",
    "\n",
    "# create an empty list for data object:\n",
    "data_slider = []"
   ]
  },
  {
   "cell_type": "code",
   "execution_count": 37,
   "metadata": {},
   "outputs": [],
   "source": [
    "# populate the data object, one dictionary per day that will be displayed with the slider, by iterating over the different years in the data set\n",
    "for date in us_cov19_states_df.datetime.unique():\n",
    "    \n",
    "    # select the date\n",
    "    each_day_state_df = us_cov19_states_df[(us_cov19_states_df['datetime']==date)]\n",
    "    \n",
    "    # creating a new column that will include the mouse-hovering text for each state\n",
    "    for col in each_day_state_df.columns:\n",
    "        each_day_state_df[col] = each_day_state_df[col].astype(str)\n",
    "\n",
    "    # creating the text for mouse-hover for each state\n",
    "    each_day_state_df['text'] = each_day_state_df['NAME'] + 'Cases: ' + each_day_state_df['positive'] + 'Deaths: ' + each_day_state_df['death'] + 'Tests: ' + each_day_state_df['total']\n",
    "    \n",
    "    # create the dictionary with the data for plotting the current date\n",
    "    data_one_day = [ dict(\n",
    "                        type='choropleth', # type of map-plot\n",
    "                        colorscale = state_color_scale,\n",
    "                        autocolorscale = False,\n",
    "                        locations = each_day_state_df['state'], # the column with the state post code\n",
    "                        z = each_day_state_df['positive'].astype(float), # the variable I want to color-code\n",
    "                        locationmode = 'USA-states',\n",
    "                        text = each_day_state_df['text'], # hover text\n",
    "                        marker = dict(     # for the lines separating states\n",
    "                                    line = dict (\n",
    "                                              color = 'rgb(255,255,255)', \n",
    "                                              width = 2) ),               \n",
    "                        colorbar = dict(\n",
    "                                    title = \"Confirmed Cases\")\n",
    "                        ) \n",
    "                   ]\n",
    "    \n",
    "    # add the dictionary to the list of dictionaries for the slider\n",
    "    data_slider.append(data_one_day)"
   ]
  },
  {
   "cell_type": "markdown",
   "metadata": {},
   "source": [
    "# <font color='red'> QUESTION : How do I make the slider step to be each date? </font>"
   ]
  },
  {
   "cell_type": "code",
   "execution_count": 118,
   "metadata": {},
   "outputs": [],
   "source": [
    "# Create the 'steps' for the slider\n",
    "\n",
    "steps = []\n",
    "\n",
    "# start_date = datetime.date(2020, 1, 22)\n",
    "# delta = datetime.timedelta(days=1)\n",
    "\n",
    "for i in range(len(data_slider)):\n",
    "    step = dict(method='restyle',\n",
    "                args=['visible', [False] * len(data_slider)],\n",
    "                label=f'{i + 1}') # label to be displayed for each step (date)\n",
    "    step['args'][1][i] = True\n",
    "    steps.append(step)\n",
    "    \n",
    "# Create the sliders object from the steps\n",
    "sliders = [dict(active=0, pad={'t': 1}, steps=steps)]\n",
    "    "
   ]
  },
  {
   "cell_type": "code",
   "execution_count": 272,
   "metadata": {
    "scrolled": true
   },
   "outputs": [
    {
     "ename": "NameError",
     "evalue": "name 'state_start_date' is not defined",
     "output_type": "error",
     "traceback": [
      "\u001b[1;31m---------------------------------------------------------------------------\u001b[0m",
      "\u001b[1;31mNameError\u001b[0m                                 Traceback (most recent call last)",
      "\u001b[1;32m<ipython-input-272-af0dba0eed50>\u001b[0m in \u001b[0;36m<module>\u001b[1;34m\u001b[0m\n\u001b[0;32m      1\u001b[0m \u001b[1;31m# set up the layout including the slider option\u001b[0m\u001b[1;33m\u001b[0m\u001b[1;33m\u001b[0m\u001b[1;33m\u001b[0m\u001b[0m\n\u001b[0;32m      2\u001b[0m layout = dict(\n\u001b[1;32m----> 3\u001b[1;33m         \u001b[0mtitle\u001b[0m \u001b[1;33m=\u001b[0m \u001b[0mstate_start_date\u001b[0m\u001b[1;33m.\u001b[0m\u001b[0mstrftime\u001b[0m\u001b[1;33m(\u001b[0m\u001b[1;34m'%b %d'\u001b[0m\u001b[1;33m)\u001b[0m\u001b[1;33m,\u001b[0m\u001b[1;33m\u001b[0m\u001b[1;33m\u001b[0m\u001b[0m\n\u001b[0m\u001b[0;32m      4\u001b[0m         geo = dict(\n\u001b[0;32m      5\u001b[0m             \u001b[0mscope\u001b[0m\u001b[1;33m=\u001b[0m\u001b[1;34m'usa'\u001b[0m\u001b[1;33m,\u001b[0m\u001b[1;33m\u001b[0m\u001b[1;33m\u001b[0m\u001b[0m\n",
      "\u001b[1;31mNameError\u001b[0m: name 'state_start_date' is not defined"
     ]
    }
   ],
   "source": [
    "# set up the layout including the slider option\n",
    "layout = dict(\n",
    "        title = state_start_date.strftime('%b %d'),\n",
    "        geo = dict(\n",
    "            scope='usa',\n",
    "            projection=dict( type='albers usa' ),\n",
    "            # showlakes = True,  # if you want to give color to the lakes\n",
    "            # lakecolor = 'rgb(73, 216, 230)'  \n",
    "            ),\n",
    "        sliders=sliders,\n",
    "        )\n",
    "\n",
    "\n",
    "fig = dict(data=data_slider, layout=layout)\n",
    "\n",
    "\n",
    "# plot\n",
    "#plotly.offline.iplot(fig)\n",
    "\n",
    "# if want to plot in a different window on your browser\n",
    "# offline.plot(\n",
    "#     fig, \n",
    "#     auto_open=True, \n",
    "#     image = 'png', \n",
    "#     image_filename=\"US State COVID-19 Confirmed Cases\"+str(state_start_date.strftime('%b %d')),  \n",
    "#     image_width=2000, image_height=1000, \n",
    "#     filename='/C:/Users/dun4g/OneDrive/Documents/GitHub/COVID-19_Response_Comparison/temp-plot.html'/span>\"US State COVID-19 Confirmed Cases\"str(state_start_date.strftime('%b %d'))+'.html', validate=True)"
   ]
  },
  {
   "cell_type": "code",
   "execution_count": null,
   "metadata": {},
   "outputs": [],
   "source": []
  },
  {
   "cell_type": "code",
   "execution_count": null,
   "metadata": {},
   "outputs": [],
   "source": []
  },
  {
   "cell_type": "markdown",
   "metadata": {},
   "source": [
    "# South Korea COVID-19 Case Data Visualisation\n",
    "## Procedure 1: South Korea Provinces and Special/Metropolitan Cities GeoDataFrame (EPSG: 4326)"
   ]
  },
  {
   "cell_type": "code",
   "execution_count": 38,
   "metadata": {},
   "outputs": [],
   "source": [
    "# Read in Natural Earth Large Scale Cultural Data (Admin 1 - States and Provinces) Boundary Shapefile\n",
    "ne_admin_1_states_gdf = gpd.read_file('Data/input/ne_admin_1_states_provinces/ne_10m_admin_1_states_provinces.shp')"
   ]
  },
  {
   "cell_type": "code",
   "execution_count": 39,
   "metadata": {},
   "outputs": [],
   "source": [
    "# Create a GeoDataFrame for South Korea Provinces & Special/Metropolitan Cities ONLY\n",
    "south_korea_gdf=ne_admin_1_states_gdf[ne_admin_1_states_gdf['admin']=='South Korea']"
   ]
  },
  {
   "cell_type": "code",
   "execution_count": 40,
   "metadata": {},
   "outputs": [],
   "source": [
    "# Keep the only columns that needed\n",
    "south_korea_gdf = south_korea_gdf[['geonunit', 'gu_a3', 'gn_name', 'name_de', 'fips', 'latitude', 'longitude', 'geometry']]"
   ]
  },
  {
   "cell_type": "code",
   "execution_count": 41,
   "metadata": {},
   "outputs": [],
   "source": [
    "# Adding a column 'coords' for later use (labeling each Province)\n",
    "# https://stackoverflow.com/questions/38899190/geopandas-label-polygons\n",
    "south_korea_gdf['coords'] = south_korea_gdf['geometry'].apply(lambda x: x.representative_point().coords[:])\n",
    "south_korea_gdf['coords'] = [coords[0] for coords in south_korea_gdf['coords']]"
   ]
  },
  {
   "cell_type": "markdown",
   "metadata": {},
   "source": [
    "## Procedure 2: South Korea COVID-19 Cases/Deaths/Testing DataFrame\n",
    "### [South Korea Latest Update](https://github.com/katkim0307/COVID-19_Response_Comparison/blob/master/Data/input/covid_19_south_korea_full_no_airport_xls.xlsx?raw=true)"
   ]
  },
  {
   "cell_type": "markdown",
   "metadata": {},
   "source": [
    "### [South Korea Latest Update by Province](https://github.com/katkim0307/COVID-19_Response_Comparison/blob/master/Data/input/covid_19_south_korea_full_no_airport_xls.xlsx?raw=true)"
   ]
  },
  {
   "cell_type": "code",
   "execution_count": 42,
   "metadata": {},
   "outputs": [
    {
     "data": {
      "text/html": [
       "<div>\n",
       "<style scoped>\n",
       "    .dataframe tbody tr th:only-of-type {\n",
       "        vertical-align: middle;\n",
       "    }\n",
       "\n",
       "    .dataframe tbody tr th {\n",
       "        vertical-align: top;\n",
       "    }\n",
       "\n",
       "    .dataframe thead th {\n",
       "        text-align: right;\n",
       "    }\n",
       "</style>\n",
       "<table border=\"1\" class=\"dataframe\">\n",
       "  <thead>\n",
       "    <tr style=\"text-align: right;\">\n",
       "      <th></th>\n",
       "      <th>Date</th>\n",
       "      <th>Province</th>\n",
       "      <th>Confirm_New</th>\n",
       "      <th>Confirm_Tot</th>\n",
       "      <th>Death_New</th>\n",
       "      <th>Death_Tot</th>\n",
       "      <th>Test_New</th>\n",
       "      <th>Test_Tot</th>\n",
       "      <th>Test_Curr</th>\n",
       "    </tr>\n",
       "  </thead>\n",
       "  <tbody>\n",
       "    <tr>\n",
       "      <th>0</th>\n",
       "      <td>2020-05-05</td>\n",
       "      <td>Seoul</td>\n",
       "      <td>0</td>\n",
       "      <td>637</td>\n",
       "      <td>0</td>\n",
       "      <td>2</td>\n",
       "      <td>1182.0</td>\n",
       "      <td>467.0</td>\n",
       "      <td>118241.0</td>\n",
       "    </tr>\n",
       "    <tr>\n",
       "      <th>1</th>\n",
       "      <td>2020-05-05</td>\n",
       "      <td>Busan</td>\n",
       "      <td>0</td>\n",
       "      <td>138</td>\n",
       "      <td>0</td>\n",
       "      <td>3</td>\n",
       "      <td>NaN</td>\n",
       "      <td>NaN</td>\n",
       "      <td>NaN</td>\n",
       "    </tr>\n",
       "    <tr>\n",
       "      <th>2</th>\n",
       "      <td>2020-05-05</td>\n",
       "      <td>Daegu</td>\n",
       "      <td>0</td>\n",
       "      <td>6856</td>\n",
       "      <td>1</td>\n",
       "      <td>177</td>\n",
       "      <td>NaN</td>\n",
       "      <td>NaN</td>\n",
       "      <td>NaN</td>\n",
       "    </tr>\n",
       "    <tr>\n",
       "      <th>3</th>\n",
       "      <td>2020-05-05</td>\n",
       "      <td>Incheon</td>\n",
       "      <td>2</td>\n",
       "      <td>563</td>\n",
       "      <td>0</td>\n",
       "      <td>0</td>\n",
       "      <td>NaN</td>\n",
       "      <td>NaN</td>\n",
       "      <td>NaN</td>\n",
       "    </tr>\n",
       "    <tr>\n",
       "      <th>4</th>\n",
       "      <td>2020-05-05</td>\n",
       "      <td>Gwangju</td>\n",
       "      <td>0</td>\n",
       "      <td>30</td>\n",
       "      <td>0</td>\n",
       "      <td>0</td>\n",
       "      <td>NaN</td>\n",
       "      <td>NaN</td>\n",
       "      <td>NaN</td>\n",
       "    </tr>\n",
       "  </tbody>\n",
       "</table>\n",
       "</div>"
      ],
      "text/plain": [
       "        Date Province  Confirm_New  Confirm_Tot  Death_New  Death_Tot  \\\n",
       "0 2020-05-05    Seoul            0          637          0          2   \n",
       "1 2020-05-05    Busan            0          138          0          3   \n",
       "2 2020-05-05    Daegu            0         6856          1        177   \n",
       "3 2020-05-05  Incheon            2          563          0          0   \n",
       "4 2020-05-05  Gwangju            0           30          0          0   \n",
       "\n",
       "   Test_New  Test_Tot  Test_Curr  \n",
       "0    1182.0     467.0   118241.0  \n",
       "1       NaN       NaN        NaN  \n",
       "2       NaN       NaN        NaN  \n",
       "3       NaN       NaN        NaN  \n",
       "4       NaN       NaN        NaN  "
      ]
     },
     "execution_count": 42,
     "metadata": {},
     "output_type": "execute_result"
    }
   ],
   "source": [
    "# Read \n",
    "kor_cov19_province_now_df = pd.read_excel('Data/input/covid_19_south_korea_full_no_airport_xls.xlsx',\n",
    "                            sheet_name='covid_19_update')\n",
    "\n",
    "kor_cov19_province_now_df.head()"
   ]
  },
  {
   "cell_type": "markdown",
   "metadata": {},
   "source": [
    "### [South Korea History Data](https://github.com/katkim0307/COVID-19_Response_Comparison/blob/master/Data/input/covid_19_south_korea_full_no_airport_xls.xlsx?raw=true)"
   ]
  },
  {
   "cell_type": "code",
   "execution_count": 43,
   "metadata": {},
   "outputs": [],
   "source": [
    "# Read \n",
    "kor_cov19_df = pd.read_excel('Data/input/covid_19_south_korea_full_no_airport_xls.xlsx',\n",
    "                            sheet_name='covid_19_daily_country')\n",
    "\n",
    "kor_cov19_df.fillna(0, inplace=True)"
   ]
  },
  {
   "cell_type": "code",
   "execution_count": 44,
   "metadata": {
    "scrolled": true
   },
   "outputs": [
    {
     "data": {
      "text/html": [
       "<div>\n",
       "<style scoped>\n",
       "    .dataframe tbody tr th:only-of-type {\n",
       "        vertical-align: middle;\n",
       "    }\n",
       "\n",
       "    .dataframe tbody tr th {\n",
       "        vertical-align: top;\n",
       "    }\n",
       "\n",
       "    .dataframe thead th {\n",
       "        text-align: right;\n",
       "    }\n",
       "</style>\n",
       "<table border=\"1\" class=\"dataframe\">\n",
       "  <thead>\n",
       "    <tr style=\"text-align: right;\">\n",
       "      <th></th>\n",
       "      <th>Date</th>\n",
       "      <th>Country</th>\n",
       "      <th>Confirm_New</th>\n",
       "      <th>Confirm_Tot</th>\n",
       "      <th>Death_New</th>\n",
       "      <th>Death_Tot</th>\n",
       "      <th>Test_New</th>\n",
       "      <th>Test_Tot</th>\n",
       "      <th>Test_Curr</th>\n",
       "    </tr>\n",
       "  </thead>\n",
       "  <tbody>\n",
       "    <tr>\n",
       "      <th>0</th>\n",
       "      <td>2020-01-20</td>\n",
       "      <td>South Korea</td>\n",
       "      <td>1</td>\n",
       "      <td>1</td>\n",
       "      <td>0</td>\n",
       "      <td>0</td>\n",
       "      <td>4</td>\n",
       "      <td>4</td>\n",
       "      <td>0</td>\n",
       "    </tr>\n",
       "    <tr>\n",
       "      <th>1</th>\n",
       "      <td>2020-01-24</td>\n",
       "      <td>South Korea</td>\n",
       "      <td>1</td>\n",
       "      <td>2</td>\n",
       "      <td>0</td>\n",
       "      <td>0</td>\n",
       "      <td>23</td>\n",
       "      <td>27</td>\n",
       "      <td>0</td>\n",
       "    </tr>\n",
       "    <tr>\n",
       "      <th>2</th>\n",
       "      <td>2020-01-26</td>\n",
       "      <td>South Korea</td>\n",
       "      <td>1</td>\n",
       "      <td>3</td>\n",
       "      <td>0</td>\n",
       "      <td>0</td>\n",
       "      <td>24</td>\n",
       "      <td>51</td>\n",
       "      <td>1</td>\n",
       "    </tr>\n",
       "    <tr>\n",
       "      <th>3</th>\n",
       "      <td>2020-01-27</td>\n",
       "      <td>South Korea</td>\n",
       "      <td>1</td>\n",
       "      <td>4</td>\n",
       "      <td>0</td>\n",
       "      <td>0</td>\n",
       "      <td>10</td>\n",
       "      <td>61</td>\n",
       "      <td>1</td>\n",
       "    </tr>\n",
       "    <tr>\n",
       "      <th>4</th>\n",
       "      <td>2020-01-28</td>\n",
       "      <td>South Korea</td>\n",
       "      <td>0</td>\n",
       "      <td>4</td>\n",
       "      <td>0</td>\n",
       "      <td>0</td>\n",
       "      <td>55</td>\n",
       "      <td>116</td>\n",
       "      <td>15</td>\n",
       "    </tr>\n",
       "  </tbody>\n",
       "</table>\n",
       "</div>"
      ],
      "text/plain": [
       "        Date      Country  Confirm_New  Confirm_Tot  Death_New  Death_Tot  \\\n",
       "0 2020-01-20  South Korea            1            1          0          0   \n",
       "1 2020-01-24  South Korea            1            2          0          0   \n",
       "2 2020-01-26  South Korea            1            3          0          0   \n",
       "3 2020-01-27  South Korea            1            4          0          0   \n",
       "4 2020-01-28  South Korea            0            4          0          0   \n",
       "\n",
       "   Test_New  Test_Tot  Test_Curr  \n",
       "0         4         4          0  \n",
       "1        23        27          0  \n",
       "2        24        51          1  \n",
       "3        10        61          1  \n",
       "4        55       116         15  "
      ]
     },
     "execution_count": 44,
     "metadata": {},
     "output_type": "execute_result"
    }
   ],
   "source": [
    "kor_cov19_df.head()"
   ]
  },
  {
   "cell_type": "code",
   "execution_count": 45,
   "metadata": {},
   "outputs": [
    {
     "name": "stdout",
     "output_type": "stream",
     "text": [
      "<class 'pandas.core.frame.DataFrame'>\n",
      "RangeIndex: 100 entries, 0 to 99\n",
      "Data columns (total 9 columns):\n",
      " #   Column       Non-Null Count  Dtype         \n",
      "---  ------       --------------  -----         \n",
      " 0   Date         100 non-null    datetime64[ns]\n",
      " 1   Country      100 non-null    object        \n",
      " 2   Confirm_New  100 non-null    int64         \n",
      " 3   Confirm_Tot  100 non-null    int64         \n",
      " 4   Death_New    100 non-null    int64         \n",
      " 5   Death_Tot    100 non-null    int64         \n",
      " 6   Test_New     100 non-null    int64         \n",
      " 7   Test_Tot     100 non-null    int64         \n",
      " 8   Test_Curr    100 non-null    int64         \n",
      "dtypes: datetime64[ns](1), int64(7), object(1)\n",
      "memory usage: 7.2+ KB\n"
     ]
    }
   ],
   "source": [
    "kor_cov19_df.info()"
   ]
  },
  {
   "cell_type": "code",
   "execution_count": 46,
   "metadata": {},
   "outputs": [],
   "source": [
    "# Creating a DataFrame for plotting charts (Set 'Date' as the index)\n",
    "kor_cov19_plot_df = kor_cov19_df[['Date', 'Confirm_New', 'Confirm_Tot', \n",
    "                                'Death_New', 'Death_Tot', \n",
    "                                'Test_New', 'Test_Tot', 'Test_Curr']].copy()\n",
    "kor_cov19_plot_df.set_index('Date', inplace=True)"
   ]
  },
  {
   "cell_type": "markdown",
   "metadata": {},
   "source": [
    "### [South Korea Provinces and Special/Metropolitan Cities Data](https://github.com/katkim0307/COVID-19_Response_Comparison/blob/master/Data/input/covid_19_south_korea_full_xls.xlsx)"
   ]
  },
  {
   "cell_type": "code",
   "execution_count": 47,
   "metadata": {},
   "outputs": [],
   "source": [
    "# Read\n",
    "kor_cov19_province_df = pd.read_excel('Data/input/covid_19_south_korea_full_no_airport_xls.xlsx',\n",
    "                                      sheet_name='covid_19_daily_province')"
   ]
  },
  {
   "cell_type": "code",
   "execution_count": 48,
   "metadata": {},
   "outputs": [],
   "source": [
    "# Converting the Dtype of 'Date' to datetime\n",
    "kor_cov19_province_df['Date']=pd.to_datetime(kor_cov19_province_df['Date'])\n",
    "\n",
    "# Converting the Dtype of 'Test_Tot' from object to float\n",
    "kor_cov19_province_df['Test_Tot']=kor_cov19_province_df['Test_Tot'].astype('category').cat.codes.astype(float)"
   ]
  },
  {
   "cell_type": "code",
   "execution_count": 49,
   "metadata": {
    "scrolled": true
   },
   "outputs": [],
   "source": [
    "kor_cov19_province_df.update(kor_cov19_province_df[['Confirm_New', 'Confirm_Tot', 'Death_New', 'Death_Tot', \"Test_New\", 'Test_Tot', 'Test_Curr']].fillna(0))"
   ]
  },
  {
   "cell_type": "code",
   "execution_count": 50,
   "metadata": {},
   "outputs": [],
   "source": [
    "# Creating a DataFrame for plotting charts (Set 'Date' as the index)\n",
    "kor_cov19_province_plot_df = kor_cov19_province_df[['Date', 'Province', 'Confirm_New', 'Confirm_Tot', \n",
    "                                                 'Death_New', 'Death_Tot', \n",
    "                                                 'Test_New', 'Test_Tot', 'Test_Curr']].copy()\n",
    "kor_cov19_province_plot_df.set_index('Date', inplace=True)"
   ]
  },
  {
   "cell_type": "markdown",
   "metadata": {},
   "source": [
    "## Procedure 3: Merge South Korea COVID-19 DataFrame with Province GeoDataFrame \n",
    "### `kor_cov19_province_now_df`"
   ]
  },
  {
   "cell_type": "code",
   "execution_count": 51,
   "metadata": {},
   "outputs": [],
   "source": [
    "kor_cov19_province_now_merged_df = pd.merge(\n",
    "    kor_cov19_province_now_df,\n",
    "    south_korea_gdf[['geonunit', 'name_de', 'fips', 'latitude', 'longitude', 'geometry', 'coords']],\n",
    "    left_on='Province',\n",
    "    right_on='name_de',\n",
    "    how='left',\n",
    ")"
   ]
  },
  {
   "cell_type": "code",
   "execution_count": 52,
   "metadata": {},
   "outputs": [],
   "source": [
    "kor_cov19_province_now_merged_df = kor_cov19_province_now_merged_df.drop(['name_de'], axis=1)"
   ]
  },
  {
   "cell_type": "code",
   "execution_count": 53,
   "metadata": {},
   "outputs": [],
   "source": [
    "kor_cov19_province_now_gdf = gpd.GeoDataFrame(kor_cov19_province_now_merged_df, \n",
    "                                              crs={'init': 'epsg:4326'},\n",
    "                                              geometry='geometry')"
   ]
  },
  {
   "cell_type": "markdown",
   "metadata": {},
   "source": [
    "### `kor_cov_19_province_df`"
   ]
  },
  {
   "cell_type": "code",
   "execution_count": 54,
   "metadata": {},
   "outputs": [],
   "source": [
    "kor_cov19_province_merged_df = pd.merge(\n",
    "    kor_cov19_province_df,\n",
    "    south_korea_gdf[['geonunit', 'name_de', 'fips', 'latitude', 'longitude', 'geometry', 'coords']],\n",
    "    left_on='Province',\n",
    "    right_on='name_de',\n",
    "    how='left',\n",
    ")"
   ]
  },
  {
   "cell_type": "code",
   "execution_count": 55,
   "metadata": {},
   "outputs": [],
   "source": [
    "kor_cov19_province_merged_df = kor_cov19_province_merged_df.drop(['name_de'], axis=1)"
   ]
  },
  {
   "cell_type": "code",
   "execution_count": 56,
   "metadata": {},
   "outputs": [],
   "source": [
    "kor_cov19_province_gdf = gpd.GeoDataFrame(kor_cov19_province_merged_df, \n",
    "                                          crs={'init': 'epsg:4326'},\n",
    "                                          geometry='geometry')"
   ]
  },
  {
   "cell_type": "code",
   "execution_count": 57,
   "metadata": {},
   "outputs": [],
   "source": [
    "# Creating a DataFrame for plotting charts (Set 'Date' as the index)\n",
    "kor_cov19_province_plot_gdf = kor_cov19_province_gdf.copy()\n",
    "kor_cov19_province_plot_gdf.set_index('Date', inplace=True)"
   ]
  },
  {
   "cell_type": "markdown",
   "metadata": {},
   "source": [
    "## Procedure 4: South Korea COVID-19 Data Visualisation\n",
    "### South Korea History Chart `kor_cov19_plot_df`"
   ]
  },
  {
   "cell_type": "code",
   "execution_count": 58,
   "metadata": {},
   "outputs": [
    {
     "data": {
      "image/png": "[encoded data removed]",
      "text/plain": [
       "<Figure size 720x576 with 1 Axes>"
      ]
     },
     "metadata": {
      "needs_background": "light"
     },
     "output_type": "display_data"
    }
   ],
   "source": [
    "fig, ax = plt.subplots(figsize=(10, 8))\n",
    "\n",
    "kor_cov19_plot_df.plot(\n",
    "    ax=ax,\n",
    "    #x='datetime',\n",
    "    y=['Confirm_Tot', 'Death_Tot', 'Test_Tot'],\n",
    "    xlim=('2020-01-20', '2020-03-31'),\n",
    "    ylim=(0, 70000),\n",
    "    figsize=(10, 8),\n",
    ");\n",
    "\n",
    "# x-axis label\n",
    "plt.xlabel('Date')\n",
    "\n",
    "# Rename legend\n",
    "ax.legend(['Confirmed', 'Deaths', 'Tests'])\n",
    "\n",
    "# set ticks every month\n",
    "ax.xaxis.set_major_locator(mdates.WeekdayLocator())\n",
    "\n",
    "# set major ticks format\n",
    "ax.xaxis.set_major_formatter(mdates.DateFormatter('%b %d'))\n",
    "\n",
    "plt.title('Early South Korea COVID-19 Total Cases/Deaths/Tests', fontdict={'size':20});"
   ]
  },
  {
   "cell_type": "markdown",
   "metadata": {},
   "source": [
    "### South Korea Confirmed Cases Map - `kor_cov19_province_now_gdf`"
   ]
  },
  {
   "cell_type": "code",
   "execution_count": 59,
   "metadata": {},
   "outputs": [
    {
     "data": {
      "image/png": "[encoded data removed]",
      "text/plain": [
       "<Figure size 720x1080 with 2 Axes>"
      ]
     },
     "metadata": {
      "needs_background": "light"
     },
     "output_type": "display_data"
    }
   ],
   "source": [
    "fig, ax = plt.subplots(figsize=(10,15))\n",
    "\n",
    "# Normalize the Legend Color and create the legend bar\n",
    "# https://towardsdatascience.com/mapping-with-matplotlib-pandas-geopandas-and-basemap-in-python-d11b57ab5dac\n",
    "vmin, vmax = kor_cov19_province_now_gdf.Confirm_Tot.min(), kor_cov19_province_plot_gdf.Confirm_Tot.max()\n",
    "legend_bar = plt.cm.ScalarMappable(\n",
    "     norm=plt.Normalize(vmin=vmin, vmax=vmax), \n",
    "     cmap='YlOrRd')\n",
    "\n",
    "# Plot\n",
    "kor_cov19_province_now_gdf.plot(\n",
    "    ax=ax,\n",
    "    column='Confirm_Tot',\n",
    "    cmap='YlOrRd',\n",
    "    #markersize=2,\n",
    "    edgecolor='cornflowerblue',\n",
    "    legend=True,\n",
    "    scheme='BoxPlot', # or Quantile,\n",
    "    legend_kwds={'loc': 'lower right'},\n",
    ")\n",
    "\n",
    "# Title  \n",
    "ax.set_title('South Korea Total Confirmed Cases (as of May 6)', fontdict={'size':20});\n",
    "\n",
    "# Add the Color Legend Bar\n",
    "# https://stackoverflow.com/questions/18195758/set-matplotlib-colorbar-size-to-match-graph\n",
    "fig.colorbar(legend_bar, ax=ax, orientation='horizontal', fraction=0.05, pad=0.04, shrink=0.6)\n",
    "\n",
    "# Customizing legend values\n",
    "# leg = ax.get_legend()\n",
    "# leg.get_texts()[0].('New label 1')\n",
    "# leg.get_texts()[1].set_text('New label 2')\n",
    "\n",
    "# Displaying each State Postcode\n",
    "for idx, row in kor_cov19_province_now_gdf.iterrows():\n",
    "    plt.annotate(s=row['Province'], xy=row['coords'],\n",
    "                 horizontalalignment='center',\n",
    "                 #font.family='serif',\n",
    "                 color='cornflowerblue',\n",
    "                 #alpha=0.9,\n",
    "                 #bbox={'facecolor':'white', 'alpha':0.5, 'pad':1, 'edgecolor':'lightyellow'}\n",
    "                )\n",
    "\n",
    "# Turn off the box and the axes label\n",
    "ax.axis(False)\n",
    "ax.get_xaxis().set_visible(False)\n",
    "ax.get_yaxis().set_visible(False)\n",
    "\n",
    "# Crop the map to an appropriate size (via coordinate)\n",
    "# ax.set_xlim(-4700000, 3000000)\n",
    "# ax.set_ylim(-2500000, 4200000);"
   ]
  },
  {
   "cell_type": "markdown",
   "metadata": {},
   "source": [
    "### South Korea Confirmed Cases History Map -  `kor_cov19_province_plot_gdf`"
   ]
  },
  {
   "cell_type": "code",
   "execution_count": null,
   "metadata": {},
   "outputs": [],
   "source": []
  },
  {
   "cell_type": "code",
   "execution_count": null,
   "metadata": {},
   "outputs": [],
   "source": []
  },
  {
   "cell_type": "code",
   "execution_count": null,
   "metadata": {},
   "outputs": [],
   "source": []
  },
  {
   "cell_type": "markdown",
   "metadata": {},
   "source": [
    "# US vs. South Korea COVID-19 Total Cases & Tests\n",
    "### `covtrack_us_hist_plot_df` & `kor_cov19_plot_df` \n",
    "[Map reference](https://stackoverflow.com/questions/45574099/plot-different-columns-of-different-dataframe-in-the-same-plot-with-pandas)"
   ]
  },
  {
   "cell_type": "code",
   "execution_count": 81,
   "metadata": {},
   "outputs": [
    {
     "data": {
      "image/png": "[encoded data removed]",
      "text/plain": [
       "<Figure size 432x288 with 2 Axes>"
      ]
     },
     "metadata": {
      "needs_background": "light"
     },
     "output_type": "display_data"
    }
   ],
   "source": [
    "# x_axis_start = datetime.datetime(2020, 1, 1).strftime('%b %d')\n",
    "# x_axis_end = datetime.datetime(2020, 5, 5).strftime('%b %d')\n",
    "# x_axis_sample = datetime.datetime(2020, 1, 1).strftime('%b %d')\n",
    "\n",
    "\n",
    "# x_axis = np.linspace(x_axis_start, x_axis_end, x_axis=sample)\n",
    "\n",
    "fig, ax = plt.subplots()\n",
    "ax2 = ax.twinx()\n",
    "\n",
    "\n",
    "\n",
    "covtrack_us_hist_plot_df.plot(\n",
    "    ax=ax,\n",
    "    y=['positive', 'total'],\n",
    "    color=['#F1948A', '#82E0AA'],\n",
    "    ylim=(0, 700000),\n",
    ")\n",
    "\n",
    "kor_cov19_plot_df.plot(\n",
    "    ax=ax2,\n",
    "    ls='--',\n",
    "    y=['Confirm_Tot', 'Test_Tot'],\n",
    "    color=['#F1948A', '#82E0AA'],\n",
    "    ylim=(0, 700000),\n",
    ")\n",
    "\n",
    "ax.legend(['US Confirmed', 'US Tests'])\n",
    "ax2.legend(['KOR Confirmed', 'KOR Tests'], loc=(0.011, 0.65))\n",
    "ax.xaxis.set_major_formatter(mdates.DateFormatter('%b %d'))\n",
    "plt.title('US Vs. South Korea \\n COVID-19 Total Cases & Tests', fontdict={'size':20});\n",
    "\n",
    "plt.show()"
   ]
  },
  {
   "cell_type": "markdown",
   "metadata": {},
   "source": [
    "# List of All DataFrames"
   ]
  },
  {
   "cell_type": "code",
   "execution_count": 55,
   "metadata": {},
   "outputs": [
    {
     "name": "stdout",
     "output_type": "stream",
     "text": [
      "Variable                       Type         Data/Info\n",
      "-----------------------------------------------------\n",
      "county_start_df                DataFrame                 date      co<...>n[2885 rows x 11 columns]\n",
      "covtrack_states_hist_df        DataFrame              date state fips<...>\\n[3489 rows x 7 columns]\n",
      "covtrack_states_hist_plot_df   DataFrame               state fips  po<...>\\n[3489 rows x 5 columns]\n",
      "covtrack_states_now_df         DataFrame       state fips  positive  <...>       66      4     1093\n",
      "covtrack_us_hist_df            DataFrame             date  positive  <...>n\\n[106 rows x 5 columns]\n",
      "covtrack_us_hist_plot_df       DataFrame                positive    d<...>n\\n[106 rows x 3 columns]\n",
      "covtrack_us_now_df             DataFrame       positive  death    tot<...>  1217771  67256  7762513\n",
      "fips_df                        DataFrame                      stname <...>    Wyoming   56       WY\n",
      "null_fips_df                   DataFrame                 date        <...>\\n[1372 rows x 6 columns]\n",
      "nytimes_counties_df            DataFrame                 date      co<...>[118343 rows x 6 columns]\n",
      "nytimes_counties_plot_df       DataFrame                    county   <...>[118343 rows x 5 columns]\n",
      "state_start_df                 DataFrame              date state fips<...>28 566970.701, -1633...  \n",
      "us_cov19_counties_df           DataFrame                 date      co<...>118343 rows x 11 columns]\n",
      "us_cov19_states_df             DataFrame              date state fips<...>n[3489 rows x 11 columns]\n",
      "us_cov19_states_now_df         DataFrame       state fips positive  d<...>ds<br>Cases: 66<br>D...  \n"
     ]
    }
   ],
   "source": [
    "%whos DataFrame"
   ]
  },
  {
   "cell_type": "markdown",
   "metadata": {},
   "source": [
    "# List of all GeoDataFrame"
   ]
  },
  {
   "cell_type": "code",
   "execution_count": 57,
   "metadata": {
    "scrolled": true
   },
   "outputs": [
    {
     "name": "stdout",
     "output_type": "stream",
     "text": [
      "Variable                   Type            Data/Info\n",
      "----------------------------------------------------\n",
      "merged_df                  GeoDataFrame         STATEFP COUNTYFP  CO<...>n[3233 rows x 13 columns]\n",
      "us_counties_gdf            GeoDataFrame         STATEFP COUNTYFP  CO<...>n[3233 rows x 13 columns]\n",
      "us_cov19_counties_gdf      GeoDataFrame                 date      co<...>118343 rows x 10 columns]\n",
      "us_cov19_states_gdf        GeoDataFrame              date state fips<...>n[3489 rows x 10 columns]\n",
      "us_cov19_states_now_gdf    GeoDataFrame       state fips  positive  <...>3 -2257768.387, 3738...  \n",
      "us_cov19_states_plot_gdf   GeoDataFrame                    date     <...>\\n[3489 rows x 9 columns]\n",
      "us_states_gdf              GeoDataFrame       STATEFP   STATENS     <...>51, 2622589.4473532755)  \n"
     ]
    }
   ],
   "source": [
    "%whos GeoDataFrame"
   ]
  },
  {
   "cell_type": "code",
   "execution_count": null,
   "metadata": {},
   "outputs": [],
   "source": []
  }
 ],
 "metadata": {
  "kernelspec": {
   "display_name": "Python 3",
   "language": "python",
   "name": "python3"
  },
  "language_info": {
   "codemirror_mode": {
    "name": "ipython",
    "version": 3
   },
   "file_extension": ".py",
   "mimetype": "text/x-python",
   "name": "python",
   "nbconvert_exporter": "python",
   "pygments_lexer": "ipython3",
   "version": "3.7.7"
  }
 },
 "nbformat": 4,
 "nbformat_minor": 4
}
