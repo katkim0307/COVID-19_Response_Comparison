{
 "cells": [
  {
   "cell_type": "markdown",
   "metadata": {},
   "source": [
    "# US COVID-19 Data"
   ]
  },
  {
   "cell_type": "code",
   "execution_count": 28,
   "metadata": {},
   "outputs": [],
   "source": [
    "import os\n",
    "import sys\n",
    "\n",
    "from IPython.display import IFrame\n",
    "import pandas as pd\n",
    "import geopandas as gpd\n",
    "import matplotlib.pyplot as plt\n",
    "import matplotlib.dates as mdates\n",
    "import numpy as np\n",
    "import missingno as msno\n",
    "import seaborn as sns\n",
    "import matplotlib.patches as patches\n",
    "import warnings\n",
    "import networkx as nx\n",
    "import osmnx as ox\n",
    "import requests\n",
    "import matplotlib.cm as cm\n",
    "import matplotlib.colors as colors\n",
    "\n",
    "import urllib\n",
    "import zipfile\n",
    "import glob"
   ]
  },
  {
   "cell_type": "markdown",
   "metadata": {},
   "source": [
    "## Import data from NYTimes\n",
    "\n",
    "The [New York Times](https://www.nytimes.com/interactive/2020/us/coronavirus-us-cases.html) daily shares the latest update on COVID-19 in the US. They use various data visualization tools for easier understanding of the data.  They also share all of their data on [GitHub](https://github.com/nytimes/covid-19-data).\n",
    "\n",
    "[![ne_download_page](https://raw.githubusercontent.com/katkim0307/COVID-19_Response_Comparison/master/Data/image/nytimes_cov19_page.PNG)](https://www.nytimes.com/interactive/2020/us/coronavirus-us-cases.html)"
   ]
  },
  {
   "cell_type": "markdown",
   "metadata": {},
   "source": [
    "### Read in US, States, and Counties data"
   ]
  },
  {
   "cell_type": "code",
   "execution_count": 13,
   "metadata": {},
   "outputs": [],
   "source": [
    "nytimes_us_url='https://raw.githubusercontent.com/nytimes/covid-19-data/master/us.csv'\n",
    "nytimes_states_url='https://raw.githubusercontent.com/nytimes/covid-19-data/master/us-states.csv'\n",
    "nytimes_counties_url='https://raw.githubusercontent.com/nytimes/covid-19-data/master/us-counties.csv'"
   ]
  },
  {
   "cell_type": "markdown",
   "metadata": {},
   "source": [
    "### US"
   ]
  },
  {
   "cell_type": "code",
   "execution_count": 98,
   "metadata": {
    "scrolled": true
   },
   "outputs": [
    {
     "data": {
      "text/html": [
       "<div>\n",
       "<style scoped>\n",
       "    .dataframe tbody tr th:only-of-type {\n",
       "        vertical-align: middle;\n",
       "    }\n",
       "\n",
       "    .dataframe tbody tr th {\n",
       "        vertical-align: top;\n",
       "    }\n",
       "\n",
       "    .dataframe thead th {\n",
       "        text-align: right;\n",
       "    }\n",
       "</style>\n",
       "<table border=\"1\" class=\"dataframe\">\n",
       "  <thead>\n",
       "    <tr style=\"text-align: right;\">\n",
       "      <th></th>\n",
       "      <th>date</th>\n",
       "      <th>cases</th>\n",
       "      <th>deaths</th>\n",
       "    </tr>\n",
       "  </thead>\n",
       "  <tbody>\n",
       "    <tr>\n",
       "      <th>98</th>\n",
       "      <td>2020-04-28</td>\n",
       "      <td>1012572</td>\n",
       "      <td>53034</td>\n",
       "    </tr>\n",
       "    <tr>\n",
       "      <th>99</th>\n",
       "      <td>2020-04-29</td>\n",
       "      <td>1039166</td>\n",
       "      <td>55399</td>\n",
       "    </tr>\n",
       "    <tr>\n",
       "      <th>100</th>\n",
       "      <td>2020-04-30</td>\n",
       "      <td>1069559</td>\n",
       "      <td>57570</td>\n",
       "    </tr>\n",
       "    <tr>\n",
       "      <th>101</th>\n",
       "      <td>2020-05-01</td>\n",
       "      <td>1103544</td>\n",
       "      <td>59392</td>\n",
       "    </tr>\n",
       "    <tr>\n",
       "      <th>102</th>\n",
       "      <td>2020-05-02</td>\n",
       "      <td>1133083</td>\n",
       "      <td>61077</td>\n",
       "    </tr>\n",
       "  </tbody>\n",
       "</table>\n",
       "</div>"
      ],
      "text/plain": [
       "           date    cases  deaths\n",
       "98   2020-04-28  1012572   53034\n",
       "99   2020-04-29  1039166   55399\n",
       "100  2020-04-30  1069559   57570\n",
       "101  2020-05-01  1103544   59392\n",
       "102  2020-05-02  1133083   61077"
      ]
     },
     "execution_count": 98,
     "metadata": {},
     "output_type": "execute_result"
    }
   ],
   "source": [
    "nytimes_us_df = pd.read_csv(nytimes_us_url)\n",
    "\n",
    "nytimes_us_df.tail()"
   ]
  },
  {
   "cell_type": "code",
   "execution_count": 29,
   "metadata": {
    "scrolled": true
   },
   "outputs": [
    {
     "name": "stdout",
     "output_type": "stream",
     "text": [
      "<class 'pandas.core.frame.DataFrame'>\n",
      "RangeIndex: 103 entries, 0 to 102\n",
      "Data columns (total 3 columns):\n",
      " #   Column  Non-Null Count  Dtype \n",
      "---  ------  --------------  ----- \n",
      " 0   date    103 non-null    object\n",
      " 1   cases   103 non-null    int64 \n",
      " 2   deaths  103 non-null    int64 \n",
      "dtypes: int64(2), object(1)\n",
      "memory usage: 2.5+ KB\n"
     ]
    }
   ],
   "source": [
    "nytimes_us_df.info()"
   ]
  },
  {
   "cell_type": "code",
   "execution_count": 32,
   "metadata": {},
   "outputs": [],
   "source": [
    "nytimes_us_df['date']=pd.to_datetime(nytimes_us_df['date'])"
   ]
  },
  {
   "cell_type": "code",
   "execution_count": 114,
   "metadata": {
    "scrolled": false
   },
   "outputs": [
    {
     "data": {
      "image/png": "[encoded data removed]",
      "text/plain": [
       "<Figure size 720x720 with 1 Axes>"
      ]
     },
     "metadata": {
      "needs_background": "light"
     },
     "output_type": "display_data"
    }
   ],
   "source": [
    "nytimes_us_df.plot(\n",
    "    x='date',\n",
    "    y='cases',\n",
    "    kind='line',\n",
    "    figsize=(10,10),\n",
    "    ylim=(0, 1500000),\n",
    ");\n",
    "\n",
    "plt.title('COVID-19 Confirmed Cases in the US', fontdict={'size': 30})\n",
    "plt.xlabel('Date')\n",
    "plt.ylabel('Cases in Millions')\n",
    "plt.show();"
   ]
  },
  {
   "cell_type": "markdown",
   "metadata": {},
   "source": [
    "### States"
   ]
  },
  {
   "cell_type": "code",
   "execution_count": 36,
   "metadata": {
    "scrolled": true
   },
   "outputs": [
    {
     "data": {
      "text/html": [
       "<div>\n",
       "<style scoped>\n",
       "    .dataframe tbody tr th:only-of-type {\n",
       "        vertical-align: middle;\n",
       "    }\n",
       "\n",
       "    .dataframe tbody tr th {\n",
       "        vertical-align: top;\n",
       "    }\n",
       "\n",
       "    .dataframe thead th {\n",
       "        text-align: right;\n",
       "    }\n",
       "</style>\n",
       "<table border=\"1\" class=\"dataframe\">\n",
       "  <thead>\n",
       "    <tr style=\"text-align: right;\">\n",
       "      <th></th>\n",
       "      <th>date</th>\n",
       "      <th>state</th>\n",
       "      <th>fips</th>\n",
       "      <th>cases</th>\n",
       "      <th>deaths</th>\n",
       "    </tr>\n",
       "  </thead>\n",
       "  <tbody>\n",
       "    <tr>\n",
       "      <th>0</th>\n",
       "      <td>2020-01-21</td>\n",
       "      <td>Washington</td>\n",
       "      <td>53</td>\n",
       "      <td>1</td>\n",
       "      <td>0</td>\n",
       "    </tr>\n",
       "    <tr>\n",
       "      <th>1</th>\n",
       "      <td>2020-01-22</td>\n",
       "      <td>Washington</td>\n",
       "      <td>53</td>\n",
       "      <td>1</td>\n",
       "      <td>0</td>\n",
       "    </tr>\n",
       "    <tr>\n",
       "      <th>2</th>\n",
       "      <td>2020-01-23</td>\n",
       "      <td>Washington</td>\n",
       "      <td>53</td>\n",
       "      <td>1</td>\n",
       "      <td>0</td>\n",
       "    </tr>\n",
       "    <tr>\n",
       "      <th>3</th>\n",
       "      <td>2020-01-24</td>\n",
       "      <td>Illinois</td>\n",
       "      <td>17</td>\n",
       "      <td>1</td>\n",
       "      <td>0</td>\n",
       "    </tr>\n",
       "    <tr>\n",
       "      <th>4</th>\n",
       "      <td>2020-01-24</td>\n",
       "      <td>Washington</td>\n",
       "      <td>53</td>\n",
       "      <td>1</td>\n",
       "      <td>0</td>\n",
       "    </tr>\n",
       "  </tbody>\n",
       "</table>\n",
       "</div>"
      ],
      "text/plain": [
       "         date       state fips  cases  deaths\n",
       "0  2020-01-21  Washington   53      1       0\n",
       "1  2020-01-22  Washington   53      1       0\n",
       "2  2020-01-23  Washington   53      1       0\n",
       "3  2020-01-24    Illinois   17      1       0\n",
       "4  2020-01-24  Washington   53      1       0"
      ]
     },
     "execution_count": 36,
     "metadata": {},
     "output_type": "execute_result"
    }
   ],
   "source": [
    "nytimes_states_df = pd.read_csv(nytimes_states_url, dtype={'fips':object})\n",
    "\n",
    "nytimes_states_df.head()"
   ]
  },
  {
   "cell_type": "code",
   "execution_count": 37,
   "metadata": {
    "scrolled": true
   },
   "outputs": [
    {
     "name": "stdout",
     "output_type": "stream",
     "text": [
      "<class 'pandas.core.frame.DataFrame'>\n",
      "RangeIndex: 3369 entries, 0 to 3368\n",
      "Data columns (total 5 columns):\n",
      " #   Column  Non-Null Count  Dtype \n",
      "---  ------  --------------  ----- \n",
      " 0   date    3369 non-null   object\n",
      " 1   state   3369 non-null   object\n",
      " 2   fips    3369 non-null   object\n",
      " 3   cases   3369 non-null   int64 \n",
      " 4   deaths  3369 non-null   int64 \n",
      "dtypes: int64(2), object(3)\n",
      "memory usage: 131.7+ KB\n"
     ]
    }
   ],
   "source": [
    "nytimes_states_df.info()"
   ]
  },
  {
   "cell_type": "code",
   "execution_count": 33,
   "metadata": {},
   "outputs": [],
   "source": [
    "nytimes_states_df['date']=pd.to_datetime(nytimes_states_df['date'])"
   ]
  },
  {
   "cell_type": "markdown",
   "metadata": {},
   "source": [
    "### Counties"
   ]
  },
  {
   "cell_type": "code",
   "execution_count": 39,
   "metadata": {},
   "outputs": [
    {
     "data": {
      "text/html": [
       "<div>\n",
       "<style scoped>\n",
       "    .dataframe tbody tr th:only-of-type {\n",
       "        vertical-align: middle;\n",
       "    }\n",
       "\n",
       "    .dataframe tbody tr th {\n",
       "        vertical-align: top;\n",
       "    }\n",
       "\n",
       "    .dataframe thead th {\n",
       "        text-align: right;\n",
       "    }\n",
       "</style>\n",
       "<table border=\"1\" class=\"dataframe\">\n",
       "  <thead>\n",
       "    <tr style=\"text-align: right;\">\n",
       "      <th></th>\n",
       "      <th>date</th>\n",
       "      <th>county</th>\n",
       "      <th>state</th>\n",
       "      <th>fips</th>\n",
       "      <th>cases</th>\n",
       "      <th>deaths</th>\n",
       "    </tr>\n",
       "  </thead>\n",
       "  <tbody>\n",
       "    <tr>\n",
       "      <th>0</th>\n",
       "      <td>2020-01-21</td>\n",
       "      <td>Snohomish</td>\n",
       "      <td>Washington</td>\n",
       "      <td>53061</td>\n",
       "      <td>1</td>\n",
       "      <td>0</td>\n",
       "    </tr>\n",
       "    <tr>\n",
       "      <th>1</th>\n",
       "      <td>2020-01-22</td>\n",
       "      <td>Snohomish</td>\n",
       "      <td>Washington</td>\n",
       "      <td>53061</td>\n",
       "      <td>1</td>\n",
       "      <td>0</td>\n",
       "    </tr>\n",
       "    <tr>\n",
       "      <th>2</th>\n",
       "      <td>2020-01-23</td>\n",
       "      <td>Snohomish</td>\n",
       "      <td>Washington</td>\n",
       "      <td>53061</td>\n",
       "      <td>1</td>\n",
       "      <td>0</td>\n",
       "    </tr>\n",
       "    <tr>\n",
       "      <th>3</th>\n",
       "      <td>2020-01-24</td>\n",
       "      <td>Cook</td>\n",
       "      <td>Illinois</td>\n",
       "      <td>17031</td>\n",
       "      <td>1</td>\n",
       "      <td>0</td>\n",
       "    </tr>\n",
       "    <tr>\n",
       "      <th>4</th>\n",
       "      <td>2020-01-24</td>\n",
       "      <td>Snohomish</td>\n",
       "      <td>Washington</td>\n",
       "      <td>53061</td>\n",
       "      <td>1</td>\n",
       "      <td>0</td>\n",
       "    </tr>\n",
       "  </tbody>\n",
       "</table>\n",
       "</div>"
      ],
      "text/plain": [
       "         date     county       state   fips  cases  deaths\n",
       "0  2020-01-21  Snohomish  Washington  53061      1       0\n",
       "1  2020-01-22  Snohomish  Washington  53061      1       0\n",
       "2  2020-01-23  Snohomish  Washington  53061      1       0\n",
       "3  2020-01-24       Cook    Illinois  17031      1       0\n",
       "4  2020-01-24  Snohomish  Washington  53061      1       0"
      ]
     },
     "execution_count": 39,
     "metadata": {},
     "output_type": "execute_result"
    }
   ],
   "source": [
    "nytimes_counties_df = pd.read_csv(nytimes_counties_url, dtype={'fips':object})\n",
    "\n",
    "nytimes_counties_df.head()"
   ]
  },
  {
   "cell_type": "code",
   "execution_count": 40,
   "metadata": {
    "scrolled": false
   },
   "outputs": [
    {
     "name": "stdout",
     "output_type": "stream",
     "text": [
      "<class 'pandas.core.frame.DataFrame'>\n",
      "RangeIndex: 109696 entries, 0 to 109695\n",
      "Data columns (total 6 columns):\n",
      " #   Column  Non-Null Count   Dtype \n",
      "---  ------  --------------   ----- \n",
      " 0   date    109696 non-null  object\n",
      " 1   county  109696 non-null  object\n",
      " 2   state   109696 non-null  object\n",
      " 3   fips    108406 non-null  object\n",
      " 4   cases   109696 non-null  int64 \n",
      " 5   deaths  109696 non-null  int64 \n",
      "dtypes: int64(2), object(4)\n",
      "memory usage: 5.0+ MB\n"
     ]
    }
   ],
   "source": [
    "nytimes_counties_df.info()"
   ]
  },
  {
   "cell_type": "code",
   "execution_count": 34,
   "metadata": {},
   "outputs": [],
   "source": [
    "nytimes_counties_df['date']=pd.to_datetime(nytimes_counties_df['date'])"
   ]
  },
  {
   "cell_type": "markdown",
   "metadata": {},
   "source": [
    "## Import data from COVID-19 Tracking Project\n",
    "\n",
    "The [COVID Tracking Project](https://covidtracking.com/) publishes the latest update on COVID-19 testing in the US and territories. They use various data visualization tools for easier understanding of the data.  [Download](https://covidtracking.com/api) their data at a national and state level.\n",
    "\n",
    "[![ne_download_page](https://raw.githubusercontent.com/katkim0307/COVID-19_Response_Comparison/master/Data/image/cov_track_proj_page.PNG)](https://covidtracking.com/)"
   ]
  },
  {
   "cell_type": "markdown",
   "metadata": {},
   "source": [
    "### Read in US Historical Data and States Historical Data"
   ]
  },
  {
   "cell_type": "code",
   "execution_count": 63,
   "metadata": {},
   "outputs": [],
   "source": [
    "covtrack_us_hist_url = 'https://covidtracking.com/api/v1/us/daily.json'\n",
    "covtrack_us_now_url = 'https://covidtracking.com/api/v1/us/current.json'\n",
    "\n",
    "covtrack_states_hist_url = 'https://covidtracking.com/api/v1/states/daily.json'\n",
    "covtrack_states_now_url = 'https://covidtracking.com/api/v1/states/current.json'"
   ]
  },
  {
   "cell_type": "markdown",
   "metadata": {},
   "source": [
    "### US"
   ]
  },
  {
   "cell_type": "code",
   "execution_count": 53,
   "metadata": {
    "scrolled": true
   },
   "outputs": [
    {
     "data": {
      "text/html": [
       "<div>\n",
       "<style scoped>\n",
       "    .dataframe tbody tr th:only-of-type {\n",
       "        vertical-align: middle;\n",
       "    }\n",
       "\n",
       "    .dataframe tbody tr th {\n",
       "        vertical-align: top;\n",
       "    }\n",
       "\n",
       "    .dataframe thead th {\n",
       "        text-align: right;\n",
       "    }\n",
       "</style>\n",
       "<table border=\"1\" class=\"dataframe\">\n",
       "  <thead>\n",
       "    <tr style=\"text-align: right;\">\n",
       "      <th></th>\n",
       "      <th>positive</th>\n",
       "      <th>negative</th>\n",
       "      <th>pending</th>\n",
       "      <th>hospitalizedCurrently</th>\n",
       "      <th>hospitalizedCumulative</th>\n",
       "      <th>inIcuCurrently</th>\n",
       "      <th>inIcuCumulative</th>\n",
       "      <th>onVentilatorCurrently</th>\n",
       "      <th>onVentilatorCumulative</th>\n",
       "      <th>recovered</th>\n",
       "      <th>hash</th>\n",
       "      <th>lastModified</th>\n",
       "      <th>death</th>\n",
       "      <th>hospitalized</th>\n",
       "      <th>total</th>\n",
       "      <th>totalTestResults</th>\n",
       "      <th>posNeg</th>\n",
       "      <th>notes</th>\n",
       "    </tr>\n",
       "  </thead>\n",
       "  <tbody>\n",
       "    <tr>\n",
       "      <th>0</th>\n",
       "      <td>1152006</td>\n",
       "      <td>5901360</td>\n",
       "      <td>2812</td>\n",
       "      <td>50312</td>\n",
       "      <td>125796</td>\n",
       "      <td>9292</td>\n",
       "      <td>4502</td>\n",
       "      <td>4761</td>\n",
       "      <td>425</td>\n",
       "      <td>180152</td>\n",
       "      <td>d9bbf5d5083f4ac74e13a02578db56835078c70a</td>\n",
       "      <td>5/4/2020</td>\n",
       "      <td>61868</td>\n",
       "      <td>125796</td>\n",
       "      <td>7056178</td>\n",
       "      <td>7053366</td>\n",
       "      <td>7053366</td>\n",
       "      <td>NOTE: \"total\", \"posNeg\", \"hospitalized\" will b...</td>\n",
       "    </tr>\n",
       "  </tbody>\n",
       "</table>\n",
       "</div>"
      ],
      "text/plain": [
       "   positive  negative  pending  hospitalizedCurrently  hospitalizedCumulative  \\\n",
       "0   1152006   5901360     2812                  50312                  125796   \n",
       "\n",
       "   inIcuCurrently  inIcuCumulative  onVentilatorCurrently  \\\n",
       "0            9292             4502                   4761   \n",
       "\n",
       "   onVentilatorCumulative  recovered  \\\n",
       "0                     425     180152   \n",
       "\n",
       "                                       hash lastModified  death  hospitalized  \\\n",
       "0  d9bbf5d5083f4ac74e13a02578db56835078c70a     5/4/2020  61868        125796   \n",
       "\n",
       "     total  totalTestResults   posNeg  \\\n",
       "0  7056178           7053366  7053366   \n",
       "\n",
       "                                               notes  \n",
       "0  NOTE: \"total\", \"posNeg\", \"hospitalized\" will b...  "
      ]
     },
     "execution_count": 53,
     "metadata": {},
     "output_type": "execute_result"
    }
   ],
   "source": [
    "covtrack_us_now_df = pd.read_json(covtrack_us_now_url)\n",
    "\n",
    "covtrack_us_now_df"
   ]
  },
  {
   "cell_type": "code",
   "execution_count": 91,
   "metadata": {
    "scrolled": false
   },
   "outputs": [
    {
     "data": {
      "text/html": [
       "<div>\n",
       "<style scoped>\n",
       "    .dataframe tbody tr th:only-of-type {\n",
       "        vertical-align: middle;\n",
       "    }\n",
       "\n",
       "    .dataframe tbody tr th {\n",
       "        vertical-align: top;\n",
       "    }\n",
       "\n",
       "    .dataframe thead th {\n",
       "        text-align: right;\n",
       "    }\n",
       "</style>\n",
       "<table border=\"1\" class=\"dataframe\">\n",
       "  <thead>\n",
       "    <tr style=\"text-align: right;\">\n",
       "      <th></th>\n",
       "      <th>date</th>\n",
       "      <th>states</th>\n",
       "      <th>positive</th>\n",
       "      <th>negative</th>\n",
       "      <th>pending</th>\n",
       "      <th>hospitalizedCurrently</th>\n",
       "      <th>hospitalizedCumulative</th>\n",
       "      <th>inIcuCurrently</th>\n",
       "      <th>inIcuCumulative</th>\n",
       "      <th>onVentilatorCurrently</th>\n",
       "      <th>...</th>\n",
       "      <th>death</th>\n",
       "      <th>hospitalized</th>\n",
       "      <th>total</th>\n",
       "      <th>totalTestResults</th>\n",
       "      <th>posNeg</th>\n",
       "      <th>deathIncrease</th>\n",
       "      <th>hospitalizedIncrease</th>\n",
       "      <th>negativeIncrease</th>\n",
       "      <th>positiveIncrease</th>\n",
       "      <th>totalTestResultsIncrease</th>\n",
       "    </tr>\n",
       "  </thead>\n",
       "  <tbody>\n",
       "    <tr>\n",
       "      <th>98</th>\n",
       "      <td>20200126</td>\n",
       "      <td>1</td>\n",
       "      <td>1</td>\n",
       "      <td>NaN</td>\n",
       "      <td>NaN</td>\n",
       "      <td>NaN</td>\n",
       "      <td>NaN</td>\n",
       "      <td>NaN</td>\n",
       "      <td>NaN</td>\n",
       "      <td>NaN</td>\n",
       "      <td>...</td>\n",
       "      <td>NaN</td>\n",
       "      <td>NaN</td>\n",
       "      <td>1</td>\n",
       "      <td>1</td>\n",
       "      <td>1</td>\n",
       "      <td>0.0</td>\n",
       "      <td>0.0</td>\n",
       "      <td>0.0</td>\n",
       "      <td>0.0</td>\n",
       "      <td>0.0</td>\n",
       "    </tr>\n",
       "    <tr>\n",
       "      <th>99</th>\n",
       "      <td>20200125</td>\n",
       "      <td>1</td>\n",
       "      <td>1</td>\n",
       "      <td>NaN</td>\n",
       "      <td>NaN</td>\n",
       "      <td>NaN</td>\n",
       "      <td>NaN</td>\n",
       "      <td>NaN</td>\n",
       "      <td>NaN</td>\n",
       "      <td>NaN</td>\n",
       "      <td>...</td>\n",
       "      <td>NaN</td>\n",
       "      <td>NaN</td>\n",
       "      <td>1</td>\n",
       "      <td>1</td>\n",
       "      <td>1</td>\n",
       "      <td>0.0</td>\n",
       "      <td>0.0</td>\n",
       "      <td>0.0</td>\n",
       "      <td>0.0</td>\n",
       "      <td>0.0</td>\n",
       "    </tr>\n",
       "    <tr>\n",
       "      <th>100</th>\n",
       "      <td>20200124</td>\n",
       "      <td>1</td>\n",
       "      <td>1</td>\n",
       "      <td>NaN</td>\n",
       "      <td>NaN</td>\n",
       "      <td>NaN</td>\n",
       "      <td>NaN</td>\n",
       "      <td>NaN</td>\n",
       "      <td>NaN</td>\n",
       "      <td>NaN</td>\n",
       "      <td>...</td>\n",
       "      <td>NaN</td>\n",
       "      <td>NaN</td>\n",
       "      <td>1</td>\n",
       "      <td>1</td>\n",
       "      <td>1</td>\n",
       "      <td>0.0</td>\n",
       "      <td>0.0</td>\n",
       "      <td>0.0</td>\n",
       "      <td>0.0</td>\n",
       "      <td>0.0</td>\n",
       "    </tr>\n",
       "    <tr>\n",
       "      <th>101</th>\n",
       "      <td>20200123</td>\n",
       "      <td>1</td>\n",
       "      <td>1</td>\n",
       "      <td>NaN</td>\n",
       "      <td>NaN</td>\n",
       "      <td>NaN</td>\n",
       "      <td>NaN</td>\n",
       "      <td>NaN</td>\n",
       "      <td>NaN</td>\n",
       "      <td>NaN</td>\n",
       "      <td>...</td>\n",
       "      <td>NaN</td>\n",
       "      <td>NaN</td>\n",
       "      <td>1</td>\n",
       "      <td>1</td>\n",
       "      <td>1</td>\n",
       "      <td>0.0</td>\n",
       "      <td>0.0</td>\n",
       "      <td>0.0</td>\n",
       "      <td>0.0</td>\n",
       "      <td>0.0</td>\n",
       "    </tr>\n",
       "    <tr>\n",
       "      <th>102</th>\n",
       "      <td>20200122</td>\n",
       "      <td>1</td>\n",
       "      <td>1</td>\n",
       "      <td>NaN</td>\n",
       "      <td>NaN</td>\n",
       "      <td>NaN</td>\n",
       "      <td>NaN</td>\n",
       "      <td>NaN</td>\n",
       "      <td>NaN</td>\n",
       "      <td>NaN</td>\n",
       "      <td>...</td>\n",
       "      <td>NaN</td>\n",
       "      <td>NaN</td>\n",
       "      <td>1</td>\n",
       "      <td>1</td>\n",
       "      <td>1</td>\n",
       "      <td>NaN</td>\n",
       "      <td>NaN</td>\n",
       "      <td>NaN</td>\n",
       "      <td>NaN</td>\n",
       "      <td>NaN</td>\n",
       "    </tr>\n",
       "  </tbody>\n",
       "</table>\n",
       "<p>5 rows × 24 columns</p>\n",
       "</div>"
      ],
      "text/plain": [
       "         date  states  positive  negative  pending  hospitalizedCurrently  \\\n",
       "98   20200126       1         1       NaN      NaN                    NaN   \n",
       "99   20200125       1         1       NaN      NaN                    NaN   \n",
       "100  20200124       1         1       NaN      NaN                    NaN   \n",
       "101  20200123       1         1       NaN      NaN                    NaN   \n",
       "102  20200122       1         1       NaN      NaN                    NaN   \n",
       "\n",
       "     hospitalizedCumulative  inIcuCurrently  inIcuCumulative  \\\n",
       "98                      NaN             NaN              NaN   \n",
       "99                      NaN             NaN              NaN   \n",
       "100                     NaN             NaN              NaN   \n",
       "101                     NaN             NaN              NaN   \n",
       "102                     NaN             NaN              NaN   \n",
       "\n",
       "     onVentilatorCurrently  ...  death  hospitalized total totalTestResults  \\\n",
       "98                     NaN  ...    NaN           NaN     1                1   \n",
       "99                     NaN  ...    NaN           NaN     1                1   \n",
       "100                    NaN  ...    NaN           NaN     1                1   \n",
       "101                    NaN  ...    NaN           NaN     1                1   \n",
       "102                    NaN  ...    NaN           NaN     1                1   \n",
       "\n",
       "     posNeg  deathIncrease  hospitalizedIncrease  negativeIncrease  \\\n",
       "98        1            0.0                   0.0               0.0   \n",
       "99        1            0.0                   0.0               0.0   \n",
       "100       1            0.0                   0.0               0.0   \n",
       "101       1            0.0                   0.0               0.0   \n",
       "102       1            NaN                   NaN               NaN   \n",
       "\n",
       "     positiveIncrease  totalTestResultsIncrease  \n",
       "98                0.0                       0.0  \n",
       "99                0.0                       0.0  \n",
       "100               0.0                       0.0  \n",
       "101               0.0                       0.0  \n",
       "102               NaN                       NaN  \n",
       "\n",
       "[5 rows x 24 columns]"
      ]
     },
     "execution_count": 91,
     "metadata": {},
     "output_type": "execute_result"
    }
   ],
   "source": [
    "covtrack_us_hist_df = pd.read_json(covtrack_us_hist_url, dtype={'fips':object})\n",
    "\n",
    "covtrack_us_hist_df.tail()"
   ]
  },
  {
   "cell_type": "code",
   "execution_count": 92,
   "metadata": {
    "scrolled": true
   },
   "outputs": [
    {
     "name": "stdout",
     "output_type": "stream",
     "text": [
      "<class 'pandas.core.frame.DataFrame'>\n",
      "RangeIndex: 103 entries, 0 to 102\n",
      "Data columns (total 24 columns):\n",
      " #   Column                    Non-Null Count  Dtype  \n",
      "---  ------                    --------------  -----  \n",
      " 0   date                      103 non-null    int64  \n",
      " 1   states                    103 non-null    int64  \n",
      " 2   positive                  103 non-null    int64  \n",
      " 3   negative                  65 non-null     float64\n",
      " 4   pending                   61 non-null     float64\n",
      " 5   hospitalizedCurrently     48 non-null     float64\n",
      " 6   hospitalizedCumulative    44 non-null     float64\n",
      " 7   inIcuCurrently            39 non-null     float64\n",
      " 8   inIcuCumulative           40 non-null     float64\n",
      " 9   onVentilatorCurrently     40 non-null     float64\n",
      " 10  onVentilatorCumulative    33 non-null     float64\n",
      " 11  recovered                 40 non-null     float64\n",
      " 12  hash                      103 non-null    object \n",
      " 13  dateChecked               103 non-null    object \n",
      " 14  death                     68 non-null     float64\n",
      " 15  hospitalized              44 non-null     float64\n",
      " 16  total                     103 non-null    int64  \n",
      " 17  totalTestResults          103 non-null    int64  \n",
      " 18  posNeg                    103 non-null    int64  \n",
      " 19  deathIncrease             102 non-null    float64\n",
      " 20  hospitalizedIncrease      102 non-null    float64\n",
      " 21  negativeIncrease          102 non-null    float64\n",
      " 22  positiveIncrease          102 non-null    float64\n",
      " 23  totalTestResultsIncrease  102 non-null    float64\n",
      "dtypes: float64(16), int64(6), object(2)\n",
      "memory usage: 19.4+ KB\n"
     ]
    }
   ],
   "source": [
    "covtrack_us_hist_df.info()"
   ]
  },
  {
   "cell_type": "code",
   "execution_count": 93,
   "metadata": {
    "scrolled": true
   },
   "outputs": [
    {
     "data": {
      "text/html": [
       "<div>\n",
       "<style scoped>\n",
       "    .dataframe tbody tr th:only-of-type {\n",
       "        vertical-align: middle;\n",
       "    }\n",
       "\n",
       "    .dataframe tbody tr th {\n",
       "        vertical-align: top;\n",
       "    }\n",
       "\n",
       "    .dataframe thead th {\n",
       "        text-align: right;\n",
       "    }\n",
       "</style>\n",
       "<table border=\"1\" class=\"dataframe\">\n",
       "  <thead>\n",
       "    <tr style=\"text-align: right;\">\n",
       "      <th></th>\n",
       "      <th>date</th>\n",
       "      <th>states</th>\n",
       "      <th>positive</th>\n",
       "      <th>negative</th>\n",
       "      <th>pending</th>\n",
       "      <th>hospitalizedCurrently</th>\n",
       "      <th>hospitalizedCumulative</th>\n",
       "      <th>inIcuCurrently</th>\n",
       "      <th>inIcuCumulative</th>\n",
       "      <th>onVentilatorCurrently</th>\n",
       "      <th>...</th>\n",
       "      <th>hospitalized</th>\n",
       "      <th>total</th>\n",
       "      <th>totalTestResults</th>\n",
       "      <th>posNeg</th>\n",
       "      <th>deathIncrease</th>\n",
       "      <th>hospitalizedIncrease</th>\n",
       "      <th>negativeIncrease</th>\n",
       "      <th>positiveIncrease</th>\n",
       "      <th>totalTestResultsIncrease</th>\n",
       "      <th>datetime</th>\n",
       "    </tr>\n",
       "  </thead>\n",
       "  <tbody>\n",
       "    <tr>\n",
       "      <th>98</th>\n",
       "      <td>20200126</td>\n",
       "      <td>1</td>\n",
       "      <td>1</td>\n",
       "      <td>NaN</td>\n",
       "      <td>NaN</td>\n",
       "      <td>NaN</td>\n",
       "      <td>NaN</td>\n",
       "      <td>NaN</td>\n",
       "      <td>NaN</td>\n",
       "      <td>NaN</td>\n",
       "      <td>...</td>\n",
       "      <td>NaN</td>\n",
       "      <td>1</td>\n",
       "      <td>1</td>\n",
       "      <td>1</td>\n",
       "      <td>0.0</td>\n",
       "      <td>0.0</td>\n",
       "      <td>0.0</td>\n",
       "      <td>0.0</td>\n",
       "      <td>0.0</td>\n",
       "      <td>2020-01-26</td>\n",
       "    </tr>\n",
       "    <tr>\n",
       "      <th>99</th>\n",
       "      <td>20200125</td>\n",
       "      <td>1</td>\n",
       "      <td>1</td>\n",
       "      <td>NaN</td>\n",
       "      <td>NaN</td>\n",
       "      <td>NaN</td>\n",
       "      <td>NaN</td>\n",
       "      <td>NaN</td>\n",
       "      <td>NaN</td>\n",
       "      <td>NaN</td>\n",
       "      <td>...</td>\n",
       "      <td>NaN</td>\n",
       "      <td>1</td>\n",
       "      <td>1</td>\n",
       "      <td>1</td>\n",
       "      <td>0.0</td>\n",
       "      <td>0.0</td>\n",
       "      <td>0.0</td>\n",
       "      <td>0.0</td>\n",
       "      <td>0.0</td>\n",
       "      <td>2020-01-25</td>\n",
       "    </tr>\n",
       "    <tr>\n",
       "      <th>100</th>\n",
       "      <td>20200124</td>\n",
       "      <td>1</td>\n",
       "      <td>1</td>\n",
       "      <td>NaN</td>\n",
       "      <td>NaN</td>\n",
       "      <td>NaN</td>\n",
       "      <td>NaN</td>\n",
       "      <td>NaN</td>\n",
       "      <td>NaN</td>\n",
       "      <td>NaN</td>\n",
       "      <td>...</td>\n",
       "      <td>NaN</td>\n",
       "      <td>1</td>\n",
       "      <td>1</td>\n",
       "      <td>1</td>\n",
       "      <td>0.0</td>\n",
       "      <td>0.0</td>\n",
       "      <td>0.0</td>\n",
       "      <td>0.0</td>\n",
       "      <td>0.0</td>\n",
       "      <td>2020-01-24</td>\n",
       "    </tr>\n",
       "    <tr>\n",
       "      <th>101</th>\n",
       "      <td>20200123</td>\n",
       "      <td>1</td>\n",
       "      <td>1</td>\n",
       "      <td>NaN</td>\n",
       "      <td>NaN</td>\n",
       "      <td>NaN</td>\n",
       "      <td>NaN</td>\n",
       "      <td>NaN</td>\n",
       "      <td>NaN</td>\n",
       "      <td>NaN</td>\n",
       "      <td>...</td>\n",
       "      <td>NaN</td>\n",
       "      <td>1</td>\n",
       "      <td>1</td>\n",
       "      <td>1</td>\n",
       "      <td>0.0</td>\n",
       "      <td>0.0</td>\n",
       "      <td>0.0</td>\n",
       "      <td>0.0</td>\n",
       "      <td>0.0</td>\n",
       "      <td>2020-01-23</td>\n",
       "    </tr>\n",
       "    <tr>\n",
       "      <th>102</th>\n",
       "      <td>20200122</td>\n",
       "      <td>1</td>\n",
       "      <td>1</td>\n",
       "      <td>NaN</td>\n",
       "      <td>NaN</td>\n",
       "      <td>NaN</td>\n",
       "      <td>NaN</td>\n",
       "      <td>NaN</td>\n",
       "      <td>NaN</td>\n",
       "      <td>NaN</td>\n",
       "      <td>...</td>\n",
       "      <td>NaN</td>\n",
       "      <td>1</td>\n",
       "      <td>1</td>\n",
       "      <td>1</td>\n",
       "      <td>NaN</td>\n",
       "      <td>NaN</td>\n",
       "      <td>NaN</td>\n",
       "      <td>NaN</td>\n",
       "      <td>NaN</td>\n",
       "      <td>2020-01-22</td>\n",
       "    </tr>\n",
       "  </tbody>\n",
       "</table>\n",
       "<p>5 rows × 25 columns</p>\n",
       "</div>"
      ],
      "text/plain": [
       "         date  states  positive  negative  pending  hospitalizedCurrently  \\\n",
       "98   20200126       1         1       NaN      NaN                    NaN   \n",
       "99   20200125       1         1       NaN      NaN                    NaN   \n",
       "100  20200124       1         1       NaN      NaN                    NaN   \n",
       "101  20200123       1         1       NaN      NaN                    NaN   \n",
       "102  20200122       1         1       NaN      NaN                    NaN   \n",
       "\n",
       "     hospitalizedCumulative  inIcuCurrently  inIcuCumulative  \\\n",
       "98                      NaN             NaN              NaN   \n",
       "99                      NaN             NaN              NaN   \n",
       "100                     NaN             NaN              NaN   \n",
       "101                     NaN             NaN              NaN   \n",
       "102                     NaN             NaN              NaN   \n",
       "\n",
       "     onVentilatorCurrently  ...  hospitalized  total totalTestResults posNeg  \\\n",
       "98                     NaN  ...           NaN      1                1      1   \n",
       "99                     NaN  ...           NaN      1                1      1   \n",
       "100                    NaN  ...           NaN      1                1      1   \n",
       "101                    NaN  ...           NaN      1                1      1   \n",
       "102                    NaN  ...           NaN      1                1      1   \n",
       "\n",
       "     deathIncrease  hospitalizedIncrease  negativeIncrease  positiveIncrease  \\\n",
       "98             0.0                   0.0               0.0               0.0   \n",
       "99             0.0                   0.0               0.0               0.0   \n",
       "100            0.0                   0.0               0.0               0.0   \n",
       "101            0.0                   0.0               0.0               0.0   \n",
       "102            NaN                   NaN               NaN               NaN   \n",
       "\n",
       "     totalTestResultsIncrease   datetime  \n",
       "98                        0.0 2020-01-26  \n",
       "99                        0.0 2020-01-25  \n",
       "100                       0.0 2020-01-24  \n",
       "101                       0.0 2020-01-23  \n",
       "102                       NaN 2020-01-22  \n",
       "\n",
       "[5 rows x 25 columns]"
      ]
     },
     "execution_count": 93,
     "metadata": {},
     "output_type": "execute_result"
    }
   ],
   "source": [
    "covtrack_us_hist_df['datetime']=pd.to_datetime(covtrack_us_hist_df['date'].astype(str), format='%Y-%m-%d')\n",
    "\n",
    "covtrack_us_hist_df['datetime']=pd.to_datetime(covtrack_us_hist_df['datetime'])\n",
    "\n",
    "covtrack_us_hist_df.tail()"
   ]
  },
  {
   "cell_type": "code",
   "execution_count": 100,
   "metadata": {
    "scrolled": false
   },
   "outputs": [
    {
     "data": {
      "image/png": "[encoded data removed]",
      "text/plain": [
       "<Figure size 720x576 with 1 Axes>"
      ]
     },
     "metadata": {
      "needs_background": "light"
     },
     "output_type": "display_data"
    }
   ],
   "source": [
    "covtrack_us_hist_df.plot(\n",
    "    x='datetime',\n",
    "    y='totalTestResults',\n",
    "    title='Total Testing done in the US',\n",
    "    figsize=(10, 8),\n",
    ");"
   ]
  },
  {
   "cell_type": "code",
   "execution_count": 95,
   "metadata": {
    "scrolled": true
   },
   "outputs": [],
   "source": [
    "covtrack_us_hist_plot = covtrack_us_hist_df[['datetime', 'positive', 'death', 'total']]\n",
    "covtrack_us_hist_plot.set_index('datetime', inplace=True)"
   ]
  },
  {
   "cell_type": "code",
   "execution_count": 101,
   "metadata": {},
   "outputs": [
    {
     "data": {
      "image/png": "[encoded data removed]",
      "text/plain": [
       "<Figure size 720x576 with 1 Axes>"
      ]
     },
     "metadata": {
      "needs_background": "light"
     },
     "output_type": "display_data"
    }
   ],
   "source": [
    "# plot data\n",
    "fig, ax = plt.subplots(figsize=(10, 8))\n",
    "covtrack_us_hist_plot.plot(ax=ax)\n",
    "\n",
    "# set ticks every month\n",
    "# ax.xaxis.set_major_locator(mdates.MonthLocator())\n",
    "\n",
    "# set the time limit\n",
    "ax.set_xlim(['2020-1-21', '2020-3-31'])\n",
    "ax.set_ylim(0, 200000)\n",
    "\n",
    "# set major ticks format\n",
    "ax.xaxis.set_major_formatter(mdates.DateFormatter('%b %d'))"
   ]
  },
  {
   "cell_type": "markdown",
   "metadata": {},
   "source": [
    "### States"
   ]
  },
  {
   "cell_type": "code",
   "execution_count": 64,
   "metadata": {
    "scrolled": false
   },
   "outputs": [
    {
     "data": {
      "text/html": [
       "<div>\n",
       "<style scoped>\n",
       "    .dataframe tbody tr th:only-of-type {\n",
       "        vertical-align: middle;\n",
       "    }\n",
       "\n",
       "    .dataframe tbody tr th {\n",
       "        vertical-align: top;\n",
       "    }\n",
       "\n",
       "    .dataframe thead th {\n",
       "        text-align: right;\n",
       "    }\n",
       "</style>\n",
       "<table border=\"1\" class=\"dataframe\">\n",
       "  <thead>\n",
       "    <tr style=\"text-align: right;\">\n",
       "      <th></th>\n",
       "      <th>state</th>\n",
       "      <th>positive</th>\n",
       "      <th>positiveScore</th>\n",
       "      <th>negativeScore</th>\n",
       "      <th>negativeRegularScore</th>\n",
       "      <th>commercialScore</th>\n",
       "      <th>grade</th>\n",
       "      <th>score</th>\n",
       "      <th>notes</th>\n",
       "      <th>dataQualityGrade</th>\n",
       "      <th>...</th>\n",
       "      <th>checkTimeEt</th>\n",
       "      <th>death</th>\n",
       "      <th>hospitalized</th>\n",
       "      <th>total</th>\n",
       "      <th>totalTestResults</th>\n",
       "      <th>posNeg</th>\n",
       "      <th>fips</th>\n",
       "      <th>dateModified</th>\n",
       "      <th>dateChecked</th>\n",
       "      <th>hash</th>\n",
       "    </tr>\n",
       "  </thead>\n",
       "  <tbody>\n",
       "    <tr>\n",
       "      <th>0</th>\n",
       "      <td>AK</td>\n",
       "      <td>368</td>\n",
       "      <td>1.0</td>\n",
       "      <td>1.0</td>\n",
       "      <td>1.0</td>\n",
       "      <td>1.0</td>\n",
       "      <td>A</td>\n",
       "      <td>4.0</td>\n",
       "      <td>Please stop using the \"total\" field. Use \"tota...</td>\n",
       "      <td>C</td>\n",
       "      <td>...</td>\n",
       "      <td>5/03 15:41</td>\n",
       "      <td>9</td>\n",
       "      <td>NaN</td>\n",
       "      <td>21578</td>\n",
       "      <td>21578</td>\n",
       "      <td>21578</td>\n",
       "      <td>2</td>\n",
       "      <td>2020-05-03T18:15:00Z</td>\n",
       "      <td>2020-05-03T19:41:00Z</td>\n",
       "      <td>ecb32a99bc999e3ca2367609b91f421c7b38fc68</td>\n",
       "    </tr>\n",
       "    <tr>\n",
       "      <th>1</th>\n",
       "      <td>AL</td>\n",
       "      <td>7725</td>\n",
       "      <td>1.0</td>\n",
       "      <td>1.0</td>\n",
       "      <td>0.0</td>\n",
       "      <td>1.0</td>\n",
       "      <td>B</td>\n",
       "      <td>3.0</td>\n",
       "      <td>Please stop using the \"total\" field. Use \"tota...</td>\n",
       "      <td>B</td>\n",
       "      <td>...</td>\n",
       "      <td>5/03 16:15</td>\n",
       "      <td>290</td>\n",
       "      <td>1035.0</td>\n",
       "      <td>92500</td>\n",
       "      <td>92500</td>\n",
       "      <td>92500</td>\n",
       "      <td>1</td>\n",
       "      <td>2020-05-03T04:00:00Z</td>\n",
       "      <td>2020-05-03T20:15:00Z</td>\n",
       "      <td>3ac1545011b9e91fad4d49a68ec9922face23d81</td>\n",
       "    </tr>\n",
       "    <tr>\n",
       "      <th>2</th>\n",
       "      <td>AR</td>\n",
       "      <td>3431</td>\n",
       "      <td>1.0</td>\n",
       "      <td>1.0</td>\n",
       "      <td>1.0</td>\n",
       "      <td>1.0</td>\n",
       "      <td>A</td>\n",
       "      <td>4.0</td>\n",
       "      <td>Please stop using the \"total\" field. Use \"tota...</td>\n",
       "      <td>B</td>\n",
       "      <td>...</td>\n",
       "      <td>5/03 16:09</td>\n",
       "      <td>76</td>\n",
       "      <td>427.0</td>\n",
       "      <td>52890</td>\n",
       "      <td>52890</td>\n",
       "      <td>52890</td>\n",
       "      <td>5</td>\n",
       "      <td>2020-05-03T17:30:00Z</td>\n",
       "      <td>2020-05-03T20:09:00Z</td>\n",
       "      <td>af90698007198f92469ad41b4397a72eaab43b98</td>\n",
       "    </tr>\n",
       "    <tr>\n",
       "      <th>3</th>\n",
       "      <td>AZ</td>\n",
       "      <td>8640</td>\n",
       "      <td>1.0</td>\n",
       "      <td>1.0</td>\n",
       "      <td>0.0</td>\n",
       "      <td>1.0</td>\n",
       "      <td>B</td>\n",
       "      <td>3.0</td>\n",
       "      <td>Please stop using the \"total\" field. Use \"tota...</td>\n",
       "      <td>A+</td>\n",
       "      <td>...</td>\n",
       "      <td>5/03 15:51</td>\n",
       "      <td>362</td>\n",
       "      <td>1348.0</td>\n",
       "      <td>81119</td>\n",
       "      <td>81119</td>\n",
       "      <td>81119</td>\n",
       "      <td>4</td>\n",
       "      <td>2020-05-03T04:00:00Z</td>\n",
       "      <td>2020-05-03T19:51:00Z</td>\n",
       "      <td>e19531e63c8cff46c64d413079f65cb161535887</td>\n",
       "    </tr>\n",
       "    <tr>\n",
       "      <th>4</th>\n",
       "      <td>CA</td>\n",
       "      <td>53616</td>\n",
       "      <td>1.0</td>\n",
       "      <td>1.0</td>\n",
       "      <td>0.0</td>\n",
       "      <td>1.0</td>\n",
       "      <td>B</td>\n",
       "      <td>3.0</td>\n",
       "      <td>Please stop using the \"total\" field. Use \"tota...</td>\n",
       "      <td>B</td>\n",
       "      <td>...</td>\n",
       "      <td>5/03 15:54</td>\n",
       "      <td>2215</td>\n",
       "      <td>NaN</td>\n",
       "      <td>715751</td>\n",
       "      <td>715751</td>\n",
       "      <td>715751</td>\n",
       "      <td>6</td>\n",
       "      <td>2020-05-03T18:00:00Z</td>\n",
       "      <td>2020-05-03T19:54:00Z</td>\n",
       "      <td>7e44599df4c3ba9deb196535fc0e2cbc88e3ed46</td>\n",
       "    </tr>\n",
       "  </tbody>\n",
       "</table>\n",
       "<p>5 rows × 30 columns</p>\n",
       "</div>"
      ],
      "text/plain": [
       "  state  positive  positiveScore  negativeScore  negativeRegularScore  \\\n",
       "0    AK       368            1.0            1.0                   1.0   \n",
       "1    AL      7725            1.0            1.0                   0.0   \n",
       "2    AR      3431            1.0            1.0                   1.0   \n",
       "3    AZ      8640            1.0            1.0                   0.0   \n",
       "4    CA     53616            1.0            1.0                   0.0   \n",
       "\n",
       "   commercialScore grade  score  \\\n",
       "0              1.0     A    4.0   \n",
       "1              1.0     B    3.0   \n",
       "2              1.0     A    4.0   \n",
       "3              1.0     B    3.0   \n",
       "4              1.0     B    3.0   \n",
       "\n",
       "                                               notes dataQualityGrade  ...  \\\n",
       "0  Please stop using the \"total\" field. Use \"tota...                C  ...   \n",
       "1  Please stop using the \"total\" field. Use \"tota...                B  ...   \n",
       "2  Please stop using the \"total\" field. Use \"tota...                B  ...   \n",
       "3  Please stop using the \"total\" field. Use \"tota...               A+  ...   \n",
       "4  Please stop using the \"total\" field. Use \"tota...                B  ...   \n",
       "\n",
       "   checkTimeEt  death  hospitalized   total  totalTestResults  posNeg  fips  \\\n",
       "0   5/03 15:41      9           NaN   21578             21578   21578     2   \n",
       "1   5/03 16:15    290        1035.0   92500             92500   92500     1   \n",
       "2   5/03 16:09     76         427.0   52890             52890   52890     5   \n",
       "3   5/03 15:51    362        1348.0   81119             81119   81119     4   \n",
       "4   5/03 15:54   2215           NaN  715751            715751  715751     6   \n",
       "\n",
       "           dateModified           dateChecked  \\\n",
       "0  2020-05-03T18:15:00Z  2020-05-03T19:41:00Z   \n",
       "1  2020-05-03T04:00:00Z  2020-05-03T20:15:00Z   \n",
       "2  2020-05-03T17:30:00Z  2020-05-03T20:09:00Z   \n",
       "3  2020-05-03T04:00:00Z  2020-05-03T19:51:00Z   \n",
       "4  2020-05-03T18:00:00Z  2020-05-03T19:54:00Z   \n",
       "\n",
       "                                       hash  \n",
       "0  ecb32a99bc999e3ca2367609b91f421c7b38fc68  \n",
       "1  3ac1545011b9e91fad4d49a68ec9922face23d81  \n",
       "2  af90698007198f92469ad41b4397a72eaab43b98  \n",
       "3  e19531e63c8cff46c64d413079f65cb161535887  \n",
       "4  7e44599df4c3ba9deb196535fc0e2cbc88e3ed46  \n",
       "\n",
       "[5 rows x 30 columns]"
      ]
     },
     "execution_count": 64,
     "metadata": {},
     "output_type": "execute_result"
    }
   ],
   "source": [
    "covtrack_states_now_df = pd.read_json(covtrack_states_now_url)\n",
    "\n",
    "covtrack_states_now_df.head()"
   ]
  },
  {
   "cell_type": "code",
   "execution_count": 35,
   "metadata": {},
   "outputs": [
    {
     "data": {
      "text/plain": [
       "(56, 30)"
      ]
     },
     "execution_count": 35,
     "metadata": {},
     "output_type": "execute_result"
    }
   ],
   "source": [
    "covtrack_states_now_df.shape"
   ]
  },
  {
   "cell_type": "code",
   "execution_count": 1,
   "metadata": {
    "scrolled": true
   },
   "outputs": [
    {
     "ename": "NameError",
     "evalue": "name 'pd' is not defined",
     "output_type": "error",
     "traceback": [
      "\u001b[1;31m---------------------------------------------------------------------------\u001b[0m",
      "\u001b[1;31mNameError\u001b[0m                                 Traceback (most recent call last)",
      "\u001b[1;32m<ipython-input-1-1edd10c2fe52>\u001b[0m in \u001b[0;36m<module>\u001b[1;34m\u001b[0m\n\u001b[1;32m----> 1\u001b[1;33m \u001b[0mcovtrack_states_hist_df\u001b[0m \u001b[1;33m=\u001b[0m \u001b[0mpd\u001b[0m\u001b[1;33m.\u001b[0m\u001b[0mread_json\u001b[0m\u001b[1;33m(\u001b[0m\u001b[0mcovtrack_states_hist_url\u001b[0m\u001b[1;33m,\u001b[0m \u001b[0mdtype\u001b[0m\u001b[1;33m=\u001b[0m\u001b[1;33m{\u001b[0m\u001b[1;34m'fips'\u001b[0m\u001b[1;33m:\u001b[0m\u001b[0mobject\u001b[0m\u001b[1;33m}\u001b[0m\u001b[1;33m)\u001b[0m\u001b[1;33m\u001b[0m\u001b[1;33m\u001b[0m\u001b[0m\n\u001b[0m\u001b[0;32m      2\u001b[0m \u001b[1;33m\u001b[0m\u001b[0m\n\u001b[0;32m      3\u001b[0m \u001b[0mcovtrack_states_hist_df\u001b[0m\u001b[1;33m.\u001b[0m\u001b[0mhead\u001b[0m\u001b[1;33m(\u001b[0m\u001b[1;33m)\u001b[0m\u001b[1;33m\u001b[0m\u001b[1;33m\u001b[0m\u001b[0m\n",
      "\u001b[1;31mNameError\u001b[0m: name 'pd' is not defined"
     ]
    }
   ],
   "source": [
    "covtrack_states_hist_df = pd.read_json(covtrack_states_hist_url, dtype={'fips':object})\n",
    "\n",
    "covtrack_states_hist_df.head()"
   ]
  },
  {
   "cell_type": "code",
   "execution_count": 70,
   "metadata": {
    "scrolled": true
   },
   "outputs": [
    {
     "name": "stdout",
     "output_type": "stream",
     "text": [
      "<class 'pandas.core.frame.DataFrame'>\n",
      "RangeIndex: 3321 entries, 0 to 3320\n",
      "Data columns (total 25 columns):\n",
      " #   Column                    Non-Null Count  Dtype  \n",
      "---  ------                    --------------  -----  \n",
      " 0   date                      3321 non-null   int64  \n",
      " 1   state                     3321 non-null   object \n",
      " 2   positive                  3306 non-null   float64\n",
      " 3   negative                  3140 non-null   float64\n",
      " 4   pending                   677 non-null    float64\n",
      " 5   hospitalizedCurrently     1191 non-null   float64\n",
      " 6   hospitalizedCumulative    1239 non-null   float64\n",
      " 7   inIcuCurrently            594 non-null    float64\n",
      " 8   inIcuCumulative           232 non-null    float64\n",
      " 9   onVentilatorCurrently     471 non-null    float64\n",
      " 10  onVentilatorCumulative    72 non-null     float64\n",
      " 11  recovered                 1037 non-null   float64\n",
      " 12  hash                      3321 non-null   object \n",
      " 13  dateChecked               3321 non-null   object \n",
      " 14  death                     2594 non-null   float64\n",
      " 15  hospitalized              1239 non-null   float64\n",
      " 16  total                     3319 non-null   float64\n",
      " 17  totalTestResults          3319 non-null   float64\n",
      " 18  posNeg                    3319 non-null   float64\n",
      " 19  fips                      3321 non-null   int64  \n",
      " 20  deathIncrease             3265 non-null   float64\n",
      " 21  hospitalizedIncrease      3265 non-null   float64\n",
      " 22  negativeIncrease          3265 non-null   float64\n",
      " 23  positiveIncrease          3265 non-null   float64\n",
      " 24  totalTestResultsIncrease  3265 non-null   float64\n",
      "dtypes: float64(20), int64(2), object(3)\n",
      "memory usage: 648.8+ KB\n"
     ]
    }
   ],
   "source": [
    "covtrack_states_hist_df.info()"
   ]
  },
  {
   "cell_type": "code",
   "execution_count": 71,
   "metadata": {},
   "outputs": [
    {
     "name": "stdout",
     "output_type": "stream",
     "text": [
      "<class 'pandas.core.frame.DataFrame'>\n",
      "RangeIndex: 3321 entries, 0 to 3320\n",
      "Data columns (total 26 columns):\n",
      " #   Column                    Non-Null Count  Dtype         \n",
      "---  ------                    --------------  -----         \n",
      " 0   date                      3321 non-null   int64         \n",
      " 1   state                     3321 non-null   object        \n",
      " 2   positive                  3306 non-null   float64       \n",
      " 3   negative                  3140 non-null   float64       \n",
      " 4   pending                   677 non-null    float64       \n",
      " 5   hospitalizedCurrently     1191 non-null   float64       \n",
      " 6   hospitalizedCumulative    1239 non-null   float64       \n",
      " 7   inIcuCurrently            594 non-null    float64       \n",
      " 8   inIcuCumulative           232 non-null    float64       \n",
      " 9   onVentilatorCurrently     471 non-null    float64       \n",
      " 10  onVentilatorCumulative    72 non-null     float64       \n",
      " 11  recovered                 1037 non-null   float64       \n",
      " 12  hash                      3321 non-null   object        \n",
      " 13  dateChecked               3321 non-null   object        \n",
      " 14  death                     2594 non-null   float64       \n",
      " 15  hospitalized              1239 non-null   float64       \n",
      " 16  total                     3319 non-null   float64       \n",
      " 17  totalTestResults          3319 non-null   float64       \n",
      " 18  posNeg                    3319 non-null   float64       \n",
      " 19  fips                      3321 non-null   int64         \n",
      " 20  deathIncrease             3265 non-null   float64       \n",
      " 21  hospitalizedIncrease      3265 non-null   float64       \n",
      " 22  negativeIncrease          3265 non-null   float64       \n",
      " 23  positiveIncrease          3265 non-null   float64       \n",
      " 24  totalTestResultsIncrease  3265 non-null   float64       \n",
      " 25  datetime                  3321 non-null   datetime64[ns]\n",
      "dtypes: datetime64[ns](1), float64(20), int64(2), object(3)\n",
      "memory usage: 674.7+ KB\n"
     ]
    }
   ],
   "source": [
    "covtrack_states_hist_df['datetime']=pd.to_datetime(covtrack_states_hist_df['date'].astype(str), format='%Y-%m-%d')\n",
    "\n",
    "covtrack_states_hist_df['datetime']=pd.to_datetime(covtrack_states_hist_df['datetime'])\n",
    "\n",
    "covtrack_states_hist_df.info()"
   ]
  },
  {
   "cell_type": "code",
   "execution_count": null,
   "metadata": {},
   "outputs": [],
   "source": []
  },
  {
   "cell_type": "code",
   "execution_count": null,
   "metadata": {},
   "outputs": [],
   "source": []
  },
  {
   "cell_type": "code",
   "execution_count": null,
   "metadata": {},
   "outputs": [],
   "source": []
  },
  {
   "cell_type": "code",
   "execution_count": null,
   "metadata": {},
   "outputs": [],
   "source": []
  }
 ],
 "metadata": {
  "kernelspec": {
   "display_name": "Python 3",
   "language": "python",
   "name": "python3"
  },
  "language_info": {
   "codemirror_mode": {
    "name": "ipython",
    "version": 3
   },
   "file_extension": ".py",
   "mimetype": "text/x-python",
   "name": "python",
   "nbconvert_exporter": "python",
   "pygments_lexer": "ipython3",
   "version": "3.7.7"
  }
 },
 "nbformat": 4,
 "nbformat_minor": 4
}
