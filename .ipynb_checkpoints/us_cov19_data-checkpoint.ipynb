{
 "cells": [
  {
   "cell_type": "markdown",
   "metadata": {},
   "source": [
    "# US COVID-19 Data"
   ]
  },
  {
   "cell_type": "code",
   "execution_count": 1,
   "metadata": {},
   "outputs": [
    {
     "name": "stderr",
     "output_type": "stream",
     "text": [
      "\n",
      "Bad key \"text.kerning_factor\" on line 4 in\n",
      "C:\\Users\\dun4g\\anaconda3\\envs\\GIS\\lib\\site-packages\\matplotlib\\mpl-data\\stylelib\\_classic_test_patch.mplstyle.\n",
      "You probably need to get an updated matplotlibrc file from\n",
      "https://github.com/matplotlib/matplotlib/blob/v3.1.3/matplotlibrc.template\n",
      "or from the matplotlib source distribution\n"
     ]
    }
   ],
   "source": [
    "import os\n",
    "import sys\n",
    "\n",
    "from IPython.display import IFrame\n",
    "import pandas as pd\n",
    "import geopandas as gpd\n",
    "import matplotlib.pyplot as plt\n",
    "import matplotlib.dates as mdates\n",
    "import matplotlib.patches as patches\n",
    "import matplotlib.cm as cm\n",
    "import matplotlib.colors as colors\n",
    "import plotly\n",
    "import plotly.graph_objs as go\n",
    "from plotly.graph_objs import *\n",
    "import plotly.offline as offline\n",
    "import numpy as np\n",
    "import missingno as msno\n",
    "import seaborn as sns\n",
    "import warnings\n",
    "import networkx as nx\n",
    "#import osmnx as ox\n",
    "import datetime\n",
    "from datetime import date\n",
    "import requests\n",
    "import urllib\n",
    "import zipfile\n",
    "import glob"
   ]
  },
  {
   "cell_type": "markdown",
   "metadata": {},
   "source": [
    "## Import data from NYTimes\n",
    "\n",
    "The [New York Times](https://www.nytimes.com/interactive/2020/us/coronavirus-us-cases.html) daily shares the latest update on COVID-19 in the US. They use various data visualization tools for easier understanding of the data.  They also share all of their data on [GitHub](https://github.com/nytimes/covid-19-data).\n",
    "\n",
    "[![ne_download_page](https://raw.githubusercontent.com/katkim0307/COVID-19_Response_Comparison/master/Data/image/nytimes_cov19_page.PNG)](https://www.nytimes.com/interactive/2020/us/coronavirus-us-cases.html)"
   ]
  },
  {
   "cell_type": "markdown",
   "metadata": {},
   "source": [
    "### Read in US, States, and Counties data"
   ]
  },
  {
   "cell_type": "code",
   "execution_count": 2,
   "metadata": {},
   "outputs": [],
   "source": [
    "nytimes_us_url='https://raw.githubusercontent.com/nytimes/covid-19-data/master/us.csv'\n",
    "nytimes_states_url='https://raw.githubusercontent.com/nytimes/covid-19-data/master/us-states.csv'\n",
    "nytimes_counties_url='https://raw.githubusercontent.com/nytimes/covid-19-data/master/us-counties.csv'"
   ]
  },
  {
   "cell_type": "markdown",
   "metadata": {},
   "source": [
    "### US"
   ]
  },
  {
   "cell_type": "code",
   "execution_count": 3,
   "metadata": {
    "scrolled": true
   },
   "outputs": [
    {
     "data": {
      "text/html": [
       "<div>\n",
       "<style scoped>\n",
       "    .dataframe tbody tr th:only-of-type {\n",
       "        vertical-align: middle;\n",
       "    }\n",
       "\n",
       "    .dataframe tbody tr th {\n",
       "        vertical-align: top;\n",
       "    }\n",
       "\n",
       "    .dataframe thead th {\n",
       "        text-align: right;\n",
       "    }\n",
       "</style>\n",
       "<table border=\"1\" class=\"dataframe\">\n",
       "  <thead>\n",
       "    <tr style=\"text-align: right;\">\n",
       "      <th></th>\n",
       "      <th>date</th>\n",
       "      <th>cases</th>\n",
       "      <th>deaths</th>\n",
       "    </tr>\n",
       "  </thead>\n",
       "  <tbody>\n",
       "    <tr>\n",
       "      <th>101</th>\n",
       "      <td>2020-05-01</td>\n",
       "      <td>1103544</td>\n",
       "      <td>59392</td>\n",
       "    </tr>\n",
       "    <tr>\n",
       "      <th>102</th>\n",
       "      <td>2020-05-02</td>\n",
       "      <td>1133083</td>\n",
       "      <td>61077</td>\n",
       "    </tr>\n",
       "    <tr>\n",
       "      <th>103</th>\n",
       "      <td>2020-05-03</td>\n",
       "      <td>1158654</td>\n",
       "      <td>62140</td>\n",
       "    </tr>\n",
       "    <tr>\n",
       "      <th>104</th>\n",
       "      <td>2020-05-04</td>\n",
       "      <td>1180526</td>\n",
       "      <td>63213</td>\n",
       "    </tr>\n",
       "    <tr>\n",
       "      <th>105</th>\n",
       "      <td>2020-05-05</td>\n",
       "      <td>1203286</td>\n",
       "      <td>65438</td>\n",
       "    </tr>\n",
       "  </tbody>\n",
       "</table>\n",
       "</div>"
      ],
      "text/plain": [
       "           date    cases  deaths\n",
       "101  2020-05-01  1103544   59392\n",
       "102  2020-05-02  1133083   61077\n",
       "103  2020-05-03  1158654   62140\n",
       "104  2020-05-04  1180526   63213\n",
       "105  2020-05-05  1203286   65438"
      ]
     },
     "execution_count": 3,
     "metadata": {},
     "output_type": "execute_result"
    }
   ],
   "source": [
    "nytimes_us_df = pd.read_csv(nytimes_us_url)\n",
    "\n",
    "nytimes_us_df.tail()"
   ]
  },
  {
   "cell_type": "code",
   "execution_count": 4,
   "metadata": {
    "scrolled": true
   },
   "outputs": [
    {
     "name": "stdout",
     "output_type": "stream",
     "text": [
      "<class 'pandas.core.frame.DataFrame'>\n",
      "RangeIndex: 106 entries, 0 to 105\n",
      "Data columns (total 3 columns):\n",
      " #   Column  Non-Null Count  Dtype \n",
      "---  ------  --------------  ----- \n",
      " 0   date    106 non-null    object\n",
      " 1   cases   106 non-null    int64 \n",
      " 2   deaths  106 non-null    int64 \n",
      "dtypes: int64(2), object(1)\n",
      "memory usage: 2.6+ KB\n"
     ]
    }
   ],
   "source": [
    "nytimes_us_df.info()"
   ]
  },
  {
   "cell_type": "code",
   "execution_count": 5,
   "metadata": {},
   "outputs": [],
   "source": [
    "nytimes_us_df['date']=pd.to_datetime(nytimes_us_df['date'])"
   ]
  },
  {
   "cell_type": "code",
   "execution_count": 6,
   "metadata": {
    "scrolled": false
   },
   "outputs": [
    {
     "data": {
      "image/png": "[encoded data removed]",
      "text/plain": [
       "<Figure size 432x288 with 1 Axes>"
      ]
     },
     "metadata": {
      "needs_background": "light"
     },
     "output_type": "display_data"
    }
   ],
   "source": [
    "nytimes_us_df.plot(\n",
    "    x='date',\n",
    "    y='cases',\n",
    "    kind='line',\n",
    "    ylim=(0, 1500000),\n",
    ");\n",
    "\n",
    "plt.title('COVID-19 Confirmed Cases in the US', fontdict={'size': 30})\n",
    "plt.xlabel('Date')\n",
    "#plt.ylabel('Cases in Millions')\n",
    "plt.show();"
   ]
  },
  {
   "cell_type": "markdown",
   "metadata": {},
   "source": [
    "### States"
   ]
  },
  {
   "cell_type": "code",
   "execution_count": 7,
   "metadata": {
    "scrolled": true
   },
   "outputs": [
    {
     "data": {
      "text/html": [
       "<div>\n",
       "<style scoped>\n",
       "    .dataframe tbody tr th:only-of-type {\n",
       "        vertical-align: middle;\n",
       "    }\n",
       "\n",
       "    .dataframe tbody tr th {\n",
       "        vertical-align: top;\n",
       "    }\n",
       "\n",
       "    .dataframe thead th {\n",
       "        text-align: right;\n",
       "    }\n",
       "</style>\n",
       "<table border=\"1\" class=\"dataframe\">\n",
       "  <thead>\n",
       "    <tr style=\"text-align: right;\">\n",
       "      <th></th>\n",
       "      <th>date</th>\n",
       "      <th>state</th>\n",
       "      <th>fips</th>\n",
       "      <th>cases</th>\n",
       "      <th>deaths</th>\n",
       "    </tr>\n",
       "  </thead>\n",
       "  <tbody>\n",
       "    <tr>\n",
       "      <th>0</th>\n",
       "      <td>2020-01-21</td>\n",
       "      <td>Washington</td>\n",
       "      <td>53</td>\n",
       "      <td>1</td>\n",
       "      <td>0</td>\n",
       "    </tr>\n",
       "    <tr>\n",
       "      <th>1</th>\n",
       "      <td>2020-01-22</td>\n",
       "      <td>Washington</td>\n",
       "      <td>53</td>\n",
       "      <td>1</td>\n",
       "      <td>0</td>\n",
       "    </tr>\n",
       "    <tr>\n",
       "      <th>2</th>\n",
       "      <td>2020-01-23</td>\n",
       "      <td>Washington</td>\n",
       "      <td>53</td>\n",
       "      <td>1</td>\n",
       "      <td>0</td>\n",
       "    </tr>\n",
       "    <tr>\n",
       "      <th>3</th>\n",
       "      <td>2020-01-24</td>\n",
       "      <td>Illinois</td>\n",
       "      <td>17</td>\n",
       "      <td>1</td>\n",
       "      <td>0</td>\n",
       "    </tr>\n",
       "    <tr>\n",
       "      <th>4</th>\n",
       "      <td>2020-01-24</td>\n",
       "      <td>Washington</td>\n",
       "      <td>53</td>\n",
       "      <td>1</td>\n",
       "      <td>0</td>\n",
       "    </tr>\n",
       "  </tbody>\n",
       "</table>\n",
       "</div>"
      ],
      "text/plain": [
       "         date       state fips  cases  deaths\n",
       "0  2020-01-21  Washington   53      1       0\n",
       "1  2020-01-22  Washington   53      1       0\n",
       "2  2020-01-23  Washington   53      1       0\n",
       "3  2020-01-24    Illinois   17      1       0\n",
       "4  2020-01-24  Washington   53      1       0"
      ]
     },
     "execution_count": 7,
     "metadata": {},
     "output_type": "execute_result"
    }
   ],
   "source": [
    "nytimes_states_df = pd.read_csv(nytimes_states_url, dtype={'fips':object})\n",
    "\n",
    "nytimes_states_df.head()"
   ]
  },
  {
   "cell_type": "code",
   "execution_count": 8,
   "metadata": {
    "scrolled": true
   },
   "outputs": [
    {
     "name": "stdout",
     "output_type": "stream",
     "text": [
      "<class 'pandas.core.frame.DataFrame'>\n",
      "RangeIndex: 3534 entries, 0 to 3533\n",
      "Data columns (total 5 columns):\n",
      " #   Column  Non-Null Count  Dtype \n",
      "---  ------  --------------  ----- \n",
      " 0   date    3534 non-null   object\n",
      " 1   state   3534 non-null   object\n",
      " 2   fips    3534 non-null   object\n",
      " 3   cases   3534 non-null   int64 \n",
      " 4   deaths  3534 non-null   int64 \n",
      "dtypes: int64(2), object(3)\n",
      "memory usage: 138.2+ KB\n"
     ]
    }
   ],
   "source": [
    "nytimes_states_df.info()"
   ]
  },
  {
   "cell_type": "code",
   "execution_count": 9,
   "metadata": {},
   "outputs": [],
   "source": [
    "nytimes_states_df['date']=pd.to_datetime(nytimes_states_df['date'])"
   ]
  },
  {
   "cell_type": "markdown",
   "metadata": {},
   "source": [
    "### Counties"
   ]
  },
  {
   "cell_type": "code",
   "execution_count": 10,
   "metadata": {},
   "outputs": [
    {
     "data": {
      "text/html": [
       "<div>\n",
       "<style scoped>\n",
       "    .dataframe tbody tr th:only-of-type {\n",
       "        vertical-align: middle;\n",
       "    }\n",
       "\n",
       "    .dataframe tbody tr th {\n",
       "        vertical-align: top;\n",
       "    }\n",
       "\n",
       "    .dataframe thead th {\n",
       "        text-align: right;\n",
       "    }\n",
       "</style>\n",
       "<table border=\"1\" class=\"dataframe\">\n",
       "  <thead>\n",
       "    <tr style=\"text-align: right;\">\n",
       "      <th></th>\n",
       "      <th>date</th>\n",
       "      <th>county</th>\n",
       "      <th>state</th>\n",
       "      <th>fips</th>\n",
       "      <th>cases</th>\n",
       "      <th>deaths</th>\n",
       "    </tr>\n",
       "  </thead>\n",
       "  <tbody>\n",
       "    <tr>\n",
       "      <th>0</th>\n",
       "      <td>2020-01-21</td>\n",
       "      <td>Snohomish</td>\n",
       "      <td>Washington</td>\n",
       "      <td>53061</td>\n",
       "      <td>1</td>\n",
       "      <td>0</td>\n",
       "    </tr>\n",
       "    <tr>\n",
       "      <th>1</th>\n",
       "      <td>2020-01-22</td>\n",
       "      <td>Snohomish</td>\n",
       "      <td>Washington</td>\n",
       "      <td>53061</td>\n",
       "      <td>1</td>\n",
       "      <td>0</td>\n",
       "    </tr>\n",
       "    <tr>\n",
       "      <th>2</th>\n",
       "      <td>2020-01-23</td>\n",
       "      <td>Snohomish</td>\n",
       "      <td>Washington</td>\n",
       "      <td>53061</td>\n",
       "      <td>1</td>\n",
       "      <td>0</td>\n",
       "    </tr>\n",
       "    <tr>\n",
       "      <th>3</th>\n",
       "      <td>2020-01-24</td>\n",
       "      <td>Cook</td>\n",
       "      <td>Illinois</td>\n",
       "      <td>17031</td>\n",
       "      <td>1</td>\n",
       "      <td>0</td>\n",
       "    </tr>\n",
       "    <tr>\n",
       "      <th>4</th>\n",
       "      <td>2020-01-24</td>\n",
       "      <td>Snohomish</td>\n",
       "      <td>Washington</td>\n",
       "      <td>53061</td>\n",
       "      <td>1</td>\n",
       "      <td>0</td>\n",
       "    </tr>\n",
       "  </tbody>\n",
       "</table>\n",
       "</div>"
      ],
      "text/plain": [
       "         date     county       state   fips  cases  deaths\n",
       "0  2020-01-21  Snohomish  Washington  53061      1       0\n",
       "1  2020-01-22  Snohomish  Washington  53061      1       0\n",
       "2  2020-01-23  Snohomish  Washington  53061      1       0\n",
       "3  2020-01-24       Cook    Illinois  17031      1       0\n",
       "4  2020-01-24  Snohomish  Washington  53061      1       0"
      ]
     },
     "execution_count": 10,
     "metadata": {},
     "output_type": "execute_result"
    }
   ],
   "source": [
    "nytimes_counties_df = pd.read_csv(nytimes_counties_url, dtype={'fips':object})\n",
    "\n",
    "nytimes_counties_df.head()"
   ]
  },
  {
   "cell_type": "code",
   "execution_count": 11,
   "metadata": {
    "scrolled": false
   },
   "outputs": [
    {
     "name": "stdout",
     "output_type": "stream",
     "text": [
      "<class 'pandas.core.frame.DataFrame'>\n",
      "RangeIndex: 118343 entries, 0 to 118342\n",
      "Data columns (total 6 columns):\n",
      " #   Column  Non-Null Count   Dtype \n",
      "---  ------  --------------   ----- \n",
      " 0   date    118343 non-null  object\n",
      " 1   county  118343 non-null  object\n",
      " 2   state   118343 non-null  object\n",
      " 3   fips    116971 non-null  object\n",
      " 4   cases   118343 non-null  int64 \n",
      " 5   deaths  118343 non-null  int64 \n",
      "dtypes: int64(2), object(4)\n",
      "memory usage: 5.4+ MB\n"
     ]
    }
   ],
   "source": [
    "nytimes_counties_df.info()"
   ]
  },
  {
   "cell_type": "code",
   "execution_count": 12,
   "metadata": {},
   "outputs": [],
   "source": [
    "nytimes_counties_df['date']=pd.to_datetime(nytimes_counties_df['date'])"
   ]
  },
  {
   "cell_type": "markdown",
   "metadata": {},
   "source": [
    "## Import data from COVID-19 Tracking Project\n",
    "\n",
    "The [COVID Tracking Project](https://covidtracking.com/) publishes the latest update on COVID-19 testing in the US and territories. They use various data visualization tools for easier understanding of the data.  [Download](https://covidtracking.com/api) their data at a national and state level.\n",
    "\n",
    "[![ne_download_page](https://raw.githubusercontent.com/katkim0307/COVID-19_Response_Comparison/master/Data/image/cov_track_proj_page.PNG)](https://covidtracking.com/)"
   ]
  },
  {
   "cell_type": "markdown",
   "metadata": {},
   "source": [
    "### Read in US Historical Data and States Historical Data"
   ]
  },
  {
   "cell_type": "code",
   "execution_count": 13,
   "metadata": {},
   "outputs": [],
   "source": [
    "covtrack_us_hist_url = 'https://covidtracking.com/api/v1/us/daily.json'\n",
    "covtrack_us_now_url = 'https://covidtracking.com/api/v1/us/current.json'\n",
    "\n",
    "covtrack_states_hist_url = 'https://covidtracking.com/api/v1/states/daily.json'\n",
    "covtrack_states_now_url = 'https://covidtracking.com/api/v1/states/current.json'"
   ]
  },
  {
   "cell_type": "markdown",
   "metadata": {},
   "source": [
    "### US"
   ]
  },
  {
   "cell_type": "code",
   "execution_count": 14,
   "metadata": {
    "scrolled": true
   },
   "outputs": [
    {
     "data": {
      "text/html": [
       "<div>\n",
       "<style scoped>\n",
       "    .dataframe tbody tr th:only-of-type {\n",
       "        vertical-align: middle;\n",
       "    }\n",
       "\n",
       "    .dataframe tbody tr th {\n",
       "        vertical-align: top;\n",
       "    }\n",
       "\n",
       "    .dataframe thead th {\n",
       "        text-align: right;\n",
       "    }\n",
       "</style>\n",
       "<table border=\"1\" class=\"dataframe\">\n",
       "  <thead>\n",
       "    <tr style=\"text-align: right;\">\n",
       "      <th></th>\n",
       "      <th>positive</th>\n",
       "      <th>negative</th>\n",
       "      <th>pending</th>\n",
       "      <th>hospitalizedCurrently</th>\n",
       "      <th>hospitalizedCumulative</th>\n",
       "      <th>inIcuCurrently</th>\n",
       "      <th>inIcuCumulative</th>\n",
       "      <th>onVentilatorCurrently</th>\n",
       "      <th>onVentilatorCumulative</th>\n",
       "      <th>recovered</th>\n",
       "      <th>hash</th>\n",
       "      <th>lastModified</th>\n",
       "      <th>death</th>\n",
       "      <th>hospitalized</th>\n",
       "      <th>total</th>\n",
       "      <th>totalTestResults</th>\n",
       "      <th>posNeg</th>\n",
       "      <th>notes</th>\n",
       "    </tr>\n",
       "  </thead>\n",
       "  <tbody>\n",
       "    <tr>\n",
       "      <th>0</th>\n",
       "      <td>1217771</td>\n",
       "      <td>6542000</td>\n",
       "      <td>2742</td>\n",
       "      <td>50227</td>\n",
       "      <td>131477</td>\n",
       "      <td>9380</td>\n",
       "      <td>4911</td>\n",
       "      <td>4753</td>\n",
       "      <td>449</td>\n",
       "      <td>189910</td>\n",
       "      <td>03068cc8955af0cb2b0f1598364d4f68a1e91e39</td>\n",
       "      <td>2020-05-06T21:19:04.186Z</td>\n",
       "      <td>67256</td>\n",
       "      <td>131477</td>\n",
       "      <td>7762513</td>\n",
       "      <td>7759771</td>\n",
       "      <td>7759771</td>\n",
       "      <td>NOTE: \"total\", \"posNeg\", \"hospitalized\" will b...</td>\n",
       "    </tr>\n",
       "  </tbody>\n",
       "</table>\n",
       "</div>"
      ],
      "text/plain": [
       "   positive  negative  pending  hospitalizedCurrently  hospitalizedCumulative  \\\n",
       "0   1217771   6542000     2742                  50227                  131477   \n",
       "\n",
       "   inIcuCurrently  inIcuCumulative  onVentilatorCurrently  \\\n",
       "0            9380             4911                   4753   \n",
       "\n",
       "   onVentilatorCumulative  recovered  \\\n",
       "0                     449     189910   \n",
       "\n",
       "                                       hash              lastModified  death  \\\n",
       "0  03068cc8955af0cb2b0f1598364d4f68a1e91e39  2020-05-06T21:19:04.186Z  67256   \n",
       "\n",
       "   hospitalized    total  totalTestResults   posNeg  \\\n",
       "0        131477  7762513           7759771  7759771   \n",
       "\n",
       "                                               notes  \n",
       "0  NOTE: \"total\", \"posNeg\", \"hospitalized\" will b...  "
      ]
     },
     "execution_count": 14,
     "metadata": {},
     "output_type": "execute_result"
    }
   ],
   "source": [
    "covtrack_us_now_df = pd.read_json(covtrack_us_now_url)\n",
    "\n",
    "covtrack_us_now_df"
   ]
  },
  {
   "cell_type": "code",
   "execution_count": 15,
   "metadata": {
    "scrolled": false
   },
   "outputs": [
    {
     "data": {
      "text/html": [
       "<div>\n",
       "<style scoped>\n",
       "    .dataframe tbody tr th:only-of-type {\n",
       "        vertical-align: middle;\n",
       "    }\n",
       "\n",
       "    .dataframe tbody tr th {\n",
       "        vertical-align: top;\n",
       "    }\n",
       "\n",
       "    .dataframe thead th {\n",
       "        text-align: right;\n",
       "    }\n",
       "</style>\n",
       "<table border=\"1\" class=\"dataframe\">\n",
       "  <thead>\n",
       "    <tr style=\"text-align: right;\">\n",
       "      <th></th>\n",
       "      <th>date</th>\n",
       "      <th>states</th>\n",
       "      <th>positive</th>\n",
       "      <th>negative</th>\n",
       "      <th>pending</th>\n",
       "      <th>hospitalizedCurrently</th>\n",
       "      <th>hospitalizedCumulative</th>\n",
       "      <th>inIcuCurrently</th>\n",
       "      <th>inIcuCumulative</th>\n",
       "      <th>onVentilatorCurrently</th>\n",
       "      <th>...</th>\n",
       "      <th>death</th>\n",
       "      <th>hospitalized</th>\n",
       "      <th>total</th>\n",
       "      <th>totalTestResults</th>\n",
       "      <th>posNeg</th>\n",
       "      <th>deathIncrease</th>\n",
       "      <th>hospitalizedIncrease</th>\n",
       "      <th>negativeIncrease</th>\n",
       "      <th>positiveIncrease</th>\n",
       "      <th>totalTestResultsIncrease</th>\n",
       "    </tr>\n",
       "  </thead>\n",
       "  <tbody>\n",
       "    <tr>\n",
       "      <th>101</th>\n",
       "      <td>20200126</td>\n",
       "      <td>1</td>\n",
       "      <td>1</td>\n",
       "      <td>NaN</td>\n",
       "      <td>NaN</td>\n",
       "      <td>NaN</td>\n",
       "      <td>NaN</td>\n",
       "      <td>NaN</td>\n",
       "      <td>NaN</td>\n",
       "      <td>NaN</td>\n",
       "      <td>...</td>\n",
       "      <td>NaN</td>\n",
       "      <td>NaN</td>\n",
       "      <td>1</td>\n",
       "      <td>1</td>\n",
       "      <td>1</td>\n",
       "      <td>0.0</td>\n",
       "      <td>0.0</td>\n",
       "      <td>0.0</td>\n",
       "      <td>0.0</td>\n",
       "      <td>0.0</td>\n",
       "    </tr>\n",
       "    <tr>\n",
       "      <th>102</th>\n",
       "      <td>20200125</td>\n",
       "      <td>1</td>\n",
       "      <td>1</td>\n",
       "      <td>NaN</td>\n",
       "      <td>NaN</td>\n",
       "      <td>NaN</td>\n",
       "      <td>NaN</td>\n",
       "      <td>NaN</td>\n",
       "      <td>NaN</td>\n",
       "      <td>NaN</td>\n",
       "      <td>...</td>\n",
       "      <td>NaN</td>\n",
       "      <td>NaN</td>\n",
       "      <td>1</td>\n",
       "      <td>1</td>\n",
       "      <td>1</td>\n",
       "      <td>0.0</td>\n",
       "      <td>0.0</td>\n",
       "      <td>0.0</td>\n",
       "      <td>0.0</td>\n",
       "      <td>0.0</td>\n",
       "    </tr>\n",
       "    <tr>\n",
       "      <th>103</th>\n",
       "      <td>20200124</td>\n",
       "      <td>1</td>\n",
       "      <td>1</td>\n",
       "      <td>NaN</td>\n",
       "      <td>NaN</td>\n",
       "      <td>NaN</td>\n",
       "      <td>NaN</td>\n",
       "      <td>NaN</td>\n",
       "      <td>NaN</td>\n",
       "      <td>NaN</td>\n",
       "      <td>...</td>\n",
       "      <td>NaN</td>\n",
       "      <td>NaN</td>\n",
       "      <td>1</td>\n",
       "      <td>1</td>\n",
       "      <td>1</td>\n",
       "      <td>0.0</td>\n",
       "      <td>0.0</td>\n",
       "      <td>0.0</td>\n",
       "      <td>0.0</td>\n",
       "      <td>0.0</td>\n",
       "    </tr>\n",
       "    <tr>\n",
       "      <th>104</th>\n",
       "      <td>20200123</td>\n",
       "      <td>1</td>\n",
       "      <td>1</td>\n",
       "      <td>NaN</td>\n",
       "      <td>NaN</td>\n",
       "      <td>NaN</td>\n",
       "      <td>NaN</td>\n",
       "      <td>NaN</td>\n",
       "      <td>NaN</td>\n",
       "      <td>NaN</td>\n",
       "      <td>...</td>\n",
       "      <td>NaN</td>\n",
       "      <td>NaN</td>\n",
       "      <td>1</td>\n",
       "      <td>1</td>\n",
       "      <td>1</td>\n",
       "      <td>0.0</td>\n",
       "      <td>0.0</td>\n",
       "      <td>0.0</td>\n",
       "      <td>0.0</td>\n",
       "      <td>0.0</td>\n",
       "    </tr>\n",
       "    <tr>\n",
       "      <th>105</th>\n",
       "      <td>20200122</td>\n",
       "      <td>1</td>\n",
       "      <td>1</td>\n",
       "      <td>NaN</td>\n",
       "      <td>NaN</td>\n",
       "      <td>NaN</td>\n",
       "      <td>NaN</td>\n",
       "      <td>NaN</td>\n",
       "      <td>NaN</td>\n",
       "      <td>NaN</td>\n",
       "      <td>...</td>\n",
       "      <td>NaN</td>\n",
       "      <td>NaN</td>\n",
       "      <td>1</td>\n",
       "      <td>1</td>\n",
       "      <td>1</td>\n",
       "      <td>NaN</td>\n",
       "      <td>NaN</td>\n",
       "      <td>NaN</td>\n",
       "      <td>NaN</td>\n",
       "      <td>NaN</td>\n",
       "    </tr>\n",
       "  </tbody>\n",
       "</table>\n",
       "<p>5 rows × 24 columns</p>\n",
       "</div>"
      ],
      "text/plain": [
       "         date  states  positive  negative  pending  hospitalizedCurrently  \\\n",
       "101  20200126       1         1       NaN      NaN                    NaN   \n",
       "102  20200125       1         1       NaN      NaN                    NaN   \n",
       "103  20200124       1         1       NaN      NaN                    NaN   \n",
       "104  20200123       1         1       NaN      NaN                    NaN   \n",
       "105  20200122       1         1       NaN      NaN                    NaN   \n",
       "\n",
       "     hospitalizedCumulative  inIcuCurrently  inIcuCumulative  \\\n",
       "101                     NaN             NaN              NaN   \n",
       "102                     NaN             NaN              NaN   \n",
       "103                     NaN             NaN              NaN   \n",
       "104                     NaN             NaN              NaN   \n",
       "105                     NaN             NaN              NaN   \n",
       "\n",
       "     onVentilatorCurrently  ...  death  hospitalized total totalTestResults  \\\n",
       "101                    NaN  ...    NaN           NaN     1                1   \n",
       "102                    NaN  ...    NaN           NaN     1                1   \n",
       "103                    NaN  ...    NaN           NaN     1                1   \n",
       "104                    NaN  ...    NaN           NaN     1                1   \n",
       "105                    NaN  ...    NaN           NaN     1                1   \n",
       "\n",
       "     posNeg  deathIncrease  hospitalizedIncrease  negativeIncrease  \\\n",
       "101       1            0.0                   0.0               0.0   \n",
       "102       1            0.0                   0.0               0.0   \n",
       "103       1            0.0                   0.0               0.0   \n",
       "104       1            0.0                   0.0               0.0   \n",
       "105       1            NaN                   NaN               NaN   \n",
       "\n",
       "     positiveIncrease  totalTestResultsIncrease  \n",
       "101               0.0                       0.0  \n",
       "102               0.0                       0.0  \n",
       "103               0.0                       0.0  \n",
       "104               0.0                       0.0  \n",
       "105               NaN                       NaN  \n",
       "\n",
       "[5 rows x 24 columns]"
      ]
     },
     "execution_count": 15,
     "metadata": {},
     "output_type": "execute_result"
    }
   ],
   "source": [
    "covtrack_us_hist_df = pd.read_json(covtrack_us_hist_url, dtype={'fips':object})\n",
    "\n",
    "covtrack_us_hist_df.tail()"
   ]
  },
  {
   "cell_type": "code",
   "execution_count": 16,
   "metadata": {
    "scrolled": true
   },
   "outputs": [
    {
     "name": "stdout",
     "output_type": "stream",
     "text": [
      "<class 'pandas.core.frame.DataFrame'>\n",
      "RangeIndex: 106 entries, 0 to 105\n",
      "Data columns (total 24 columns):\n",
      " #   Column                    Non-Null Count  Dtype  \n",
      "---  ------                    --------------  -----  \n",
      " 0   date                      106 non-null    int64  \n",
      " 1   states                    106 non-null    int64  \n",
      " 2   positive                  106 non-null    int64  \n",
      " 3   negative                  68 non-null     float64\n",
      " 4   pending                   64 non-null     float64\n",
      " 5   hospitalizedCurrently     51 non-null     float64\n",
      " 6   hospitalizedCumulative    47 non-null     float64\n",
      " 7   inIcuCurrently            42 non-null     float64\n",
      " 8   inIcuCumulative           43 non-null     float64\n",
      " 9   onVentilatorCurrently     43 non-null     float64\n",
      " 10  onVentilatorCumulative    36 non-null     float64\n",
      " 11  recovered                 43 non-null     float64\n",
      " 12  hash                      106 non-null    object \n",
      " 13  dateChecked               106 non-null    object \n",
      " 14  death                     71 non-null     float64\n",
      " 15  hospitalized              47 non-null     float64\n",
      " 16  total                     106 non-null    int64  \n",
      " 17  totalTestResults          106 non-null    int64  \n",
      " 18  posNeg                    106 non-null    int64  \n",
      " 19  deathIncrease             105 non-null    float64\n",
      " 20  hospitalizedIncrease      105 non-null    float64\n",
      " 21  negativeIncrease          105 non-null    float64\n",
      " 22  positiveIncrease          105 non-null    float64\n",
      " 23  totalTestResultsIncrease  105 non-null    float64\n",
      "dtypes: float64(16), int64(6), object(2)\n",
      "memory usage: 20.0+ KB\n"
     ]
    }
   ],
   "source": [
    "covtrack_us_hist_df.info()"
   ]
  },
  {
   "cell_type": "code",
   "execution_count": 17,
   "metadata": {
    "scrolled": true
   },
   "outputs": [
    {
     "data": {
      "text/html": [
       "<div>\n",
       "<style scoped>\n",
       "    .dataframe tbody tr th:only-of-type {\n",
       "        vertical-align: middle;\n",
       "    }\n",
       "\n",
       "    .dataframe tbody tr th {\n",
       "        vertical-align: top;\n",
       "    }\n",
       "\n",
       "    .dataframe thead th {\n",
       "        text-align: right;\n",
       "    }\n",
       "</style>\n",
       "<table border=\"1\" class=\"dataframe\">\n",
       "  <thead>\n",
       "    <tr style=\"text-align: right;\">\n",
       "      <th></th>\n",
       "      <th>date</th>\n",
       "      <th>states</th>\n",
       "      <th>positive</th>\n",
       "      <th>negative</th>\n",
       "      <th>pending</th>\n",
       "      <th>hospitalizedCurrently</th>\n",
       "      <th>hospitalizedCumulative</th>\n",
       "      <th>inIcuCurrently</th>\n",
       "      <th>inIcuCumulative</th>\n",
       "      <th>onVentilatorCurrently</th>\n",
       "      <th>...</th>\n",
       "      <th>hospitalized</th>\n",
       "      <th>total</th>\n",
       "      <th>totalTestResults</th>\n",
       "      <th>posNeg</th>\n",
       "      <th>deathIncrease</th>\n",
       "      <th>hospitalizedIncrease</th>\n",
       "      <th>negativeIncrease</th>\n",
       "      <th>positiveIncrease</th>\n",
       "      <th>totalTestResultsIncrease</th>\n",
       "      <th>datetime</th>\n",
       "    </tr>\n",
       "  </thead>\n",
       "  <tbody>\n",
       "    <tr>\n",
       "      <th>101</th>\n",
       "      <td>20200126</td>\n",
       "      <td>1</td>\n",
       "      <td>1</td>\n",
       "      <td>NaN</td>\n",
       "      <td>NaN</td>\n",
       "      <td>NaN</td>\n",
       "      <td>NaN</td>\n",
       "      <td>NaN</td>\n",
       "      <td>NaN</td>\n",
       "      <td>NaN</td>\n",
       "      <td>...</td>\n",
       "      <td>NaN</td>\n",
       "      <td>1</td>\n",
       "      <td>1</td>\n",
       "      <td>1</td>\n",
       "      <td>0.0</td>\n",
       "      <td>0.0</td>\n",
       "      <td>0.0</td>\n",
       "      <td>0.0</td>\n",
       "      <td>0.0</td>\n",
       "      <td>2020-01-26</td>\n",
       "    </tr>\n",
       "    <tr>\n",
       "      <th>102</th>\n",
       "      <td>20200125</td>\n",
       "      <td>1</td>\n",
       "      <td>1</td>\n",
       "      <td>NaN</td>\n",
       "      <td>NaN</td>\n",
       "      <td>NaN</td>\n",
       "      <td>NaN</td>\n",
       "      <td>NaN</td>\n",
       "      <td>NaN</td>\n",
       "      <td>NaN</td>\n",
       "      <td>...</td>\n",
       "      <td>NaN</td>\n",
       "      <td>1</td>\n",
       "      <td>1</td>\n",
       "      <td>1</td>\n",
       "      <td>0.0</td>\n",
       "      <td>0.0</td>\n",
       "      <td>0.0</td>\n",
       "      <td>0.0</td>\n",
       "      <td>0.0</td>\n",
       "      <td>2020-01-25</td>\n",
       "    </tr>\n",
       "    <tr>\n",
       "      <th>103</th>\n",
       "      <td>20200124</td>\n",
       "      <td>1</td>\n",
       "      <td>1</td>\n",
       "      <td>NaN</td>\n",
       "      <td>NaN</td>\n",
       "      <td>NaN</td>\n",
       "      <td>NaN</td>\n",
       "      <td>NaN</td>\n",
       "      <td>NaN</td>\n",
       "      <td>NaN</td>\n",
       "      <td>...</td>\n",
       "      <td>NaN</td>\n",
       "      <td>1</td>\n",
       "      <td>1</td>\n",
       "      <td>1</td>\n",
       "      <td>0.0</td>\n",
       "      <td>0.0</td>\n",
       "      <td>0.0</td>\n",
       "      <td>0.0</td>\n",
       "      <td>0.0</td>\n",
       "      <td>2020-01-24</td>\n",
       "    </tr>\n",
       "    <tr>\n",
       "      <th>104</th>\n",
       "      <td>20200123</td>\n",
       "      <td>1</td>\n",
       "      <td>1</td>\n",
       "      <td>NaN</td>\n",
       "      <td>NaN</td>\n",
       "      <td>NaN</td>\n",
       "      <td>NaN</td>\n",
       "      <td>NaN</td>\n",
       "      <td>NaN</td>\n",
       "      <td>NaN</td>\n",
       "      <td>...</td>\n",
       "      <td>NaN</td>\n",
       "      <td>1</td>\n",
       "      <td>1</td>\n",
       "      <td>1</td>\n",
       "      <td>0.0</td>\n",
       "      <td>0.0</td>\n",
       "      <td>0.0</td>\n",
       "      <td>0.0</td>\n",
       "      <td>0.0</td>\n",
       "      <td>2020-01-23</td>\n",
       "    </tr>\n",
       "    <tr>\n",
       "      <th>105</th>\n",
       "      <td>20200122</td>\n",
       "      <td>1</td>\n",
       "      <td>1</td>\n",
       "      <td>NaN</td>\n",
       "      <td>NaN</td>\n",
       "      <td>NaN</td>\n",
       "      <td>NaN</td>\n",
       "      <td>NaN</td>\n",
       "      <td>NaN</td>\n",
       "      <td>NaN</td>\n",
       "      <td>...</td>\n",
       "      <td>NaN</td>\n",
       "      <td>1</td>\n",
       "      <td>1</td>\n",
       "      <td>1</td>\n",
       "      <td>NaN</td>\n",
       "      <td>NaN</td>\n",
       "      <td>NaN</td>\n",
       "      <td>NaN</td>\n",
       "      <td>NaN</td>\n",
       "      <td>2020-01-22</td>\n",
       "    </tr>\n",
       "  </tbody>\n",
       "</table>\n",
       "<p>5 rows × 25 columns</p>\n",
       "</div>"
      ],
      "text/plain": [
       "         date  states  positive  negative  pending  hospitalizedCurrently  \\\n",
       "101  20200126       1         1       NaN      NaN                    NaN   \n",
       "102  20200125       1         1       NaN      NaN                    NaN   \n",
       "103  20200124       1         1       NaN      NaN                    NaN   \n",
       "104  20200123       1         1       NaN      NaN                    NaN   \n",
       "105  20200122       1         1       NaN      NaN                    NaN   \n",
       "\n",
       "     hospitalizedCumulative  inIcuCurrently  inIcuCumulative  \\\n",
       "101                     NaN             NaN              NaN   \n",
       "102                     NaN             NaN              NaN   \n",
       "103                     NaN             NaN              NaN   \n",
       "104                     NaN             NaN              NaN   \n",
       "105                     NaN             NaN              NaN   \n",
       "\n",
       "     onVentilatorCurrently  ...  hospitalized  total totalTestResults posNeg  \\\n",
       "101                    NaN  ...           NaN      1                1      1   \n",
       "102                    NaN  ...           NaN      1                1      1   \n",
       "103                    NaN  ...           NaN      1                1      1   \n",
       "104                    NaN  ...           NaN      1                1      1   \n",
       "105                    NaN  ...           NaN      1                1      1   \n",
       "\n",
       "     deathIncrease  hospitalizedIncrease  negativeIncrease  positiveIncrease  \\\n",
       "101            0.0                   0.0               0.0               0.0   \n",
       "102            0.0                   0.0               0.0               0.0   \n",
       "103            0.0                   0.0               0.0               0.0   \n",
       "104            0.0                   0.0               0.0               0.0   \n",
       "105            NaN                   NaN               NaN               NaN   \n",
       "\n",
       "     totalTestResultsIncrease   datetime  \n",
       "101                       0.0 2020-01-26  \n",
       "102                       0.0 2020-01-25  \n",
       "103                       0.0 2020-01-24  \n",
       "104                       0.0 2020-01-23  \n",
       "105                       NaN 2020-01-22  \n",
       "\n",
       "[5 rows x 25 columns]"
      ]
     },
     "execution_count": 17,
     "metadata": {},
     "output_type": "execute_result"
    }
   ],
   "source": [
    "covtrack_us_hist_df['datetime']=pd.to_datetime(covtrack_us_hist_df['date'].astype(str), format='%Y-%m-%d')\n",
    "\n",
    "covtrack_us_hist_df['datetime']=pd.to_datetime(covtrack_us_hist_df['datetime'])\n",
    "\n",
    "covtrack_us_hist_df.tail()"
   ]
  },
  {
   "cell_type": "code",
   "execution_count": 18,
   "metadata": {
    "scrolled": false
   },
   "outputs": [
    {
     "data": {
      "image/png": "[encoded data removed]",
      "text/plain": [
       "<Figure size 432x288 with 1 Axes>"
      ]
     },
     "metadata": {
      "needs_background": "light"
     },
     "output_type": "display_data"
    }
   ],
   "source": [
    "covtrack_us_hist_df.plot(\n",
    "    x='datetime',\n",
    "    y='totalTestResults',\n",
    "    title='Total Testing done in the US',\n",
    ");"
   ]
  },
  {
   "cell_type": "code",
   "execution_count": 19,
   "metadata": {
    "scrolled": true
   },
   "outputs": [],
   "source": [
    "covtrack_us_hist_plot = covtrack_us_hist_df[['datetime', 'positive', 'death', 'total']]\n",
    "covtrack_us_hist_plot.set_index('datetime', inplace=True)"
   ]
  },
  {
   "cell_type": "code",
   "execution_count": 20,
   "metadata": {},
   "outputs": [
    {
     "data": {
      "image/png": "[encoded data removed]",
      "text/plain": [
       "<Figure size 432x288 with 1 Axes>"
      ]
     },
     "metadata": {
      "needs_background": "light"
     },
     "output_type": "display_data"
    }
   ],
   "source": [
    "# plot data\n",
    "fig, ax = plt.subplots()\n",
    "covtrack_us_hist_plot.plot(\n",
    "    ax=ax,\n",
    "    xlim=(['2020-1-21', '2020-3-31']),\n",
    "    ylim=(0, 200000)\n",
    ")\n",
    "\n",
    "# set ticks every month\n",
    "# ax.xaxis.set_major_locator(mdates.MonthLocator())\n",
    "\n",
    "# set the time limit\n",
    "#ax.set_xlim(['2020-1-21', '2020-3-31'])\n",
    "#ax.set_ylim(0, 200000)\n",
    "\n",
    "ax.set_title('US COVID-19 Total Cases/Deaths/Tests', fontdict={'size':20})\n",
    "\n",
    "# set major ticks format\n",
    "ax.xaxis.set_major_formatter(mdates.DateFormatter('%b %d'))"
   ]
  },
  {
   "cell_type": "markdown",
   "metadata": {},
   "source": [
    "### States"
   ]
  },
  {
   "cell_type": "code",
   "execution_count": 21,
   "metadata": {
    "scrolled": false
   },
   "outputs": [
    {
     "data": {
      "text/html": [
       "<div>\n",
       "<style scoped>\n",
       "    .dataframe tbody tr th:only-of-type {\n",
       "        vertical-align: middle;\n",
       "    }\n",
       "\n",
       "    .dataframe tbody tr th {\n",
       "        vertical-align: top;\n",
       "    }\n",
       "\n",
       "    .dataframe thead th {\n",
       "        text-align: right;\n",
       "    }\n",
       "</style>\n",
       "<table border=\"1\" class=\"dataframe\">\n",
       "  <thead>\n",
       "    <tr style=\"text-align: right;\">\n",
       "      <th></th>\n",
       "      <th>state</th>\n",
       "      <th>positive</th>\n",
       "      <th>positiveScore</th>\n",
       "      <th>negativeScore</th>\n",
       "      <th>negativeRegularScore</th>\n",
       "      <th>commercialScore</th>\n",
       "      <th>grade</th>\n",
       "      <th>score</th>\n",
       "      <th>notes</th>\n",
       "      <th>dataQualityGrade</th>\n",
       "      <th>...</th>\n",
       "      <th>checkTimeEt</th>\n",
       "      <th>death</th>\n",
       "      <th>hospitalized</th>\n",
       "      <th>total</th>\n",
       "      <th>totalTestResults</th>\n",
       "      <th>posNeg</th>\n",
       "      <th>fips</th>\n",
       "      <th>dateModified</th>\n",
       "      <th>dateChecked</th>\n",
       "      <th>hash</th>\n",
       "    </tr>\n",
       "  </thead>\n",
       "  <tbody>\n",
       "    <tr>\n",
       "      <th>0</th>\n",
       "      <td>AK</td>\n",
       "      <td>372</td>\n",
       "      <td>1.0</td>\n",
       "      <td>1.0</td>\n",
       "      <td>1.0</td>\n",
       "      <td>1.0</td>\n",
       "      <td>A</td>\n",
       "      <td>4.0</td>\n",
       "      <td>Please stop using the \"total\" field. Use \"tota...</td>\n",
       "      <td>C</td>\n",
       "      <td>...</td>\n",
       "      <td>5/06 16:05</td>\n",
       "      <td>10</td>\n",
       "      <td>NaN</td>\n",
       "      <td>23655</td>\n",
       "      <td>23655</td>\n",
       "      <td>23655</td>\n",
       "      <td>2</td>\n",
       "      <td>2020-05-06T04:00:00Z</td>\n",
       "      <td>2020-05-06T20:05:00Z</td>\n",
       "      <td>79981deff2d6be244bbaa441f17ba1534db76c51</td>\n",
       "    </tr>\n",
       "    <tr>\n",
       "      <th>1</th>\n",
       "      <td>AL</td>\n",
       "      <td>8581</td>\n",
       "      <td>1.0</td>\n",
       "      <td>1.0</td>\n",
       "      <td>0.0</td>\n",
       "      <td>1.0</td>\n",
       "      <td>B</td>\n",
       "      <td>3.0</td>\n",
       "      <td>Please stop using the \"total\" field. Use \"tota...</td>\n",
       "      <td>B</td>\n",
       "      <td>...</td>\n",
       "      <td>5/06 16:34</td>\n",
       "      <td>340</td>\n",
       "      <td>1158.0</td>\n",
       "      <td>109516</td>\n",
       "      <td>109516</td>\n",
       "      <td>109516</td>\n",
       "      <td>1</td>\n",
       "      <td>2020-05-06T04:00:00Z</td>\n",
       "      <td>2020-05-06T20:34:00Z</td>\n",
       "      <td>9d742409bd98ab699ff52adacf147c07f52c1efc</td>\n",
       "    </tr>\n",
       "    <tr>\n",
       "      <th>2</th>\n",
       "      <td>AR</td>\n",
       "      <td>3568</td>\n",
       "      <td>1.0</td>\n",
       "      <td>1.0</td>\n",
       "      <td>1.0</td>\n",
       "      <td>1.0</td>\n",
       "      <td>A</td>\n",
       "      <td>4.0</td>\n",
       "      <td>Please stop using the \"total\" field. Use \"tota...</td>\n",
       "      <td>B</td>\n",
       "      <td>...</td>\n",
       "      <td>5/06 16:44</td>\n",
       "      <td>85</td>\n",
       "      <td>453.0</td>\n",
       "      <td>59003</td>\n",
       "      <td>59003</td>\n",
       "      <td>59003</td>\n",
       "      <td>5</td>\n",
       "      <td>2020-05-06T18:42:00Z</td>\n",
       "      <td>2020-05-06T20:44:00Z</td>\n",
       "      <td>b52c21d4ed2c2011d027b74d516da8f18f49b21c</td>\n",
       "    </tr>\n",
       "    <tr>\n",
       "      <th>3</th>\n",
       "      <td>AZ</td>\n",
       "      <td>9707</td>\n",
       "      <td>1.0</td>\n",
       "      <td>1.0</td>\n",
       "      <td>0.0</td>\n",
       "      <td>1.0</td>\n",
       "      <td>B</td>\n",
       "      <td>3.0</td>\n",
       "      <td>Please stop using the \"total\" field. Use \"tota...</td>\n",
       "      <td>A+</td>\n",
       "      <td>...</td>\n",
       "      <td>5/06 14:38</td>\n",
       "      <td>426</td>\n",
       "      <td>1430.0</td>\n",
       "      <td>91737</td>\n",
       "      <td>91737</td>\n",
       "      <td>91737</td>\n",
       "      <td>4</td>\n",
       "      <td>2020-05-06T04:00:00Z</td>\n",
       "      <td>2020-05-06T18:38:00Z</td>\n",
       "      <td>9ddd94c9da69d7f345cbeeafec42d14ff5c2bf1d</td>\n",
       "    </tr>\n",
       "    <tr>\n",
       "      <th>4</th>\n",
       "      <td>CA</td>\n",
       "      <td>58815</td>\n",
       "      <td>1.0</td>\n",
       "      <td>1.0</td>\n",
       "      <td>0.0</td>\n",
       "      <td>1.0</td>\n",
       "      <td>B</td>\n",
       "      <td>3.0</td>\n",
       "      <td>Please stop using the \"total\" field. Use \"tota...</td>\n",
       "      <td>B</td>\n",
       "      <td>...</td>\n",
       "      <td>5/06 16:36</td>\n",
       "      <td>2412</td>\n",
       "      <td>NaN</td>\n",
       "      <td>809036</td>\n",
       "      <td>809036</td>\n",
       "      <td>809036</td>\n",
       "      <td>6</td>\n",
       "      <td>2020-05-05T18:00:00Z</td>\n",
       "      <td>2020-05-06T20:36:00Z</td>\n",
       "      <td>aa68e51b51c6e1f486dc631b03ec0e864fb1483e</td>\n",
       "    </tr>\n",
       "  </tbody>\n",
       "</table>\n",
       "<p>5 rows × 30 columns</p>\n",
       "</div>"
      ],
      "text/plain": [
       "  state  positive  positiveScore  negativeScore  negativeRegularScore  \\\n",
       "0    AK       372            1.0            1.0                   1.0   \n",
       "1    AL      8581            1.0            1.0                   0.0   \n",
       "2    AR      3568            1.0            1.0                   1.0   \n",
       "3    AZ      9707            1.0            1.0                   0.0   \n",
       "4    CA     58815            1.0            1.0                   0.0   \n",
       "\n",
       "   commercialScore grade  score  \\\n",
       "0              1.0     A    4.0   \n",
       "1              1.0     B    3.0   \n",
       "2              1.0     A    4.0   \n",
       "3              1.0     B    3.0   \n",
       "4              1.0     B    3.0   \n",
       "\n",
       "                                               notes dataQualityGrade  ...  \\\n",
       "0  Please stop using the \"total\" field. Use \"tota...                C  ...   \n",
       "1  Please stop using the \"total\" field. Use \"tota...                B  ...   \n",
       "2  Please stop using the \"total\" field. Use \"tota...                B  ...   \n",
       "3  Please stop using the \"total\" field. Use \"tota...               A+  ...   \n",
       "4  Please stop using the \"total\" field. Use \"tota...                B  ...   \n",
       "\n",
       "   checkTimeEt  death  hospitalized   total  totalTestResults  posNeg  fips  \\\n",
       "0   5/06 16:05     10           NaN   23655             23655   23655     2   \n",
       "1   5/06 16:34    340        1158.0  109516            109516  109516     1   \n",
       "2   5/06 16:44     85         453.0   59003             59003   59003     5   \n",
       "3   5/06 14:38    426        1430.0   91737             91737   91737     4   \n",
       "4   5/06 16:36   2412           NaN  809036            809036  809036     6   \n",
       "\n",
       "           dateModified           dateChecked  \\\n",
       "0  2020-05-06T04:00:00Z  2020-05-06T20:05:00Z   \n",
       "1  2020-05-06T04:00:00Z  2020-05-06T20:34:00Z   \n",
       "2  2020-05-06T18:42:00Z  2020-05-06T20:44:00Z   \n",
       "3  2020-05-06T04:00:00Z  2020-05-06T18:38:00Z   \n",
       "4  2020-05-05T18:00:00Z  2020-05-06T20:36:00Z   \n",
       "\n",
       "                                       hash  \n",
       "0  79981deff2d6be244bbaa441f17ba1534db76c51  \n",
       "1  9d742409bd98ab699ff52adacf147c07f52c1efc  \n",
       "2  b52c21d4ed2c2011d027b74d516da8f18f49b21c  \n",
       "3  9ddd94c9da69d7f345cbeeafec42d14ff5c2bf1d  \n",
       "4  aa68e51b51c6e1f486dc631b03ec0e864fb1483e  \n",
       "\n",
       "[5 rows x 30 columns]"
      ]
     },
     "execution_count": 21,
     "metadata": {},
     "output_type": "execute_result"
    }
   ],
   "source": [
    "covtrack_states_now_df = pd.read_json(covtrack_states_now_url)\n",
    "\n",
    "covtrack_states_now_df.head()"
   ]
  },
  {
   "cell_type": "code",
   "execution_count": 22,
   "metadata": {},
   "outputs": [
    {
     "data": {
      "text/plain": [
       "(56, 30)"
      ]
     },
     "execution_count": 22,
     "metadata": {},
     "output_type": "execute_result"
    }
   ],
   "source": [
    "covtrack_states_now_df.shape"
   ]
  },
  {
   "cell_type": "code",
   "execution_count": 23,
   "metadata": {
    "scrolled": true
   },
   "outputs": [
    {
     "data": {
      "text/html": [
       "<div>\n",
       "<style scoped>\n",
       "    .dataframe tbody tr th:only-of-type {\n",
       "        vertical-align: middle;\n",
       "    }\n",
       "\n",
       "    .dataframe tbody tr th {\n",
       "        vertical-align: top;\n",
       "    }\n",
       "\n",
       "    .dataframe thead th {\n",
       "        text-align: right;\n",
       "    }\n",
       "</style>\n",
       "<table border=\"1\" class=\"dataframe\">\n",
       "  <thead>\n",
       "    <tr style=\"text-align: right;\">\n",
       "      <th></th>\n",
       "      <th>date</th>\n",
       "      <th>state</th>\n",
       "      <th>fips</th>\n",
       "      <th>positive</th>\n",
       "      <th>death</th>\n",
       "      <th>total</th>\n",
       "    </tr>\n",
       "  </thead>\n",
       "  <tbody>\n",
       "    <tr>\n",
       "      <th>0</th>\n",
       "      <td>20200506</td>\n",
       "      <td>AK</td>\n",
       "      <td>02</td>\n",
       "      <td>372.0</td>\n",
       "      <td>10.0</td>\n",
       "      <td>23655</td>\n",
       "    </tr>\n",
       "    <tr>\n",
       "      <th>1</th>\n",
       "      <td>20200506</td>\n",
       "      <td>AL</td>\n",
       "      <td>01</td>\n",
       "      <td>8581.0</td>\n",
       "      <td>340.0</td>\n",
       "      <td>109516</td>\n",
       "    </tr>\n",
       "    <tr>\n",
       "      <th>2</th>\n",
       "      <td>20200506</td>\n",
       "      <td>AR</td>\n",
       "      <td>05</td>\n",
       "      <td>3568.0</td>\n",
       "      <td>85.0</td>\n",
       "      <td>59003</td>\n",
       "    </tr>\n",
       "    <tr>\n",
       "      <th>3</th>\n",
       "      <td>20200506</td>\n",
       "      <td>AS</td>\n",
       "      <td>60</td>\n",
       "      <td>0.0</td>\n",
       "      <td>0.0</td>\n",
       "      <td>83</td>\n",
       "    </tr>\n",
       "    <tr>\n",
       "      <th>4</th>\n",
       "      <td>20200506</td>\n",
       "      <td>AZ</td>\n",
       "      <td>04</td>\n",
       "      <td>9707.0</td>\n",
       "      <td>426.0</td>\n",
       "      <td>91737</td>\n",
       "    </tr>\n",
       "  </tbody>\n",
       "</table>\n",
       "</div>"
      ],
      "text/plain": [
       "       date state fips  positive  death   total\n",
       "0  20200506    AK   02     372.0   10.0   23655\n",
       "1  20200506    AL   01    8581.0  340.0  109516\n",
       "2  20200506    AR   05    3568.0   85.0   59003\n",
       "3  20200506    AS   60       0.0    0.0      83\n",
       "4  20200506    AZ   04    9707.0  426.0   91737"
      ]
     },
     "execution_count": 23,
     "metadata": {},
     "output_type": "execute_result"
    }
   ],
   "source": [
    "covtrack_states_hist_df = pd.read_json(covtrack_states_hist_url, dtype={'fips':object})[\n",
    "    ['date', 'state', 'fips', 'positive', 'death', 'total']\n",
    "]\n",
    "\n",
    "covtrack_states_hist_df.head()"
   ]
  },
  {
   "cell_type": "code",
   "execution_count": 24,
   "metadata": {
    "scrolled": true
   },
   "outputs": [
    {
     "name": "stdout",
     "output_type": "stream",
     "text": [
      "<class 'pandas.core.frame.DataFrame'>\n",
      "RangeIndex: 3489 entries, 0 to 3488\n",
      "Data columns (total 6 columns):\n",
      " #   Column    Non-Null Count  Dtype  \n",
      "---  ------    --------------  -----  \n",
      " 0   date      3489 non-null   int64  \n",
      " 1   state     3489 non-null   object \n",
      " 2   fips      3489 non-null   object \n",
      " 3   positive  3474 non-null   float64\n",
      " 4   death     2762 non-null   float64\n",
      " 5   total     3489 non-null   int64  \n",
      "dtypes: float64(2), int64(2), object(2)\n",
      "memory usage: 163.7+ KB\n"
     ]
    }
   ],
   "source": [
    "covtrack_states_hist_df.info()"
   ]
  },
  {
   "cell_type": "code",
   "execution_count": 25,
   "metadata": {},
   "outputs": [
    {
     "name": "stdout",
     "output_type": "stream",
     "text": [
      "<class 'pandas.core.frame.DataFrame'>\n",
      "RangeIndex: 3489 entries, 0 to 3488\n",
      "Data columns (total 7 columns):\n",
      " #   Column    Non-Null Count  Dtype         \n",
      "---  ------    --------------  -----         \n",
      " 0   date      3489 non-null   int64         \n",
      " 1   state     3489 non-null   object        \n",
      " 2   fips      3489 non-null   object        \n",
      " 3   positive  3474 non-null   float64       \n",
      " 4   death     2762 non-null   float64       \n",
      " 5   total     3489 non-null   int64         \n",
      " 6   datetime  3489 non-null   datetime64[ns]\n",
      "dtypes: datetime64[ns](1), float64(2), int64(2), object(2)\n",
      "memory usage: 190.9+ KB\n"
     ]
    }
   ],
   "source": [
    "covtrack_states_hist_df['datetime']=pd.to_datetime(covtrack_states_hist_df['date'].astype(str), format='%Y-%m-%d')\n",
    "\n",
    "covtrack_states_hist_df['datetime']=pd.to_datetime(covtrack_states_hist_df['datetime'])\n",
    "\n",
    "covtrack_states_hist_df.info()"
   ]
  },
  {
   "cell_type": "code",
   "execution_count": 26,
   "metadata": {},
   "outputs": [
    {
     "data": {
      "text/html": [
       "<div>\n",
       "<style scoped>\n",
       "    .dataframe tbody tr th:only-of-type {\n",
       "        vertical-align: middle;\n",
       "    }\n",
       "\n",
       "    .dataframe tbody tr th {\n",
       "        vertical-align: top;\n",
       "    }\n",
       "\n",
       "    .dataframe thead th {\n",
       "        text-align: right;\n",
       "    }\n",
       "</style>\n",
       "<table border=\"1\" class=\"dataframe\">\n",
       "  <thead>\n",
       "    <tr style=\"text-align: right;\">\n",
       "      <th></th>\n",
       "      <th>date</th>\n",
       "      <th>state</th>\n",
       "      <th>fips</th>\n",
       "      <th>positive</th>\n",
       "      <th>death</th>\n",
       "      <th>total</th>\n",
       "      <th>datetime</th>\n",
       "    </tr>\n",
       "  </thead>\n",
       "  <tbody>\n",
       "    <tr>\n",
       "      <th>3484</th>\n",
       "      <td>20200126</td>\n",
       "      <td>WA</td>\n",
       "      <td>53</td>\n",
       "      <td>1.0</td>\n",
       "      <td>NaN</td>\n",
       "      <td>1</td>\n",
       "      <td>2020-01-26</td>\n",
       "    </tr>\n",
       "    <tr>\n",
       "      <th>3485</th>\n",
       "      <td>20200125</td>\n",
       "      <td>WA</td>\n",
       "      <td>53</td>\n",
       "      <td>1.0</td>\n",
       "      <td>NaN</td>\n",
       "      <td>1</td>\n",
       "      <td>2020-01-25</td>\n",
       "    </tr>\n",
       "    <tr>\n",
       "      <th>3486</th>\n",
       "      <td>20200124</td>\n",
       "      <td>WA</td>\n",
       "      <td>53</td>\n",
       "      <td>1.0</td>\n",
       "      <td>NaN</td>\n",
       "      <td>1</td>\n",
       "      <td>2020-01-24</td>\n",
       "    </tr>\n",
       "    <tr>\n",
       "      <th>3487</th>\n",
       "      <td>20200123</td>\n",
       "      <td>WA</td>\n",
       "      <td>53</td>\n",
       "      <td>1.0</td>\n",
       "      <td>NaN</td>\n",
       "      <td>1</td>\n",
       "      <td>2020-01-23</td>\n",
       "    </tr>\n",
       "    <tr>\n",
       "      <th>3488</th>\n",
       "      <td>20200122</td>\n",
       "      <td>WA</td>\n",
       "      <td>53</td>\n",
       "      <td>1.0</td>\n",
       "      <td>NaN</td>\n",
       "      <td>1</td>\n",
       "      <td>2020-01-22</td>\n",
       "    </tr>\n",
       "  </tbody>\n",
       "</table>\n",
       "</div>"
      ],
      "text/plain": [
       "          date state fips  positive  death  total   datetime\n",
       "3484  20200126    WA   53       1.0    NaN      1 2020-01-26\n",
       "3485  20200125    WA   53       1.0    NaN      1 2020-01-25\n",
       "3486  20200124    WA   53       1.0    NaN      1 2020-01-24\n",
       "3487  20200123    WA   53       1.0    NaN      1 2020-01-23\n",
       "3488  20200122    WA   53       1.0    NaN      1 2020-01-22"
      ]
     },
     "execution_count": 26,
     "metadata": {},
     "output_type": "execute_result"
    }
   ],
   "source": [
    "covtrack_states_hist_df.tail()"
   ]
  },
  {
   "cell_type": "markdown",
   "metadata": {},
   "source": [
    "# Data Visualisation\n",
    "### by US States `covtrack_state_hist_df` or `us_cov19_states_gdf` \n",
    "Interactive Map 2: https://amaral.northwestern.edu/blog/step-step-how-plot-map-slider-represent-time-evolu"
   ]
  },
  {
   "cell_type": "markdown",
   "metadata": {},
   "source": [
    "### First merge `covtrack_state_hist_df` with `us_tates_gdf`"
   ]
  },
  {
   "cell_type": "code",
   "execution_count": 27,
   "metadata": {},
   "outputs": [],
   "source": [
    "# Read US States Boundary Shapefile\n",
    "us_states_gdf = gpd.read_file('Data/input/us_state/cb_2018_us_state_5m.shp')\n",
    "\n",
    "# Converting the CRS to US National Atlas Equal Area Projection (EPSG: 2163)\n",
    "us_states_gdf.to_crs(epsg=2163, inplace=True)\n",
    "\n",
    "# Adding a column 'coords' for later use (labeling each State)\n",
    "us_states_gdf['coords'] = us_states_gdf['geometry'].apply(lambda x: x.representative_point().coords[:])\n",
    "us_states_gdf['coords'] = [coords[0] for coords in us_states_gdf['coords']]"
   ]
  },
  {
   "cell_type": "code",
   "execution_count": 28,
   "metadata": {},
   "outputs": [],
   "source": [
    "# Merge COVID Tracking Project US States COVID-19 Accumulative Data with us_states_gdf\n",
    "us_cov19_states_df = pd.merge(\n",
    "    covtrack_states_hist_df,\n",
    "    us_states_gdf[['STATEFP', 'NAME', 'coords', 'geometry']],\n",
    "    left_on='fips',\n",
    "    right_on='STATEFP',\n",
    "    how='left',\n",
    ")"
   ]
  },
  {
   "cell_type": "code",
   "execution_count": 29,
   "metadata": {},
   "outputs": [
    {
     "data": {
      "text/html": [
       "<div>\n",
       "<style scoped>\n",
       "    .dataframe tbody tr th:only-of-type {\n",
       "        vertical-align: middle;\n",
       "    }\n",
       "\n",
       "    .dataframe tbody tr th {\n",
       "        vertical-align: top;\n",
       "    }\n",
       "\n",
       "    .dataframe thead th {\n",
       "        text-align: right;\n",
       "    }\n",
       "</style>\n",
       "<table border=\"1\" class=\"dataframe\">\n",
       "  <thead>\n",
       "    <tr style=\"text-align: right;\">\n",
       "      <th></th>\n",
       "      <th>date</th>\n",
       "      <th>state</th>\n",
       "      <th>fips</th>\n",
       "      <th>positive</th>\n",
       "      <th>death</th>\n",
       "      <th>total</th>\n",
       "      <th>datetime</th>\n",
       "      <th>STATEFP</th>\n",
       "      <th>NAME</th>\n",
       "      <th>coords</th>\n",
       "      <th>geometry</th>\n",
       "    </tr>\n",
       "  </thead>\n",
       "  <tbody>\n",
       "    <tr>\n",
       "      <th>0</th>\n",
       "      <td>20200506</td>\n",
       "      <td>AK</td>\n",
       "      <td>02</td>\n",
       "      <td>372.0</td>\n",
       "      <td>10.0</td>\n",
       "      <td>23655</td>\n",
       "      <td>2020-05-06</td>\n",
       "      <td>02</td>\n",
       "      <td>Alaska</td>\n",
       "      <td>(-2180339.847699951, 2622589.4473532755)</td>\n",
       "      <td>MULTIPOLYGON (((-4288629.978 3426273.416, -428...</td>\n",
       "    </tr>\n",
       "    <tr>\n",
       "      <th>1</th>\n",
       "      <td>20200506</td>\n",
       "      <td>AL</td>\n",
       "      <td>01</td>\n",
       "      <td>8581.0</td>\n",
       "      <td>340.0</td>\n",
       "      <td>109516</td>\n",
       "      <td>2020-05-06</td>\n",
       "      <td>01</td>\n",
       "      <td>Alabama</td>\n",
       "      <td>(1249493.1603794529, -1279834.742587857)</td>\n",
       "      <td>MULTIPOLYGON (((1150023.442 -1526367.945, 1150...</td>\n",
       "    </tr>\n",
       "    <tr>\n",
       "      <th>2</th>\n",
       "      <td>20200506</td>\n",
       "      <td>AR</td>\n",
       "      <td>05</td>\n",
       "      <td>3568.0</td>\n",
       "      <td>85.0</td>\n",
       "      <td>59003</td>\n",
       "      <td>2020-05-06</td>\n",
       "      <td>05</td>\n",
       "      <td>Arkansas</td>\n",
       "      <td>(685109.6121825308, -1101604.851975698)</td>\n",
       "      <td>POLYGON ((482000.986 -928930.836, 487242.080 -...</td>\n",
       "    </tr>\n",
       "    <tr>\n",
       "      <th>3</th>\n",
       "      <td>20200506</td>\n",
       "      <td>AS</td>\n",
       "      <td>60</td>\n",
       "      <td>0.0</td>\n",
       "      <td>0.0</td>\n",
       "      <td>83</td>\n",
       "      <td>2020-05-06</td>\n",
       "      <td>60</td>\n",
       "      <td>American Samoa</td>\n",
       "      <td>(-8034589.865696663, -3524671.326840096)</td>\n",
       "      <td>MULTIPOLYGON (((-7800567.112 -3751033.523, -78...</td>\n",
       "    </tr>\n",
       "    <tr>\n",
       "      <th>4</th>\n",
       "      <td>20200506</td>\n",
       "      <td>AZ</td>\n",
       "      <td>04</td>\n",
       "      <td>9707.0</td>\n",
       "      <td>426.0</td>\n",
       "      <td>91737</td>\n",
       "      <td>2020-05-06</td>\n",
       "      <td>04</td>\n",
       "      <td>Arizona</td>\n",
       "      <td>(-1085734.3498492904, -1127761.0539318295)</td>\n",
       "      <td>POLYGON ((-1386135.563 -1256471.688, -1386636....</td>\n",
       "    </tr>\n",
       "  </tbody>\n",
       "</table>\n",
       "</div>"
      ],
      "text/plain": [
       "       date state fips  positive  death   total   datetime STATEFP  \\\n",
       "0  20200506    AK   02     372.0   10.0   23655 2020-05-06      02   \n",
       "1  20200506    AL   01    8581.0  340.0  109516 2020-05-06      01   \n",
       "2  20200506    AR   05    3568.0   85.0   59003 2020-05-06      05   \n",
       "3  20200506    AS   60       0.0    0.0      83 2020-05-06      60   \n",
       "4  20200506    AZ   04    9707.0  426.0   91737 2020-05-06      04   \n",
       "\n",
       "             NAME                                      coords  \\\n",
       "0          Alaska    (-2180339.847699951, 2622589.4473532755)   \n",
       "1         Alabama    (1249493.1603794529, -1279834.742587857)   \n",
       "2        Arkansas     (685109.6121825308, -1101604.851975698)   \n",
       "3  American Samoa    (-8034589.865696663, -3524671.326840096)   \n",
       "4         Arizona  (-1085734.3498492904, -1127761.0539318295)   \n",
       "\n",
       "                                            geometry  \n",
       "0  MULTIPOLYGON (((-4288629.978 3426273.416, -428...  \n",
       "1  MULTIPOLYGON (((1150023.442 -1526367.945, 1150...  \n",
       "2  POLYGON ((482000.986 -928930.836, 487242.080 -...  \n",
       "3  MULTIPOLYGON (((-7800567.112 -3751033.523, -78...  \n",
       "4  POLYGON ((-1386135.563 -1256471.688, -1386636....  "
      ]
     },
     "execution_count": 29,
     "metadata": {},
     "output_type": "execute_result"
    }
   ],
   "source": [
    "us_cov19_states_df.head()"
   ]
  },
  {
   "cell_type": "markdown",
   "metadata": {},
   "source": [
    "### Let's start by plotting a single day on a map of the US, and they you will build from there."
   ]
  },
  {
   "cell_type": "code",
   "execution_count": 30,
   "metadata": {},
   "outputs": [],
   "source": [
    "# import datetime\n",
    "state_start_date = datetime.datetime(2020, 5, 5)\n",
    "\n",
    "state_start_df = us_cov19_states_df[(us_cov19_states_df['datetime']==state_start_date)]"
   ]
  },
  {
   "cell_type": "code",
   "execution_count": 31,
   "metadata": {},
   "outputs": [
    {
     "data": {
      "text/html": [
       "<div>\n",
       "<style scoped>\n",
       "    .dataframe tbody tr th:only-of-type {\n",
       "        vertical-align: middle;\n",
       "    }\n",
       "\n",
       "    .dataframe tbody tr th {\n",
       "        vertical-align: top;\n",
       "    }\n",
       "\n",
       "    .dataframe thead th {\n",
       "        text-align: right;\n",
       "    }\n",
       "</style>\n",
       "<table border=\"1\" class=\"dataframe\">\n",
       "  <thead>\n",
       "    <tr style=\"text-align: right;\">\n",
       "      <th></th>\n",
       "      <th>date</th>\n",
       "      <th>state</th>\n",
       "      <th>fips</th>\n",
       "      <th>positive</th>\n",
       "      <th>death</th>\n",
       "      <th>total</th>\n",
       "      <th>datetime</th>\n",
       "      <th>STATEFP</th>\n",
       "      <th>NAME</th>\n",
       "      <th>coords</th>\n",
       "      <th>geometry</th>\n",
       "    </tr>\n",
       "  </thead>\n",
       "  <tbody>\n",
       "    <tr>\n",
       "      <th>56</th>\n",
       "      <td>20200505</td>\n",
       "      <td>AK</td>\n",
       "      <td>02</td>\n",
       "      <td>371.0</td>\n",
       "      <td>9.0</td>\n",
       "      <td>22692</td>\n",
       "      <td>2020-05-05</td>\n",
       "      <td>02</td>\n",
       "      <td>Alaska</td>\n",
       "      <td>(-2180339.847699951, 2622589.4473532755)</td>\n",
       "      <td>MULTIPOLYGON (((-4288629.978 3426273.416, -428...</td>\n",
       "    </tr>\n",
       "    <tr>\n",
       "      <th>57</th>\n",
       "      <td>20200505</td>\n",
       "      <td>AL</td>\n",
       "      <td>01</td>\n",
       "      <td>8285.0</td>\n",
       "      <td>313.0</td>\n",
       "      <td>106766</td>\n",
       "      <td>2020-05-05</td>\n",
       "      <td>01</td>\n",
       "      <td>Alabama</td>\n",
       "      <td>(1249493.1603794529, -1279834.742587857)</td>\n",
       "      <td>MULTIPOLYGON (((1150023.442 -1526367.945, 1150...</td>\n",
       "    </tr>\n",
       "    <tr>\n",
       "      <th>58</th>\n",
       "      <td>20200505</td>\n",
       "      <td>AR</td>\n",
       "      <td>05</td>\n",
       "      <td>3496.0</td>\n",
       "      <td>80.0</td>\n",
       "      <td>54635</td>\n",
       "      <td>2020-05-05</td>\n",
       "      <td>05</td>\n",
       "      <td>Arkansas</td>\n",
       "      <td>(685109.6121825308, -1101604.851975698)</td>\n",
       "      <td>POLYGON ((482000.986 -928930.836, 487242.080 -...</td>\n",
       "    </tr>\n",
       "    <tr>\n",
       "      <th>59</th>\n",
       "      <td>20200505</td>\n",
       "      <td>AS</td>\n",
       "      <td>60</td>\n",
       "      <td>0.0</td>\n",
       "      <td>0.0</td>\n",
       "      <td>83</td>\n",
       "      <td>2020-05-05</td>\n",
       "      <td>60</td>\n",
       "      <td>American Samoa</td>\n",
       "      <td>(-8034589.865696663, -3524671.326840096)</td>\n",
       "      <td>MULTIPOLYGON (((-7800567.112 -3751033.523, -78...</td>\n",
       "    </tr>\n",
       "    <tr>\n",
       "      <th>60</th>\n",
       "      <td>20200505</td>\n",
       "      <td>AZ</td>\n",
       "      <td>04</td>\n",
       "      <td>9305.0</td>\n",
       "      <td>395.0</td>\n",
       "      <td>88260</td>\n",
       "      <td>2020-05-05</td>\n",
       "      <td>04</td>\n",
       "      <td>Arizona</td>\n",
       "      <td>(-1085734.3498492904, -1127761.0539318295)</td>\n",
       "      <td>POLYGON ((-1386135.563 -1256471.688, -1386636....</td>\n",
       "    </tr>\n",
       "  </tbody>\n",
       "</table>\n",
       "</div>"
      ],
      "text/plain": [
       "        date state fips  positive  death   total   datetime STATEFP  \\\n",
       "56  20200505    AK   02     371.0    9.0   22692 2020-05-05      02   \n",
       "57  20200505    AL   01    8285.0  313.0  106766 2020-05-05      01   \n",
       "58  20200505    AR   05    3496.0   80.0   54635 2020-05-05      05   \n",
       "59  20200505    AS   60       0.0    0.0      83 2020-05-05      60   \n",
       "60  20200505    AZ   04    9305.0  395.0   88260 2020-05-05      04   \n",
       "\n",
       "              NAME                                      coords  \\\n",
       "56          Alaska    (-2180339.847699951, 2622589.4473532755)   \n",
       "57         Alabama    (1249493.1603794529, -1279834.742587857)   \n",
       "58        Arkansas     (685109.6121825308, -1101604.851975698)   \n",
       "59  American Samoa    (-8034589.865696663, -3524671.326840096)   \n",
       "60         Arizona  (-1085734.3498492904, -1127761.0539318295)   \n",
       "\n",
       "                                             geometry  \n",
       "56  MULTIPOLYGON (((-4288629.978 3426273.416, -428...  \n",
       "57  MULTIPOLYGON (((1150023.442 -1526367.945, 1150...  \n",
       "58  POLYGON ((482000.986 -928930.836, 487242.080 -...  \n",
       "59  MULTIPOLYGON (((-7800567.112 -3751033.523, -78...  \n",
       "60  POLYGON ((-1386135.563 -1256471.688, -1386636....  "
      ]
     },
     "execution_count": 31,
     "metadata": {},
     "output_type": "execute_result"
    }
   ],
   "source": [
    "state_start_df.head()"
   ]
  },
  {
   "cell_type": "code",
   "execution_count": 32,
   "metadata": {},
   "outputs": [
    {
     "name": "stderr",
     "output_type": "stream",
     "text": [
      "C:\\Users\\dun4g\\anaconda3\\envs\\GIS\\lib\\site-packages\\ipykernel_launcher.py:10: SettingWithCopyWarning:\n",
      "\n",
      "\n",
      "A value is trying to be set on a copy of a slice from a DataFrame.\n",
      "Try using .loc[row_indexer,col_indexer] = value instead\n",
      "\n",
      "See the caveats in the documentation: https://pandas.pydata.org/pandas-docs/stable/user_guide/indexing.html#returning-a-view-versus-a-copy\n",
      "\n",
      "C:\\Users\\dun4g\\anaconda3\\envs\\GIS\\lib\\site-packages\\ipykernel_launcher.py:15: SettingWithCopyWarning:\n",
      "\n",
      "\n",
      "A value is trying to be set on a copy of a slice from a DataFrame.\n",
      "Try using .loc[row_indexer,col_indexer] = value instead\n",
      "\n",
      "See the caveats in the documentation: https://pandas.pydata.org/pandas-docs/stable/user_guide/indexing.html#returning-a-view-versus-a-copy\n",
      "\n"
     ]
    }
   ],
   "source": [
    "# color scheme for the map plot (white to red)\n",
    "state_color_scale = ['#FFEBEE', '#FFCDD2', '#EF9A9A', '#E57373', '#EF5350', \n",
    "                      '#F44336', '#E53935', '#D32F2F', '#C62828', '#B71C1C']\n",
    "\n",
    "# state_color_scale = [[0.0, '#ffffff'], [0.2, '#ff9999'], [0.4, '#ff4d4d'],\n",
    "#                      [0.6, '#ff1a1a'], [0.8, '#cc0000'], [1.0, '#4d0000']]\n",
    "\n",
    "# creating a new column that will include the mouse-hovering text for each state\n",
    "for col in state_start_df.columns:\n",
    "    state_start_df[col] = state_start_df[col].astype(str)\n",
    "\n",
    "state_start_df['text'] = state_start_df['NAME'] + '<br>' + \\\n",
    "                        'Cases: ' + state_start_df['positive'] + '<br>' + \\\n",
    "                        'Deaths: ' + state_start_df['death'] + '<br>' + \\\n",
    "                        'Tests: ' + state_start_df['total']"
   ]
  },
  {
   "cell_type": "code",
   "execution_count": 33,
   "metadata": {},
   "outputs": [],
   "source": [
    "# data object for plotting\n",
    "\n",
    "data = [ dict(\n",
    "            type='choropleth', # type of map-plot\n",
    "            #scheme='boxplot',\n",
    "            colorscale = state_color_scale,\n",
    "            autocolorscale = False,\n",
    "            locations = state_start_df['state'], # the column with the state post code\n",
    "            z = state_start_df['positive'].astype(float), # the variable I want to color-code\n",
    "            #binning_endpoints=[2500, 7500, 21000, 50000, 350000],\n",
    "            zmax = 350000,\n",
    "            zmid = 30000,\n",
    "            zmin = 0,\n",
    "            locationmode = 'USA-states',\n",
    "            text = state_start_df['text'], # hover text\n",
    "            marker = dict(     # for the lines separating states\n",
    "                        line = dict (\n",
    "                                  color = 'rgb(255,255,255)', \n",
    "                                  width = 2) ),               \n",
    "            colorbar = dict(title = \"Confirmed Cases\")) \n",
    "       ]\n",
    "\n",
    "# creating a fig object for plotting\n",
    "# fig = go.Figure(data=go.Choropleth(\n",
    "#     locations=state_start_df['fips'],  # the column with the county fips\n",
    "#     z = state_start_df['positive'].astype(float),  # the variable I want to color-code\n",
    "#     locationmode = 'USA-states',\n",
    "#     colorscale = county_color_scale,\n",
    "#     autocolorscale = False,\n",
    "#     text = state_start_df['text'], # hover text\n",
    "#     marker_line_color = 'white'     # for the lines separating states\n",
    "#     marker_linewidth = 2,    \n",
    "#     colorbar_title = 'COVID-19 Confirmed Cases'\n",
    "# ))\n"
   ]
  },
  {
   "cell_type": "code",
   "execution_count": 35,
   "metadata": {},
   "outputs": [
    {
     "data": {
      "application/vnd.plotly.v1+json": {
       "config": {
        "linkText": "Export to plot.ly",
        "plotlyServerURL": "https://plot.ly",
        "showLink": false
       },
       "data": [
        {
         "autocolorscale": false,
         "colorbar": {
          "title": {
           "text": "Confirmed Cases"
          }
         },
         "colorscale": [
          [
           0,
           "#FFEBEE"
          ],
          [
           0.1111111111111111,
           "#FFCDD2"
          ],
          [
           0.2222222222222222,
           "#EF9A9A"
          ],
          [
           0.3333333333333333,
           "#E57373"
          ],
          [
           0.4444444444444444,
           "#EF5350"
          ],
          [
           0.5555555555555556,
           "#F44336"
          ],
          [
           0.6666666666666666,
           "#E53935"
          ],
          [
           0.7777777777777778,
           "#D32F2F"
          ],
          [
           0.8888888888888888,
           "#C62828"
          ],
          [
           1,
           "#B71C1C"
          ]
         ],
         "locationmode": "USA-states",
         "locations": [
          "AK",
          "AL",
          "AR",
          "AS",
          "AZ",
          "CA",
          "CO",
          "CT",
          "DC",
          "DE",
          "FL",
          "GA",
          "GU",
          "HI",
          "IA",
          "ID",
          "IL",
          "IN",
          "KS",
          "KY",
          "LA",
          "MA",
          "MD",
          "ME",
          "MI",
          "MN",
          "MO",
          "MP",
          "MS",
          "MT",
          "NC",
          "ND",
          "NE",
          "NH",
          "NJ",
          "NM",
          "NV",
          "NY",
          "OH",
          "OK",
          "OR",
          "PA",
          "PR",
          "RI",
          "SC",
          "SD",
          "TN",
          "TX",
          "UT",
          "VA",
          "VI",
          "VT",
          "WA",
          "WI",
          "WV",
          "WY"
         ],
         "marker": {
          "line": {
           "color": "rgb(255,255,255)",
           "width": 2
          }
         },
         "text": [
          "Alaska<br>Cases: 371.0<br>Deaths: 9.0<br>Tests: 22692",
          "Alabama<br>Cases: 8285.0<br>Deaths: 313.0<br>Tests: 106766",
          "Arkansas<br>Cases: 3496.0<br>Deaths: 80.0<br>Tests: 54635",
          "American Samoa<br>Cases: 0.0<br>Deaths: 0.0<br>Tests: 83",
          "Arizona<br>Cases: 9305.0<br>Deaths: 395.0<br>Tests: 88260",
          "California<br>Cases: 56212.0<br>Deaths: 2317.0<br>Tests: 779902",
          "Colorado<br>Cases: 16907.0<br>Deaths: 851.0<br>Tests: 85004",
          "Connecticut<br>Cases: 30621.0<br>Deaths: 2633.0<br>Tests: 108643",
          "District of Columbia<br>Cases: 5322.0<br>Deaths: 264.0<br>Tests: 24329",
          "Delaware<br>Cases: 5371.0<br>Deaths: 187.0<br>Tests: 24680",
          "Florida<br>Cases: 37439.0<br>Deaths: 1536.0<br>Tests: 466956",
          "Georgia<br>Cases: 29711.0<br>Deaths: 1288.0<br>Tests: 200883",
          "Guam<br>Cases: 149.0<br>Deaths: 5.0<br>Tests: 3490",
          "Hawaii<br>Cases: 621.0<br>Deaths: 17.0<br>Tests: 33999",
          "Iowa<br>Cases: 10111.0<br>Deaths: 207.0<br>Tests: 60569",
          "Idaho<br>Cases: 2106.0<br>Deaths: 64.0<br>Tests: 30308",
          "Illinois<br>Cases: 65962.0<br>Deaths: 2838.0<br>Tests: 346286",
          "Indiana<br>Cases: 21033.0<br>Deaths: 1326.0<br>Tests: 115834",
          "Kansas<br>Cases: 5458.0<br>Deaths: 137.0<br>Tests: 40092",
          "Kentucky<br>Cases: 5245.0<br>Deaths: 261.0<br>Tests: 60047",
          "Louisiana<br>Cases: 29996.0<br>Deaths: 2115.0<br>Tests: 188231",
          "Massachusetts<br>Cases: 70271.0<br>Deaths: 4212.0<br>Tests: 333349",
          "Maryland<br>Cases: 27117.0<br>Deaths: 1390.0<br>Tests: 140103",
          "Maine<br>Cases: 1226.0<br>Deaths: 61.0<br>Tests: 20772",
          "Michigan<br>Cases: 44397.0<br>Deaths: 4179.0<br>Tests: 222836",
          "Minnesota<br>Cases: 7851.0<br>Deaths: 455.0<br>Tests: 88009",
          "Missouri<br>Cases: 8916.0<br>Deaths: 377.0<br>Tests: 95066",
          "Commonwealth of the Northern Mariana Islands<br>Cases: 14.0<br>Deaths: 2.0<br>Tests: 1797",
          "Mississippi<br>Cases: 8207.0<br>Deaths: 342.0<br>Tests: 80308",
          "Montana<br>Cases: 456.0<br>Deaths: 16.0<br>Tests: 15272",
          "North Carolina<br>Cases: 12256.0<br>Deaths: 452.0<br>Tests: 151800",
          "North Dakota<br>Cases: 1266.0<br>Deaths: 25.0<br>Tests: 36421",
          "Nebraska<br>Cases: 6083.0<br>Deaths: 78.0<br>Tests: 34609",
          "New Hampshire<br>Cases: 2588.0<br>Deaths: 86.0<br>Tests: 26949",
          "New Jersey<br>Cases: 130593.0<br>Deaths: 8244.0<br>Tests: 288173",
          "New Mexico<br>Cases: 4031.0<br>Deaths: 156.0<br>Tests: 81720",
          "Nevada<br>Cases: 5594.0<br>Deaths: 268.0<br>Tests: 47884",
          "New York<br>Cases: 321192.0<br>Deaths: 19645.0<br>Tests: 1028899",
          "Ohio<br>Cases: 20969.0<br>Deaths: 1135.0<br>Tests: 160735",
          "Oklahoma<br>Cases: 4127.0<br>Deaths: 247.0<br>Tests: 79417",
          "Oregon<br>Cases: 2839.0<br>Deaths: 113.0<br>Tests: 65424",
          "Pennsylvania<br>Cases: 50957.0<br>Deaths: 3012.0<br>Tests: 250882",
          "Puerto Rico<br>Cases: 1924.0<br>Deaths: 99.0<br>Tests: 11237",
          "Rhode Island<br>Cases: 9933.0<br>Deaths: 355.0<br>Tests: 76435",
          "South Carolina<br>Cases: 6757.0<br>Deaths: 283.0<br>Tests: 67771",
          "South Dakota<br>Cases: 2721.0<br>Deaths: 24.0<br>Tests: 19022",
          "Tennessee<br>Cases: 13690.0<br>Deaths: 226.0<br>Tests: 218862",
          "Texas<br>Cases: 33369.0<br>Deaths: 906.0<br>Tests: 427210",
          "Utah<br>Cases: 5449.0<br>Deaths: 56.0<br>Tests: 126715",
          "Virginia<br>Cases: 20256.0<br>Deaths: 713.0<br>Tests: 114177",
          "United States Virgin Islands<br>Cases: 66.0<br>Deaths: 4.0<br>Tests: 1073",
          "Vermont<br>Cases: 907.0<br>Deaths: 52.0<br>Tests: 17518",
          "Washington<br>Cases: 15462.0<br>Deaths: 841.0<br>Tests: 216320",
          "Wisconsin<br>Cases: 8566.0<br>Deaths: 353.0<br>Tests: 92769",
          "West Virginia<br>Cases: 1238.0<br>Deaths: 50.0<br>Tests: 54823",
          "Wyoming<br>Cases: 596.0<br>Deaths: 7.0<br>Tests: 10915"
         ],
         "type": "choropleth",
         "z": [
          371,
          8285,
          3496,
          0,
          9305,
          56212,
          16907,
          30621,
          5322,
          5371,
          37439,
          29711,
          149,
          621,
          10111,
          2106,
          65962,
          21033,
          5458,
          5245,
          29996,
          70271,
          27117,
          1226,
          44397,
          7851,
          8916,
          14,
          8207,
          456,
          12256,
          1266,
          6083,
          2588,
          130593,
          4031,
          5594,
          321192,
          20969,
          4127,
          2839,
          50957,
          1924,
          9933,
          6757,
          2721,
          13690,
          33369,
          5449,
          20256,
          66,
          907,
          15462,
          8566,
          1238,
          596
         ],
         "zmax": 350000,
         "zmid": 30000,
         "zmin": 0
        }
       ],
       "layout": {
        "geo": {
         "projection": {
          "type": "albers usa"
         },
         "scope": "usa"
        },
        "template": {
         "data": {
          "bar": [
           {
            "error_x": {
             "color": "#2a3f5f"
            },
            "error_y": {
             "color": "#2a3f5f"
            },
            "marker": {
             "line": {
              "color": "#E5ECF6",
              "width": 0.5
             }
            },
            "type": "bar"
           }
          ],
          "barpolar": [
           {
            "marker": {
             "line": {
              "color": "#E5ECF6",
              "width": 0.5
             }
            },
            "type": "barpolar"
           }
          ],
          "carpet": [
           {
            "aaxis": {
             "endlinecolor": "#2a3f5f",
             "gridcolor": "white",
             "linecolor": "white",
             "minorgridcolor": "white",
             "startlinecolor": "#2a3f5f"
            },
            "baxis": {
             "endlinecolor": "#2a3f5f",
             "gridcolor": "white",
             "linecolor": "white",
             "minorgridcolor": "white",
             "startlinecolor": "#2a3f5f"
            },
            "type": "carpet"
           }
          ],
          "choropleth": [
           {
            "colorbar": {
             "outlinewidth": 0,
             "ticks": ""
            },
            "type": "choropleth"
           }
          ],
          "contour": [
           {
            "colorbar": {
             "outlinewidth": 0,
             "ticks": ""
            },
            "colorscale": [
             [
              0,
              "#0d0887"
             ],
             [
              0.1111111111111111,
              "#46039f"
             ],
             [
              0.2222222222222222,
              "#7201a8"
             ],
             [
              0.3333333333333333,
              "#9c179e"
             ],
             [
              0.4444444444444444,
              "#bd3786"
             ],
             [
              0.5555555555555556,
              "#d8576b"
             ],
             [
              0.6666666666666666,
              "#ed7953"
             ],
             [
              0.7777777777777778,
              "#fb9f3a"
             ],
             [
              0.8888888888888888,
              "#fdca26"
             ],
             [
              1,
              "#f0f921"
             ]
            ],
            "type": "contour"
           }
          ],
          "contourcarpet": [
           {
            "colorbar": {
             "outlinewidth": 0,
             "ticks": ""
            },
            "type": "contourcarpet"
           }
          ],
          "heatmap": [
           {
            "colorbar": {
             "outlinewidth": 0,
             "ticks": ""
            },
            "colorscale": [
             [
              0,
              "#0d0887"
             ],
             [
              0.1111111111111111,
              "#46039f"
             ],
             [
              0.2222222222222222,
              "#7201a8"
             ],
             [
              0.3333333333333333,
              "#9c179e"
             ],
             [
              0.4444444444444444,
              "#bd3786"
             ],
             [
              0.5555555555555556,
              "#d8576b"
             ],
             [
              0.6666666666666666,
              "#ed7953"
             ],
             [
              0.7777777777777778,
              "#fb9f3a"
             ],
             [
              0.8888888888888888,
              "#fdca26"
             ],
             [
              1,
              "#f0f921"
             ]
            ],
            "type": "heatmap"
           }
          ],
          "heatmapgl": [
           {
            "colorbar": {
             "outlinewidth": 0,
             "ticks": ""
            },
            "colorscale": [
             [
              0,
              "#0d0887"
             ],
             [
              0.1111111111111111,
              "#46039f"
             ],
             [
              0.2222222222222222,
              "#7201a8"
             ],
             [
              0.3333333333333333,
              "#9c179e"
             ],
             [
              0.4444444444444444,
              "#bd3786"
             ],
             [
              0.5555555555555556,
              "#d8576b"
             ],
             [
              0.6666666666666666,
              "#ed7953"
             ],
             [
              0.7777777777777778,
              "#fb9f3a"
             ],
             [
              0.8888888888888888,
              "#fdca26"
             ],
             [
              1,
              "#f0f921"
             ]
            ],
            "type": "heatmapgl"
           }
          ],
          "histogram": [
           {
            "marker": {
             "colorbar": {
              "outlinewidth": 0,
              "ticks": ""
             }
            },
            "type": "histogram"
           }
          ],
          "histogram2d": [
           {
            "colorbar": {
             "outlinewidth": 0,
             "ticks": ""
            },
            "colorscale": [
             [
              0,
              "#0d0887"
             ],
             [
              0.1111111111111111,
              "#46039f"
             ],
             [
              0.2222222222222222,
              "#7201a8"
             ],
             [
              0.3333333333333333,
              "#9c179e"
             ],
             [
              0.4444444444444444,
              "#bd3786"
             ],
             [
              0.5555555555555556,
              "#d8576b"
             ],
             [
              0.6666666666666666,
              "#ed7953"
             ],
             [
              0.7777777777777778,
              "#fb9f3a"
             ],
             [
              0.8888888888888888,
              "#fdca26"
             ],
             [
              1,
              "#f0f921"
             ]
            ],
            "type": "histogram2d"
           }
          ],
          "histogram2dcontour": [
           {
            "colorbar": {
             "outlinewidth": 0,
             "ticks": ""
            },
            "colorscale": [
             [
              0,
              "#0d0887"
             ],
             [
              0.1111111111111111,
              "#46039f"
             ],
             [
              0.2222222222222222,
              "#7201a8"
             ],
             [
              0.3333333333333333,
              "#9c179e"
             ],
             [
              0.4444444444444444,
              "#bd3786"
             ],
             [
              0.5555555555555556,
              "#d8576b"
             ],
             [
              0.6666666666666666,
              "#ed7953"
             ],
             [
              0.7777777777777778,
              "#fb9f3a"
             ],
             [
              0.8888888888888888,
              "#fdca26"
             ],
             [
              1,
              "#f0f921"
             ]
            ],
            "type": "histogram2dcontour"
           }
          ],
          "mesh3d": [
           {
            "colorbar": {
             "outlinewidth": 0,
             "ticks": ""
            },
            "type": "mesh3d"
           }
          ],
          "parcoords": [
           {
            "line": {
             "colorbar": {
              "outlinewidth": 0,
              "ticks": ""
             }
            },
            "type": "parcoords"
           }
          ],
          "pie": [
           {
            "automargin": true,
            "type": "pie"
           }
          ],
          "scatter": [
           {
            "marker": {
             "colorbar": {
              "outlinewidth": 0,
              "ticks": ""
             }
            },
            "type": "scatter"
           }
          ],
          "scatter3d": [
           {
            "line": {
             "colorbar": {
              "outlinewidth": 0,
              "ticks": ""
             }
            },
            "marker": {
             "colorbar": {
              "outlinewidth": 0,
              "ticks": ""
             }
            },
            "type": "scatter3d"
           }
          ],
          "scattercarpet": [
           {
            "marker": {
             "colorbar": {
              "outlinewidth": 0,
              "ticks": ""
             }
            },
            "type": "scattercarpet"
           }
          ],
          "scattergeo": [
           {
            "marker": {
             "colorbar": {
              "outlinewidth": 0,
              "ticks": ""
             }
            },
            "type": "scattergeo"
           }
          ],
          "scattergl": [
           {
            "marker": {
             "colorbar": {
              "outlinewidth": 0,
              "ticks": ""
             }
            },
            "type": "scattergl"
           }
          ],
          "scattermapbox": [
           {
            "marker": {
             "colorbar": {
              "outlinewidth": 0,
              "ticks": ""
             }
            },
            "type": "scattermapbox"
           }
          ],
          "scatterpolar": [
           {
            "marker": {
             "colorbar": {
              "outlinewidth": 0,
              "ticks": ""
             }
            },
            "type": "scatterpolar"
           }
          ],
          "scatterpolargl": [
           {
            "marker": {
             "colorbar": {
              "outlinewidth": 0,
              "ticks": ""
             }
            },
            "type": "scatterpolargl"
           }
          ],
          "scatterternary": [
           {
            "marker": {
             "colorbar": {
              "outlinewidth": 0,
              "ticks": ""
             }
            },
            "type": "scatterternary"
           }
          ],
          "surface": [
           {
            "colorbar": {
             "outlinewidth": 0,
             "ticks": ""
            },
            "colorscale": [
             [
              0,
              "#0d0887"
             ],
             [
              0.1111111111111111,
              "#46039f"
             ],
             [
              0.2222222222222222,
              "#7201a8"
             ],
             [
              0.3333333333333333,
              "#9c179e"
             ],
             [
              0.4444444444444444,
              "#bd3786"
             ],
             [
              0.5555555555555556,
              "#d8576b"
             ],
             [
              0.6666666666666666,
              "#ed7953"
             ],
             [
              0.7777777777777778,
              "#fb9f3a"
             ],
             [
              0.8888888888888888,
              "#fdca26"
             ],
             [
              1,
              "#f0f921"
             ]
            ],
            "type": "surface"
           }
          ],
          "table": [
           {
            "cells": {
             "fill": {
              "color": "#EBF0F8"
             },
             "line": {
              "color": "white"
             }
            },
            "header": {
             "fill": {
              "color": "#C8D4E3"
             },
             "line": {
              "color": "white"
             }
            },
            "type": "table"
           }
          ]
         },
         "layout": {
          "annotationdefaults": {
           "arrowcolor": "#2a3f5f",
           "arrowhead": 0,
           "arrowwidth": 1
          },
          "coloraxis": {
           "colorbar": {
            "outlinewidth": 0,
            "ticks": ""
           }
          },
          "colorscale": {
           "diverging": [
            [
             0,
             "#8e0152"
            ],
            [
             0.1,
             "#c51b7d"
            ],
            [
             0.2,
             "#de77ae"
            ],
            [
             0.3,
             "#f1b6da"
            ],
            [
             0.4,
             "#fde0ef"
            ],
            [
             0.5,
             "#f7f7f7"
            ],
            [
             0.6,
             "#e6f5d0"
            ],
            [
             0.7,
             "#b8e186"
            ],
            [
             0.8,
             "#7fbc41"
            ],
            [
             0.9,
             "#4d9221"
            ],
            [
             1,
             "#276419"
            ]
           ],
           "sequential": [
            [
             0,
             "#0d0887"
            ],
            [
             0.1111111111111111,
             "#46039f"
            ],
            [
             0.2222222222222222,
             "#7201a8"
            ],
            [
             0.3333333333333333,
             "#9c179e"
            ],
            [
             0.4444444444444444,
             "#bd3786"
            ],
            [
             0.5555555555555556,
             "#d8576b"
            ],
            [
             0.6666666666666666,
             "#ed7953"
            ],
            [
             0.7777777777777778,
             "#fb9f3a"
            ],
            [
             0.8888888888888888,
             "#fdca26"
            ],
            [
             1,
             "#f0f921"
            ]
           ],
           "sequentialminus": [
            [
             0,
             "#0d0887"
            ],
            [
             0.1111111111111111,
             "#46039f"
            ],
            [
             0.2222222222222222,
             "#7201a8"
            ],
            [
             0.3333333333333333,
             "#9c179e"
            ],
            [
             0.4444444444444444,
             "#bd3786"
            ],
            [
             0.5555555555555556,
             "#d8576b"
            ],
            [
             0.6666666666666666,
             "#ed7953"
            ],
            [
             0.7777777777777778,
             "#fb9f3a"
            ],
            [
             0.8888888888888888,
             "#fdca26"
            ],
            [
             1,
             "#f0f921"
            ]
           ]
          },
          "colorway": [
           "#636efa",
           "#EF553B",
           "#00cc96",
           "#ab63fa",
           "#FFA15A",
           "#19d3f3",
           "#FF6692",
           "#B6E880",
           "#FF97FF",
           "#FECB52"
          ],
          "font": {
           "color": "#2a3f5f"
          },
          "geo": {
           "bgcolor": "white",
           "lakecolor": "white",
           "landcolor": "#E5ECF6",
           "showlakes": true,
           "showland": true,
           "subunitcolor": "white"
          },
          "hoverlabel": {
           "align": "left"
          },
          "hovermode": "closest",
          "mapbox": {
           "style": "light"
          },
          "paper_bgcolor": "white",
          "plot_bgcolor": "#E5ECF6",
          "polar": {
           "angularaxis": {
            "gridcolor": "white",
            "linecolor": "white",
            "ticks": ""
           },
           "bgcolor": "#E5ECF6",
           "radialaxis": {
            "gridcolor": "white",
            "linecolor": "white",
            "ticks": ""
           }
          },
          "scene": {
           "xaxis": {
            "backgroundcolor": "#E5ECF6",
            "gridcolor": "white",
            "gridwidth": 2,
            "linecolor": "white",
            "showbackground": true,
            "ticks": "",
            "zerolinecolor": "white"
           },
           "yaxis": {
            "backgroundcolor": "#E5ECF6",
            "gridcolor": "white",
            "gridwidth": 2,
            "linecolor": "white",
            "showbackground": true,
            "ticks": "",
            "zerolinecolor": "white"
           },
           "zaxis": {
            "backgroundcolor": "#E5ECF6",
            "gridcolor": "white",
            "gridwidth": 2,
            "linecolor": "white",
            "showbackground": true,
            "ticks": "",
            "zerolinecolor": "white"
           }
          },
          "shapedefaults": {
           "line": {
            "color": "#2a3f5f"
           }
          },
          "ternary": {
           "aaxis": {
            "gridcolor": "white",
            "linecolor": "white",
            "ticks": ""
           },
           "baxis": {
            "gridcolor": "white",
            "linecolor": "white",
            "ticks": ""
           },
           "bgcolor": "#E5ECF6",
           "caxis": {
            "gridcolor": "white",
            "linecolor": "white",
            "ticks": ""
           }
          },
          "title": {
           "x": 0.05
          },
          "xaxis": {
           "automargin": true,
           "gridcolor": "white",
           "linecolor": "white",
           "ticks": "",
           "title": {
            "standoff": 15
           },
           "zerolinecolor": "white",
           "zerolinewidth": 2
          },
          "yaxis": {
           "automargin": true,
           "gridcolor": "white",
           "linecolor": "white",
           "ticks": "",
           "title": {
            "standoff": 15
           },
           "zerolinecolor": "white",
           "zerolinewidth": 2
          }
         }
        },
        "title": {
         "text": "US State COVID-19 Confirmed Cases (latest update: May 05)"
        }
       }
      },
      "text/html": [
       "<div>\n",
       "        \n",
       "        \n",
       "            <div id=\"a5ca45c0-9212-4742-91d8-1b99f47b6ced\" class=\"plotly-graph-div\" style=\"height:525px; width:100%;\"></div>\n",
       "            <script type=\"text/javascript\">\n",
       "                require([\"plotly\"], function(Plotly) {\n",
       "                    window.PLOTLYENV=window.PLOTLYENV || {};\n",
       "                    \n",
       "                if (document.getElementById(\"a5ca45c0-9212-4742-91d8-1b99f47b6ced\")) {\n",
       "                    Plotly.newPlot(\n",
       "                        'a5ca45c0-9212-4742-91d8-1b99f47b6ced',\n",
       "                        [{\"autocolorscale\": false, \"colorbar\": {\"title\": {\"text\": \"Confirmed Cases\"}}, \"colorscale\": [[0.0, \"#FFEBEE\"], [0.1111111111111111, \"#FFCDD2\"], [0.2222222222222222, \"#EF9A9A\"], [0.3333333333333333, \"#E57373\"], [0.4444444444444444, \"#EF5350\"], [0.5555555555555556, \"#F44336\"], [0.6666666666666666, \"#E53935\"], [0.7777777777777778, \"#D32F2F\"], [0.8888888888888888, \"#C62828\"], [1.0, \"#B71C1C\"]], \"locationmode\": \"USA-states\", \"locations\": [\"AK\", \"AL\", \"AR\", \"AS\", \"AZ\", \"CA\", \"CO\", \"CT\", \"DC\", \"DE\", \"FL\", \"GA\", \"GU\", \"HI\", \"IA\", \"ID\", \"IL\", \"IN\", \"KS\", \"KY\", \"LA\", \"MA\", \"MD\", \"ME\", \"MI\", \"MN\", \"MO\", \"MP\", \"MS\", \"MT\", \"NC\", \"ND\", \"NE\", \"NH\", \"NJ\", \"NM\", \"NV\", \"NY\", \"OH\", \"OK\", \"OR\", \"PA\", \"PR\", \"RI\", \"SC\", \"SD\", \"TN\", \"TX\", \"UT\", \"VA\", \"VI\", \"VT\", \"WA\", \"WI\", \"WV\", \"WY\"], \"marker\": {\"line\": {\"color\": \"rgb(255,255,255)\", \"width\": 2}}, \"text\": [\"Alaska<br>Cases: 371.0<br>Deaths: 9.0<br>Tests: 22692\", \"Alabama<br>Cases: 8285.0<br>Deaths: 313.0<br>Tests: 106766\", \"Arkansas<br>Cases: 3496.0<br>Deaths: 80.0<br>Tests: 54635\", \"American Samoa<br>Cases: 0.0<br>Deaths: 0.0<br>Tests: 83\", \"Arizona<br>Cases: 9305.0<br>Deaths: 395.0<br>Tests: 88260\", \"California<br>Cases: 56212.0<br>Deaths: 2317.0<br>Tests: 779902\", \"Colorado<br>Cases: 16907.0<br>Deaths: 851.0<br>Tests: 85004\", \"Connecticut<br>Cases: 30621.0<br>Deaths: 2633.0<br>Tests: 108643\", \"District of Columbia<br>Cases: 5322.0<br>Deaths: 264.0<br>Tests: 24329\", \"Delaware<br>Cases: 5371.0<br>Deaths: 187.0<br>Tests: 24680\", \"Florida<br>Cases: 37439.0<br>Deaths: 1536.0<br>Tests: 466956\", \"Georgia<br>Cases: 29711.0<br>Deaths: 1288.0<br>Tests: 200883\", \"Guam<br>Cases: 149.0<br>Deaths: 5.0<br>Tests: 3490\", \"Hawaii<br>Cases: 621.0<br>Deaths: 17.0<br>Tests: 33999\", \"Iowa<br>Cases: 10111.0<br>Deaths: 207.0<br>Tests: 60569\", \"Idaho<br>Cases: 2106.0<br>Deaths: 64.0<br>Tests: 30308\", \"Illinois<br>Cases: 65962.0<br>Deaths: 2838.0<br>Tests: 346286\", \"Indiana<br>Cases: 21033.0<br>Deaths: 1326.0<br>Tests: 115834\", \"Kansas<br>Cases: 5458.0<br>Deaths: 137.0<br>Tests: 40092\", \"Kentucky<br>Cases: 5245.0<br>Deaths: 261.0<br>Tests: 60047\", \"Louisiana<br>Cases: 29996.0<br>Deaths: 2115.0<br>Tests: 188231\", \"Massachusetts<br>Cases: 70271.0<br>Deaths: 4212.0<br>Tests: 333349\", \"Maryland<br>Cases: 27117.0<br>Deaths: 1390.0<br>Tests: 140103\", \"Maine<br>Cases: 1226.0<br>Deaths: 61.0<br>Tests: 20772\", \"Michigan<br>Cases: 44397.0<br>Deaths: 4179.0<br>Tests: 222836\", \"Minnesota<br>Cases: 7851.0<br>Deaths: 455.0<br>Tests: 88009\", \"Missouri<br>Cases: 8916.0<br>Deaths: 377.0<br>Tests: 95066\", \"Commonwealth of the Northern Mariana Islands<br>Cases: 14.0<br>Deaths: 2.0<br>Tests: 1797\", \"Mississippi<br>Cases: 8207.0<br>Deaths: 342.0<br>Tests: 80308\", \"Montana<br>Cases: 456.0<br>Deaths: 16.0<br>Tests: 15272\", \"North Carolina<br>Cases: 12256.0<br>Deaths: 452.0<br>Tests: 151800\", \"North Dakota<br>Cases: 1266.0<br>Deaths: 25.0<br>Tests: 36421\", \"Nebraska<br>Cases: 6083.0<br>Deaths: 78.0<br>Tests: 34609\", \"New Hampshire<br>Cases: 2588.0<br>Deaths: 86.0<br>Tests: 26949\", \"New Jersey<br>Cases: 130593.0<br>Deaths: 8244.0<br>Tests: 288173\", \"New Mexico<br>Cases: 4031.0<br>Deaths: 156.0<br>Tests: 81720\", \"Nevada<br>Cases: 5594.0<br>Deaths: 268.0<br>Tests: 47884\", \"New York<br>Cases: 321192.0<br>Deaths: 19645.0<br>Tests: 1028899\", \"Ohio<br>Cases: 20969.0<br>Deaths: 1135.0<br>Tests: 160735\", \"Oklahoma<br>Cases: 4127.0<br>Deaths: 247.0<br>Tests: 79417\", \"Oregon<br>Cases: 2839.0<br>Deaths: 113.0<br>Tests: 65424\", \"Pennsylvania<br>Cases: 50957.0<br>Deaths: 3012.0<br>Tests: 250882\", \"Puerto Rico<br>Cases: 1924.0<br>Deaths: 99.0<br>Tests: 11237\", \"Rhode Island<br>Cases: 9933.0<br>Deaths: 355.0<br>Tests: 76435\", \"South Carolina<br>Cases: 6757.0<br>Deaths: 283.0<br>Tests: 67771\", \"South Dakota<br>Cases: 2721.0<br>Deaths: 24.0<br>Tests: 19022\", \"Tennessee<br>Cases: 13690.0<br>Deaths: 226.0<br>Tests: 218862\", \"Texas<br>Cases: 33369.0<br>Deaths: 906.0<br>Tests: 427210\", \"Utah<br>Cases: 5449.0<br>Deaths: 56.0<br>Tests: 126715\", \"Virginia<br>Cases: 20256.0<br>Deaths: 713.0<br>Tests: 114177\", \"United States Virgin Islands<br>Cases: 66.0<br>Deaths: 4.0<br>Tests: 1073\", \"Vermont<br>Cases: 907.0<br>Deaths: 52.0<br>Tests: 17518\", \"Washington<br>Cases: 15462.0<br>Deaths: 841.0<br>Tests: 216320\", \"Wisconsin<br>Cases: 8566.0<br>Deaths: 353.0<br>Tests: 92769\", \"West Virginia<br>Cases: 1238.0<br>Deaths: 50.0<br>Tests: 54823\", \"Wyoming<br>Cases: 596.0<br>Deaths: 7.0<br>Tests: 10915\"], \"type\": \"choropleth\", \"z\": [371.0, 8285.0, 3496.0, 0.0, 9305.0, 56212.0, 16907.0, 30621.0, 5322.0, 5371.0, 37439.0, 29711.0, 149.0, 621.0, 10111.0, 2106.0, 65962.0, 21033.0, 5458.0, 5245.0, 29996.0, 70271.0, 27117.0, 1226.0, 44397.0, 7851.0, 8916.0, 14.0, 8207.0, 456.0, 12256.0, 1266.0, 6083.0, 2588.0, 130593.0, 4031.0, 5594.0, 321192.0, 20969.0, 4127.0, 2839.0, 50957.0, 1924.0, 9933.0, 6757.0, 2721.0, 13690.0, 33369.0, 5449.0, 20256.0, 66.0, 907.0, 15462.0, 8566.0, 1238.0, 596.0], \"zmax\": 350000, \"zmid\": 30000, \"zmin\": 0}],\n",
       "                        {\"geo\": {\"projection\": {\"type\": \"albers usa\"}, \"scope\": \"usa\"}, \"template\": {\"data\": {\"bar\": [{\"error_x\": {\"color\": \"#2a3f5f\"}, \"error_y\": {\"color\": \"#2a3f5f\"}, \"marker\": {\"line\": {\"color\": \"#E5ECF6\", \"width\": 0.5}}, \"type\": \"bar\"}], \"barpolar\": [{\"marker\": {\"line\": {\"color\": \"#E5ECF6\", \"width\": 0.5}}, \"type\": \"barpolar\"}], \"carpet\": [{\"aaxis\": {\"endlinecolor\": \"#2a3f5f\", \"gridcolor\": \"white\", \"linecolor\": \"white\", \"minorgridcolor\": \"white\", \"startlinecolor\": \"#2a3f5f\"}, \"baxis\": {\"endlinecolor\": \"#2a3f5f\", \"gridcolor\": \"white\", \"linecolor\": \"white\", \"minorgridcolor\": \"white\", \"startlinecolor\": \"#2a3f5f\"}, \"type\": \"carpet\"}], \"choropleth\": [{\"colorbar\": {\"outlinewidth\": 0, \"ticks\": \"\"}, \"type\": \"choropleth\"}], \"contour\": [{\"colorbar\": {\"outlinewidth\": 0, \"ticks\": \"\"}, \"colorscale\": [[0.0, \"#0d0887\"], [0.1111111111111111, \"#46039f\"], [0.2222222222222222, \"#7201a8\"], [0.3333333333333333, \"#9c179e\"], [0.4444444444444444, \"#bd3786\"], [0.5555555555555556, \"#d8576b\"], [0.6666666666666666, \"#ed7953\"], [0.7777777777777778, \"#fb9f3a\"], [0.8888888888888888, \"#fdca26\"], [1.0, \"#f0f921\"]], \"type\": \"contour\"}], \"contourcarpet\": [{\"colorbar\": {\"outlinewidth\": 0, \"ticks\": \"\"}, \"type\": \"contourcarpet\"}], \"heatmap\": [{\"colorbar\": {\"outlinewidth\": 0, \"ticks\": \"\"}, \"colorscale\": [[0.0, \"#0d0887\"], [0.1111111111111111, \"#46039f\"], [0.2222222222222222, \"#7201a8\"], [0.3333333333333333, \"#9c179e\"], [0.4444444444444444, \"#bd3786\"], [0.5555555555555556, \"#d8576b\"], [0.6666666666666666, \"#ed7953\"], [0.7777777777777778, \"#fb9f3a\"], [0.8888888888888888, \"#fdca26\"], [1.0, \"#f0f921\"]], \"type\": \"heatmap\"}], \"heatmapgl\": [{\"colorbar\": {\"outlinewidth\": 0, \"ticks\": \"\"}, \"colorscale\": [[0.0, \"#0d0887\"], [0.1111111111111111, \"#46039f\"], [0.2222222222222222, \"#7201a8\"], [0.3333333333333333, \"#9c179e\"], [0.4444444444444444, \"#bd3786\"], [0.5555555555555556, \"#d8576b\"], [0.6666666666666666, \"#ed7953\"], [0.7777777777777778, \"#fb9f3a\"], [0.8888888888888888, \"#fdca26\"], [1.0, \"#f0f921\"]], \"type\": \"heatmapgl\"}], \"histogram\": [{\"marker\": {\"colorbar\": {\"outlinewidth\": 0, \"ticks\": \"\"}}, \"type\": \"histogram\"}], \"histogram2d\": [{\"colorbar\": {\"outlinewidth\": 0, \"ticks\": \"\"}, \"colorscale\": [[0.0, \"#0d0887\"], [0.1111111111111111, \"#46039f\"], [0.2222222222222222, \"#7201a8\"], [0.3333333333333333, \"#9c179e\"], [0.4444444444444444, \"#bd3786\"], [0.5555555555555556, \"#d8576b\"], [0.6666666666666666, \"#ed7953\"], [0.7777777777777778, \"#fb9f3a\"], [0.8888888888888888, \"#fdca26\"], [1.0, \"#f0f921\"]], \"type\": \"histogram2d\"}], \"histogram2dcontour\": [{\"colorbar\": {\"outlinewidth\": 0, \"ticks\": \"\"}, \"colorscale\": [[0.0, \"#0d0887\"], [0.1111111111111111, \"#46039f\"], [0.2222222222222222, \"#7201a8\"], [0.3333333333333333, \"#9c179e\"], [0.4444444444444444, \"#bd3786\"], [0.5555555555555556, \"#d8576b\"], [0.6666666666666666, \"#ed7953\"], [0.7777777777777778, \"#fb9f3a\"], [0.8888888888888888, \"#fdca26\"], [1.0, \"#f0f921\"]], \"type\": \"histogram2dcontour\"}], \"mesh3d\": [{\"colorbar\": {\"outlinewidth\": 0, \"ticks\": \"\"}, \"type\": \"mesh3d\"}], \"parcoords\": [{\"line\": {\"colorbar\": {\"outlinewidth\": 0, \"ticks\": \"\"}}, \"type\": \"parcoords\"}], \"pie\": [{\"automargin\": true, \"type\": \"pie\"}], \"scatter\": [{\"marker\": {\"colorbar\": {\"outlinewidth\": 0, \"ticks\": \"\"}}, \"type\": \"scatter\"}], \"scatter3d\": [{\"line\": {\"colorbar\": {\"outlinewidth\": 0, \"ticks\": \"\"}}, \"marker\": {\"colorbar\": {\"outlinewidth\": 0, \"ticks\": \"\"}}, \"type\": \"scatter3d\"}], \"scattercarpet\": [{\"marker\": {\"colorbar\": {\"outlinewidth\": 0, \"ticks\": \"\"}}, \"type\": \"scattercarpet\"}], \"scattergeo\": [{\"marker\": {\"colorbar\": {\"outlinewidth\": 0, \"ticks\": \"\"}}, \"type\": \"scattergeo\"}], \"scattergl\": [{\"marker\": {\"colorbar\": {\"outlinewidth\": 0, \"ticks\": \"\"}}, \"type\": \"scattergl\"}], \"scattermapbox\": [{\"marker\": {\"colorbar\": {\"outlinewidth\": 0, \"ticks\": \"\"}}, \"type\": \"scattermapbox\"}], \"scatterpolar\": [{\"marker\": {\"colorbar\": {\"outlinewidth\": 0, \"ticks\": \"\"}}, \"type\": \"scatterpolar\"}], \"scatterpolargl\": [{\"marker\": {\"colorbar\": {\"outlinewidth\": 0, \"ticks\": \"\"}}, \"type\": \"scatterpolargl\"}], \"scatterternary\": [{\"marker\": {\"colorbar\": {\"outlinewidth\": 0, \"ticks\": \"\"}}, \"type\": \"scatterternary\"}], \"surface\": [{\"colorbar\": {\"outlinewidth\": 0, \"ticks\": \"\"}, \"colorscale\": [[0.0, \"#0d0887\"], [0.1111111111111111, \"#46039f\"], [0.2222222222222222, \"#7201a8\"], [0.3333333333333333, \"#9c179e\"], [0.4444444444444444, \"#bd3786\"], [0.5555555555555556, \"#d8576b\"], [0.6666666666666666, \"#ed7953\"], [0.7777777777777778, \"#fb9f3a\"], [0.8888888888888888, \"#fdca26\"], [1.0, \"#f0f921\"]], \"type\": \"surface\"}], \"table\": [{\"cells\": {\"fill\": {\"color\": \"#EBF0F8\"}, \"line\": {\"color\": \"white\"}}, \"header\": {\"fill\": {\"color\": \"#C8D4E3\"}, \"line\": {\"color\": \"white\"}}, \"type\": \"table\"}]}, \"layout\": {\"annotationdefaults\": {\"arrowcolor\": \"#2a3f5f\", \"arrowhead\": 0, \"arrowwidth\": 1}, \"coloraxis\": {\"colorbar\": {\"outlinewidth\": 0, \"ticks\": \"\"}}, \"colorscale\": {\"diverging\": [[0, \"#8e0152\"], [0.1, \"#c51b7d\"], [0.2, \"#de77ae\"], [0.3, \"#f1b6da\"], [0.4, \"#fde0ef\"], [0.5, \"#f7f7f7\"], [0.6, \"#e6f5d0\"], [0.7, \"#b8e186\"], [0.8, \"#7fbc41\"], [0.9, \"#4d9221\"], [1, \"#276419\"]], \"sequential\": [[0.0, \"#0d0887\"], [0.1111111111111111, \"#46039f\"], [0.2222222222222222, \"#7201a8\"], [0.3333333333333333, \"#9c179e\"], [0.4444444444444444, \"#bd3786\"], [0.5555555555555556, \"#d8576b\"], [0.6666666666666666, \"#ed7953\"], [0.7777777777777778, \"#fb9f3a\"], [0.8888888888888888, \"#fdca26\"], [1.0, \"#f0f921\"]], \"sequentialminus\": [[0.0, \"#0d0887\"], [0.1111111111111111, \"#46039f\"], [0.2222222222222222, \"#7201a8\"], [0.3333333333333333, \"#9c179e\"], [0.4444444444444444, \"#bd3786\"], [0.5555555555555556, \"#d8576b\"], [0.6666666666666666, \"#ed7953\"], [0.7777777777777778, \"#fb9f3a\"], [0.8888888888888888, \"#fdca26\"], [1.0, \"#f0f921\"]]}, \"colorway\": [\"#636efa\", \"#EF553B\", \"#00cc96\", \"#ab63fa\", \"#FFA15A\", \"#19d3f3\", \"#FF6692\", \"#B6E880\", \"#FF97FF\", \"#FECB52\"], \"font\": {\"color\": \"#2a3f5f\"}, \"geo\": {\"bgcolor\": \"white\", \"lakecolor\": \"white\", \"landcolor\": \"#E5ECF6\", \"showlakes\": true, \"showland\": true, \"subunitcolor\": \"white\"}, \"hoverlabel\": {\"align\": \"left\"}, \"hovermode\": \"closest\", \"mapbox\": {\"style\": \"light\"}, \"paper_bgcolor\": \"white\", \"plot_bgcolor\": \"#E5ECF6\", \"polar\": {\"angularaxis\": {\"gridcolor\": \"white\", \"linecolor\": \"white\", \"ticks\": \"\"}, \"bgcolor\": \"#E5ECF6\", \"radialaxis\": {\"gridcolor\": \"white\", \"linecolor\": \"white\", \"ticks\": \"\"}}, \"scene\": {\"xaxis\": {\"backgroundcolor\": \"#E5ECF6\", \"gridcolor\": \"white\", \"gridwidth\": 2, \"linecolor\": \"white\", \"showbackground\": true, \"ticks\": \"\", \"zerolinecolor\": \"white\"}, \"yaxis\": {\"backgroundcolor\": \"#E5ECF6\", \"gridcolor\": \"white\", \"gridwidth\": 2, \"linecolor\": \"white\", \"showbackground\": true, \"ticks\": \"\", \"zerolinecolor\": \"white\"}, \"zaxis\": {\"backgroundcolor\": \"#E5ECF6\", \"gridcolor\": \"white\", \"gridwidth\": 2, \"linecolor\": \"white\", \"showbackground\": true, \"ticks\": \"\", \"zerolinecolor\": \"white\"}}, \"shapedefaults\": {\"line\": {\"color\": \"#2a3f5f\"}}, \"ternary\": {\"aaxis\": {\"gridcolor\": \"white\", \"linecolor\": \"white\", \"ticks\": \"\"}, \"baxis\": {\"gridcolor\": \"white\", \"linecolor\": \"white\", \"ticks\": \"\"}, \"bgcolor\": \"#E5ECF6\", \"caxis\": {\"gridcolor\": \"white\", \"linecolor\": \"white\", \"ticks\": \"\"}}, \"title\": {\"x\": 0.05}, \"xaxis\": {\"automargin\": true, \"gridcolor\": \"white\", \"linecolor\": \"white\", \"ticks\": \"\", \"title\": {\"standoff\": 15}, \"zerolinecolor\": \"white\", \"zerolinewidth\": 2}, \"yaxis\": {\"automargin\": true, \"gridcolor\": \"white\", \"linecolor\": \"white\", \"ticks\": \"\", \"title\": {\"standoff\": 15}, \"zerolinecolor\": \"white\", \"zerolinewidth\": 2}}}, \"title\": {\"text\": \"US State COVID-19 Confirmed Cases (latest update: May 05)\"}},\n",
       "                        {\"responsive\": true}\n",
       "                    ).then(function(){\n",
       "                            \n",
       "var gd = document.getElementById('a5ca45c0-9212-4742-91d8-1b99f47b6ced');\n",
       "var x = new MutationObserver(function (mutations, observer) {{\n",
       "        var display = window.getComputedStyle(gd).display;\n",
       "        if (!display || display === 'none') {{\n",
       "            console.log([gd, 'removed!']);\n",
       "            Plotly.purge(gd);\n",
       "            observer.disconnect();\n",
       "        }}\n",
       "}});\n",
       "\n",
       "// Listen for the removal of the full notebook cells\n",
       "var notebookContainer = gd.closest('#notebook-container');\n",
       "if (notebookContainer) {{\n",
       "    x.observe(notebookContainer, {childList: true});\n",
       "}}\n",
       "\n",
       "// Listen for the clearing of the current output cell\n",
       "var outputEl = gd.closest('.output');\n",
       "if (outputEl) {{\n",
       "    x.observe(outputEl, {childList: true});\n",
       "}}\n",
       "\n",
       "                        })\n",
       "                };\n",
       "                });\n",
       "            </script>\n",
       "        </div>"
      ]
     },
     "metadata": {},
     "output_type": "display_data"
    }
   ],
   "source": [
    "# layout\n",
    "layout = dict(\n",
    "        title = 'US State COVID-19 Confirmed Cases (latest update: ' + state_start_date.strftime('%b %d') + ')',\n",
    "        geo = dict(\n",
    "            scope='usa',\n",
    "            projection=dict(type='albers usa'),\n",
    "            # showlakes = True,  # if you want to give color to the lakes\n",
    "            # lakecolor = 'rgb(73, 216, 230)'  \n",
    "            ),\n",
    "        )\n",
    "\n",
    "\n",
    "fig = dict(data=data, layout=layout)\n",
    "\n",
    "\n",
    "# plot\n",
    "plotly.offline.iplot(fig)\n",
    "\n",
    "# if want to plot in a different window on your browser\n",
    "# offline.plot(\n",
    "#     fig, \n",
    "#     auto_open=True, \n",
    "#     image = 'png', \n",
    "#     image_filename=\"US State COVID-19 Confirmed Cases\"+str(state_start_date.strftime('%b %d')),  \n",
    "#     image_width=2000, image_height=1000, \n",
    "#     filename='/your_path/'/span>\"US State COVID-19 Confirmed Cases\"str(state_start_date.strftime('%b %d'))+'.html', validate=True)\n",
    "\n",
    "\n",
    "# updating the layout\n",
    "# fig.update_layout(\n",
    "#     title_text = 'US COVID-19 Confirmed Cases (latest update: ' + state_start_date['datetime'].strftime('%b %d') + ')',\n",
    "#     geo = dict(\n",
    "#             scope = 'usa',\n",
    "#             projection=go.layout.geo.Projection(type='albers usa'),\n",
    "#             # showlakes = True,  # if you want to give color to the lakes\n",
    "#             # lakecolor = 'rgb(73, 216, 230)'\n",
    "#     )\n",
    "# )\n",
    "\n",
    "# fig.show()\n"
   ]
  },
  {
   "cell_type": "markdown",
   "metadata": {},
   "source": [
    "### You have the plot for the first confirmed COVID-19 case in the US!  Now we can make the necessary modifications to add a slider to go over the different days in the data set.  The main conceptual differences are that now the data object now is going to be a list of dictionaries, and also that I need to create a ‘steps’, and a ‘slider’ object that will go as an argument for the layout command."
   ]
  },
  {
   "cell_type": "code",
   "execution_count": null,
   "metadata": {},
   "outputs": [],
   "source": [
    "# create an empty list for data object\n",
    "data_slider = []\n",
    "\n",
    "# populate the data object, one dictionary per day that will be displayed with the slider, by iterating over the different years in the data set\n",
    "for day in us_cov19_states_df.datetime.unique():\n",
    "    \n",
    "    # select the date\n",
    "    # state_start_df = us_cov19_states_df[us_cov19_states_df['datetime']==start_date]\n",
    "    \n",
    "    # transform the column into string type for hovering text\n",
    "    # for col in state_start_df.columns:\n",
    "    #     state_start_df[col] = state_start_df[col].astype(str)\n",
    "\n",
    "\n",
    "\n",
    "\n",
    "\n",
    "\n",
    "\n"
   ]
  }
 ],
 "metadata": {
  "kernelspec": {
   "display_name": "Python 3",
   "language": "python",
   "name": "python3"
  },
  "language_info": {
   "codemirror_mode": {
    "name": "ipython",
    "version": 3
   },
   "file_extension": ".py",
   "mimetype": "text/x-python",
   "name": "python",
   "nbconvert_exporter": "python",
   "pygments_lexer": "ipython3",
   "version": "3.7.7"
  }
 },
 "nbformat": 4,
 "nbformat_minor": 4
}
