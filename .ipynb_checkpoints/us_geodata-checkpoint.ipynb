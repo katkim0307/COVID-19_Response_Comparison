{
 "cells": [
  {
   "cell_type": "markdown",
   "metadata": {},
   "source": [
    "# US Geodata"
   ]
  },
  {
   "cell_type": "code",
   "execution_count": 1,
   "metadata": {},
   "outputs": [],
   "source": [
    "import os\n",
    "import sys\n",
    "\n",
    "from IPython.display import IFrame\n",
    "import pandas as pd\n",
    "import geopandas as gpd\n",
    "import matplotlib.pyplot as plt\n",
    "import matplotlib.dates as mdates\n",
    "import matplotlib.ticker as ticker\n",
    "import numpy as np\n",
    "import missingno as msno\n",
    "import seaborn as sns\n",
    "import matplotlib.patches as patches\n",
    "import warnings\n",
    "import networkx as nx\n",
    "import osmnx as ox\n",
    "import requests\n",
    "import matplotlib.cm as cm\n",
    "import matplotlib.colors as colors\n",
    "\n",
    "import urllib\n",
    "import zipfile\n",
    "import glob"
   ]
  },
  {
   "cell_type": "markdown",
   "metadata": {},
   "source": [
    "## Downloading US geodata through census.gov\n",
    "\n",
    "The [US Census Bureau](https://www.census.gov/) has [Cartographic Boundary Files](https://www.census.gov/geographies/mapping-files/time-series/geo/carto-boundary-file.html) available for download.\n",
    "\n",
    "[![census_geographies_mapping-files](https://raw.githubusercontent.com/katkim0307/COVID-19_Response_Comparison/master/Data/image/census_geo_map_page.PNG)](https://www.census.gov/geographies/mapping-files/time-series/geo/carto-boundary-file.html)\n",
    "\n",
    "\n",
    "#### Additional Link for another shapefile from [DATA.GOV](https://catalog.data.gov/dataset/tiger-line-shapefile-2017-nation-u-s-current-county-and-equivalent-national-shapefile)"
   ]
  },
  {
   "cell_type": "markdown",
   "metadata": {},
   "source": [
    "## Download the zipfile and store it in the Data folder"
   ]
  },
  {
   "cell_type": "code",
   "execution_count": 44,
   "metadata": {},
   "outputs": [],
   "source": [
    "us_counties_url = 'https://www2.census.gov/geo/tiger/GENZ2018/shp/cb_2018_us_county_5m.zip'"
   ]
  },
  {
   "cell_type": "code",
   "execution_count": 45,
   "metadata": {},
   "outputs": [
    {
     "data": {
      "text/plain": [
       "('Data/input/us_counties.zip', <http.client.HTTPMessage at 0x1d97c7d5848>)"
      ]
     },
     "execution_count": 45,
     "metadata": {},
     "output_type": "execute_result"
    }
   ],
   "source": [
    "urllib.request.urlretrieve(us_counties_url, \"Data/input/us_counties.zip\")"
   ]
  },
  {
   "cell_type": "markdown",
   "metadata": {},
   "source": [
    "## Unzip the zipfile and Extract"
   ]
  },
  {
   "cell_type": "code",
   "execution_count": 46,
   "metadata": {},
   "outputs": [
    {
     "data": {
      "text/plain": [
       "<zipfile.ZipFile filename='Data/input/us_counties.zip' mode='r'>"
      ]
     },
     "execution_count": 46,
     "metadata": {},
     "output_type": "execute_result"
    }
   ],
   "source": [
    "us_counties_zip = zipfile.ZipFile('Data/input/us_counties.zip')\n",
    "\n",
    "us_counties_zip"
   ]
  },
  {
   "cell_type": "code",
   "execution_count": 47,
   "metadata": {},
   "outputs": [],
   "source": [
    "us_counties_zip.extractall('Data/input/us_counties')"
   ]
  },
  {
   "cell_type": "markdown",
   "metadata": {},
   "source": [
    "## Look in the directory and see what files are available"
   ]
  },
  {
   "cell_type": "code",
   "execution_count": 48,
   "metadata": {},
   "outputs": [
    {
     "data": {
      "text/plain": [
       "['Data/input/us_counties\\\\cb_2018_us_county_5m.cpg',\n",
       " 'Data/input/us_counties\\\\cb_2018_us_county_5m.dbf',\n",
       " 'Data/input/us_counties\\\\cb_2018_us_county_5m.prj',\n",
       " 'Data/input/us_counties\\\\cb_2018_us_county_5m.shp',\n",
       " 'Data/input/us_counties\\\\cb_2018_us_county_5m.shp.ea.iso.xml',\n",
       " 'Data/input/us_counties\\\\cb_2018_us_county_5m.shp.iso.xml',\n",
       " 'Data/input/us_counties\\\\cb_2018_us_county_5m.shx']"
      ]
     },
     "execution_count": 48,
     "metadata": {},
     "output_type": "execute_result"
    }
   ],
   "source": [
    "glob.glob('Data/input/us_counties/*')"
   ]
  },
  {
   "cell_type": "markdown",
   "metadata": {},
   "source": [
    "## Read the shapefile in the directory"
   ]
  },
  {
   "cell_type": "code",
   "execution_count": 2,
   "metadata": {},
   "outputs": [
    {
     "data": {
      "text/html": [
       "<div>\n",
       "<style scoped>\n",
       "    .dataframe tbody tr th:only-of-type {\n",
       "        vertical-align: middle;\n",
       "    }\n",
       "\n",
       "    .dataframe tbody tr th {\n",
       "        vertical-align: top;\n",
       "    }\n",
       "\n",
       "    .dataframe thead th {\n",
       "        text-align: right;\n",
       "    }\n",
       "</style>\n",
       "<table border=\"1\" class=\"dataframe\">\n",
       "  <thead>\n",
       "    <tr style=\"text-align: right;\">\n",
       "      <th></th>\n",
       "      <th>STATEFP</th>\n",
       "      <th>COUNTYFP</th>\n",
       "      <th>COUNTYNS</th>\n",
       "      <th>AFFGEOID</th>\n",
       "      <th>GEOID</th>\n",
       "      <th>NAME</th>\n",
       "      <th>LSAD</th>\n",
       "      <th>ALAND</th>\n",
       "      <th>AWATER</th>\n",
       "      <th>geometry</th>\n",
       "    </tr>\n",
       "  </thead>\n",
       "  <tbody>\n",
       "    <tr>\n",
       "      <th>0</th>\n",
       "      <td>39</td>\n",
       "      <td>071</td>\n",
       "      <td>01074048</td>\n",
       "      <td>0500000US39071</td>\n",
       "      <td>39071</td>\n",
       "      <td>Highland</td>\n",
       "      <td>06</td>\n",
       "      <td>1432479992</td>\n",
       "      <td>12194983</td>\n",
       "      <td>POLYGON ((-83.86976 39.05553, -83.86568 39.247...</td>\n",
       "    </tr>\n",
       "    <tr>\n",
       "      <th>1</th>\n",
       "      <td>06</td>\n",
       "      <td>003</td>\n",
       "      <td>01675840</td>\n",
       "      <td>0500000US06003</td>\n",
       "      <td>06003</td>\n",
       "      <td>Alpine</td>\n",
       "      <td>06</td>\n",
       "      <td>1912292630</td>\n",
       "      <td>12557304</td>\n",
       "      <td>POLYGON ((-120.07248 38.50987, -120.07239 38.7...</td>\n",
       "    </tr>\n",
       "    <tr>\n",
       "      <th>2</th>\n",
       "      <td>12</td>\n",
       "      <td>033</td>\n",
       "      <td>00295737</td>\n",
       "      <td>0500000US12033</td>\n",
       "      <td>12033</td>\n",
       "      <td>Escambia</td>\n",
       "      <td>06</td>\n",
       "      <td>1701544502</td>\n",
       "      <td>563927612</td>\n",
       "      <td>POLYGON ((-87.62999 30.87766, -87.62946 30.880...</td>\n",
       "    </tr>\n",
       "    <tr>\n",
       "      <th>3</th>\n",
       "      <td>17</td>\n",
       "      <td>101</td>\n",
       "      <td>00424252</td>\n",
       "      <td>0500000US17101</td>\n",
       "      <td>17101</td>\n",
       "      <td>Lawrence</td>\n",
       "      <td>06</td>\n",
       "      <td>963936864</td>\n",
       "      <td>5077783</td>\n",
       "      <td>POLYGON ((-87.91028 38.57493, -87.90811 38.850...</td>\n",
       "    </tr>\n",
       "    <tr>\n",
       "      <th>4</th>\n",
       "      <td>28</td>\n",
       "      <td>153</td>\n",
       "      <td>00695797</td>\n",
       "      <td>0500000US28153</td>\n",
       "      <td>28153</td>\n",
       "      <td>Wayne</td>\n",
       "      <td>06</td>\n",
       "      <td>2099745573</td>\n",
       "      <td>7255476</td>\n",
       "      <td>POLYGON ((-88.94317 31.78421, -88.94335 31.824...</td>\n",
       "    </tr>\n",
       "  </tbody>\n",
       "</table>\n",
       "</div>"
      ],
      "text/plain": [
       "  STATEFP COUNTYFP  COUNTYNS        AFFGEOID  GEOID      NAME LSAD  \\\n",
       "0      39      071  01074048  0500000US39071  39071  Highland   06   \n",
       "1      06      003  01675840  0500000US06003  06003    Alpine   06   \n",
       "2      12      033  00295737  0500000US12033  12033  Escambia   06   \n",
       "3      17      101  00424252  0500000US17101  17101  Lawrence   06   \n",
       "4      28      153  00695797  0500000US28153  28153     Wayne   06   \n",
       "\n",
       "        ALAND     AWATER                                           geometry  \n",
       "0  1432479992   12194983  POLYGON ((-83.86976 39.05553, -83.86568 39.247...  \n",
       "1  1912292630   12557304  POLYGON ((-120.07248 38.50987, -120.07239 38.7...  \n",
       "2  1701544502  563927612  POLYGON ((-87.62999 30.87766, -87.62946 30.880...  \n",
       "3   963936864    5077783  POLYGON ((-87.91028 38.57493, -87.90811 38.850...  \n",
       "4  2099745573    7255476  POLYGON ((-88.94317 31.78421, -88.94335 31.824...  "
      ]
     },
     "execution_count": 2,
     "metadata": {},
     "output_type": "execute_result"
    }
   ],
   "source": [
    "us_counties_gdf = gpd.read_file('Data/input/us_counties/cb_2018_us_county_5m.shp')\n",
    "\n",
    "us_counties_gdf.head()"
   ]
  },
  {
   "cell_type": "code",
   "execution_count": 58,
   "metadata": {},
   "outputs": [],
   "source": [
    "us_counties_gdf['FULLFP'] = us_counties_gdf['STATEFP']+us_counties_gdf['COUNTYFP']"
   ]
  },
  {
   "cell_type": "code",
   "execution_count": 68,
   "metadata": {
    "scrolled": true
   },
   "outputs": [
    {
     "data": {
      "text/plain": [
       "(3233, 10)"
      ]
     },
     "execution_count": 68,
     "metadata": {},
     "output_type": "execute_result"
    }
   ],
   "source": [
    "us_counties_gdf.shape"
   ]
  },
  {
   "cell_type": "code",
   "execution_count": 69,
   "metadata": {},
   "outputs": [
    {
     "name": "stdout",
     "output_type": "stream",
     "text": [
      "<class 'geopandas.geodataframe.GeoDataFrame'>\n",
      "RangeIndex: 3233 entries, 0 to 3232\n",
      "Data columns (total 10 columns):\n",
      " #   Column    Non-Null Count  Dtype   \n",
      "---  ------    --------------  -----   \n",
      " 0   STATEFP   3233 non-null   object  \n",
      " 1   COUNTYFP  3233 non-null   object  \n",
      " 2   COUNTYNS  3233 non-null   object  \n",
      " 3   AFFGEOID  3233 non-null   object  \n",
      " 4   GEOID     3233 non-null   object  \n",
      " 5   NAME      3233 non-null   object  \n",
      " 6   LSAD      3233 non-null   object  \n",
      " 7   ALAND     3233 non-null   int64   \n",
      " 8   AWATER    3233 non-null   int64   \n",
      " 9   geometry  3233 non-null   geometry\n",
      "dtypes: geometry(1), int64(2), object(7)\n",
      "memory usage: 252.7+ KB\n"
     ]
    }
   ],
   "source": [
    "us_counties_gdf.info()"
   ]
  },
  {
   "cell_type": "code",
   "execution_count": 70,
   "metadata": {
    "scrolled": true
   },
   "outputs": [
    {
     "data": {
      "text/plain": [
       "<Geographic 2D CRS: EPSG:4269>\n",
       "Name: NAD83\n",
       "Axis Info [ellipsoidal]:\n",
       "- Lat[north]: Geodetic latitude (degree)\n",
       "- Lon[east]: Geodetic longitude (degree)\n",
       "Area of Use:\n",
       "- name: North America - NAD83\n",
       "- bounds: (167.65, 14.92, -47.74, 86.46)\n",
       "Datum: North American Datum 1983\n",
       "- Ellipsoid: GRS 1980\n",
       "- Prime Meridian: Greenwich"
      ]
     },
     "execution_count": 70,
     "metadata": {},
     "output_type": "execute_result"
    }
   ],
   "source": [
    "us_counties_gdf.crs"
   ]
  },
  {
   "cell_type": "code",
   "execution_count": 3,
   "metadata": {},
   "outputs": [],
   "source": [
    "us_counties_gdf.to_crs(epsg=2163, inplace=True)"
   ]
  },
  {
   "cell_type": "code",
   "execution_count": 72,
   "metadata": {
    "scrolled": true
   },
   "outputs": [
    {
     "data": {
      "text/html": [
       "<div>\n",
       "<style scoped>\n",
       "    .dataframe tbody tr th:only-of-type {\n",
       "        vertical-align: middle;\n",
       "    }\n",
       "\n",
       "    .dataframe tbody tr th {\n",
       "        vertical-align: top;\n",
       "    }\n",
       "\n",
       "    .dataframe thead th {\n",
       "        text-align: right;\n",
       "    }\n",
       "</style>\n",
       "<table border=\"1\" class=\"dataframe\">\n",
       "  <thead>\n",
       "    <tr style=\"text-align: right;\">\n",
       "      <th></th>\n",
       "      <th>STATEFP</th>\n",
       "      <th>COUNTYFP</th>\n",
       "      <th>COUNTYNS</th>\n",
       "      <th>AFFGEOID</th>\n",
       "      <th>GEOID</th>\n",
       "      <th>NAME</th>\n",
       "      <th>LSAD</th>\n",
       "      <th>ALAND</th>\n",
       "      <th>AWATER</th>\n",
       "      <th>geometry</th>\n",
       "    </tr>\n",
       "  </thead>\n",
       "  <tbody>\n",
       "    <tr>\n",
       "      <th>7</th>\n",
       "      <td>36</td>\n",
       "      <td>001</td>\n",
       "      <td>00974099</td>\n",
       "      <td>0500000US36001</td>\n",
       "      <td>36001</td>\n",
       "      <td>Albany</td>\n",
       "      <td>06</td>\n",
       "      <td>1354120790</td>\n",
       "      <td>27124553</td>\n",
       "      <td>POLYGON ((2069684.731 43649.020, 2069548.058 4...</td>\n",
       "    </tr>\n",
       "    <tr>\n",
       "      <th>84</th>\n",
       "      <td>36</td>\n",
       "      <td>049</td>\n",
       "      <td>00974123</td>\n",
       "      <td>0500000US36049</td>\n",
       "      <td>36049</td>\n",
       "      <td>Lewis</td>\n",
       "      <td>06</td>\n",
       "      <td>3301307118</td>\n",
       "      <td>39612945</td>\n",
       "      <td>POLYGON ((1900768.810 162138.225, 1907176.596 ...</td>\n",
       "    </tr>\n",
       "    <tr>\n",
       "      <th>129</th>\n",
       "      <td>36</td>\n",
       "      <td>099</td>\n",
       "      <td>00974147</td>\n",
       "      <td>0500000US36099</td>\n",
       "      <td>36099</td>\n",
       "      <td>Seneca</td>\n",
       "      <td>06</td>\n",
       "      <td>838403627</td>\n",
       "      <td>172828921</td>\n",
       "      <td>POLYGON ((1845543.525 26340.393, 1846599.750 2...</td>\n",
       "    </tr>\n",
       "    <tr>\n",
       "      <th>160</th>\n",
       "      <td>36</td>\n",
       "      <td>097</td>\n",
       "      <td>00974146</td>\n",
       "      <td>0500000US36097</td>\n",
       "      <td>36097</td>\n",
       "      <td>Schuyler</td>\n",
       "      <td>06</td>\n",
       "      <td>850405404</td>\n",
       "      <td>36246373</td>\n",
       "      <td>POLYGON ((1847236.646 -18212.765, 1856398.927 ...</td>\n",
       "    </tr>\n",
       "    <tr>\n",
       "      <th>201</th>\n",
       "      <td>36</td>\n",
       "      <td>003</td>\n",
       "      <td>00974100</td>\n",
       "      <td>0500000US36003</td>\n",
       "      <td>36003</td>\n",
       "      <td>Allegany</td>\n",
       "      <td>06</td>\n",
       "      <td>2666029673</td>\n",
       "      <td>12999275</td>\n",
       "      <td>POLYGON ((1752163.062 -40818.995, 1773075.109 ...</td>\n",
       "    </tr>\n",
       "  </tbody>\n",
       "</table>\n",
       "</div>"
      ],
      "text/plain": [
       "    STATEFP COUNTYFP  COUNTYNS        AFFGEOID  GEOID      NAME LSAD  \\\n",
       "7        36      001  00974099  0500000US36001  36001    Albany   06   \n",
       "84       36      049  00974123  0500000US36049  36049     Lewis   06   \n",
       "129      36      099  00974147  0500000US36099  36099    Seneca   06   \n",
       "160      36      097  00974146  0500000US36097  36097  Schuyler   06   \n",
       "201      36      003  00974100  0500000US36003  36003  Allegany   06   \n",
       "\n",
       "          ALAND     AWATER                                           geometry  \n",
       "7    1354120790   27124553  POLYGON ((2069684.731 43649.020, 2069548.058 4...  \n",
       "84   3301307118   39612945  POLYGON ((1900768.810 162138.225, 1907176.596 ...  \n",
       "129   838403627  172828921  POLYGON ((1845543.525 26340.393, 1846599.750 2...  \n",
       "160   850405404   36246373  POLYGON ((1847236.646 -18212.765, 1856398.927 ...  \n",
       "201  2666029673   12999275  POLYGON ((1752163.062 -40818.995, 1773075.109 ...  "
      ]
     },
     "execution_count": 72,
     "metadata": {},
     "output_type": "execute_result"
    }
   ],
   "source": [
    "ny_counties_gdf = us_counties_gdf[us_counties_gdf['STATEFP']=='36']\n",
    "\n",
    "ny_counties_gdf.head()"
   ]
  },
  {
   "cell_type": "code",
   "execution_count": 55,
   "metadata": {
    "scrolled": true
   },
   "outputs": [
    {
     "data": {
      "text/plain": [
       "(62, 10)"
      ]
     },
     "execution_count": 55,
     "metadata": {},
     "output_type": "execute_result"
    }
   ],
   "source": [
    "ny_counties_gdf.shape"
   ]
  },
  {
   "cell_type": "markdown",
   "metadata": {},
   "source": [
    "## Problem 1: There is no State Name, only State Fips code\n",
    "\n",
    "### Let's get the State name by merging `us_counties_gdf` with `Data/input/us_state_fips/us-state-ansi-fips.csv`"
   ]
  },
  {
   "cell_type": "code",
   "execution_count": 24,
   "metadata": {},
   "outputs": [],
   "source": [
    "fips_csv_dir = 'Data/input/us_state_fips/us-state-ansi-fips.csv'"
   ]
  },
  {
   "cell_type": "code",
   "execution_count": 25,
   "metadata": {
    "scrolled": true
   },
   "outputs": [
    {
     "data": {
      "text/html": [
       "<div>\n",
       "<style scoped>\n",
       "    .dataframe tbody tr th:only-of-type {\n",
       "        vertical-align: middle;\n",
       "    }\n",
       "\n",
       "    .dataframe tbody tr th {\n",
       "        vertical-align: top;\n",
       "    }\n",
       "\n",
       "    .dataframe thead th {\n",
       "        text-align: right;\n",
       "    }\n",
       "</style>\n",
       "<table border=\"1\" class=\"dataframe\">\n",
       "  <thead>\n",
       "    <tr style=\"text-align: right;\">\n",
       "      <th></th>\n",
       "      <th>stname</th>\n",
       "      <th>fips</th>\n",
       "      <th>stusps</th>\n",
       "    </tr>\n",
       "  </thead>\n",
       "  <tbody>\n",
       "    <tr>\n",
       "      <th>0</th>\n",
       "      <td>Alabama</td>\n",
       "      <td>01</td>\n",
       "      <td>AL</td>\n",
       "    </tr>\n",
       "    <tr>\n",
       "      <th>1</th>\n",
       "      <td>Alaska</td>\n",
       "      <td>02</td>\n",
       "      <td>AK</td>\n",
       "    </tr>\n",
       "    <tr>\n",
       "      <th>2</th>\n",
       "      <td>Arizona</td>\n",
       "      <td>04</td>\n",
       "      <td>AZ</td>\n",
       "    </tr>\n",
       "    <tr>\n",
       "      <th>3</th>\n",
       "      <td>Arkansas</td>\n",
       "      <td>05</td>\n",
       "      <td>AR</td>\n",
       "    </tr>\n",
       "    <tr>\n",
       "      <th>4</th>\n",
       "      <td>California</td>\n",
       "      <td>06</td>\n",
       "      <td>CA</td>\n",
       "    </tr>\n",
       "  </tbody>\n",
       "</table>\n",
       "</div>"
      ],
      "text/plain": [
       "       stname  fips  stusps\n",
       "0     Alabama    01      AL\n",
       "1      Alaska    02      AK\n",
       "2     Arizona    04      AZ\n",
       "3    Arkansas    05      AR\n",
       "4  California    06      CA"
      ]
     },
     "execution_count": 25,
     "metadata": {},
     "output_type": "execute_result"
    }
   ],
   "source": [
    "# make sure the dtype of ' fips' is object not int\n",
    "fips_df = pd.read_csv(fips_csv_dir, dtype={' fips':object})\n",
    "\n",
    "fips_df.head()"
   ]
  },
  {
   "cell_type": "code",
   "execution_count": 15,
   "metadata": {
    "scrolled": true
   },
   "outputs": [
    {
     "name": "stdout",
     "output_type": "stream",
     "text": [
      "<class 'pandas.core.frame.DataFrame'>\n",
      "RangeIndex: 51 entries, 0 to 50\n",
      "Data columns (total 3 columns):\n",
      " #   Column   Non-Null Count  Dtype \n",
      "---  ------   --------------  ----- \n",
      " 0   stname   51 non-null     object\n",
      " 1    fips    51 non-null     object\n",
      " 2    stusps  51 non-null     object\n",
      "dtypes: object(3)\n",
      "memory usage: 1.3+ KB\n"
     ]
    }
   ],
   "source": [
    "fips_df.info()"
   ]
  },
  {
   "cell_type": "code",
   "execution_count": 26,
   "metadata": {},
   "outputs": [],
   "source": [
    "fips_df.rename(columns=\n",
    "    {' fips': 'fips',\n",
    "    ' stusps': 'postcode',},\n",
    "    inplace=True)"
   ]
  },
  {
   "cell_type": "code",
   "execution_count": 27,
   "metadata": {},
   "outputs": [
    {
     "name": "stdout",
     "output_type": "stream",
     "text": [
      "<class 'pandas.core.frame.DataFrame'>\n",
      "RangeIndex: 51 entries, 0 to 50\n",
      "Data columns (total 3 columns):\n",
      " #   Column    Non-Null Count  Dtype \n",
      "---  ------    --------------  ----- \n",
      " 0   stname    51 non-null     object\n",
      " 1   fips      51 non-null     object\n",
      " 2   postcode  51 non-null     object\n",
      "dtypes: object(3)\n",
      "memory usage: 1.3+ KB\n"
     ]
    }
   ],
   "source": [
    "fips_df.info()"
   ]
  },
  {
   "cell_type": "markdown",
   "metadata": {},
   "source": [
    "## Attribute Joins - Merging `us_counties_gdf` and `fips_df` on `'STATEFP'` and `'fips'`\n",
    "\n"
   ]
  },
  {
   "cell_type": "code",
   "execution_count": 33,
   "metadata": {},
   "outputs": [
    {
     "data": {
      "text/html": [
       "<div>\n",
       "<style scoped>\n",
       "    .dataframe tbody tr th:only-of-type {\n",
       "        vertical-align: middle;\n",
       "    }\n",
       "\n",
       "    .dataframe tbody tr th {\n",
       "        vertical-align: top;\n",
       "    }\n",
       "\n",
       "    .dataframe thead th {\n",
       "        text-align: right;\n",
       "    }\n",
       "</style>\n",
       "<table border=\"1\" class=\"dataframe\">\n",
       "  <thead>\n",
       "    <tr style=\"text-align: right;\">\n",
       "      <th></th>\n",
       "      <th>STATEFP</th>\n",
       "      <th>COUNTYFP</th>\n",
       "      <th>COUNTYNS</th>\n",
       "      <th>AFFGEOID</th>\n",
       "      <th>GEOID</th>\n",
       "      <th>NAME</th>\n",
       "      <th>LSAD</th>\n",
       "      <th>ALAND</th>\n",
       "      <th>AWATER</th>\n",
       "      <th>geometry</th>\n",
       "      <th>stname</th>\n",
       "      <th>fips</th>\n",
       "      <th>postcode</th>\n",
       "    </tr>\n",
       "  </thead>\n",
       "  <tbody>\n",
       "    <tr>\n",
       "      <th>0</th>\n",
       "      <td>39</td>\n",
       "      <td>071</td>\n",
       "      <td>01074048</td>\n",
       "      <td>0500000US39071</td>\n",
       "      <td>39071</td>\n",
       "      <td>Highland</td>\n",
       "      <td>06</td>\n",
       "      <td>1432479992</td>\n",
       "      <td>12194983</td>\n",
       "      <td>POLYGON ((1383839.359 -525651.029, 1380276.774...</td>\n",
       "      <td>Ohio</td>\n",
       "      <td>39</td>\n",
       "      <td>OH</td>\n",
       "    </tr>\n",
       "    <tr>\n",
       "      <th>1</th>\n",
       "      <td>06</td>\n",
       "      <td>003</td>\n",
       "      <td>01675840</td>\n",
       "      <td>0500000US06003</td>\n",
       "      <td>06003</td>\n",
       "      <td>Alpine</td>\n",
       "      <td>06</td>\n",
       "      <td>1912292630</td>\n",
       "      <td>12557304</td>\n",
       "      <td>POLYGON ((-1728380.546 -511146.186, -1723528.3...</td>\n",
       "      <td>California</td>\n",
       "      <td>06</td>\n",
       "      <td>CA</td>\n",
       "    </tr>\n",
       "    <tr>\n",
       "      <th>2</th>\n",
       "      <td>12</td>\n",
       "      <td>033</td>\n",
       "      <td>00295737</td>\n",
       "      <td>0500000US12033</td>\n",
       "      <td>12033</td>\n",
       "      <td>Escambia</td>\n",
       "      <td>06</td>\n",
       "      <td>1701544502</td>\n",
       "      <td>563927612</td>\n",
       "      <td>POLYGON ((1184574.215 -1481219.222, 1184591.56...</td>\n",
       "      <td>Florida</td>\n",
       "      <td>12</td>\n",
       "      <td>FL</td>\n",
       "    </tr>\n",
       "    <tr>\n",
       "      <th>3</th>\n",
       "      <td>17</td>\n",
       "      <td>101</td>\n",
       "      <td>00424252</td>\n",
       "      <td>0500000US17101</td>\n",
       "      <td>17101</td>\n",
       "      <td>Lawrence</td>\n",
       "      <td>06</td>\n",
       "      <td>963936864</td>\n",
       "      <td>5077783</td>\n",
       "      <td>POLYGON ((1048064.380 -637787.435, 1044072.379...</td>\n",
       "      <td>Illinois</td>\n",
       "      <td>17</td>\n",
       "      <td>IL</td>\n",
       "    </tr>\n",
       "    <tr>\n",
       "      <th>4</th>\n",
       "      <td>28</td>\n",
       "      <td>153</td>\n",
       "      <td>00695797</td>\n",
       "      <td>0500000US28153</td>\n",
       "      <td>28153</td>\n",
       "      <td>Wayne</td>\n",
       "      <td>06</td>\n",
       "      <td>2099745573</td>\n",
       "      <td>7255476</td>\n",
       "      <td>POLYGON ((1048529.367 -1398672.658, 1048009.79...</td>\n",
       "      <td>Mississippi</td>\n",
       "      <td>28</td>\n",
       "      <td>MS</td>\n",
       "    </tr>\n",
       "  </tbody>\n",
       "</table>\n",
       "</div>"
      ],
      "text/plain": [
       "  STATEFP COUNTYFP  COUNTYNS        AFFGEOID  GEOID      NAME LSAD  \\\n",
       "0      39      071  01074048  0500000US39071  39071  Highland   06   \n",
       "1      06      003  01675840  0500000US06003  06003    Alpine   06   \n",
       "2      12      033  00295737  0500000US12033  12033  Escambia   06   \n",
       "3      17      101  00424252  0500000US17101  17101  Lawrence   06   \n",
       "4      28      153  00695797  0500000US28153  28153     Wayne   06   \n",
       "\n",
       "        ALAND     AWATER                                           geometry  \\\n",
       "0  1432479992   12194983  POLYGON ((1383839.359 -525651.029, 1380276.774...   \n",
       "1  1912292630   12557304  POLYGON ((-1728380.546 -511146.186, -1723528.3...   \n",
       "2  1701544502  563927612  POLYGON ((1184574.215 -1481219.222, 1184591.56...   \n",
       "3   963936864    5077783  POLYGON ((1048064.380 -637787.435, 1044072.379...   \n",
       "4  2099745573    7255476  POLYGON ((1048529.367 -1398672.658, 1048009.79...   \n",
       "\n",
       "        stname fips postcode  \n",
       "0         Ohio   39       OH  \n",
       "1   California   06       CA  \n",
       "2      Florida   12       FL  \n",
       "3     Illinois   17       IL  \n",
       "4  Mississippi   28       MS  "
      ]
     },
     "execution_count": 33,
     "metadata": {},
     "output_type": "execute_result"
    }
   ],
   "source": [
    "merged_df = pd.merge(\n",
    "    left=us_counties_gdf, \n",
    "    right=fips_df, \n",
    "    how='left', \n",
    "    left_on='STATEFP', \n",
    "    right_on='fips'\n",
    ")\n",
    "\n",
    "merged_df.head()"
   ]
  },
  {
   "cell_type": "code",
   "execution_count": 34,
   "metadata": {
    "scrolled": false
   },
   "outputs": [
    {
     "data": {
      "text/html": [
       "<div>\n",
       "<style scoped>\n",
       "    .dataframe tbody tr th:only-of-type {\n",
       "        vertical-align: middle;\n",
       "    }\n",
       "\n",
       "    .dataframe tbody tr th {\n",
       "        vertical-align: top;\n",
       "    }\n",
       "\n",
       "    .dataframe thead th {\n",
       "        text-align: right;\n",
       "    }\n",
       "</style>\n",
       "<table border=\"1\" class=\"dataframe\">\n",
       "  <thead>\n",
       "    <tr style=\"text-align: right;\">\n",
       "      <th></th>\n",
       "      <th>STATEFP</th>\n",
       "      <th>COUNTYFP</th>\n",
       "      <th>COUNTYNS</th>\n",
       "      <th>AFFGEOID</th>\n",
       "      <th>GEOID</th>\n",
       "      <th>NAME</th>\n",
       "      <th>LSAD</th>\n",
       "      <th>ALAND</th>\n",
       "      <th>AWATER</th>\n",
       "      <th>geometry</th>\n",
       "      <th>stname</th>\n",
       "      <th>postcode</th>\n",
       "    </tr>\n",
       "  </thead>\n",
       "  <tbody>\n",
       "    <tr>\n",
       "      <th>0</th>\n",
       "      <td>39</td>\n",
       "      <td>071</td>\n",
       "      <td>01074048</td>\n",
       "      <td>0500000US39071</td>\n",
       "      <td>39071</td>\n",
       "      <td>Highland</td>\n",
       "      <td>06</td>\n",
       "      <td>1432479992</td>\n",
       "      <td>12194983</td>\n",
       "      <td>POLYGON ((1383839.359 -525651.029, 1380276.774...</td>\n",
       "      <td>Ohio</td>\n",
       "      <td>OH</td>\n",
       "    </tr>\n",
       "    <tr>\n",
       "      <th>1</th>\n",
       "      <td>06</td>\n",
       "      <td>003</td>\n",
       "      <td>01675840</td>\n",
       "      <td>0500000US06003</td>\n",
       "      <td>06003</td>\n",
       "      <td>Alpine</td>\n",
       "      <td>06</td>\n",
       "      <td>1912292630</td>\n",
       "      <td>12557304</td>\n",
       "      <td>POLYGON ((-1728380.546 -511146.186, -1723528.3...</td>\n",
       "      <td>California</td>\n",
       "      <td>CA</td>\n",
       "    </tr>\n",
       "    <tr>\n",
       "      <th>2</th>\n",
       "      <td>12</td>\n",
       "      <td>033</td>\n",
       "      <td>00295737</td>\n",
       "      <td>0500000US12033</td>\n",
       "      <td>12033</td>\n",
       "      <td>Escambia</td>\n",
       "      <td>06</td>\n",
       "      <td>1701544502</td>\n",
       "      <td>563927612</td>\n",
       "      <td>POLYGON ((1184574.215 -1481219.222, 1184591.56...</td>\n",
       "      <td>Florida</td>\n",
       "      <td>FL</td>\n",
       "    </tr>\n",
       "    <tr>\n",
       "      <th>3</th>\n",
       "      <td>17</td>\n",
       "      <td>101</td>\n",
       "      <td>00424252</td>\n",
       "      <td>0500000US17101</td>\n",
       "      <td>17101</td>\n",
       "      <td>Lawrence</td>\n",
       "      <td>06</td>\n",
       "      <td>963936864</td>\n",
       "      <td>5077783</td>\n",
       "      <td>POLYGON ((1048064.380 -637787.435, 1044072.379...</td>\n",
       "      <td>Illinois</td>\n",
       "      <td>IL</td>\n",
       "    </tr>\n",
       "    <tr>\n",
       "      <th>4</th>\n",
       "      <td>28</td>\n",
       "      <td>153</td>\n",
       "      <td>00695797</td>\n",
       "      <td>0500000US28153</td>\n",
       "      <td>28153</td>\n",
       "      <td>Wayne</td>\n",
       "      <td>06</td>\n",
       "      <td>2099745573</td>\n",
       "      <td>7255476</td>\n",
       "      <td>POLYGON ((1048529.367 -1398672.658, 1048009.79...</td>\n",
       "      <td>Mississippi</td>\n",
       "      <td>MS</td>\n",
       "    </tr>\n",
       "  </tbody>\n",
       "</table>\n",
       "</div>"
      ],
      "text/plain": [
       "  STATEFP COUNTYFP  COUNTYNS        AFFGEOID  GEOID      NAME LSAD  \\\n",
       "0      39      071  01074048  0500000US39071  39071  Highland   06   \n",
       "1      06      003  01675840  0500000US06003  06003    Alpine   06   \n",
       "2      12      033  00295737  0500000US12033  12033  Escambia   06   \n",
       "3      17      101  00424252  0500000US17101  17101  Lawrence   06   \n",
       "4      28      153  00695797  0500000US28153  28153     Wayne   06   \n",
       "\n",
       "        ALAND     AWATER                                           geometry  \\\n",
       "0  1432479992   12194983  POLYGON ((1383839.359 -525651.029, 1380276.774...   \n",
       "1  1912292630   12557304  POLYGON ((-1728380.546 -511146.186, -1723528.3...   \n",
       "2  1701544502  563927612  POLYGON ((1184574.215 -1481219.222, 1184591.56...   \n",
       "3   963936864    5077783  POLYGON ((1048064.380 -637787.435, 1044072.379...   \n",
       "4  2099745573    7255476  POLYGON ((1048529.367 -1398672.658, 1048009.79...   \n",
       "\n",
       "        stname postcode  \n",
       "0         Ohio       OH  \n",
       "1   California       CA  \n",
       "2      Florida       FL  \n",
       "3     Illinois       IL  \n",
       "4  Mississippi       MS  "
      ]
     },
     "execution_count": 34,
     "metadata": {},
     "output_type": "execute_result"
    }
   ],
   "source": [
    "merged_df = merged_df.drop(['fips'], axis=1)\n",
    "\n",
    "merged_df.head()"
   ]
  },
  {
   "cell_type": "code",
   "execution_count": 36,
   "metadata": {
    "scrolled": true
   },
   "outputs": [],
   "source": [
    "# merged_df[merged_df['stname'].isnull()]"
   ]
  },
  {
   "cell_type": "markdown",
   "metadata": {},
   "source": [
    "## Now let's convert it back to a GeoDataFrame"
   ]
  },
  {
   "cell_type": "code",
   "execution_count": 49,
   "metadata": {
    "scrolled": false
   },
   "outputs": [
    {
     "data": {
      "text/html": [
       "<div>\n",
       "<style scoped>\n",
       "    .dataframe tbody tr th:only-of-type {\n",
       "        vertical-align: middle;\n",
       "    }\n",
       "\n",
       "    .dataframe tbody tr th {\n",
       "        vertical-align: top;\n",
       "    }\n",
       "\n",
       "    .dataframe thead th {\n",
       "        text-align: right;\n",
       "    }\n",
       "</style>\n",
       "<table border=\"1\" class=\"dataframe\">\n",
       "  <thead>\n",
       "    <tr style=\"text-align: right;\">\n",
       "      <th></th>\n",
       "      <th>STATEFP</th>\n",
       "      <th>COUNTYFP</th>\n",
       "      <th>COUNTYNS</th>\n",
       "      <th>AFFGEOID</th>\n",
       "      <th>GEOID</th>\n",
       "      <th>NAME</th>\n",
       "      <th>LSAD</th>\n",
       "      <th>ALAND</th>\n",
       "      <th>AWATER</th>\n",
       "      <th>geometry</th>\n",
       "      <th>stname</th>\n",
       "      <th>postcode</th>\n",
       "    </tr>\n",
       "  </thead>\n",
       "  <tbody>\n",
       "    <tr>\n",
       "      <th>0</th>\n",
       "      <td>39</td>\n",
       "      <td>071</td>\n",
       "      <td>01074048</td>\n",
       "      <td>0500000US39071</td>\n",
       "      <td>39071</td>\n",
       "      <td>Highland</td>\n",
       "      <td>06</td>\n",
       "      <td>1432479992</td>\n",
       "      <td>12194983</td>\n",
       "      <td>POLYGON ((1383839.359 -525651.029, 1380276.774...</td>\n",
       "      <td>Ohio</td>\n",
       "      <td>OH</td>\n",
       "    </tr>\n",
       "    <tr>\n",
       "      <th>1</th>\n",
       "      <td>06</td>\n",
       "      <td>003</td>\n",
       "      <td>01675840</td>\n",
       "      <td>0500000US06003</td>\n",
       "      <td>06003</td>\n",
       "      <td>Alpine</td>\n",
       "      <td>06</td>\n",
       "      <td>1912292630</td>\n",
       "      <td>12557304</td>\n",
       "      <td>POLYGON ((-1728380.546 -511146.186, -1723528.3...</td>\n",
       "      <td>California</td>\n",
       "      <td>CA</td>\n",
       "    </tr>\n",
       "    <tr>\n",
       "      <th>2</th>\n",
       "      <td>12</td>\n",
       "      <td>033</td>\n",
       "      <td>00295737</td>\n",
       "      <td>0500000US12033</td>\n",
       "      <td>12033</td>\n",
       "      <td>Escambia</td>\n",
       "      <td>06</td>\n",
       "      <td>1701544502</td>\n",
       "      <td>563927612</td>\n",
       "      <td>POLYGON ((1184574.215 -1481219.222, 1184591.56...</td>\n",
       "      <td>Florida</td>\n",
       "      <td>FL</td>\n",
       "    </tr>\n",
       "    <tr>\n",
       "      <th>3</th>\n",
       "      <td>17</td>\n",
       "      <td>101</td>\n",
       "      <td>00424252</td>\n",
       "      <td>0500000US17101</td>\n",
       "      <td>17101</td>\n",
       "      <td>Lawrence</td>\n",
       "      <td>06</td>\n",
       "      <td>963936864</td>\n",
       "      <td>5077783</td>\n",
       "      <td>POLYGON ((1048064.380 -637787.435, 1044072.379...</td>\n",
       "      <td>Illinois</td>\n",
       "      <td>IL</td>\n",
       "    </tr>\n",
       "    <tr>\n",
       "      <th>4</th>\n",
       "      <td>28</td>\n",
       "      <td>153</td>\n",
       "      <td>00695797</td>\n",
       "      <td>0500000US28153</td>\n",
       "      <td>28153</td>\n",
       "      <td>Wayne</td>\n",
       "      <td>06</td>\n",
       "      <td>2099745573</td>\n",
       "      <td>7255476</td>\n",
       "      <td>POLYGON ((1048529.367 -1398672.658, 1048009.79...</td>\n",
       "      <td>Mississippi</td>\n",
       "      <td>MS</td>\n",
       "    </tr>\n",
       "  </tbody>\n",
       "</table>\n",
       "</div>"
      ],
      "text/plain": [
       "  STATEFP COUNTYFP  COUNTYNS        AFFGEOID  GEOID      NAME LSAD  \\\n",
       "0      39      071  01074048  0500000US39071  39071  Highland   06   \n",
       "1      06      003  01675840  0500000US06003  06003    Alpine   06   \n",
       "2      12      033  00295737  0500000US12033  12033  Escambia   06   \n",
       "3      17      101  00424252  0500000US17101  17101  Lawrence   06   \n",
       "4      28      153  00695797  0500000US28153  28153     Wayne   06   \n",
       "\n",
       "        ALAND     AWATER                                           geometry  \\\n",
       "0  1432479992   12194983  POLYGON ((1383839.359 -525651.029, 1380276.774...   \n",
       "1  1912292630   12557304  POLYGON ((-1728380.546 -511146.186, -1723528.3...   \n",
       "2  1701544502  563927612  POLYGON ((1184574.215 -1481219.222, 1184591.56...   \n",
       "3   963936864    5077783  POLYGON ((1048064.380 -637787.435, 1044072.379...   \n",
       "4  2099745573    7255476  POLYGON ((1048529.367 -1398672.658, 1048009.79...   \n",
       "\n",
       "        stname postcode  \n",
       "0         Ohio       OH  \n",
       "1   California       CA  \n",
       "2      Florida       FL  \n",
       "3     Illinois       IL  \n",
       "4  Mississippi       MS  "
      ]
     },
     "execution_count": 49,
     "metadata": {},
     "output_type": "execute_result"
    }
   ],
   "source": [
    "us_counties_gdf = gpd.GeoDataFrame(merged_df, geometry=merged_df['geometry'])\n",
    "\n",
    "us_counties_gdf.head()"
   ]
  },
  {
   "cell_type": "code",
   "execution_count": 38,
   "metadata": {},
   "outputs": [
    {
     "data": {
      "text/plain": [
       "(3233, 12)"
      ]
     },
     "execution_count": 38,
     "metadata": {},
     "output_type": "execute_result"
    }
   ],
   "source": [
    "us_counties_gdf.shape"
   ]
  },
  {
   "cell_type": "markdown",
   "metadata": {},
   "source": [
    "## Plot the US map"
   ]
  },
  {
   "cell_type": "code",
   "execution_count": 50,
   "metadata": {},
   "outputs": [
    {
     "data": {
      "image/png": "[encoded data removed]",
      "text/plain": [
       "<Figure size 720x720 with 1 Axes>"
      ]
     },
     "metadata": {
      "needs_background": "light"
     },
     "output_type": "display_data"
    }
   ],
   "source": [
    "us_counties_gdf.plot(figsize=(10, 10));"
   ]
  },
  {
   "cell_type": "markdown",
   "metadata": {},
   "source": [
    "## Uh oh..  What's going on?\n",
    "\n",
    "There are US States/Territories that I don't want to include for data mapping purposes.  They are Palau (PW/70), Guam (GU/66), Northern Mariana Islands (MP/69), American Samoa (AS/60), Hawaii (HI/15), Puerto Rico (PR/72), and Virgin Islnads (VI/78). So let's set the limit for x-axis and y-axis."
   ]
  },
  {
   "cell_type": "code",
   "execution_count": 40,
   "metadata": {},
   "outputs": [],
   "source": [
    "# us_counties_gdf = us_counties_gdf[\n",
    "#     (us_counties_gdf['STATEFP'] != '70') &\n",
    "#     (us_counties_gdf['STATEFP'] != '66') &\n",
    "#     (us_counties_gdf['STATEFP'] != '69') &\n",
    "#     (us_counties_gdf['STATEFP'] != '60') &\n",
    "#     (us_counties_gdf['STATEFP'] != '15') &\n",
    "#     (us_counties_gdf['STATEFP'] != '72') &\n",
    "#     (us_counties_gdf['STATEFP'] != '78')\n",
    "# ]"
   ]
  },
  {
   "cell_type": "code",
   "execution_count": 1,
   "metadata": {
    "scrolled": false
   },
   "outputs": [
    {
     "ename": "NameError",
     "evalue": "name 'plt' is not defined",
     "output_type": "error",
     "traceback": [
      "\u001b[1;31m---------------------------------------------------------------------------\u001b[0m",
      "\u001b[1;31mNameError\u001b[0m                                 Traceback (most recent call last)",
      "\u001b[1;32m<ipython-input-1-91489fa381c8>\u001b[0m in \u001b[0;36m<module>\u001b[1;34m\u001b[0m\n\u001b[1;32m----> 1\u001b[1;33m \u001b[0mfig\u001b[0m\u001b[1;33m,\u001b[0m \u001b[0max\u001b[0m \u001b[1;33m=\u001b[0m \u001b[0mplt\u001b[0m\u001b[1;33m.\u001b[0m\u001b[0msubplots\u001b[0m\u001b[1;33m(\u001b[0m\u001b[0mfigsize\u001b[0m\u001b[1;33m=\u001b[0m\u001b[1;33m(\u001b[0m\u001b[1;36m15\u001b[0m\u001b[1;33m,\u001b[0m \u001b[1;36m15\u001b[0m\u001b[1;33m)\u001b[0m\u001b[1;33m)\u001b[0m\u001b[1;33m\u001b[0m\u001b[1;33m\u001b[0m\u001b[0m\n\u001b[0m\u001b[0;32m      2\u001b[0m \u001b[1;33m\u001b[0m\u001b[0m\n\u001b[0;32m      3\u001b[0m us_counties_gdf.plot(\n\u001b[0;32m      4\u001b[0m     \u001b[0max\u001b[0m\u001b[1;33m=\u001b[0m\u001b[0max\u001b[0m\u001b[1;33m,\u001b[0m\u001b[1;33m\u001b[0m\u001b[1;33m\u001b[0m\u001b[0m\n\u001b[0;32m      5\u001b[0m     \u001b[0mcolumn\u001b[0m\u001b[1;33m=\u001b[0m\u001b[1;34m'STATEFP'\u001b[0m\u001b[1;33m,\u001b[0m\u001b[1;33m\u001b[0m\u001b[1;33m\u001b[0m\u001b[0m\n",
      "\u001b[1;31mNameError\u001b[0m: name 'plt' is not defined"
     ]
    }
   ],
   "source": [
    "fig, ax = plt.subplots(figsize=(15, 15))\n",
    "\n",
    "us_counties_gdf.plot(\n",
    "    ax=ax,\n",
    "    column='STATEFP',\n",
    "    alpha=0.7,\n",
    ");\n",
    "\n",
    "# title\n",
    "ax.set_title('US States and Counties (epsg: 2163)', fontdict={'size':30})\n",
    "\n",
    "# turning off scientific notation\n",
    "#plt.ticklabel_format(useOffset=False)\n",
    "ax.get_xaxis().get_major_formatter().set_useOffset(False)\n",
    "ax.get_yaxis().get_major_formatter().set_useOffset(False)\n",
    "\n",
    "# set the limit for both axes\n",
    "ax.set_xlim(-4700000, 3000000)\n",
    "ax.set_ylim(-2500000, 4200000);\n"
   ]
  },
  {
   "cell_type": "markdown",
   "metadata": {},
   "source": [
    "# Now let's repeat everything for US States without Counties"
   ]
  },
  {
   "cell_type": "code",
   "execution_count": 65,
   "metadata": {},
   "outputs": [
    {
     "data": {
      "text/html": [
       "<div>\n",
       "<style scoped>\n",
       "    .dataframe tbody tr th:only-of-type {\n",
       "        vertical-align: middle;\n",
       "    }\n",
       "\n",
       "    .dataframe tbody tr th {\n",
       "        vertical-align: top;\n",
       "    }\n",
       "\n",
       "    .dataframe thead th {\n",
       "        text-align: right;\n",
       "    }\n",
       "</style>\n",
       "<table border=\"1\" class=\"dataframe\">\n",
       "  <thead>\n",
       "    <tr style=\"text-align: right;\">\n",
       "      <th></th>\n",
       "      <th>STATEFP</th>\n",
       "      <th>STATENS</th>\n",
       "      <th>AFFGEOID</th>\n",
       "      <th>GEOID</th>\n",
       "      <th>STUSPS</th>\n",
       "      <th>NAME</th>\n",
       "      <th>LSAD</th>\n",
       "      <th>ALAND</th>\n",
       "      <th>AWATER</th>\n",
       "      <th>geometry</th>\n",
       "    </tr>\n",
       "  </thead>\n",
       "  <tbody>\n",
       "    <tr>\n",
       "      <th>0</th>\n",
       "      <td>31</td>\n",
       "      <td>01779792</td>\n",
       "      <td>0400000US31</td>\n",
       "      <td>31</td>\n",
       "      <td>NE</td>\n",
       "      <td>Nebraska</td>\n",
       "      <td>00</td>\n",
       "      <td>198956658395</td>\n",
       "      <td>1371829134</td>\n",
       "      <td>POLYGON ((-104.05351 41.15726, -104.05267 41.2...</td>\n",
       "    </tr>\n",
       "    <tr>\n",
       "      <th>1</th>\n",
       "      <td>53</td>\n",
       "      <td>01779804</td>\n",
       "      <td>0400000US53</td>\n",
       "      <td>53</td>\n",
       "      <td>WA</td>\n",
       "      <td>Washington</td>\n",
       "      <td>00</td>\n",
       "      <td>172112588220</td>\n",
       "      <td>12559278850</td>\n",
       "      <td>MULTIPOLYGON (((-122.32834 48.02134, -122.3217...</td>\n",
       "    </tr>\n",
       "    <tr>\n",
       "      <th>2</th>\n",
       "      <td>35</td>\n",
       "      <td>00897535</td>\n",
       "      <td>0400000US35</td>\n",
       "      <td>35</td>\n",
       "      <td>NM</td>\n",
       "      <td>New Mexico</td>\n",
       "      <td>00</td>\n",
       "      <td>314196306401</td>\n",
       "      <td>728776523</td>\n",
       "      <td>POLYGON ((-109.05017 31.48000, -109.04984 31.4...</td>\n",
       "    </tr>\n",
       "    <tr>\n",
       "      <th>3</th>\n",
       "      <td>46</td>\n",
       "      <td>01785534</td>\n",
       "      <td>0400000US46</td>\n",
       "      <td>46</td>\n",
       "      <td>SD</td>\n",
       "      <td>South Dakota</td>\n",
       "      <td>00</td>\n",
       "      <td>196346981786</td>\n",
       "      <td>3382720225</td>\n",
       "      <td>POLYGON ((-104.05770 44.99743, -104.05021 44.9...</td>\n",
       "    </tr>\n",
       "    <tr>\n",
       "      <th>4</th>\n",
       "      <td>48</td>\n",
       "      <td>01779801</td>\n",
       "      <td>0400000US48</td>\n",
       "      <td>48</td>\n",
       "      <td>TX</td>\n",
       "      <td>Texas</td>\n",
       "      <td>00</td>\n",
       "      <td>676653171537</td>\n",
       "      <td>19006305260</td>\n",
       "      <td>POLYGON ((-106.64548 31.89867, -106.64084 31.9...</td>\n",
       "    </tr>\n",
       "  </tbody>\n",
       "</table>\n",
       "</div>"
      ],
      "text/plain": [
       "  STATEFP   STATENS     AFFGEOID GEOID STUSPS          NAME LSAD  \\\n",
       "0      31  01779792  0400000US31    31     NE      Nebraska   00   \n",
       "1      53  01779804  0400000US53    53     WA    Washington   00   \n",
       "2      35  00897535  0400000US35    35     NM    New Mexico   00   \n",
       "3      46  01785534  0400000US46    46     SD  South Dakota   00   \n",
       "4      48  01779801  0400000US48    48     TX         Texas   00   \n",
       "\n",
       "          ALAND       AWATER  \\\n",
       "0  198956658395   1371829134   \n",
       "1  172112588220  12559278850   \n",
       "2  314196306401    728776523   \n",
       "3  196346981786   3382720225   \n",
       "4  676653171537  19006305260   \n",
       "\n",
       "                                            geometry  \n",
       "0  POLYGON ((-104.05351 41.15726, -104.05267 41.2...  \n",
       "1  MULTIPOLYGON (((-122.32834 48.02134, -122.3217...  \n",
       "2  POLYGON ((-109.05017 31.48000, -109.04984 31.4...  \n",
       "3  POLYGON ((-104.05770 44.99743, -104.05021 44.9...  \n",
       "4  POLYGON ((-106.64548 31.89867, -106.64084 31.9...  "
      ]
     },
     "execution_count": 65,
     "metadata": {},
     "output_type": "execute_result"
    }
   ],
   "source": [
    "us_states_gdf = gpd.read_file('Data/input/us_state/cb_2018_us_state_5m.shp')\n",
    "\n",
    "us_states_gdf.head()"
   ]
  },
  {
   "cell_type": "code",
   "execution_count": 67,
   "metadata": {},
   "outputs": [
    {
     "data": {
      "text/plain": [
       "<Geographic 2D CRS: EPSG:4269>\n",
       "Name: NAD83\n",
       "Axis Info [ellipsoidal]:\n",
       "- Lat[north]: Geodetic latitude (degree)\n",
       "- Lon[east]: Geodetic longitude (degree)\n",
       "Area of Use:\n",
       "- name: North America - NAD83\n",
       "- bounds: (167.65, 14.92, -47.74, 86.46)\n",
       "Datum: North American Datum 1983\n",
       "- Ellipsoid: GRS 1980\n",
       "- Prime Meridian: Greenwich"
      ]
     },
     "execution_count": 67,
     "metadata": {},
     "output_type": "execute_result"
    }
   ],
   "source": [
    "us_states_gdf.crs"
   ]
  },
  {
   "cell_type": "code",
   "execution_count": null,
   "metadata": {},
   "outputs": [],
   "source": []
  }
 ],
 "metadata": {
  "kernelspec": {
   "display_name": "Python 3",
   "language": "python",
   "name": "python3"
  },
  "language_info": {
   "codemirror_mode": {
    "name": "ipython",
    "version": 3
   },
   "file_extension": ".py",
   "mimetype": "text/x-python",
   "name": "python",
   "nbconvert_exporter": "python",
   "pygments_lexer": "ipython3",
   "version": "3.7.7"
  }
 },
 "nbformat": 4,
 "nbformat_minor": 4
}
