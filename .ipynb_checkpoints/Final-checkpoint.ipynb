{
 "cells": [
  {
   "cell_type": "code",
   "execution_count": 1,
   "metadata": {},
   "outputs": [],
   "source": [
    "import os\n",
    "import sys\n",
    "\n",
    "from IPython.display import IFrame\n",
    "import pandas as pd\n",
    "import geopandas as gpd\n",
    "import matplotlib.pyplot as plt\n",
    "import matplotlib.dates as mdates\n",
    "import matplotlib.ticker as ticker\n",
    "import numpy as np\n",
    "import missingno as msno\n",
    "import seaborn as sns\n",
    "import matplotlib.patches as patches\n",
    "import warnings\n",
    "import networkx as nx\n",
    "import osmnx as ox\n",
    "import requests\n",
    "import matplotlib.cm as cm\n",
    "import matplotlib.colors as colors\n",
    "\n",
    "import urllib\n",
    "import zipfile\n",
    "import glob"
   ]
  },
  {
   "cell_type": "markdown",
   "metadata": {},
   "source": [
    "# US COVID-19 Case Data Visualisation\n",
    "## Procedure 1: US States and Counties GeoDataFrame (EPSG: 2163)"
   ]
  },
  {
   "cell_type": "code",
   "execution_count": 2,
   "metadata": {},
   "outputs": [],
   "source": [
    "# Read US States Boundary Shapefile\n",
    "us_states_gdf = gpd.read_file('Data/input/us_state/cb_2018_us_state_5m.shp')\n",
    "\n",
    "# Converting the CRS to US National Atlas Equal Area Projection (EPSG: 2163)\n",
    "us_states_gdf.to_crs(epsg=2163, inplace=True)"
   ]
  },
  {
   "cell_type": "code",
   "execution_count": null,
   "metadata": {},
   "outputs": [],
   "source": []
  },
  {
   "cell_type": "code",
   "execution_count": 3,
   "metadata": {},
   "outputs": [],
   "source": [
    "# Read US Counties Boundary Shapefile\n",
    "us_counties_gdf = gpd.read_file('Data/input/us_counties/cb_2018_us_county_5m.shp')\n",
    "\n",
    "# Adding a 'FULLFP' column that concatenates 'STATEFP' and 'COUNTYFP'\n",
    "us_counties_gdf['FULLFP'] = us_counties_gdf['STATEFP'] + us_counties_gdf['COUNTYFP']\n",
    "\n",
    "# Converting the CRS to US National Atlas Equal Area Projection (EPSG: 2163)\n",
    "us_counties_gdf.to_crs(epsg=2163, inplace=True)"
   ]
  },
  {
   "cell_type": "code",
   "execution_count": 4,
   "metadata": {},
   "outputs": [],
   "source": [
    "# Read US State Name, FIPS, and Postcode csv file \n",
    "fips_csv_dir = 'Data/input/us_state_fips/us-state-ansi-fips.csv'\n",
    "fips_df = pd.read_csv(fips_csv_dir, dtype={' fips':object})"
   ]
  },
  {
   "cell_type": "code",
   "execution_count": 5,
   "metadata": {},
   "outputs": [],
   "source": [
    "# Rename columns\n",
    "fips_df.rename(columns=\n",
    "    {' fips': 'fips',\n",
    "    ' stusps': 'postcode',},\n",
    "    inplace=True)"
   ]
  },
  {
   "cell_type": "code",
   "execution_count": 6,
   "metadata": {},
   "outputs": [],
   "source": [
    "# Attribute Joins - Merging `us_counties_gdf` and `fips_df` on `'STATEFP'` and `'fips'`\n",
    "merged_df = pd.merge(\n",
    "    left=us_counties_gdf, \n",
    "    right=fips_df, \n",
    "    how='left', \n",
    "    left_on='STATEFP', \n",
    "    right_on='fips'\n",
    ")"
   ]
  },
  {
   "cell_type": "code",
   "execution_count": 7,
   "metadata": {},
   "outputs": [],
   "source": [
    "# Remove (drop) 'fips' column\n",
    "merged_df = merged_df.drop(['fips'], axis=1)"
   ]
  },
  {
   "cell_type": "code",
   "execution_count": 8,
   "metadata": {},
   "outputs": [
    {
     "name": "stderr",
     "output_type": "stream",
     "text": [
      "C:\\Users\\dun4g\\anaconda3\\envs\\GIS\\lib\\site-packages\\pyproj\\crs\\crs.py:53: FutureWarning: '+init=<authority>:<code>' syntax is deprecated. '<authority>:<code>' is the preferred initialization method. When making the change, be mindful of axis order changes: https://pyproj4.github.io/pyproj/stable/gotchas.html#axis-order-changes-in-proj-6\n",
      "  return _prepare_from_string(\" \".join(pjargs))\n"
     ]
    }
   ],
   "source": [
    "# Make us_gdf a GeoDataFrame of merged_df\n",
    "us_counties_gdf = gpd.GeoDataFrame(merged_df,\n",
    "                                   crs={'init': 'epsg:2163'},\n",
    "                                   geometry=merged_df['geometry'])"
   ]
  },
  {
   "cell_type": "markdown",
   "metadata": {},
   "source": [
    "## Procedure 2: US COVID-19 Cases/Deaths/Testing DataFrame\n",
    "### [New York Times US Counties Data](https://github.com/nytimes/covid-19-data)"
   ]
  },
  {
   "cell_type": "code",
   "execution_count": 9,
   "metadata": {},
   "outputs": [],
   "source": [
    "# Read NYTimes COVID-19 US Counties Data\n",
    "nytimes_counties_df = pd.read_csv('https://raw.githubusercontent.com/nytimes/covid-19-data/master/us-counties.csv', \n",
    "                                  dtype={'fips':object}\n",
    "                                 )"
   ]
  },
  {
   "cell_type": "code",
   "execution_count": 10,
   "metadata": {},
   "outputs": [],
   "source": [
    "# Changing the 'date' dtype from object to datetime\n",
    "nytimes_counties_df['date']=pd.to_datetime(nytimes_counties_df['date'])"
   ]
  },
  {
   "cell_type": "code",
   "execution_count": 11,
   "metadata": {},
   "outputs": [
    {
     "data": {
      "text/html": [
       "<div>\n",
       "<style scoped>\n",
       "    .dataframe tbody tr th:only-of-type {\n",
       "        vertical-align: middle;\n",
       "    }\n",
       "\n",
       "    .dataframe tbody tr th {\n",
       "        vertical-align: top;\n",
       "    }\n",
       "\n",
       "    .dataframe thead th {\n",
       "        text-align: right;\n",
       "    }\n",
       "</style>\n",
       "<table border=\"1\" class=\"dataframe\">\n",
       "  <thead>\n",
       "    <tr style=\"text-align: right;\">\n",
       "      <th></th>\n",
       "      <th>date</th>\n",
       "      <th>county</th>\n",
       "      <th>state</th>\n",
       "      <th>fips</th>\n",
       "      <th>cases</th>\n",
       "      <th>deaths</th>\n",
       "    </tr>\n",
       "  </thead>\n",
       "  <tbody>\n",
       "    <tr>\n",
       "      <th>0</th>\n",
       "      <td>2020-01-21</td>\n",
       "      <td>Snohomish</td>\n",
       "      <td>Washington</td>\n",
       "      <td>53061</td>\n",
       "      <td>1</td>\n",
       "      <td>0</td>\n",
       "    </tr>\n",
       "    <tr>\n",
       "      <th>1</th>\n",
       "      <td>2020-01-22</td>\n",
       "      <td>Snohomish</td>\n",
       "      <td>Washington</td>\n",
       "      <td>53061</td>\n",
       "      <td>1</td>\n",
       "      <td>0</td>\n",
       "    </tr>\n",
       "    <tr>\n",
       "      <th>2</th>\n",
       "      <td>2020-01-23</td>\n",
       "      <td>Snohomish</td>\n",
       "      <td>Washington</td>\n",
       "      <td>53061</td>\n",
       "      <td>1</td>\n",
       "      <td>0</td>\n",
       "    </tr>\n",
       "    <tr>\n",
       "      <th>3</th>\n",
       "      <td>2020-01-24</td>\n",
       "      <td>Cook</td>\n",
       "      <td>Illinois</td>\n",
       "      <td>17031</td>\n",
       "      <td>1</td>\n",
       "      <td>0</td>\n",
       "    </tr>\n",
       "    <tr>\n",
       "      <th>4</th>\n",
       "      <td>2020-01-24</td>\n",
       "      <td>Snohomish</td>\n",
       "      <td>Washington</td>\n",
       "      <td>53061</td>\n",
       "      <td>1</td>\n",
       "      <td>0</td>\n",
       "    </tr>\n",
       "  </tbody>\n",
       "</table>\n",
       "</div>"
      ],
      "text/plain": [
       "        date     county       state   fips  cases  deaths\n",
       "0 2020-01-21  Snohomish  Washington  53061      1       0\n",
       "1 2020-01-22  Snohomish  Washington  53061      1       0\n",
       "2 2020-01-23  Snohomish  Washington  53061      1       0\n",
       "3 2020-01-24       Cook    Illinois  17031      1       0\n",
       "4 2020-01-24  Snohomish  Washington  53061      1       0"
      ]
     },
     "execution_count": 11,
     "metadata": {},
     "output_type": "execute_result"
    }
   ],
   "source": [
    "nytimes_counties_df.head()"
   ]
  },
  {
   "cell_type": "markdown",
   "metadata": {},
   "source": [
    "### <font color='red'> QUESTION: How come `nytimes_counties_plot_df.set_index` affects `nytimes_counties_df` as well? <font>"
   ]
  },
  {
   "cell_type": "code",
   "execution_count": 133,
   "metadata": {},
   "outputs": [],
   "source": [
    "# nytimes_counties_plot_df = nytimes_counties_df\n",
    "# nytimes_counties_plot_df.set_index('date', inplace=True)"
   ]
  },
  {
   "cell_type": "markdown",
   "metadata": {},
   "source": [
    "### [COVID Tracking Project Latest US & States Current Data](https://covidtracking.com/api)"
   ]
  },
  {
   "cell_type": "code",
   "execution_count": 12,
   "metadata": {},
   "outputs": [],
   "source": [
    "# Read COVID Tracking Project US COVID-19 Current Data\n",
    "covtrack_us_now_df = pd.read_json('https://covidtracking.com/api/v1/us/current.json')"
   ]
  },
  {
   "cell_type": "code",
   "execution_count": 29,
   "metadata": {},
   "outputs": [],
   "source": [
    "# Read COVID Tracking Project US States COVID-19 Current Data\n",
    "covtrack_states_now_df = pd.read_json('https://covidtracking.com/api/v1/states/current.json', dtype={'fips':object})"
   ]
  },
  {
   "cell_type": "markdown",
   "metadata": {},
   "source": [
    "### [COVID Tracking Project US Accumulative Data](https://covidtracking.com/api)"
   ]
  },
  {
   "cell_type": "code",
   "execution_count": 14,
   "metadata": {},
   "outputs": [],
   "source": [
    "# Read COVID Tracking Project US COVID-19 Accumulative Data\n",
    "covtrack_us_hist_df = pd.read_json('https://covidtracking.com/api/v1/us/daily.json', dtype={'fips':object})"
   ]
  },
  {
   "cell_type": "code",
   "execution_count": 15,
   "metadata": {},
   "outputs": [],
   "source": [
    "# Creating a new column, 'datetime' that converts 'date' from dtype: int to the Dtype: str of datetime\n",
    "covtrack_us_hist_df['datetime']=pd.to_datetime(covtrack_us_hist_df['date'].astype(str), format='%Y-%m-%d')\n",
    "\n",
    "# Converting the Dtype to datetime\n",
    "covtrack_us_hist_df['datetime']=pd.to_datetime(covtrack_us_hist_df['datetime'])"
   ]
  },
  {
   "cell_type": "code",
   "execution_count": 29,
   "metadata": {},
   "outputs": [],
   "source": [
    "# # Creating a DataFrame for plotting charts (Set 'datetime' as the index)\n",
    "# covtrack_us_hist_plot_df = covtrack_us_hist_df[['datetime', 'positive', 'death', 'total']]\n",
    "# covtrack_us_hist_plot_df.set_index('datetime', inplace=True)"
   ]
  },
  {
   "cell_type": "markdown",
   "metadata": {},
   "source": [
    "### [COVID Tracking Project States Accumulative Data](https://covidtracking.com/api)"
   ]
  },
  {
   "cell_type": "code",
   "execution_count": 16,
   "metadata": {},
   "outputs": [],
   "source": [
    "# Read COVID Tracking Project US States COVID-19 Accumulative Data\n",
    "covtrack_states_hist_df = pd.read_json('https://covidtracking.com/api/v1/states/daily.json', dtype={'fips':object})"
   ]
  },
  {
   "cell_type": "code",
   "execution_count": 17,
   "metadata": {},
   "outputs": [],
   "source": [
    "# Creating a new column, 'datetime' that converts 'date' from dtype: int to the Dtype: str of datetime\n",
    "covtrack_states_hist_df['datetime']=pd.to_datetime(covtrack_states_hist_df['date'].astype(str), format='%Y-%m-%d')\n",
    "\n",
    "# Converting the Dtype to datetime\n",
    "covtrack_states_hist_df['datetime']=pd.to_datetime(covtrack_states_hist_df['datetime'])"
   ]
  },
  {
   "cell_type": "code",
   "execution_count": 78,
   "metadata": {},
   "outputs": [],
   "source": [
    "# # Creating a DataFrame for plotting charts (Set 'datetime' as the index)\n",
    "# covtrack_states_hist_plot_df = covtrack_states_hist_df[['datetime', 'state', 'fips', 'positive', 'death', 'total']]\n",
    "# covtrack_states_hist_plot_df.set_index('datetime', inplace=True)"
   ]
  },
  {
   "cell_type": "markdown",
   "metadata": {},
   "source": [
    "## Procedure 3: Merge US COVID-19 DataFrame with GeoDataFrame `us_cov19_counties_gdf` and `us_cov19_states_gdf`\n",
    "### `nytimes_counties_df`"
   ]
  },
  {
   "cell_type": "code",
   "execution_count": 32,
   "metadata": {},
   "outputs": [],
   "source": [
    "# Merge NYTimes US Counties COVID-19 Data with us_counties_gdf\n",
    "us_cov19_counties_df = pd.merge(\n",
    "    nytimes_counties_df,\n",
    "    us_counties_gdf[['FULLFP', 'STATEFP', 'COUNTYFP', 'geometry', 'postcode']],\n",
    "    left_on='fips',\n",
    "    right_on='FULLFP',\n",
    "    how='left',\n",
    ")"
   ]
  },
  {
   "cell_type": "code",
   "execution_count": 33,
   "metadata": {},
   "outputs": [
    {
     "name": "stderr",
     "output_type": "stream",
     "text": [
      "C:\\Users\\dun4g\\anaconda3\\envs\\GIS\\lib\\site-packages\\pyproj\\crs\\crs.py:53: FutureWarning: '+init=<authority>:<code>' syntax is deprecated. '<authority>:<code>' is the preferred initialization method. When making the change, be mindful of axis order changes: https://pyproj4.github.io/pyproj/stable/gotchas.html#axis-order-changes-in-proj-6\n",
      "  return _prepare_from_string(\" \".join(pjargs))\n"
     ]
    }
   ],
   "source": [
    "us_cov19_counties_gdf = gpd.GeoDataFrame(us_cov19_counties_df, \n",
    "                                         crs={'init': 'epsg:2163'},\n",
    "                                         geometry='geometry')"
   ]
  },
  {
   "cell_type": "code",
   "execution_count": 20,
   "metadata": {},
   "outputs": [],
   "source": [
    "us_cov19_counties_gdf = us_cov19_counties_gdf.drop(['FULLFP'], axis=1)"
   ]
  },
  {
   "cell_type": "code",
   "execution_count": 21,
   "metadata": {},
   "outputs": [
    {
     "data": {
      "text/html": [
       "<div>\n",
       "<style scoped>\n",
       "    .dataframe tbody tr th:only-of-type {\n",
       "        vertical-align: middle;\n",
       "    }\n",
       "\n",
       "    .dataframe tbody tr th {\n",
       "        vertical-align: top;\n",
       "    }\n",
       "\n",
       "    .dataframe thead th {\n",
       "        text-align: right;\n",
       "    }\n",
       "</style>\n",
       "<table border=\"1\" class=\"dataframe\">\n",
       "  <thead>\n",
       "    <tr style=\"text-align: right;\">\n",
       "      <th></th>\n",
       "      <th>date</th>\n",
       "      <th>county</th>\n",
       "      <th>state</th>\n",
       "      <th>fips</th>\n",
       "      <th>cases</th>\n",
       "      <th>deaths</th>\n",
       "      <th>STATEFP</th>\n",
       "      <th>COUNTYFP</th>\n",
       "      <th>geometry</th>\n",
       "      <th>postcode</th>\n",
       "    </tr>\n",
       "  </thead>\n",
       "  <tbody>\n",
       "    <tr>\n",
       "      <th>0</th>\n",
       "      <td>2020-01-21</td>\n",
       "      <td>Snohomish</td>\n",
       "      <td>Washington</td>\n",
       "      <td>53061</td>\n",
       "      <td>1</td>\n",
       "      <td>0</td>\n",
       "      <td>53</td>\n",
       "      <td>061</td>\n",
       "      <td>MULTIPOLYGON (((-1634037.628 566970.701, -1633...</td>\n",
       "      <td>WA</td>\n",
       "    </tr>\n",
       "    <tr>\n",
       "      <th>1</th>\n",
       "      <td>2020-01-22</td>\n",
       "      <td>Snohomish</td>\n",
       "      <td>Washington</td>\n",
       "      <td>53061</td>\n",
       "      <td>1</td>\n",
       "      <td>0</td>\n",
       "      <td>53</td>\n",
       "      <td>061</td>\n",
       "      <td>MULTIPOLYGON (((-1634037.628 566970.701, -1633...</td>\n",
       "      <td>WA</td>\n",
       "    </tr>\n",
       "    <tr>\n",
       "      <th>2</th>\n",
       "      <td>2020-01-23</td>\n",
       "      <td>Snohomish</td>\n",
       "      <td>Washington</td>\n",
       "      <td>53061</td>\n",
       "      <td>1</td>\n",
       "      <td>0</td>\n",
       "      <td>53</td>\n",
       "      <td>061</td>\n",
       "      <td>MULTIPOLYGON (((-1634037.628 566970.701, -1633...</td>\n",
       "      <td>WA</td>\n",
       "    </tr>\n",
       "    <tr>\n",
       "      <th>3</th>\n",
       "      <td>2020-01-24</td>\n",
       "      <td>Cook</td>\n",
       "      <td>Illinois</td>\n",
       "      <td>17031</td>\n",
       "      <td>1</td>\n",
       "      <td>0</td>\n",
       "      <td>17</td>\n",
       "      <td>031</td>\n",
       "      <td>POLYGON ((965008.651 -256879.590, 966661.997 -...</td>\n",
       "      <td>IL</td>\n",
       "    </tr>\n",
       "    <tr>\n",
       "      <th>4</th>\n",
       "      <td>2020-01-24</td>\n",
       "      <td>Snohomish</td>\n",
       "      <td>Washington</td>\n",
       "      <td>53061</td>\n",
       "      <td>1</td>\n",
       "      <td>0</td>\n",
       "      <td>53</td>\n",
       "      <td>061</td>\n",
       "      <td>MULTIPOLYGON (((-1634037.628 566970.701, -1633...</td>\n",
       "      <td>WA</td>\n",
       "    </tr>\n",
       "  </tbody>\n",
       "</table>\n",
       "</div>"
      ],
      "text/plain": [
       "        date     county       state   fips  cases  deaths STATEFP COUNTYFP  \\\n",
       "0 2020-01-21  Snohomish  Washington  53061      1       0      53      061   \n",
       "1 2020-01-22  Snohomish  Washington  53061      1       0      53      061   \n",
       "2 2020-01-23  Snohomish  Washington  53061      1       0      53      061   \n",
       "3 2020-01-24       Cook    Illinois  17031      1       0      17      031   \n",
       "4 2020-01-24  Snohomish  Washington  53061      1       0      53      061   \n",
       "\n",
       "                                            geometry postcode  \n",
       "0  MULTIPOLYGON (((-1634037.628 566970.701, -1633...       WA  \n",
       "1  MULTIPOLYGON (((-1634037.628 566970.701, -1633...       WA  \n",
       "2  MULTIPOLYGON (((-1634037.628 566970.701, -1633...       WA  \n",
       "3  POLYGON ((965008.651 -256879.590, 966661.997 -...       IL  \n",
       "4  MULTIPOLYGON (((-1634037.628 566970.701, -1633...       WA  "
      ]
     },
     "execution_count": 21,
     "metadata": {},
     "output_type": "execute_result"
    }
   ],
   "source": [
    "us_cov19_counties_gdf.head()"
   ]
  },
  {
   "cell_type": "code",
   "execution_count": 134,
   "metadata": {},
   "outputs": [],
   "source": [
    "# us_cov19_counties_plot_gdf = us_cov19_counties_gdf['date', 'county', 'state', 'postcode', 'fips', 'STATEFP', 'COUNTYFP', 'cases', 'deaths', 'geometry']\n",
    "# us_cov19_counties_plot_gdf.set_index('date', inplace=True)"
   ]
  },
  {
   "cell_type": "markdown",
   "metadata": {},
   "source": [
    "### `covtrack_states_now_df`"
   ]
  },
  {
   "cell_type": "code",
   "execution_count": 34,
   "metadata": {},
   "outputs": [],
   "source": [
    "# Merge COVID Tracking Project US States COVID-19 Accumulative Data with us_states_gdf\n",
    "us_cov19_states_now_df = pd.merge(\n",
    "    covtrack_states_now_df,\n",
    "    us_states_gdf[['STATEFP', 'NAME', 'geometry']],\n",
    "    left_on='fips',\n",
    "    right_on='STATEFP',\n",
    "    how='left',\n",
    ")"
   ]
  },
  {
   "cell_type": "code",
   "execution_count": 35,
   "metadata": {},
   "outputs": [],
   "source": [
    "us_cov19_states_now_gdf = gpd.GeoDataFrame(us_cov19_states_now_df, \n",
    "                                           crs={'init': 'epsg:2163'},\n",
    "                                           geometry='geometry')"
   ]
  },
  {
   "cell_type": "code",
   "execution_count": 37,
   "metadata": {},
   "outputs": [],
   "source": [
    "us_cov19_states_now_gdf = us_cov19_states_now_gdf.drop(['STATEFP'], axis=1)"
   ]
  },
  {
   "cell_type": "markdown",
   "metadata": {},
   "source": [
    "### `covtrack_states_hist_df`"
   ]
  },
  {
   "cell_type": "code",
   "execution_count": 22,
   "metadata": {},
   "outputs": [],
   "source": [
    "# Merge COVID Tracking Project US States COVID-19 Accumulative Data with us_states_gdf\n",
    "us_cov19_states_df = pd.merge(\n",
    "    covtrack_states_hist_df,\n",
    "    us_states_gdf[['STATEFP', 'NAME', 'geometry']],\n",
    "    left_on='fips',\n",
    "    right_on='STATEFP',\n",
    "    how='left',\n",
    ")"
   ]
  },
  {
   "cell_type": "code",
   "execution_count": 23,
   "metadata": {},
   "outputs": [
    {
     "name": "stderr",
     "output_type": "stream",
     "text": [
      "C:\\Users\\dun4g\\anaconda3\\envs\\GIS\\lib\\site-packages\\pyproj\\crs\\crs.py:53: FutureWarning: '+init=<authority>:<code>' syntax is deprecated. '<authority>:<code>' is the preferred initialization method. When making the change, be mindful of axis order changes: https://pyproj4.github.io/pyproj/stable/gotchas.html#axis-order-changes-in-proj-6\n",
      "  return _prepare_from_string(\" \".join(pjargs))\n"
     ]
    }
   ],
   "source": [
    "us_cov19_states_gdf = gpd.GeoDataFrame(us_cov19_states_df, \n",
    "                                       crs={'init': 'epsg:2163'},\n",
    "                                       geometry='geometry')"
   ]
  },
  {
   "cell_type": "code",
   "execution_count": 24,
   "metadata": {},
   "outputs": [],
   "source": [
    "us_cov19_states_gdf = us_cov19_states_gdf.drop(['STATEFP'], axis=1)"
   ]
  },
  {
   "cell_type": "code",
   "execution_count": 96,
   "metadata": {},
   "outputs": [],
   "source": [
    "# # Creating a DataFrame for plotting charts (Set 'datetime' as the index)\n",
    "# us_cov19_states_plot_gdf = us_cov19_states_gdf[['datetime', 'date', 'NAME', 'state', 'fips', 'positive', 'death', 'total', 'geometry']]\n",
    "# us_cov19_states_plot_gdf.set_index('datetime', inplace=True)"
   ]
  },
  {
   "cell_type": "code",
   "execution_count": 26,
   "metadata": {},
   "outputs": [
    {
     "data": {
      "text/html": [
       "<div>\n",
       "<style scoped>\n",
       "    .dataframe tbody tr th:only-of-type {\n",
       "        vertical-align: middle;\n",
       "    }\n",
       "\n",
       "    .dataframe tbody tr th {\n",
       "        vertical-align: top;\n",
       "    }\n",
       "\n",
       "    .dataframe thead th {\n",
       "        text-align: right;\n",
       "    }\n",
       "</style>\n",
       "<table border=\"1\" class=\"dataframe\">\n",
       "  <thead>\n",
       "    <tr style=\"text-align: right;\">\n",
       "      <th></th>\n",
       "      <th>date</th>\n",
       "      <th>state</th>\n",
       "      <th>positive</th>\n",
       "      <th>negative</th>\n",
       "      <th>pending</th>\n",
       "      <th>hospitalizedCurrently</th>\n",
       "      <th>hospitalizedCumulative</th>\n",
       "      <th>inIcuCurrently</th>\n",
       "      <th>inIcuCumulative</th>\n",
       "      <th>onVentilatorCurrently</th>\n",
       "      <th>...</th>\n",
       "      <th>posNeg</th>\n",
       "      <th>fips</th>\n",
       "      <th>deathIncrease</th>\n",
       "      <th>hospitalizedIncrease</th>\n",
       "      <th>negativeIncrease</th>\n",
       "      <th>positiveIncrease</th>\n",
       "      <th>totalTestResultsIncrease</th>\n",
       "      <th>datetime</th>\n",
       "      <th>NAME</th>\n",
       "      <th>geometry</th>\n",
       "    </tr>\n",
       "  </thead>\n",
       "  <tbody>\n",
       "    <tr>\n",
       "      <th>0</th>\n",
       "      <td>20200504</td>\n",
       "      <td>AK</td>\n",
       "      <td>370.0</td>\n",
       "      <td>21353.0</td>\n",
       "      <td>NaN</td>\n",
       "      <td>12.0</td>\n",
       "      <td>NaN</td>\n",
       "      <td>NaN</td>\n",
       "      <td>NaN</td>\n",
       "      <td>NaN</td>\n",
       "      <td>...</td>\n",
       "      <td>21723.0</td>\n",
       "      <td>02</td>\n",
       "      <td>0.0</td>\n",
       "      <td>0.0</td>\n",
       "      <td>143.0</td>\n",
       "      <td>2.0</td>\n",
       "      <td>145.0</td>\n",
       "      <td>2020-05-04</td>\n",
       "      <td>Alaska</td>\n",
       "      <td>MULTIPOLYGON (((-4288629.978 3426273.416, -428...</td>\n",
       "    </tr>\n",
       "    <tr>\n",
       "      <th>1</th>\n",
       "      <td>20200504</td>\n",
       "      <td>AL</td>\n",
       "      <td>8025.0</td>\n",
       "      <td>95092.0</td>\n",
       "      <td>NaN</td>\n",
       "      <td>NaN</td>\n",
       "      <td>1064.0</td>\n",
       "      <td>NaN</td>\n",
       "      <td>411.0</td>\n",
       "      <td>NaN</td>\n",
       "      <td>...</td>\n",
       "      <td>103117.0</td>\n",
       "      <td>01</td>\n",
       "      <td>6.0</td>\n",
       "      <td>29.0</td>\n",
       "      <td>10317.0</td>\n",
       "      <td>300.0</td>\n",
       "      <td>10617.0</td>\n",
       "      <td>2020-05-04</td>\n",
       "      <td>Alabama</td>\n",
       "      <td>MULTIPOLYGON (((1150023.442 -1526367.945, 1150...</td>\n",
       "    </tr>\n",
       "    <tr>\n",
       "      <th>2</th>\n",
       "      <td>20200504</td>\n",
       "      <td>AR</td>\n",
       "      <td>3458.0</td>\n",
       "      <td>50984.0</td>\n",
       "      <td>NaN</td>\n",
       "      <td>91.0</td>\n",
       "      <td>438.0</td>\n",
       "      <td>NaN</td>\n",
       "      <td>NaN</td>\n",
       "      <td>16.0</td>\n",
       "      <td>...</td>\n",
       "      <td>54442.0</td>\n",
       "      <td>05</td>\n",
       "      <td>5.0</td>\n",
       "      <td>11.0</td>\n",
       "      <td>1525.0</td>\n",
       "      <td>27.0</td>\n",
       "      <td>1552.0</td>\n",
       "      <td>2020-05-04</td>\n",
       "      <td>Arkansas</td>\n",
       "      <td>POLYGON ((482000.986 -928930.836, 487242.080 -...</td>\n",
       "    </tr>\n",
       "    <tr>\n",
       "      <th>3</th>\n",
       "      <td>20200504</td>\n",
       "      <td>AS</td>\n",
       "      <td>0.0</td>\n",
       "      <td>83.0</td>\n",
       "      <td>NaN</td>\n",
       "      <td>NaN</td>\n",
       "      <td>NaN</td>\n",
       "      <td>NaN</td>\n",
       "      <td>NaN</td>\n",
       "      <td>NaN</td>\n",
       "      <td>...</td>\n",
       "      <td>83.0</td>\n",
       "      <td>60</td>\n",
       "      <td>0.0</td>\n",
       "      <td>0.0</td>\n",
       "      <td>26.0</td>\n",
       "      <td>0.0</td>\n",
       "      <td>26.0</td>\n",
       "      <td>2020-05-04</td>\n",
       "      <td>American Samoa</td>\n",
       "      <td>MULTIPOLYGON (((-7800567.112 -3751033.523, -78...</td>\n",
       "    </tr>\n",
       "    <tr>\n",
       "      <th>4</th>\n",
       "      <td>20200504</td>\n",
       "      <td>AZ</td>\n",
       "      <td>8919.0</td>\n",
       "      <td>76334.0</td>\n",
       "      <td>NaN</td>\n",
       "      <td>703.0</td>\n",
       "      <td>1357.0</td>\n",
       "      <td>288.0</td>\n",
       "      <td>NaN</td>\n",
       "      <td>200.0</td>\n",
       "      <td>...</td>\n",
       "      <td>85253.0</td>\n",
       "      <td>04</td>\n",
       "      <td>0.0</td>\n",
       "      <td>9.0</td>\n",
       "      <td>3855.0</td>\n",
       "      <td>279.0</td>\n",
       "      <td>4134.0</td>\n",
       "      <td>2020-05-04</td>\n",
       "      <td>Arizona</td>\n",
       "      <td>POLYGON ((-1386135.563 -1256471.688, -1386636....</td>\n",
       "    </tr>\n",
       "  </tbody>\n",
       "</table>\n",
       "<p>5 rows × 28 columns</p>\n",
       "</div>"
      ],
      "text/plain": [
       "       date state  positive  negative  pending  hospitalizedCurrently  \\\n",
       "0  20200504    AK     370.0   21353.0      NaN                   12.0   \n",
       "1  20200504    AL    8025.0   95092.0      NaN                    NaN   \n",
       "2  20200504    AR    3458.0   50984.0      NaN                   91.0   \n",
       "3  20200504    AS       0.0      83.0      NaN                    NaN   \n",
       "4  20200504    AZ    8919.0   76334.0      NaN                  703.0   \n",
       "\n",
       "   hospitalizedCumulative  inIcuCurrently  inIcuCumulative  \\\n",
       "0                     NaN             NaN              NaN   \n",
       "1                  1064.0             NaN            411.0   \n",
       "2                   438.0             NaN              NaN   \n",
       "3                     NaN             NaN              NaN   \n",
       "4                  1357.0           288.0              NaN   \n",
       "\n",
       "   onVentilatorCurrently  ...    posNeg  fips deathIncrease  \\\n",
       "0                    NaN  ...   21723.0    02           0.0   \n",
       "1                    NaN  ...  103117.0    01           6.0   \n",
       "2                   16.0  ...   54442.0    05           5.0   \n",
       "3                    NaN  ...      83.0    60           0.0   \n",
       "4                  200.0  ...   85253.0    04           0.0   \n",
       "\n",
       "  hospitalizedIncrease  negativeIncrease  positiveIncrease  \\\n",
       "0                  0.0             143.0               2.0   \n",
       "1                 29.0           10317.0             300.0   \n",
       "2                 11.0            1525.0              27.0   \n",
       "3                  0.0              26.0               0.0   \n",
       "4                  9.0            3855.0             279.0   \n",
       "\n",
       "   totalTestResultsIncrease   datetime            NAME  \\\n",
       "0                     145.0 2020-05-04          Alaska   \n",
       "1                   10617.0 2020-05-04         Alabama   \n",
       "2                    1552.0 2020-05-04        Arkansas   \n",
       "3                      26.0 2020-05-04  American Samoa   \n",
       "4                    4134.0 2020-05-04         Arizona   \n",
       "\n",
       "                                            geometry  \n",
       "0  MULTIPOLYGON (((-4288629.978 3426273.416, -428...  \n",
       "1  MULTIPOLYGON (((1150023.442 -1526367.945, 1150...  \n",
       "2  POLYGON ((482000.986 -928930.836, 487242.080 -...  \n",
       "3  MULTIPOLYGON (((-7800567.112 -3751033.523, -78...  \n",
       "4  POLYGON ((-1386135.563 -1256471.688, -1386636....  \n",
       "\n",
       "[5 rows x 28 columns]"
      ]
     },
     "execution_count": 26,
     "metadata": {},
     "output_type": "execute_result"
    }
   ],
   "source": [
    "us_cov19_states_gdf.head()"
   ]
  },
  {
   "cell_type": "markdown",
   "metadata": {},
   "source": [
    "## Procedure 4: US COVID-19 Data Visualisation\n",
    "### US History Chart `covtrack_us_hist_df`"
   ]
  },
  {
   "cell_type": "code",
   "execution_count": 65,
   "metadata": {},
   "outputs": [
    {
     "data": {
      "image/png": "[encoded data removed]",
      "text/plain": [
       "<Figure size 720x576 with 1 Axes>"
      ]
     },
     "metadata": {
      "needs_background": "light"
     },
     "output_type": "display_data"
    }
   ],
   "source": [
    "covtrack_us_hist_df.plot(\n",
    "    x='datetime',\n",
    "    y=['positive', 'death', 'totalTestResults'],\n",
    "    xlim=()\n",
    "    ylim=(0, 750000),\n",
    "    figsize=(10, 8),\n",
    ");\n",
    "\n",
    "plt.title('Early US COVID-19', fontdict={'size':30});"
   ]
  },
  {
   "cell_type": "code",
   "execution_count": null,
   "metadata": {},
   "outputs": [],
   "source": []
  },
  {
   "cell_type": "markdown",
   "metadata": {},
   "source": [
    "### US States Confirmed Cases `us_cov19_states_now_gdf`\n",
    "### <font color = 'red'> QUESTION: How do I put an automated today's date and time as a subtitle? </font>\n",
    "### <font color = 'red'> QUESTION: How can I place Alaska more appropriate on the map? </font>"
   ]
  },
  {
   "cell_type": "code",
   "execution_count": 53,
   "metadata": {},
   "outputs": [
    {
     "data": {
      "image/png": "[encoded data removed]",
      "text/plain": [
       "<Figure size 1080x720 with 1 Axes>"
      ]
     },
     "metadata": {
      "needs_background": "light"
     },
     "output_type": "display_data"
    }
   ],
   "source": [
    "from datetime import date\n",
    "\n",
    "fig, ax = plt.subplots(figsize=(15, 10))\n",
    "\n",
    "us_cov19_states_now_gdf.plot(\n",
    "    ax=ax,\n",
    "    column='positive',\n",
    "    legend=True,\n",
    "    legend_kwds={'loc': 'lower left'},\n",
    "    scheme='BoxPlot',\n",
    "    cmap='YlOrRd',\n",
    ")\n",
    "\n",
    "# Title  \n",
    "ax.set_title('US Confirmed Cases', fontdict={'size':30});\n",
    "\n",
    "# Turn off the axes label\n",
    "ax.get_xaxis().set_visible(False)\n",
    "ax.get_yaxis().set_visible(False)\n",
    "\n",
    "# Crop the map to an appropriate size (via coordinate)\n",
    "ax.set_xlim(-4700000, 3000000)\n",
    "ax.set_ylim(-2500000, 4200000);"
   ]
  },
  {
   "cell_type": "code",
   "execution_count": null,
   "metadata": {},
   "outputs": [],
   "source": []
  },
  {
   "cell_type": "code",
   "execution_count": null,
   "metadata": {},
   "outputs": [],
   "source": []
  },
  {
   "cell_type": "code",
   "execution_count": null,
   "metadata": {},
   "outputs": [],
   "source": []
  },
  {
   "cell_type": "code",
   "execution_count": null,
   "metadata": {},
   "outputs": [],
   "source": []
  },
  {
   "cell_type": "markdown",
   "metadata": {},
   "source": [
    "### by US Counties `us_cov19_counties_gdf`"
   ]
  },
  {
   "cell_type": "code",
   "execution_count": null,
   "metadata": {},
   "outputs": [],
   "source": [
    "import plotly.express as px\n",
    "\n",
    "us_cov19_counties_gdf.plot(\n",
    "    column=''\n",
    ")"
   ]
  },
  {
   "cell_type": "code",
   "execution_count": null,
   "metadata": {},
   "outputs": [],
   "source": []
  },
  {
   "cell_type": "code",
   "execution_count": null,
   "metadata": {},
   "outputs": [],
   "source": []
  },
  {
   "cell_type": "markdown",
   "metadata": {},
   "source": [
    "### by US States `us_cov19_states_gdf`"
   ]
  },
  {
   "cell_type": "markdown",
   "metadata": {},
   "source": [
    "# South Korea COVID-19 Case Data Visualisation\n",
    "## Procedure 1: South Korea Provinces and Special/Metropolitan Cities GeoDataFrame (EPSG: 4326)"
   ]
  },
  {
   "cell_type": "code",
   "execution_count": 23,
   "metadata": {},
   "outputs": [],
   "source": [
    "# Read in Natural Earth Large Scale Cultural Data (Admin 1 - States and Provinces) Boundary Shapefile\n",
    "ne_admin_1_states_gdf = gpd.read_file('Data/input/ne_admin_1_states_provinces/ne_10m_admin_1_states_provinces.shp')"
   ]
  },
  {
   "cell_type": "code",
   "execution_count": 24,
   "metadata": {},
   "outputs": [],
   "source": [
    "# Create a GeoDataFrame for South Korea Provinces & Special/Metropolitan Cities ONLY\n",
    "south_korea_gdf=ne_admin_1_states_gdf[ne_admin_1_states_gdf['admin']=='South Korea']"
   ]
  },
  {
   "cell_type": "code",
   "execution_count": 25,
   "metadata": {},
   "outputs": [],
   "source": [
    "# Keep the only columns that needed\n",
    "south_korea_gdf = south_korea_gdf[['geonunit', 'gu_a3', 'gn_name', 'name_de', 'fips', 'latitude', 'longitude', 'geometry']]"
   ]
  },
  {
   "cell_type": "markdown",
   "metadata": {},
   "source": [
    "## Procedure 2: South Korea COVID-19 Cases/Deaths/Testing DataFrame\n",
    "### [South Korea Accumulative Data](https://github.com/katkim0307/COVID-19_Response_Comparison/blob/master/Data/input/covid_19_south_korea_full_xls.xlsx)"
   ]
  },
  {
   "cell_type": "code",
   "execution_count": 26,
   "metadata": {},
   "outputs": [],
   "source": [
    "# Read \n",
    "kor_cov19_df = pd.read_excel('Data/input/covid_19_south_korea_full_xls.xlsx',\n",
    "                            sheet_name='covid_19_daily_country')\n",
    "\n",
    "kor_cov19_df.fillna(0, inplace=True)"
   ]
  },
  {
   "cell_type": "code",
   "execution_count": 31,
   "metadata": {},
   "outputs": [],
   "source": [
    "# Creating a DataFrame for plotting charts (Set 'Date' as the index)\n",
    "kor_cov19_plot_df = kor_cov19_df[['Date', 'Confirm_New', 'Confirm_Tot', \n",
    "                                'Death_New', 'Death_Tot', \n",
    "                                'Test_New', 'Test_Tot', 'Test_Curr']]\n",
    "kor_cov19_plot_df.set_index('Date', inplace=True)"
   ]
  },
  {
   "cell_type": "markdown",
   "metadata": {},
   "source": [
    "### [South Korea Provinces and Special/Metropolitan Cities Data](https://github.com/katkim0307/COVID-19_Response_Comparison/blob/master/Data/input/covid_19_south_korea_full_xls.xlsx)"
   ]
  },
  {
   "cell_type": "code",
   "execution_count": 27,
   "metadata": {},
   "outputs": [],
   "source": [
    "# Read\n",
    "kor_cov19_province_df = pd.read_excel('Data/input/covid_19_south_korea_full_xls.xlsx',\n",
    "                                  sheet_name='covid_19_daily_province')\n"
   ]
  },
  {
   "cell_type": "code",
   "execution_count": 32,
   "metadata": {},
   "outputs": [],
   "source": [
    "# Creating a DataFrame for plotting charts (Set 'Date' as the index)\n",
    "kor_cov19_province_plot_df = kor_cov19_province_df[['Date', 'Province', 'Confirm_New', 'Confirm_Tot', \n",
    "                                                 'Death_New', 'Death_Tot', \n",
    "                                                 'Test_New', 'Test_Tot', 'Test_Curr']]\n",
    "kor_cov19_province_plot_df.set_index('Date', inplace=True)"
   ]
  },
  {
   "cell_type": "markdown",
   "metadata": {},
   "source": [
    "## Procedure 3: Merge South Korea COVID-19 DataFrame with GeoDataFrame "
   ]
  },
  {
   "cell_type": "code",
   "execution_count": null,
   "metadata": {},
   "outputs": [],
   "source": []
  },
  {
   "cell_type": "code",
   "execution_count": null,
   "metadata": {},
   "outputs": [],
   "source": []
  },
  {
   "cell_type": "code",
   "execution_count": null,
   "metadata": {},
   "outputs": [],
   "source": []
  },
  {
   "cell_type": "code",
   "execution_count": null,
   "metadata": {},
   "outputs": [],
   "source": []
  },
  {
   "cell_type": "code",
   "execution_count": null,
   "metadata": {},
   "outputs": [],
   "source": []
  },
  {
   "cell_type": "code",
   "execution_count": null,
   "metadata": {},
   "outputs": [],
   "source": []
  },
  {
   "cell_type": "code",
   "execution_count": null,
   "metadata": {},
   "outputs": [],
   "source": []
  },
  {
   "cell_type": "code",
   "execution_count": null,
   "metadata": {},
   "outputs": [],
   "source": []
  },
  {
   "cell_type": "code",
   "execution_count": null,
   "metadata": {},
   "outputs": [],
   "source": []
  },
  {
   "cell_type": "code",
   "execution_count": null,
   "metadata": {},
   "outputs": [],
   "source": []
  },
  {
   "cell_type": "code",
   "execution_count": null,
   "metadata": {},
   "outputs": [],
   "source": []
  }
 ],
 "metadata": {
  "kernelspec": {
   "display_name": "Python 3",
   "language": "python",
   "name": "python3"
  },
  "language_info": {
   "codemirror_mode": {
    "name": "ipython",
    "version": 3
   },
   "file_extension": ".py",
   "mimetype": "text/x-python",
   "name": "python",
   "nbconvert_exporter": "python",
   "pygments_lexer": "ipython3",
   "version": "3.7.7"
  }
 },
 "nbformat": 4,
 "nbformat_minor": 4
}
