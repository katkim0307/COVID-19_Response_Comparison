{
 "cells": [
  {
   "cell_type": "code",
   "execution_count": 2,
   "metadata": {},
   "outputs": [],
   "source": [
    "import os\n",
    "import sys\n",
    "import requests\n",
    "import urllib\n",
    "import zipfile\n",
    "import glob\n",
    "import datetime\n",
    "from datetime import date\n",
    "\n",
    "import pandas as pd\n",
    "import geopandas as gpd\n",
    "import matplotlib.pyplot as plt\n",
    "import matplotlib.dates as mdates\n",
    "import matplotlib.ticker as ticker\n",
    "import matplotlib.patches as patches\n",
    "import matplotlib.cm as cm\n",
    "import matplotlib.colors as colors\n",
    "import plotly\n",
    "import plotly.graph_objs as go\n",
    "from plotly.graph_objs import *\n",
    "import plotly.offline as offline\n",
    "import plotly.figure_factory as ff\n",
    "import numpy as np\n",
    "import seaborn as sns\n",
    "import warnings\n",
    "import networkx as nx\n",
    "#import osmnx as ox   # Error"
   ]
  },
  {
   "cell_type": "markdown",
   "metadata": {},
   "source": [
    "# US COVID-19 Case Data Visualisation\n",
    "## Procedure 1: US States and Counties GeoDataFrame (EPSG: 2163)\n",
    "### US State"
   ]
  },
  {
   "cell_type": "code",
   "execution_count": 3,
   "metadata": {},
   "outputs": [],
   "source": [
    "# Read US States Boundary Shapefile\n",
    "us_states_gdf = gpd.read_file('Data/input/us_state/cb_2018_us_state_5m.shp')\n",
    "\n",
    "# Converting the CRS to US National Atlas Equal Area Projection (EPSG: 2163)\n",
    "us_states_gdf.to_crs(epsg=2163, inplace=True)"
   ]
  },
  {
   "cell_type": "code",
   "execution_count": 4,
   "metadata": {},
   "outputs": [],
   "source": [
    "# Adding a column 'coords' for later use (labeling each State)\n",
    "# https://stackoverflow.com/questions/38899190/geopandas-label-polygons\n",
    "us_states_gdf['coords'] = us_states_gdf['geometry'].apply(lambda x: x.representative_point().coords[:])\n",
    "us_states_gdf['coords'] = [coords[0] for coords in us_states_gdf['coords']]"
   ]
  },
  {
   "cell_type": "markdown",
   "metadata": {},
   "source": [
    "### US County"
   ]
  },
  {
   "cell_type": "code",
   "execution_count": 5,
   "metadata": {},
   "outputs": [],
   "source": [
    "# Read US Counties Boundary Shapefile\n",
    "us_counties_gdf = gpd.read_file('Data/input/us_counties/cb_2018_us_county_5m.shp')\n",
    "\n",
    "# Adding a 'FULLFP' column that concatenates 'STATEFP' and 'COUNTYFP'\n",
    "us_counties_gdf['FULLFP'] = us_counties_gdf['STATEFP'] + us_counties_gdf['COUNTYFP']\n",
    "\n",
    "# Converting the CRS to US National Atlas Equal Area Projection (EPSG: 2163)\n",
    "us_counties_gdf.to_crs(epsg=2163, inplace=True)"
   ]
  },
  {
   "cell_type": "code",
   "execution_count": 6,
   "metadata": {},
   "outputs": [],
   "source": [
    "# Read US State Name, FIPS, and Postcode csv file \n",
    "fips_csv_dir = 'Data/input/us_state_fips/us-state-ansi-fips.csv'\n",
    "fips_df = pd.read_csv(fips_csv_dir, dtype={' fips':object})"
   ]
  },
  {
   "cell_type": "code",
   "execution_count": 7,
   "metadata": {},
   "outputs": [],
   "source": [
    "# Rename columns\n",
    "fips_df.rename(columns=\n",
    "    {' fips': 'fips',\n",
    "    ' stusps': 'postcode',},\n",
    "    inplace=True)"
   ]
  },
  {
   "cell_type": "code",
   "execution_count": 8,
   "metadata": {},
   "outputs": [],
   "source": [
    "# Attribute Joins - Merging `us_counties_gdf` and `fips_df` on `'STATEFP'` and `'fips'`\n",
    "merged_df = pd.merge(\n",
    "    left=us_counties_gdf, \n",
    "    right=fips_df, \n",
    "    how='left', \n",
    "    left_on='STATEFP', \n",
    "    right_on='fips'\n",
    ")"
   ]
  },
  {
   "cell_type": "code",
   "execution_count": 9,
   "metadata": {},
   "outputs": [],
   "source": [
    "# Remove (drop) 'fips' column\n",
    "merged_df = merged_df.drop(['fips'], axis=1)"
   ]
  },
  {
   "cell_type": "code",
   "execution_count": 10,
   "metadata": {},
   "outputs": [],
   "source": [
    "# Make us_gdf a GeoDataFrame of merged_df\n",
    "us_counties_gdf = gpd.GeoDataFrame(merged_df,\n",
    "                                   crs={'init': 'epsg:2163'},\n",
    "                                   geometry=merged_df['geometry'])"
   ]
  },
  {
   "cell_type": "markdown",
   "metadata": {},
   "source": [
    "## Procedure 2: US COVID-19 Cases/Deaths/Testing DataFrame\n",
    "### [New York Times US Counties Data](https://github.com/nytimes/covid-19-data)\n",
    "### [Johns Hopkins Uni & Med US County](https://github.com/CSSEGISandData/COVID-19/tree/master/csse_covid_19_data/csse_covid_19_time_series)\n",
    "### [New York City Data](https://github.com/thecityny/covid-19-nyc-data)"
   ]
  },
  {
   "cell_type": "code",
   "execution_count": 87,
   "metadata": {},
   "outputs": [],
   "source": [
    "# Read NYTimes COVID-19 US Counties Data\n",
    "nytimes_counties_df = pd.read_csv('https://raw.githubusercontent.com/nytimes/covid-19-data/master/us-counties.csv', \n",
    "                                  dtype={'fips':object}\n",
    "                                 )"
   ]
  },
  {
   "cell_type": "code",
   "execution_count": 88,
   "metadata": {},
   "outputs": [],
   "source": [
    "# Changing the 'date' dtype from object to datetime\n",
    "nytimes_counties_df['date']=pd.to_datetime(nytimes_counties_df['date'])\n",
    "\n",
    "# There are missing 'fips' values that will cause trouble later on\n",
    "#nytimes_counties_df['fips'].fillna(0)"
   ]
  },
  {
   "cell_type": "code",
   "execution_count": 103,
   "metadata": {},
   "outputs": [
    {
     "data": {
      "text/html": [
       "<div>\n",
       "<style scoped>\n",
       "    .dataframe tbody tr th:only-of-type {\n",
       "        vertical-align: middle;\n",
       "    }\n",
       "\n",
       "    .dataframe tbody tr th {\n",
       "        vertical-align: top;\n",
       "    }\n",
       "\n",
       "    .dataframe thead th {\n",
       "        text-align: right;\n",
       "    }\n",
       "</style>\n",
       "<table border=\"1\" class=\"dataframe\">\n",
       "  <thead>\n",
       "    <tr style=\"text-align: right;\">\n",
       "      <th></th>\n",
       "      <th>date</th>\n",
       "      <th>county</th>\n",
       "      <th>state</th>\n",
       "      <th>fips</th>\n",
       "      <th>cases</th>\n",
       "      <th>deaths</th>\n",
       "    </tr>\n",
       "  </thead>\n",
       "  <tbody>\n",
       "    <tr>\n",
       "      <th>0</th>\n",
       "      <td>2020-01-21</td>\n",
       "      <td>Snohomish</td>\n",
       "      <td>Washington</td>\n",
       "      <td>53061</td>\n",
       "      <td>1</td>\n",
       "      <td>0</td>\n",
       "    </tr>\n",
       "    <tr>\n",
       "      <th>1</th>\n",
       "      <td>2020-01-22</td>\n",
       "      <td>Snohomish</td>\n",
       "      <td>Washington</td>\n",
       "      <td>53061</td>\n",
       "      <td>1</td>\n",
       "      <td>0</td>\n",
       "    </tr>\n",
       "    <tr>\n",
       "      <th>2</th>\n",
       "      <td>2020-01-23</td>\n",
       "      <td>Snohomish</td>\n",
       "      <td>Washington</td>\n",
       "      <td>53061</td>\n",
       "      <td>1</td>\n",
       "      <td>0</td>\n",
       "    </tr>\n",
       "    <tr>\n",
       "      <th>3</th>\n",
       "      <td>2020-01-24</td>\n",
       "      <td>Cook</td>\n",
       "      <td>Illinois</td>\n",
       "      <td>17031</td>\n",
       "      <td>1</td>\n",
       "      <td>0</td>\n",
       "    </tr>\n",
       "    <tr>\n",
       "      <th>4</th>\n",
       "      <td>2020-01-24</td>\n",
       "      <td>Snohomish</td>\n",
       "      <td>Washington</td>\n",
       "      <td>53061</td>\n",
       "      <td>1</td>\n",
       "      <td>0</td>\n",
       "    </tr>\n",
       "  </tbody>\n",
       "</table>\n",
       "</div>"
      ],
      "text/plain": [
       "        date     county       state   fips  cases  deaths\n",
       "0 2020-01-21  Snohomish  Washington  53061      1       0\n",
       "1 2020-01-22  Snohomish  Washington  53061      1       0\n",
       "2 2020-01-23  Snohomish  Washington  53061      1       0\n",
       "3 2020-01-24       Cook    Illinois  17031      1       0\n",
       "4 2020-01-24  Snohomish  Washington  53061      1       0"
      ]
     },
     "execution_count": 103,
     "metadata": {},
     "output_type": "execute_result"
    }
   ],
   "source": [
    "nytimes_counties_df.head()"
   ]
  },
  {
   "cell_type": "markdown",
   "metadata": {},
   "source": [
    "# PROBLEM: There are unknown counties with NaN fips\n",
    "### Possible Solution: Use the JHU's data instead of NYTimes (Ask how to use the data where each date is a column head)"
   ]
  },
  {
   "cell_type": "code",
   "execution_count": 108,
   "metadata": {},
   "outputs": [
    {
     "data": {
      "text/plain": [
       "array(['New York', 'Rhode Island', 'New Jersey', 'Puerto Rico',\n",
       "       'Virgin Islands', 'Guam', 'Maine', 'Massachusetts', 'Louisiana',\n",
       "       'Kentucky', 'Nevada', 'Tennessee', 'Arkansas', 'Georgia',\n",
       "       'Missouri', 'Minnesota', 'California', 'Colorado', 'Florida',\n",
       "       'Hawaii', 'Illinois', 'Vermont', 'Idaho', 'Michigan', 'Ohio',\n",
       "       'Utah', 'Mississippi', 'Northern Mariana Islands', 'Nebraska',\n",
       "       'Connecticut', 'Indiana', 'Alaska', 'Arizona', 'New Mexico',\n",
       "       'Pennsylvania', 'Virginia', 'New Hampshire', 'South Dakota',\n",
       "       'Washington', 'Delaware', 'Kansas', 'North Dakota', 'Maryland',\n",
       "       'Iowa'], dtype=object)"
      ]
     },
     "execution_count": 108,
     "metadata": {},
     "output_type": "execute_result"
    }
   ],
   "source": [
    "null_fips_df = nytimes_counties_df[nytimes_counties_df['fips'].isnull()]\n",
    "null_fips_df['state'].unique()"
   ]
  },
  {
   "cell_type": "code",
   "execution_count": 112,
   "metadata": {},
   "outputs": [
    {
     "data": {
      "text/html": [
       "<div>\n",
       "<style scoped>\n",
       "    .dataframe tbody tr th:only-of-type {\n",
       "        vertical-align: middle;\n",
       "    }\n",
       "\n",
       "    .dataframe tbody tr th {\n",
       "        vertical-align: top;\n",
       "    }\n",
       "\n",
       "    .dataframe thead th {\n",
       "        text-align: right;\n",
       "    }\n",
       "</style>\n",
       "<table border=\"1\" class=\"dataframe\">\n",
       "  <thead>\n",
       "    <tr style=\"text-align: right;\">\n",
       "      <th></th>\n",
       "      <th>date</th>\n",
       "      <th>county</th>\n",
       "      <th>state</th>\n",
       "      <th>fips</th>\n",
       "      <th>cases</th>\n",
       "      <th>deaths</th>\n",
       "    </tr>\n",
       "  </thead>\n",
       "  <tbody>\n",
       "    <tr>\n",
       "      <th>416</th>\n",
       "      <td>2020-03-01</td>\n",
       "      <td>New York City</td>\n",
       "      <td>New York</td>\n",
       "      <td>NaN</td>\n",
       "      <td>1</td>\n",
       "      <td>0</td>\n",
       "    </tr>\n",
       "    <tr>\n",
       "      <th>448</th>\n",
       "      <td>2020-03-02</td>\n",
       "      <td>New York City</td>\n",
       "      <td>New York</td>\n",
       "      <td>NaN</td>\n",
       "      <td>1</td>\n",
       "      <td>0</td>\n",
       "    </tr>\n",
       "    <tr>\n",
       "      <th>482</th>\n",
       "      <td>2020-03-03</td>\n",
       "      <td>New York City</td>\n",
       "      <td>New York</td>\n",
       "      <td>NaN</td>\n",
       "      <td>2</td>\n",
       "      <td>0</td>\n",
       "    </tr>\n",
       "    <tr>\n",
       "      <th>518</th>\n",
       "      <td>2020-03-04</td>\n",
       "      <td>New York City</td>\n",
       "      <td>New York</td>\n",
       "      <td>NaN</td>\n",
       "      <td>2</td>\n",
       "      <td>0</td>\n",
       "    </tr>\n",
       "    <tr>\n",
       "      <th>565</th>\n",
       "      <td>2020-03-05</td>\n",
       "      <td>New York City</td>\n",
       "      <td>New York</td>\n",
       "      <td>NaN</td>\n",
       "      <td>4</td>\n",
       "      <td>0</td>\n",
       "    </tr>\n",
       "    <tr>\n",
       "      <th>...</th>\n",
       "      <td>...</td>\n",
       "      <td>...</td>\n",
       "      <td>...</td>\n",
       "      <td>...</td>\n",
       "      <td>...</td>\n",
       "      <td>...</td>\n",
       "    </tr>\n",
       "    <tr>\n",
       "      <th>102792</th>\n",
       "      <td>2020-04-30</td>\n",
       "      <td>New York City</td>\n",
       "      <td>New York</td>\n",
       "      <td>NaN</td>\n",
       "      <td>167489</td>\n",
       "      <td>12514</td>\n",
       "    </tr>\n",
       "    <tr>\n",
       "      <th>105654</th>\n",
       "      <td>2020-05-01</td>\n",
       "      <td>New York City</td>\n",
       "      <td>New York</td>\n",
       "      <td>NaN</td>\n",
       "      <td>169701</td>\n",
       "      <td>12700</td>\n",
       "    </tr>\n",
       "    <tr>\n",
       "      <th>108522</th>\n",
       "      <td>2020-05-02</td>\n",
       "      <td>New York City</td>\n",
       "      <td>New York</td>\n",
       "      <td>NaN</td>\n",
       "      <td>172364</td>\n",
       "      <td>12895</td>\n",
       "    </tr>\n",
       "    <tr>\n",
       "      <th>111396</th>\n",
       "      <td>2020-05-03</td>\n",
       "      <td>New York City</td>\n",
       "      <td>New York</td>\n",
       "      <td>NaN</td>\n",
       "      <td>174341</td>\n",
       "      <td>13064</td>\n",
       "    </tr>\n",
       "    <tr>\n",
       "      <th>114279</th>\n",
       "      <td>2020-05-04</td>\n",
       "      <td>New York City</td>\n",
       "      <td>New York</td>\n",
       "      <td>NaN</td>\n",
       "      <td>175661</td>\n",
       "      <td>13207</td>\n",
       "    </tr>\n",
       "  </tbody>\n",
       "</table>\n",
       "<p>71 rows × 6 columns</p>\n",
       "</div>"
      ],
      "text/plain": [
       "             date         county     state fips   cases  deaths\n",
       "416    2020-03-01  New York City  New York  NaN       1       0\n",
       "448    2020-03-02  New York City  New York  NaN       1       0\n",
       "482    2020-03-03  New York City  New York  NaN       2       0\n",
       "518    2020-03-04  New York City  New York  NaN       2       0\n",
       "565    2020-03-05  New York City  New York  NaN       4       0\n",
       "...           ...            ...       ...  ...     ...     ...\n",
       "102792 2020-04-30  New York City  New York  NaN  167489   12514\n",
       "105654 2020-05-01  New York City  New York  NaN  169701   12700\n",
       "108522 2020-05-02  New York City  New York  NaN  172364   12895\n",
       "111396 2020-05-03  New York City  New York  NaN  174341   13064\n",
       "114279 2020-05-04  New York City  New York  NaN  175661   13207\n",
       "\n",
       "[71 rows x 6 columns]"
      ]
     },
     "execution_count": 112,
     "metadata": {},
     "output_type": "execute_result"
    }
   ],
   "source": [
    "null_fips_df[null_fips_df['state']=='New York']"
   ]
  },
  {
   "cell_type": "code",
   "execution_count": 75,
   "metadata": {
    "scrolled": true
   },
   "outputs": [],
   "source": [
    "# Creating a DataFrame for plotting charts (Set 'date' as the index)\n",
    "nytimes_counties_plot_df = nytimes_counties_df.copy()\n",
    "nytimes_counties_plot_df.set_index('date', inplace=True)"
   ]
  },
  {
   "cell_type": "markdown",
   "metadata": {},
   "source": [
    "### [COVID Tracking Project Latest US & States Current Data](https://covidtracking.com/api)"
   ]
  },
  {
   "cell_type": "code",
   "execution_count": 14,
   "metadata": {},
   "outputs": [],
   "source": [
    "# Read COVID Tracking Project US COVID-19 Current Data\n",
    "covtrack_us_now_df = pd.read_json('https://covidtracking.com/api/v1/us/current.json')[['positive', 'death', 'total']]"
   ]
  },
  {
   "cell_type": "code",
   "execution_count": 15,
   "metadata": {},
   "outputs": [],
   "source": [
    "# Read COVID Tracking Project US States COVID-19 Current Data\n",
    "covtrack_states_now_df = pd.read_json('https://covidtracking.com/api/v1/states/current.json', dtype={'fips':object})[\n",
    "    ['state', 'fips', 'positive', 'death', 'total']\n",
    "]"
   ]
  },
  {
   "cell_type": "markdown",
   "metadata": {},
   "source": [
    "### [COVID Tracking Project US Accumulative Data](https://covidtracking.com/api)"
   ]
  },
  {
   "cell_type": "code",
   "execution_count": 16,
   "metadata": {},
   "outputs": [],
   "source": [
    "# Read COVID Tracking Project US COVID-19 Accumulative Data\n",
    "covtrack_us_hist_df = pd.read_json('https://covidtracking.com/api/v1/us/daily.json', dtype={'fips':object})[\n",
    "    ['date','positive', 'death', 'total']\n",
    "]"
   ]
  },
  {
   "cell_type": "code",
   "execution_count": 17,
   "metadata": {},
   "outputs": [],
   "source": [
    "# Creating a new column, 'datetime' that converts 'date' from dtype: int to the Dtype: str of datetime\n",
    "covtrack_us_hist_df['datetime']=pd.to_datetime(covtrack_us_hist_df['date'].astype(str), format='%Y-%m-%d')\n",
    "\n",
    "# Converting the Dtype to datetime\n",
    "covtrack_us_hist_df['datetime']=pd.to_datetime(covtrack_us_hist_df['datetime'])"
   ]
  },
  {
   "cell_type": "code",
   "execution_count": 18,
   "metadata": {},
   "outputs": [],
   "source": [
    "# Creating a DataFrame for plotting charts (Set 'datetime' as the index)\n",
    "covtrack_us_hist_plot_df = covtrack_us_hist_df[['datetime', 'positive', 'death', 'total']].copy()\n",
    "covtrack_us_hist_plot_df.set_index('datetime', inplace=True)"
   ]
  },
  {
   "cell_type": "markdown",
   "metadata": {},
   "source": [
    "### [COVID Tracking Project States Accumulative Data](https://covidtracking.com/api)"
   ]
  },
  {
   "cell_type": "code",
   "execution_count": 19,
   "metadata": {},
   "outputs": [],
   "source": [
    "# Read COVID Tracking Project US States COVID-19 Accumulative Data\n",
    "covtrack_states_hist_df = pd.read_json('https://covidtracking.com/api/v1/states/daily.json', dtype={'fips':object})[\n",
    "    ['date', 'state', 'fips', 'positive', 'death', 'total']\n",
    "]"
   ]
  },
  {
   "cell_type": "code",
   "execution_count": 20,
   "metadata": {},
   "outputs": [],
   "source": [
    "# Creating a new column, 'datetime' that converts 'date' from dtype: int to the Dtype: str of datetime\n",
    "covtrack_states_hist_df['datetime']=pd.to_datetime(covtrack_states_hist_df['date'].astype(str), format='%Y-%m-%d')\n",
    "\n",
    "# Converting the Dtype to datetime\n",
    "covtrack_states_hist_df['datetime']=pd.to_datetime(covtrack_states_hist_df['datetime'])"
   ]
  },
  {
   "cell_type": "code",
   "execution_count": 21,
   "metadata": {},
   "outputs": [],
   "source": [
    "# # Creating a DataFrame for plotting charts (Set 'datetime' as the index)\n",
    "covtrack_states_hist_plot_df = covtrack_states_hist_df[['datetime', 'state', 'fips', 'positive', 'death', 'total']].copy()\n",
    "covtrack_states_hist_plot_df.set_index('datetime', inplace=True)"
   ]
  },
  {
   "cell_type": "markdown",
   "metadata": {},
   "source": [
    "## Procedure 3: Merge US COVID-19 DataFrame with GeoDataFrame `us_cov19_counties_gdf` and `us_cov19_states_gdf`\n",
    "### `nytimes_counties_df`"
   ]
  },
  {
   "cell_type": "code",
   "execution_count": 22,
   "metadata": {},
   "outputs": [],
   "source": [
    "# Merge NYTimes US Counties COVID-19 Data with us_counties_gdf\n",
    "us_cov19_counties_df = pd.merge(\n",
    "    nytimes_counties_df,\n",
    "    us_counties_gdf[['FULLFP', 'STATEFP', 'COUNTYFP', 'geometry', 'postcode']],\n",
    "    left_on='fips',\n",
    "    right_on='FULLFP',\n",
    "    how='left',\n",
    ")"
   ]
  },
  {
   "cell_type": "code",
   "execution_count": 23,
   "metadata": {},
   "outputs": [],
   "source": [
    "us_cov19_counties_gdf = gpd.GeoDataFrame(us_cov19_counties_df, \n",
    "                                         crs={'init': 'epsg:2163'},\n",
    "                                         geometry='geometry')"
   ]
  },
  {
   "cell_type": "code",
   "execution_count": 24,
   "metadata": {},
   "outputs": [],
   "source": [
    "us_cov19_counties_gdf = us_cov19_counties_gdf.drop(['FULLFP'], axis=1)"
   ]
  },
  {
   "cell_type": "markdown",
   "metadata": {},
   "source": [
    "# <font color = 'orangered'> This works only sometimes... </font>"
   ]
  },
  {
   "cell_type": "code",
   "execution_count": 25,
   "metadata": {
    "scrolled": true
   },
   "outputs": [
    {
     "ename": "AttributeError",
     "evalue": "'function' object has no attribute 'set_index'",
     "output_type": "error",
     "traceback": [
      "\u001b[1;31m---------------------------------------------------------------------------\u001b[0m",
      "\u001b[1;31mAttributeError\u001b[0m                            Traceback (most recent call last)",
      "\u001b[1;32m<ipython-input-25-7e4dd524f02f>\u001b[0m in \u001b[0;36m<module>\u001b[1;34m\u001b[0m\n\u001b[0;32m      1\u001b[0m us_cov19_counties_plot_gdf = us_cov19_counties_gdf[['date', 'county', 'state', 'postcode', 'fips', \n\u001b[0;32m      2\u001b[0m                                                     'STATEFP', 'COUNTYFP', 'cases', 'deaths', 'geometry']].copy\n\u001b[1;32m----> 3\u001b[1;33m \u001b[0mus_cov19_counties_plot_gdf\u001b[0m\u001b[1;33m.\u001b[0m\u001b[0mset_index\u001b[0m\u001b[1;33m(\u001b[0m\u001b[1;34m'date'\u001b[0m\u001b[1;33m,\u001b[0m \u001b[0minplace\u001b[0m\u001b[1;33m=\u001b[0m\u001b[1;32mTrue\u001b[0m\u001b[1;33m)\u001b[0m\u001b[1;33m\u001b[0m\u001b[1;33m\u001b[0m\u001b[0m\n\u001b[0m",
      "\u001b[1;31mAttributeError\u001b[0m: 'function' object has no attribute 'set_index'"
     ]
    }
   ],
   "source": [
    "us_cov19_counties_plot_gdf = us_cov19_counties_gdf[['date', 'county', 'state', 'postcode', 'fips', \n",
    "                                                    'STATEFP', 'COUNTYFP', 'cases', 'deaths', 'geometry']].copy\n",
    "us_cov19_counties_plot_gdf.set_index('date', inplace=True)"
   ]
  },
  {
   "cell_type": "markdown",
   "metadata": {},
   "source": [
    "### `covtrack_states_now_df`"
   ]
  },
  {
   "cell_type": "code",
   "execution_count": 26,
   "metadata": {},
   "outputs": [],
   "source": [
    "# Merge COVID Tracking Project US States COVID-19 Accumulative Data with us_states_gdf\n",
    "us_cov19_states_now_df = pd.merge(\n",
    "    covtrack_states_now_df,\n",
    "    us_states_gdf[['STATEFP', 'NAME', 'coords', 'geometry']],\n",
    "    left_on='fips',\n",
    "    right_on='STATEFP',\n",
    "    how='left',\n",
    ")"
   ]
  },
  {
   "cell_type": "code",
   "execution_count": 27,
   "metadata": {},
   "outputs": [],
   "source": [
    "us_cov19_states_now_gdf = gpd.GeoDataFrame(us_cov19_states_now_df, \n",
    "                                           crs={'init': 'epsg:2163'},\n",
    "                                           geometry='geometry')"
   ]
  },
  {
   "cell_type": "code",
   "execution_count": 28,
   "metadata": {},
   "outputs": [],
   "source": [
    "us_cov19_states_now_gdf = us_cov19_states_now_gdf.drop(['STATEFP'], axis=1)"
   ]
  },
  {
   "cell_type": "markdown",
   "metadata": {},
   "source": [
    "### `covtrack_states_hist_df`"
   ]
  },
  {
   "cell_type": "code",
   "execution_count": 29,
   "metadata": {},
   "outputs": [],
   "source": [
    "# Merge COVID Tracking Project US States COVID-19 Accumulative Data with us_states_gdf\n",
    "us_cov19_states_df = pd.merge(\n",
    "    covtrack_states_hist_df,\n",
    "    us_states_gdf[['STATEFP', 'NAME', 'coords', 'geometry']],\n",
    "    left_on='fips',\n",
    "    right_on='STATEFP',\n",
    "    how='left',\n",
    ")"
   ]
  },
  {
   "cell_type": "code",
   "execution_count": 30,
   "metadata": {},
   "outputs": [],
   "source": [
    "us_cov19_states_gdf = gpd.GeoDataFrame(us_cov19_states_df, \n",
    "                                       crs={'init': 'epsg:2163'},\n",
    "                                       geometry='geometry')"
   ]
  },
  {
   "cell_type": "code",
   "execution_count": 31,
   "metadata": {},
   "outputs": [],
   "source": [
    "us_cov19_states_gdf = us_cov19_states_gdf.drop(['STATEFP'], axis=1)"
   ]
  },
  {
   "cell_type": "code",
   "execution_count": 32,
   "metadata": {},
   "outputs": [],
   "source": [
    "# Creating a DataFrame for plotting charts (Set 'datetime' as the index)\n",
    "us_cov19_states_plot_gdf = us_cov19_states_gdf[['datetime', 'date', 'NAME', 'state', 'fips', 'positive', 'death', 'total', 'coords', 'geometry']].copy()\n",
    "us_cov19_states_plot_gdf.set_index('datetime', inplace=True)"
   ]
  },
  {
   "cell_type": "markdown",
   "metadata": {},
   "source": [
    "## Procedure 4: US COVID-19 Data Visualisation\n",
    "### US History Chart `covtrack_us_hist_df`"
   ]
  },
  {
   "cell_type": "markdown",
   "metadata": {
    "scrolled": true
   },
   "source": [
    "# <font color = 'orangered'> QUESTION 2: How do I set the x-axis label (date) to show in `%b %d` format by monthly?? </font>"
   ]
  },
  {
   "cell_type": "code",
   "execution_count": 33,
   "metadata": {},
   "outputs": [
    {
     "data": {
      "image/png": "[encoded data removed]",
      "text/plain": [
       "<Figure size 720x576 with 1 Axes>"
      ]
     },
     "metadata": {
      "needs_background": "light"
     },
     "output_type": "display_data"
    }
   ],
   "source": [
    "fig, ax = plt.subplots(figsize=(10, 8))\n",
    "\n",
    "covtrack_us_hist_plot_df.plot(\n",
    "    ax=ax,\n",
    "    #x='datetime',\n",
    "    y=['positive', 'death', 'total'],\n",
    "    xlim=('2020-01-22', '2020-03-31'),\n",
    "    ylim=(0, 70000),\n",
    "    figsize=(10, 8),\n",
    ");\n",
    "\n",
    "# x-axis label\n",
    "plt.xlabel('Date')\n",
    "\n",
    "# Rename legend\n",
    "ax.legend(['Positive', 'Death', 'Test'])\n",
    "\n",
    "# set ticks every month\n",
    "ax.xaxis.set_major_locator(mdates.MonthLocator())\n",
    "\n",
    "# set major ticks format\n",
    "ax.xaxis.set_major_formatter(mdates.DateFormatter('%b %d'))\n",
    "\n",
    "plt.title('Early US COVID-19', fontdict={'size':30});"
   ]
  },
  {
   "cell_type": "markdown",
   "metadata": {},
   "source": [
    "### US States Confirmed Cases `us_cov19_states_now_gdf`\n",
    "# <font color = 'red'> QUESTION 3: How do I put an automated today's date and time in the title? US Confirmed Cases (Updated 5/3 at 10:00) </font>\n",
    "# <font color = 'red'> QUESTION 4: How do I change the pre-set legend values?  BoxPlot scheme is good but I just want the numbers to be prettier like 20,000 instead of 20,482.25. </font>\n",
    "# <font color = 'red'> QUESTION 5: How can I place Alaska around so the map is easier to look at? </font>"
   ]
  },
  {
   "cell_type": "code",
   "execution_count": 34,
   "metadata": {},
   "outputs": [
    {
     "data": {
      "image/png": "[encoded data removed]",
      "text/plain": [
       "<Figure size 1080x720 with 2 Axes>"
      ]
     },
     "metadata": {
      "needs_background": "light"
     },
     "output_type": "display_data"
    }
   ],
   "source": [
    "# from datetime import date\n",
    "\n",
    "fig, ax = plt.subplots(figsize=(15,10))\n",
    "\n",
    "# Normalize the Legend Color and create the legend bar\n",
    "# https://towardsdatascience.com/mapping-with-matplotlib-pandas-geopandas-and-basemap-in-python-d11b57ab5dac\n",
    "vmin, vmax = us_cov19_states_now_gdf.positive.min(), us_cov19_states_now_gdf.positive.max()\n",
    "legend_bar = plt.cm.ScalarMappable(\n",
    "     norm=plt.Normalize(vmin=vmin, vmax=vmax), \n",
    "     cmap='YlOrRd')\n",
    "\n",
    "# Plot\n",
    "us_cov19_states_now_gdf.plot(\n",
    "    ax=ax,\n",
    "    column='positive',\n",
    "    cmap='YlOrRd',\n",
    "    #markersize=2,\n",
    "    legend=True,\n",
    "    scheme='BoxPlot', # or Quantile,\n",
    "    legend_kwds={'loc': 'lower left'},\n",
    ")\n",
    "\n",
    "# Title  \n",
    "ax.set_title('US Confirmed Cases', fontdict={'size':30});\n",
    "\n",
    "# Add the Color Legend Bar\n",
    "# https://stackoverflow.com/questions/18195758/set-matplotlib-colorbar-size-to-match-graph\n",
    "fig.colorbar(legend_bar, ax=ax, orientation='horizontal', fraction=0.05, pad=0.04, shrink=0.6)\n",
    "\n",
    "# Customizing legend values\n",
    "# leg = ax.get_legend()\n",
    "# leg.get_texts()[0].('New label 1')\n",
    "# leg.get_texts()[1].set_text('New label 2')\n",
    "\n",
    "# Displaying each State Postcode\n",
    "for idx, row in us_cov19_states_now_gdf.iterrows():\n",
    "    plt.annotate(s=row['state'], xy=row['coords'],\n",
    "                 horizontalalignment='center',\n",
    "                 #font.family='serif',\n",
    "                 color='lightgrey',\n",
    "                 #alpha=0.9,\n",
    "                 #bbox={'facecolor':'white', 'alpha':0.5, 'pad':1, 'edgecolor':'lightyellow'}\n",
    "                )\n",
    "\n",
    "# Turn off the axes label\n",
    "ax.get_xaxis().set_visible(False)\n",
    "ax.get_yaxis().set_visible(False)\n",
    "\n",
    "# Crop the map to an appropriate size (via coordinate)\n",
    "ax.set_xlim(-4700000, 3000000)\n",
    "ax.set_ylim(-2500000, 4200000);"
   ]
  },
  {
   "cell_type": "code",
   "execution_count": null,
   "metadata": {},
   "outputs": [],
   "source": []
  },
  {
   "cell_type": "code",
   "execution_count": null,
   "metadata": {},
   "outputs": [],
   "source": []
  },
  {
   "cell_type": "code",
   "execution_count": null,
   "metadata": {},
   "outputs": [],
   "source": []
  },
  {
   "cell_type": "code",
   "execution_count": null,
   "metadata": {},
   "outputs": [],
   "source": []
  },
  {
   "cell_type": "markdown",
   "metadata": {},
   "source": [
    "### by US Counties `us_cov19_counties_df` over time\n",
    "\n",
    "Plotly Choropleth Maps: https://plotly.com/python/choropleth-maps/\n",
    "\n",
    "Interactive Map 1: https://towardsdatascience.com/a-complete-guide-to-an-interactive-geographical-map-using-python-f4c5197e23e0\n",
    "\n",
    "Interactive Map 2: https://amaral.northwestern.edu/blog/step-step-how-plot-map-slider-represent-time-evolu"
   ]
  },
  {
   "cell_type": "code",
   "execution_count": 64,
   "metadata": {
    "scrolled": true
   },
   "outputs": [
    {
     "data": {
      "text/html": [
       "<div>\n",
       "<style scoped>\n",
       "    .dataframe tbody tr th:only-of-type {\n",
       "        vertical-align: middle;\n",
       "    }\n",
       "\n",
       "    .dataframe tbody tr th {\n",
       "        vertical-align: top;\n",
       "    }\n",
       "\n",
       "    .dataframe thead th {\n",
       "        text-align: right;\n",
       "    }\n",
       "</style>\n",
       "<table border=\"1\" class=\"dataframe\">\n",
       "  <thead>\n",
       "    <tr style=\"text-align: right;\">\n",
       "      <th></th>\n",
       "      <th>date</th>\n",
       "      <th>county</th>\n",
       "      <th>state</th>\n",
       "      <th>fips</th>\n",
       "      <th>cases</th>\n",
       "      <th>deaths</th>\n",
       "      <th>FULLFP</th>\n",
       "      <th>STATEFP</th>\n",
       "      <th>COUNTYFP</th>\n",
       "      <th>geometry</th>\n",
       "      <th>postcode</th>\n",
       "    </tr>\n",
       "  </thead>\n",
       "  <tbody>\n",
       "    <tr>\n",
       "      <th>0</th>\n",
       "      <td>2020-01-21</td>\n",
       "      <td>Snohomish</td>\n",
       "      <td>Washington</td>\n",
       "      <td>53061</td>\n",
       "      <td>1</td>\n",
       "      <td>0</td>\n",
       "      <td>53061</td>\n",
       "      <td>53</td>\n",
       "      <td>061</td>\n",
       "      <td>MULTIPOLYGON (((-1634037.628 566970.701, -1633...</td>\n",
       "      <td>WA</td>\n",
       "    </tr>\n",
       "    <tr>\n",
       "      <th>1</th>\n",
       "      <td>2020-01-22</td>\n",
       "      <td>Snohomish</td>\n",
       "      <td>Washington</td>\n",
       "      <td>53061</td>\n",
       "      <td>1</td>\n",
       "      <td>0</td>\n",
       "      <td>53061</td>\n",
       "      <td>53</td>\n",
       "      <td>061</td>\n",
       "      <td>MULTIPOLYGON (((-1634037.628 566970.701, -1633...</td>\n",
       "      <td>WA</td>\n",
       "    </tr>\n",
       "    <tr>\n",
       "      <th>2</th>\n",
       "      <td>2020-01-23</td>\n",
       "      <td>Snohomish</td>\n",
       "      <td>Washington</td>\n",
       "      <td>53061</td>\n",
       "      <td>1</td>\n",
       "      <td>0</td>\n",
       "      <td>53061</td>\n",
       "      <td>53</td>\n",
       "      <td>061</td>\n",
       "      <td>MULTIPOLYGON (((-1634037.628 566970.701, -1633...</td>\n",
       "      <td>WA</td>\n",
       "    </tr>\n",
       "    <tr>\n",
       "      <th>3</th>\n",
       "      <td>2020-01-24</td>\n",
       "      <td>Cook</td>\n",
       "      <td>Illinois</td>\n",
       "      <td>17031</td>\n",
       "      <td>1</td>\n",
       "      <td>0</td>\n",
       "      <td>17031</td>\n",
       "      <td>17</td>\n",
       "      <td>031</td>\n",
       "      <td>POLYGON ((965008.651 -256879.590, 966661.997 -...</td>\n",
       "      <td>IL</td>\n",
       "    </tr>\n",
       "    <tr>\n",
       "      <th>4</th>\n",
       "      <td>2020-01-24</td>\n",
       "      <td>Snohomish</td>\n",
       "      <td>Washington</td>\n",
       "      <td>53061</td>\n",
       "      <td>1</td>\n",
       "      <td>0</td>\n",
       "      <td>53061</td>\n",
       "      <td>53</td>\n",
       "      <td>061</td>\n",
       "      <td>MULTIPOLYGON (((-1634037.628 566970.701, -1633...</td>\n",
       "      <td>WA</td>\n",
       "    </tr>\n",
       "  </tbody>\n",
       "</table>\n",
       "</div>"
      ],
      "text/plain": [
       "        date     county       state   fips  cases  deaths FULLFP STATEFP  \\\n",
       "0 2020-01-21  Snohomish  Washington  53061      1       0  53061      53   \n",
       "1 2020-01-22  Snohomish  Washington  53061      1       0  53061      53   \n",
       "2 2020-01-23  Snohomish  Washington  53061      1       0  53061      53   \n",
       "3 2020-01-24       Cook    Illinois  17031      1       0  17031      17   \n",
       "4 2020-01-24  Snohomish  Washington  53061      1       0  53061      53   \n",
       "\n",
       "  COUNTYFP                                           geometry postcode  \n",
       "0      061  MULTIPOLYGON (((-1634037.628 566970.701, -1633...       WA  \n",
       "1      061  MULTIPOLYGON (((-1634037.628 566970.701, -1633...       WA  \n",
       "2      061  MULTIPOLYGON (((-1634037.628 566970.701, -1633...       WA  \n",
       "3      031  POLYGON ((965008.651 -256879.590, 966661.997 -...       IL  \n",
       "4      061  MULTIPOLYGON (((-1634037.628 566970.701, -1633...       WA  "
      ]
     },
     "execution_count": 64,
     "metadata": {},
     "output_type": "execute_result"
    }
   ],
   "source": [
    "us_cov19_counties_df.head()"
   ]
  },
  {
   "cell_type": "code",
   "execution_count": 36,
   "metadata": {},
   "outputs": [],
   "source": [
    "# import datetime\n",
    "county_start_date = datetime.datetime(2020, 5, 4)\n",
    "\n",
    "county_start_df = us_cov19_counties_df[(nytimes_counties_df['date']==county_start_date)]"
   ]
  },
  {
   "cell_type": "code",
   "execution_count": 44,
   "metadata": {},
   "outputs": [],
   "source": [
    "# color scheme for the map plot (white to red)\n",
    "county_color_scale = ['#FFEBEE', '#FFCDD2', '#EF9A9A', '#E57373', '#EF5350', \n",
    "                      '#F44336', '#E53935', '#D32F2F', '#C62828', '#B71C1C']\n",
    "\n",
    "# creating a new column that will include the mouse-hovering text for each county\n",
    "# for col in county_start_df.columns:\n",
    "#     county_start_df[col] = county_start_df[col].astype(str)\n",
    "\n",
    "# county_start_df['text'] = county_start_df['county'] + ', ' + county_start_df['postcode'] + '<br>' + \\\n",
    "#                         'Cases: ' + county_start_df['cases'] + '<br>' + \\\n",
    "#                         'Deaths: ' + county_start_df['deaths']"
   ]
  },
  {
   "cell_type": "markdown",
   "metadata": {},
   "source": [
    "# PROBLEM: Possibly because of the missing `fips` value from `nytimes` data?"
   ]
  },
  {
   "cell_type": "code",
   "execution_count": 48,
   "metadata": {},
   "outputs": [
    {
     "ename": "TypeError",
     "evalue": "'<' not supported between instances of 'float' and 'str'",
     "output_type": "error",
     "traceback": [
      "\u001b[1;31m---------------------------------------------------------------------------\u001b[0m",
      "\u001b[1;31mTypeError\u001b[0m                                 Traceback (most recent call last)",
      "\u001b[1;32m<ipython-input-48-c47cbe6401f7>\u001b[0m in \u001b[0;36m<module>\u001b[1;34m\u001b[0m\n\u001b[0;32m     16\u001b[0m     \u001b[0masp\u001b[0m\u001b[1;33m=\u001b[0m\u001b[1;36m2.9\u001b[0m\u001b[1;33m,\u001b[0m   \u001b[1;31m#Sets the ratio between height and width\u001b[0m\u001b[1;33m\u001b[0m\u001b[1;33m\u001b[0m\u001b[0m\n\u001b[0;32m     17\u001b[0m     \u001b[0mtitle_text\u001b[0m\u001b[1;33m=\u001b[0m\u001b[1;34m'US COVID-19 Confirmed Cases (latest update: '\u001b[0m \u001b[1;33m+\u001b[0m \u001b[0mcounty_start_date\u001b[0m\u001b[1;33m.\u001b[0m\u001b[0mstrftime\u001b[0m\u001b[1;33m(\u001b[0m\u001b[1;34m'%b %d'\u001b[0m\u001b[1;33m)\u001b[0m \u001b[1;33m+\u001b[0m \u001b[1;34m')'\u001b[0m\u001b[1;33m,\u001b[0m\u001b[1;33m\u001b[0m\u001b[1;33m\u001b[0m\u001b[0m\n\u001b[1;32m---> 18\u001b[1;33m     \u001b[0mlegend_title\u001b[0m\u001b[1;33m=\u001b[0m\u001b[1;34m'Confirmed Cases'\u001b[0m\u001b[1;33m\u001b[0m\u001b[1;33m\u001b[0m\u001b[0m\n\u001b[0m\u001b[0;32m     19\u001b[0m )\n\u001b[0;32m     20\u001b[0m \u001b[1;33m\u001b[0m\u001b[0m\n",
      "\u001b[1;32m~\\anaconda3\\envs\\GIS\\lib\\site-packages\\plotly\\figure_factory\\_county_choropleth.py\u001b[0m in \u001b[0;36mcreate_choropleth\u001b[1;34m(fips, values, scope, binning_endpoints, colorscale, order, simplify_county, simplify_state, asp, show_hover, show_state_data, state_outline, county_outline, centroid_marker, round_legend_values, exponent_format, legend_title, **layout_options)\u001b[0m\n\u001b[0;32m    804\u001b[0m         \u001b[1;32mfor\u001b[0m \u001b[0mindex\u001b[0m\u001b[1;33m,\u001b[0m \u001b[0mf\u001b[0m \u001b[1;32min\u001b[0m \u001b[0menumerate\u001b[0m\u001b[1;33m(\u001b[0m\u001b[0mfips\u001b[0m\u001b[1;33m)\u001b[0m\u001b[1;33m:\u001b[0m\u001b[1;33m\u001b[0m\u001b[1;33m\u001b[0m\u001b[0m\n\u001b[0;32m    805\u001b[0m             \u001b[1;32mfor\u001b[0m \u001b[0mj\u001b[0m\u001b[1;33m,\u001b[0m \u001b[0minter\u001b[0m \u001b[1;32min\u001b[0m \u001b[0menumerate\u001b[0m\u001b[1;33m(\u001b[0m\u001b[0mintervals\u001b[0m\u001b[1;33m)\u001b[0m\u001b[1;33m:\u001b[0m\u001b[1;33m\u001b[0m\u001b[1;33m\u001b[0m\u001b[0m\n\u001b[1;32m--> 806\u001b[1;33m                 \u001b[1;32mif\u001b[0m \u001b[0minter\u001b[0m\u001b[1;33m[\u001b[0m\u001b[1;36m0\u001b[0m\u001b[1;33m]\u001b[0m \u001b[1;33m<\u001b[0m \u001b[0mvalues\u001b[0m\u001b[1;33m[\u001b[0m\u001b[0mindex\u001b[0m\u001b[1;33m]\u001b[0m \u001b[1;33m<=\u001b[0m \u001b[0minter\u001b[0m\u001b[1;33m[\u001b[0m\u001b[1;36m1\u001b[0m\u001b[1;33m]\u001b[0m\u001b[1;33m:\u001b[0m\u001b[1;33m\u001b[0m\u001b[1;33m\u001b[0m\u001b[0m\n\u001b[0m\u001b[0;32m    807\u001b[0m                     \u001b[1;32mbreak\u001b[0m\u001b[1;33m\u001b[0m\u001b[1;33m\u001b[0m\u001b[0m\n\u001b[0;32m    808\u001b[0m             \u001b[0mlevel\u001b[0m \u001b[1;33m=\u001b[0m \u001b[0mLEVELS\u001b[0m\u001b[1;33m[\u001b[0m\u001b[0mj\u001b[0m\u001b[1;33m]\u001b[0m\u001b[1;33m\u001b[0m\u001b[1;33m\u001b[0m\u001b[0m\n",
      "\u001b[1;31mTypeError\u001b[0m: '<' not supported between instances of 'float' and 'str'"
     ]
    }
   ],
   "source": [
    "#import plotly.figure_factory as ff\n",
    "\n",
    "#endpts = list(np.linspace(1, 350000, len(county_color_scale)-1))\n",
    "fips = county_start_df['fips'].tolist()\n",
    "values = county_start_df['cases'].tolist()\n",
    "\n",
    "# creating a fig object for plotting\n",
    "fig = ff.create_choropleth(\n",
    "    fips=fips, values=values, scope=['usa'],\n",
    "    binning_endpoints=[2500, 7500, 21000, 50000, 350000], # scheme: 'boxplot'\n",
    "    colorscale=county_color_scale,\n",
    "    county_outline={'color': 'rgb(255,255,255)', 'width': 0.5}, \n",
    "    round_legend_values=True,\n",
    "    show_state_data=False,\n",
    "    show_hover=True,\n",
    "    asp=2.9,   #Sets the ratio between height and width\n",
    "    title_text='US COVID-19 Confirmed Cases (latest update: ' + county_start_date.strftime('%b %d') + ')',\n",
    "    legend_title='Confirmed Cases',\n",
    ")\n",
    "\n",
    "fig.layout.template = None\n",
    "fig.show()\n",
    "    \n",
    "# fig = go.Figure(data=go.Choropleth(\n",
    "#     locations=county_start_df['fips'],  # the column with the county fips\n",
    "#     z = county_start_df['cases'].astype(float),  # the variable I want to color-code\n",
    "#     locationmode = 'USA-states',\n",
    "#     colorscale = county_color_scale,\n",
    "#     autocolorscale = False,\n",
    "#     text = county_start_df['text'], # hover text\n",
    "#     marker_line_color = 'white'     # for the lines separating states\n",
    "#     marker_linewidth = 2,    \n",
    "#     colorbar_title = 'COVID-19 Confirmed Cases'\n",
    "# ))"
   ]
  },
  {
   "cell_type": "markdown",
   "metadata": {},
   "source": [
    "### by US States `covtrack_state_hist_df` or `us_cov19_states_gdf` \n",
    "Interactive Map 2: https://amaral.northwestern.edu/blog/step-step-how-plot-map-slider-represent-time-evolu"
   ]
  },
  {
   "cell_type": "code",
   "execution_count": 97,
   "metadata": {},
   "outputs": [
    {
     "data": {
      "text/plain": [
       "(3377, 11)"
      ]
     },
     "execution_count": 97,
     "metadata": {},
     "output_type": "execute_result"
    }
   ],
   "source": [
    "us_cov19_states_df.shape"
   ]
  },
  {
   "cell_type": "code",
   "execution_count": 98,
   "metadata": {},
   "outputs": [],
   "source": [
    "# import datetime\n",
    "state_start_date = datetime.datetime(2020, 1, 22)\n",
    "\n",
    "state_start_df = us_cov19_states_df[(us_cov19_states_df['datetime']==state_start_date)]"
   ]
  },
  {
   "cell_type": "code",
   "execution_count": 100,
   "metadata": {},
   "outputs": [
    {
     "data": {
      "text/html": [
       "<div>\n",
       "<style scoped>\n",
       "    .dataframe tbody tr th:only-of-type {\n",
       "        vertical-align: middle;\n",
       "    }\n",
       "\n",
       "    .dataframe tbody tr th {\n",
       "        vertical-align: top;\n",
       "    }\n",
       "\n",
       "    .dataframe thead th {\n",
       "        text-align: right;\n",
       "    }\n",
       "</style>\n",
       "<table border=\"1\" class=\"dataframe\">\n",
       "  <thead>\n",
       "    <tr style=\"text-align: right;\">\n",
       "      <th></th>\n",
       "      <th>date</th>\n",
       "      <th>state</th>\n",
       "      <th>fips</th>\n",
       "      <th>positive</th>\n",
       "      <th>death</th>\n",
       "      <th>total</th>\n",
       "      <th>datetime</th>\n",
       "      <th>STATEFP</th>\n",
       "      <th>NAME</th>\n",
       "      <th>coords</th>\n",
       "      <th>geometry</th>\n",
       "    </tr>\n",
       "  </thead>\n",
       "  <tbody>\n",
       "    <tr>\n",
       "      <th>3376</th>\n",
       "      <td>20200122</td>\n",
       "      <td>WA</td>\n",
       "      <td>53</td>\n",
       "      <td>1.0</td>\n",
       "      <td>NaN</td>\n",
       "      <td>1.0</td>\n",
       "      <td>2020-01-22</td>\n",
       "      <td>53</td>\n",
       "      <td>Washington</td>\n",
       "      <td>(-1527952.2481166585, 464302.92549199006)</td>\n",
       "      <td>MULTIPOLYGON (((-1634037.628 566970.701, -1633...</td>\n",
       "    </tr>\n",
       "  </tbody>\n",
       "</table>\n",
       "</div>"
      ],
      "text/plain": [
       "          date state fips  positive  death  total   datetime STATEFP  \\\n",
       "3376  20200122    WA   53       1.0    NaN    1.0 2020-01-22      53   \n",
       "\n",
       "            NAME                                     coords  \\\n",
       "3376  Washington  (-1527952.2481166585, 464302.92549199006)   \n",
       "\n",
       "                                               geometry  \n",
       "3376  MULTIPOLYGON (((-1634037.628 566970.701, -1633...  "
      ]
     },
     "execution_count": 100,
     "metadata": {},
     "output_type": "execute_result"
    }
   ],
   "source": [
    "state_start_df"
   ]
  },
  {
   "cell_type": "code",
   "execution_count": 112,
   "metadata": {},
   "outputs": [],
   "source": [
    "# color scheme for the map plot (white to red)\n",
    "state_color_scale = [[0.0, '#ffffff'], [0.2, '#ff9999'], [0.4, '#ff4d4d'],\n",
    "                     [0.6, '#ff1a1a'], [0.8, '#cc0000'], [1.0, '#4d0000']]\n",
    "\n",
    "# create an empty list for data object:\n",
    "data_slider = []"
   ]
  },
  {
   "cell_type": "code",
   "execution_count": 113,
   "metadata": {},
   "outputs": [
    {
     "name": "stderr",
     "output_type": "stream",
     "text": [
      "C:\\Users\\dun4g\\anaconda3\\envs\\GIS\\lib\\site-packages\\ipykernel_launcher.py:9: SettingWithCopyWarning:\n",
      "\n",
      "\n",
      "A value is trying to be set on a copy of a slice from a DataFrame.\n",
      "Try using .loc[row_indexer,col_indexer] = value instead\n",
      "\n",
      "See the caveats in the documentation: https://pandas.pydata.org/pandas-docs/stable/user_guide/indexing.html#returning-a-view-versus-a-copy\n",
      "\n",
      "C:\\Users\\dun4g\\anaconda3\\envs\\GIS\\lib\\site-packages\\ipykernel_launcher.py:12: SettingWithCopyWarning:\n",
      "\n",
      "\n",
      "A value is trying to be set on a copy of a slice from a DataFrame.\n",
      "Try using .loc[row_indexer,col_indexer] = value instead\n",
      "\n",
      "See the caveats in the documentation: https://pandas.pydata.org/pandas-docs/stable/user_guide/indexing.html#returning-a-view-versus-a-copy\n",
      "\n"
     ]
    }
   ],
   "source": [
    "# populate the data object, one dictionary per day that will be displayed with the slider, by iterating over the different years in the data set\n",
    "for date in us_cov19_states_df.datetime.unique():\n",
    "    \n",
    "    # select the date\n",
    "    each_day_state_df = us_cov19_states_df[(us_cov19_states_df['datetime']==date)]\n",
    "    \n",
    "    # creating a new column that will include the mouse-hovering text for each state\n",
    "    for col in each_day_state_df.columns:\n",
    "        each_day_state_df[col] = each_day_state_df[col].astype(str)\n",
    "\n",
    "    # creating the text for mouse-hover for each state\n",
    "    each_day_state_df['text'] = each_day_state_df['NAME'] + 'Cases: ' + each_day_state_df['positive'] + 'Deaths: ' + each_day_state_df['death'] + 'Tests: ' + each_day_state_df['total']\n",
    "    \n",
    "    # create the dictionary with the data for plotting the current date\n",
    "    data_one_day = [ dict(\n",
    "                        type='choropleth', # type of map-plot\n",
    "                        colorscale = state_color_scale,\n",
    "                        autocolorscale = False,\n",
    "                        locations = each_day_state_df['state'], # the column with the state post code\n",
    "                        z = each_day_state_df['positive'].astype(float), # the variable I want to color-code\n",
    "                        locationmode = 'USA-states',\n",
    "                        text = each_day_state_df['text'], # hover text\n",
    "                        marker = dict(     # for the lines separating states\n",
    "                                    line = dict (\n",
    "                                              color = 'rgb(255,255,255)', \n",
    "                                              width = 2) ),               \n",
    "                        colorbar = dict(\n",
    "                                    title = \"Confirmed Cases\")\n",
    "                        ) \n",
    "                   ]\n",
    "    \n",
    "    # add the dictionary to the list of dictionaries for the slider\n",
    "    data_slider.append(data_one_day)"
   ]
  },
  {
   "cell_type": "markdown",
   "metadata": {},
   "source": [
    "# <font color='red'> QUESTION : How do I make the slider step to be each date? </font>"
   ]
  },
  {
   "cell_type": "code",
   "execution_count": 118,
   "metadata": {},
   "outputs": [],
   "source": [
    "# Create the 'steps' for the slider\n",
    "\n",
    "steps = []\n",
    "\n",
    "# start_date = datetime.date(2020, 1, 22)\n",
    "# delta = datetime.timedelta(days=1)\n",
    "\n",
    "for i in range(len(data_slider)):\n",
    "    step = dict(method='restyle',\n",
    "                args=['visible', [False] * len(data_slider)],\n",
    "                label=f'{i + 1}') # label to be displayed for each step (date)\n",
    "    step['args'][1][i] = True\n",
    "    steps.append(step)\n",
    "    \n",
    "# Create the sliders object from the steps\n",
    "sliders = [dict(active=0, pad={'t': 1}, steps=steps)]\n",
    "    "
   ]
  },
  {
   "cell_type": "code",
   "execution_count": 119,
   "metadata": {
    "scrolled": true
   },
   "outputs": [
    {
     "ename": "ValueError",
     "evalue": "\n    Invalid element(s) received for the 'data' property of \n        Invalid elements include: [[{'type': 'choropleth', 'colorscale': [[0.0, '#ffffff'], [0.2, '#ff9999'], [0.4, '#ff4d4d'], [0.6, '#ff1a1a'], [0.8, '#cc0000'], [1.0, '#4d0000']], 'autocolorscale': False, 'locations': 0     AK\n1     AL\n2     AR\n3     AS\n4     AZ\n5     CA\n6     CO\n7     CT\n8     DC\n9     DE\n10    FL\n11    GA\n12    GU\n13    HI\n14    IA\n15    ID\n16    IL\n17    IN\n18    KS\n19    KY\n20    LA\n21    MA\n22    MD\n23    ME\n24    MI\n25    MN\n26    MO\n27    MP\n28    MS\n29    MT\n30    NC\n31    ND\n32    NE\n33    NH\n34    NJ\n35    NM\n36    NV\n37    NY\n38    OH\n39    OK\n40    OR\n41    PA\n42    PR\n43    RI\n44    SC\n45    SD\n46    TN\n47    TX\n48    UT\n49    VA\n50    VI\n51    VT\n52    WA\n53    WI\n54    WV\n55    WY\nName: state, dtype: object, 'z': 0        370.0\n1       8025.0\n2       3458.0\n3          0.0\n4       8919.0\n5      54937.0\n6      16635.0\n7      29287.0\n8       5170.0\n9       5288.0\n10     36897.0\n11     29368.0\n12       149.0\n13       620.0\n14      9703.0\n15      2061.0\n16     63840.0\n17     20507.0\n18      5245.0\n19      5130.0\n20     29673.0\n21     69087.0\n22     26408.0\n23      1205.0\n24     43754.0\n25      7234.0\n26      8754.0\n27        14.0\n28      7877.0\n29       457.0\n30     11848.0\n31      1225.0\n32      5910.0\n33      2588.0\n34    128269.0\n35      3850.0\n36      5491.0\n37    318953.0\n38     20474.0\n39      4044.0\n40      2759.0\n41     50092.0\n42      1843.0\n43      9652.0\n44      6626.0\n45      2668.0\n46     13571.0\n47     32332.0\n48      5317.0\n49     19492.0\n50        66.0\n51       902.0\n52     15185.0\n53      8236.0\n54      1206.0\n55       586.0\nName: positive, dtype: float64, 'locationmode': 'USA-states', 'text': 0           AlaskaCases: 370.0Deaths: 9.0Tests: 21723.0\n1      AlabamaCases: 8025.0Deaths: 296.0Tests: 103117.0\n2       ArkansasCases: 3458.0Deaths: 81.0Tests: 54442.0\n3        American SamoaCases: 0.0Deaths: 0.0Tests: 83.0\n4       ArizonaCases: 8919.0Deaths: 362.0Tests: 85253.0\n5     CaliforniaCases: 54937.0Deaths: 2254.0Tests: 7...\n6     ColoradoCases: 16635.0Deaths: 842.0Tests: 83090.0\n7     ConnecticutCases: 29287.0Deaths: 2495.0Tests: ...\n8     District of ColumbiaCases: 5170.0Deaths: 284.0...\n9      DelawareCases: 5288.0Deaths: 182.0Tests: 24110.0\n10    FloridaCases: 36897.0Deaths: 1423.0Tests: 4454...\n11    GeorgiaCases: 29368.0Deaths: 1222.0Tests: 1833...\n12             GuamCases: 149.0Deaths: 5.0Tests: 3391.0\n13         HawaiiCases: 620.0Deaths: 17.0Tests: 33866.0\n14         IowaCases: 9703.0Deaths: 188.0Tests: 57161.0\n15         IdahoCases: 2061.0Deaths: 64.0Tests: 29807.0\n16    IllinoisCases: 63840.0Deaths: 2662.0Tests: 333...\n17    IndianaCases: 20507.0Deaths: 1264.0Tests: 1132...\n18       KansasCases: 5245.0Deaths: 136.0Tests: 38603.0\n19     KentuckyCases: 5130.0Deaths: 253.0Tests: 58409.0\n20    LouisianaCases: 29673.0Deaths: 2064.0Tests: 18...\n21    MassachusettsCases: 69087.0Deaths: 4090.0Tests...\n22    MarylandCases: 26408.0Deaths: 1317.0Tests: 136...\n23         MaineCases: 1205.0Deaths: 57.0Tests: 20751.0\n24    MichiganCases: 43754.0Deaths: 4049.0Tests: 222...\n25    MinnesotaCases: 7234.0Deaths: 428.0Tests: 85941.0\n26     MissouriCases: 8754.0Deaths: 358.0Tests: 91451.0\n27    Commonwealth of the Northern Mariana IslandsCa...\n28    MississippiCases: 7877.0Deaths: 310.0Tests: 79...\n29        MontanaCases: 457.0Deaths: 16.0Tests: 15088.0\n30    North CarolinaCases: 11848.0Deaths: 430.0Tests...\n31    North DakotaCases: 1225.0Deaths: 25.0Tests: 34...\n32      NebraskaCases: 5910.0Deaths: 78.0Tests: 33754.0\n33    New HampshireCases: 2588.0Deaths: 86.0Tests: 2...\n34    New JerseyCases: 128269.0Deaths: 7910.0Tests: ...\n35    New MexicoCases: 3850.0Deaths: 151.0Tests: 779...\n36       NevadaCases: 5491.0Deaths: 262.0Tests: 46166.0\n37    New YorkCases: 318953.0Deaths: 19415.0Tests: 1...\n38      OhioCases: 20474.0Deaths: 1056.0Tests: 155155.0\n39     OklahomaCases: 4044.0Deaths: 238.0Tests: 63848.0\n40       OregonCases: 2759.0Deaths: 109.0Tests: 63457.0\n41    PennsylvaniaCases: 50092.0Deaths: 2458.0Tests:...\n42    Puerto RicoCases: 1843.0Deaths: 97.0Tests: 111...\n43    Rhode IslandCases: 9652.0Deaths: 341.0Tests: 7...\n44    South CarolinaCases: 6626.0Deaths: 275.0Tests:...\n45    South DakotaCases: 2668.0Deaths: 21.0Tests: 18...\n46    TennesseeCases: 13571.0Deaths: 219.0Tests: 211...\n47      TexasCases: 32332.0Deaths: 884.0Tests: 407398.0\n48         UtahCases: 5317.0Deaths: 50.0Tests: 124661.0\n49    VirginiaCases: 19492.0Deaths: 684.0Tests: 1127...\n50    United States Virgin IslandsCases: 66.0Deaths:...\n51        VermontCases: 902.0Deaths: 52.0Tests: 17332.0\n52    WashingtonCases: 15185.0Deaths: 834.0Tests: 21...\n53    WisconsinCases: 8236.0Deaths: 340.0Tests: 88929.0\n54    West VirginiaCases: 1206.0Deaths: 50.0Tests: 5...\n55         WyomingCases: 586.0Deaths: 7.0Tests: 10454.0\nName: text, dtype: object, 'marker': {'line': {'color': 'rgb(255,255,255)', 'width': 2}}, 'colorbar': {'title': 'Confirmed Cases'}}], [{'type': 'choropleth', 'colorscale': [[0.0, '#ffffff'], [0.2, '#ff9999'], [0.4, '#ff4d4d'], [0.6, '#ff1a1a'], [0.8, '#cc0000'], [1.0, '#4d0000']], 'autocolorscale': False, 'locations': 56     AK\n57     AL\n58     AR\n59     AS\n60     AZ\n61     CA\n62     CO\n63     CT\n64     DC\n65     DE\n66     FL\n67     GA\n68     GU\n69     HI\n70     IA\n71     ID\n72     IL\n73     IN\n74     KS\n75     KY\n76     LA\n77     MA\n78     MD\n79     ME\n80     MI\n81     MN\n82     MO\n83     MP\n84     MS\n85     MT\n86     NC\n87     ND\n88     NE\n89     NH\n90     NJ\n91     NM\n92     NV\n93     NY\n94     OH\n95     OK\n96     OR\n97     PA\n98     PR\n99     RI\n100    SC\n101    SD\n102    TN\n103    TX\n104    UT\n105    VA\n106    VI\n107    VT\n108    WA\n109    WI\n110    WV\n111    WY\nName: state, dtype: object, 'z': 56        368.0\n57       7725.0\n58       3431.0\n59          0.0\n60       8640.0\n61      53616.0\n62      16225.0\n63      29287.0\n64       5016.0\n65       5208.0\n66      36078.0\n67      28602.0\n68        150.0\n69        620.0\n70       9169.0\n71       2061.0\n72      61499.0\n73      19933.0\n74       5030.0\n75       4879.0\n76      29340.0\n77      68087.0\n78      25462.0\n79       1185.0\n80      43754.0\n81       6663.0\n82       8386.0\n83         14.0\n84       7550.0\n85        455.0\n86      11664.0\n87       1191.0\n88       5326.0\n89       2429.0\n90     126744.0\n91       3732.0\n92       5426.0\n93     316415.0\n94      19914.0\n95       3972.0\n96       2680.0\n97      49267.0\n98       1808.0\n99       9477.0\n100      6626.0\n101      2631.0\n102     13177.0\n103     31548.0\n104      5175.0\n105     18671.0\n106        66.0\n107       897.0\n108     15003.0\n109      7964.0\n110      1191.0\n111       579.0\nName: positive, dtype: float64, 'locationmode': 'USA-states', 'text': 56           AlaskaCases: 368.0Deaths: 9.0Tests: 21578.0\n57       AlabamaCases: 7725.0Deaths: 290.0Tests: 92500.0\n58       ArkansasCases: 3431.0Deaths: 76.0Tests: 52890.0\n59        American SamoaCases: 0.0Deaths: 0.0Tests: 57.0\n60       ArizonaCases: 8640.0Deaths: 362.0Tests: 81119.0\n61     CaliforniaCases: 53616.0Deaths: 2215.0Tests: 7...\n62     ColoradoCases: 16225.0Deaths: 832.0Tests: 79906.0\n63     ConnecticutCases: 29287.0Deaths: 2436.0Tests: ...\n64     District of ColumbiaCases: 5016.0Deaths: 251.0...\n65      DelawareCases: 5208.0Deaths: 177.0Tests: 23737.0\n66     FloridaCases: 36078.0Deaths: 1403.0Tests: 4294...\n67     GeorgiaCases: 28602.0Deaths: 1177.0Tests: 1750...\n68              GuamCases: 150.0Deaths: 5.0Tests: 3302.0\n69          HawaiiCases: 620.0Deaths: 16.0Tests: 32950.0\n70          IowaCases: 9169.0Deaths: 184.0Tests: 53186.0\n71          IdahoCases: 2061.0Deaths: 63.0Tests: 29807.0\n72     IllinoisCases: 61499.0Deaths: 2618.0Tests: 319...\n73     IndianaCases: 19933.0Deaths: 1246.0Tests: 1088...\n74        KansasCases: 5030.0Deaths: 134.0Tests: 36778.0\n75      KentuckyCases: 4879.0Deaths: 248.0Tests: 57649.0\n76     LouisianaCases: 29340.0Deaths: 1969.0Tests: 17...\n77     MassachusettsCases: 68087.0Deaths: 4004.0Tests...\n78     MarylandCases: 25462.0Deaths: 1281.0Tests: 132...\n79          MaineCases: 1185.0Deaths: 57.0Tests: 20731.0\n80     MichiganCases: 43754.0Deaths: 4049.0Tests: 212...\n81     MinnesotaCases: 6663.0Deaths: 419.0Tests: 82632.0\n82      MissouriCases: 8386.0Deaths: 352.0Tests: 82976.0\n83     Commonwealth of the Northern Mariana IslandsCa...\n84     MississippiCases: 7550.0Deaths: 303.0Tests: 77...\n85         MontanaCases: 455.0Deaths: 16.0Tests: 15007.0\n86     North CarolinaCases: 11664.0Deaths: 422.0Tests...\n87     North DakotaCases: 1191.0Deaths: 25.0Tests: 33...\n88       NebraskaCases: 5326.0Deaths: 76.0Tests: 31262.0\n89     New HampshireCases: 2429.0Deaths: 84.0Tests: 2...\n90     New JerseyCases: 126744.0Deaths: 7871.0Tests: ...\n91     New MexicoCases: 3732.0Deaths: 139.0Tests: 749...\n92        NevadaCases: 5426.0Deaths: 257.0Tests: 45269.0\n93     New YorkCases: 316415.0Deaths: 19189.0Tests: 9...\n94       OhioCases: 19914.0Deaths: 1038.0Tests: 150166.0\n95      OklahomaCases: 3972.0Deaths: 238.0Tests: 63776.0\n96        OregonCases: 2680.0Deaths: 109.0Tests: 62054.0\n97     PennsylvaniaCases: 49267.0Deaths: 2444.0Tests:...\n98     Puerto RicoCases: 1808.0Deaths: 97.0Tests: 111...\n99     Rhode IslandCases: 9477.0Deaths: 320.0Tests: 7...\n100    South CarolinaCases: 6626.0Deaths: 275.0Tests:...\n101    South DakotaCases: 2631.0Deaths: 21.0Tests: 18...\n102    TennesseeCases: 13177.0Deaths: 210.0Tests: 204...\n103      TexasCases: 31548.0Deaths: 867.0Tests: 390560.0\n104         UtahCases: 5175.0Deaths: 50.0Tests: 122102.0\n105    VirginiaCases: 18671.0Deaths: 660.0Tests: 1084...\n106    United States Virgin IslandsCases: 66.0Deaths:...\n107        VermontCases: 897.0Deaths: 52.0Tests: 16954.0\n108    WashingtonCases: 15003.0Deaths: 830.0Tests: 20...\n109    WisconsinCases: 7964.0Deaths: 339.0Tests: 86192.0\n110    West VirginiaCases: 1191.0Deaths: 50.0Tests: 5...\n111         WyomingCases: 579.0Deaths: 7.0Tests: 10219.0\nName: text, dtype: object, 'marker': {'line': {'color': 'rgb(255,255,255)', 'width': 2}}, 'colorbar': {'title': 'Confirmed Cases'}}], [{'type': 'choropleth', 'colorscale': [[0.0, '#ffffff'], [0.2, '#ff9999'], [0.4, '#ff4d4d'], [0.6, '#ff1a1a'], [0.8, '#cc0000'], [1.0, '#4d0000']], 'autocolorscale': False, 'locations': 112    AK\n113    AL\n114    AR\n115    AS\n116    AZ\n117    CA\n118    CO\n119    CT\n120    DC\n121    DE\n122    FL\n123    GA\n124    GU\n125    HI\n126    IA\n127    ID\n128    IL\n129    IN\n130    KS\n131    KY\n132    LA\n133    MA\n134    MD\n135    ME\n136    MI\n137    MN\n138    MO\n139    MP\n140    MS\n141    MT\n142    NC\n143    ND\n144    NE\n145    NH\n146    NJ\n147    NM\n148    NV\n149    NY\n150    OH\n151    OK\n152    OR\n153    PA\n154    PR\n155    RI\n156    SC\n157    SD\n158    TN\n159    TX\n160    UT\n161    VA\n162    VI\n163    VT\n164    WA\n165    WI\n166    WV\n167    WY\nName: state, dtype: object, 'z': 112       365.0\n113      7434.0\n114      3372.0\n115         0.0\n116      8364.0\n117     52197.0\n118     15768.0\n119     28764.0\n120      4797.0\n121      5038.0\n122     35463.0\n123     28306.0\n124       148.0\n125       619.0\n126      8641.0\n127      2035.0\n128     58505.0\n129     19295.0\n130      4746.0\n131      4879.0\n132     29140.0\n133     66263.0\n134     24473.0\n135      1152.0\n136     43207.0\n137      6228.0\n138      8154.0\n139        14.0\n140      7441.0\n141       455.0\n142     11509.0\n143      1153.0\n144      4838.0\n145      2310.0\n146    123717.0\n147      3513.0\n148      5311.0\n149    312977.0\n150     19335.0\n151      3851.0\n152      2635.0\n153     48305.0\n154      1757.0\n155      9289.0\n156      6489.0\n157      2588.0\n158     12661.0\n159     30522.0\n160      4981.0\n161     17731.0\n162        66.0\n163       886.0\n164     14637.0\n165      7660.0\n166      1169.0\n167       566.0\nName: positive, dtype: float64, 'locationmode': 'USA-states', 'text': 112          AlaskaCases: 365.0Deaths: 9.0Tests: 21399.0\n113      AlabamaCases: 7434.0Deaths: 288.0Tests: 92209.0\n114      ArkansasCases: 3372.0Deaths: 73.0Tests: 51582.0\n115       American SamoaCases: 0.0Deaths: 0.0Tests: 57.0\n116      ArizonaCases: 8364.0Deaths: 348.0Tests: 77997.0\n117    CaliforniaCases: 52197.0Deaths: 2171.0Tests: 6...\n118    ColoradoCases: 15768.0Deaths: 820.0Tests: 76949.0\n119    ConnecticutCases: 28764.0Deaths: 2339.0Tests: ...\n120    District of ColumbiaCases: 4797.0Deaths: 240.0...\n121     DelawareCases: 5038.0Deaths: 168.0Tests: 23112.0\n122    FloridaCases: 35463.0Deaths: 1388.0Tests: 4160...\n123    GeorgiaCases: 28306.0Deaths: 1174.0Tests: 1748...\n124             GuamCases: 148.0Deaths: 5.0Tests: 3188.0\n125         HawaiiCases: 619.0Deaths: 16.0Tests: 31985.0\n126         IowaCases: 8641.0Deaths: 175.0Tests: 46349.0\n127         IdahoCases: 2035.0Deaths: 63.0Tests: 29490.0\n128    IllinoisCases: 58505.0Deaths: 2559.0Tests: 299...\n129    IndianaCases: 19295.0Deaths: 1229.0Tests: 1041...\n130       KansasCases: 4746.0Deaths: 131.0Tests: 34942.0\n131     KentuckyCases: 4879.0Deaths: 248.0Tests: 57649.0\n132    LouisianaCases: 29140.0Deaths: 1950.0Tests: 17...\n133    MassachusettsCases: 66263.0Deaths: 3846.0Tests...\n134    MarylandCases: 24473.0Deaths: 1251.0Tests: 125...\n135         MaineCases: 1152.0Deaths: 56.0Tests: 20698.0\n136    MichiganCases: 43207.0Deaths: 4020.0Tests: 201...\n137    MinnesotaCases: 6228.0Deaths: 395.0Tests: 79007.0\n138     MissouriCases: 8154.0Deaths: 351.0Tests: 82744.0\n139    Commonwealth of the Northern Mariana IslandsCa...\n140    MississippiCases: 7441.0Deaths: 291.0Tests: 74...\n141        MontanaCases: 455.0Deaths: 16.0Tests: 14635.0\n142    North CarolinaCases: 11509.0Deaths: 420.0Tests...\n143    North DakotaCases: 1153.0Deaths: 24.0Tests: 31...\n144      NebraskaCases: 4838.0Deaths: 73.0Tests: 29348.0\n145    New HampshireCases: 2310.0Deaths: 81.0Tests: 2...\n146    New JerseyCases: 123717.0Deaths: 7742.0Tests: ...\n147    New MexicoCases: 3513.0Deaths: 131.0Tests: 711...\n148       NevadaCases: 5311.0Deaths: 254.0Tests: 44387.0\n149    New YorkCases: 312977.0Deaths: 18909.0Tests: 9...\n150      OhioCases: 19335.0Deaths: 1021.0Tests: 145819.0\n151     OklahomaCases: 3851.0Deaths: 238.0Tests: 63655.0\n152       OregonCases: 2635.0Deaths: 109.0Tests: 60136.0\n153    PennsylvaniaCases: 48305.0Deaths: 2418.0Tests:...\n154    Puerto RicoCases: 1757.0Deaths: 95.0Tests: 110...\n155    Rhode IslandCases: 9289.0Deaths: 296.0Tests: 6...\n156    South CarolinaCases: 6489.0Deaths: 267.0Tests:...\n157    South DakotaCases: 2588.0Deaths: 21.0Tests: 18...\n158    TennesseeCases: 12661.0Deaths: 209.0Tests: 196...\n159      TexasCases: 30522.0Deaths: 847.0Tests: 380648.0\n160         UtahCases: 4981.0Deaths: 49.0Tests: 117804.0\n161    VirginiaCases: 17731.0Deaths: 616.0Tests: 1025...\n162    United States Virgin IslandsCases: 66.0Deaths:...\n163        VermontCases: 886.0Deaths: 51.0Tests: 16591.0\n164    WashingtonCases: 14637.0Deaths: 824.0Tests: 19...\n165    WisconsinCases: 7660.0Deaths: 334.0Tests: 83461.0\n166    West VirginiaCases: 1169.0Deaths: 48.0Tests: 4...\n167         WyomingCases: 566.0Deaths: 7.0Tests: 10029.0\nName: text, dtype: object, 'marker': {'line': {'color': 'rgb(255,255,255)', 'width': 2}}, 'colorbar': {'title': 'Confirmed Cases'}}], [{'type': 'choropleth', 'colorscale': [[0.0, '#ffffff'], [0.2, '#ff9999'], [0.4, '#ff4d4d'], [0.6, '#ff1a1a'], [0.8, '#cc0000'], [1.0, '#4d0000']], 'autocolorscale': False, 'locations': 168    AK\n169    AL\n170    AR\n171    AS\n172    AZ\n173    CA\n174    CO\n175    CT\n176    DC\n177    DE\n178    FL\n179    GA\n180    GU\n181    HI\n182    IA\n183    ID\n184    IL\n185    IN\n186    KS\n187    KY\n188    LA\n189    MA\n190    MD\n191    ME\n192    MI\n193    MN\n194    MO\n195    MP\n196    MS\n197    MT\n198    NC\n199    ND\n200    NE\n201    NH\n202    NJ\n203    NM\n204    NV\n205    NY\n206    OH\n207    OK\n208    OR\n209    PA\n210    PR\n211    RI\n212    SC\n213    SD\n214    TN\n215    TX\n216    UT\n217    VA\n218    VI\n219    VT\n220    WA\n221    WI\n222    WV\n223    WY\nName: state, dtype: object, 'z': 168       364.0\n169      7158.0\n170      3321.0\n171         0.0\n172      7962.0\n173     50442.0\n174     15284.0\n175     28764.0\n176      4658.0\n177      4918.0\n178     34728.0\n179     27270.0\n180       146.0\n181       618.0\n182      7884.0\n183      2015.0\n184     56055.0\n185     18630.0\n186      4449.0\n187      4708.0\n188     28711.0\n189     64311.0\n190     23472.0\n191      1123.0\n192     42356.0\n193      5730.0\n194      7835.0\n195        14.0\n196      7212.0\n197       453.0\n198     10923.0\n199      1107.0\n200      4281.0\n201      2146.0\n202    121190.0\n203      3411.0\n204      5227.0\n205    308314.0\n206     18743.0\n207      3748.0\n208      2579.0\n209     46971.0\n210      1575.0\n211      8962.0\n212      6258.0\n213      2525.0\n214     11891.0\n215     29229.0\n216      4828.0\n217     16901.0\n218        66.0\n219       879.0\n220     14327.0\n221      7314.0\n222      1136.0\n223       559.0\nName: positive, dtype: float64, 'locationmode': 'USA-states', 'text': 168          AlaskaCases: 364.0Deaths: 9.0Tests: 20325.0\n169      AlabamaCases: 7158.0Deaths: 279.0Tests: 91933.0\n170      ArkansasCases: 3321.0Deaths: 64.0Tests: 49676.0\n171       American SamoaCases: 0.0Deaths: 0.0Tests: 57.0\n172      ArizonaCases: 7962.0Deaths: 330.0Tests: 74879.0\n173    CaliforniaCases: 50442.0Deaths: 2073.0Tests: 6...\n174    ColoradoCases: 15284.0Deaths: 777.0Tests: 72390.0\n175    ConnecticutCases: 28764.0Deaths: 2339.0Tests: ...\n176    District of ColumbiaCases: 4658.0Deaths: 231.0...\n177     DelawareCases: 4918.0Deaths: 159.0Tests: 22585.0\n178    FloridaCases: 34728.0Deaths: 1314.0Tests: 4026...\n179    GeorgiaCases: 27270.0Deaths: 1154.0Tests: 1683...\n180             GuamCases: 146.0Deaths: 5.0Tests: 3005.0\n181         HawaiiCases: 618.0Deaths: 16.0Tests: 31094.0\n182         IowaCases: 7884.0Deaths: 170.0Tests: 45592.0\n183         IdahoCases: 2015.0Deaths: 63.0Tests: 29225.0\n184    IllinoisCases: 56055.0Deaths: 2457.0Tests: 284...\n185    IndianaCases: 18630.0Deaths: 1175.0Tests: 99639.0\n186       KansasCases: 4449.0Deaths: 130.0Tests: 33034.0\n187     KentuckyCases: 4708.0Deaths: 240.0Tests: 56612.0\n188    LouisianaCases: 28711.0Deaths: 1927.0Tests: 16...\n189    MassachusettsCases: 64311.0Deaths: 3716.0Tests...\n190    MarylandCases: 23472.0Deaths: 1192.0Tests: 120...\n191         MaineCases: 1123.0Deaths: 55.0Tests: 20669.0\n192    MichiganCases: 42356.0Deaths: 3866.0Tests: 190...\n193    MinnesotaCases: 5730.0Deaths: 371.0Tests: 74829.0\n194     MissouriCases: 7835.0Deaths: 337.0Tests: 82425.0\n195    Commonwealth of the Northern Mariana IslandsCa...\n196    MississippiCases: 7212.0Deaths: 281.0Tests: 71...\n197        MontanaCases: 453.0Deaths: 16.0Tests: 14203.0\n198    North CarolinaCases: 10923.0Deaths: 399.0Tests...\n199    North DakotaCases: 1107.0Deaths: 23.0Tests: 29...\n200      NebraskaCases: 4281.0Deaths: 70.0Tests: 27385.0\n201    New HampshireCases: 2146.0Deaths: 72.0Tests: 2...\n202    New JerseyCases: 121190.0Deaths: 7538.0Tests: ...\n203    New MexicoCases: 3411.0Deaths: 123.0Tests: 678...\n204       NevadaCases: 5227.0Deaths: 243.0Tests: 43595.0\n205    New YorkCases: 308314.0Deaths: 18610.0Tests: 9...\n206      OhioCases: 18743.0Deaths: 1002.0Tests: 140506.0\n207     OklahomaCases: 3748.0Deaths: 230.0Tests: 63552.0\n208       OregonCases: 2579.0Deaths: 104.0Tests: 58176.0\n209    PennsylvaniaCases: 46971.0Deaths: 2354.0Tests:...\n210    Puerto RicoCases: 1575.0Deaths: 92.0Tests: 108...\n211    Rhode IslandCases: 8962.0Deaths: 279.0Tests: 6...\n212    South CarolinaCases: 6258.0Deaths: 256.0Tests:...\n213    South DakotaCases: 2525.0Deaths: 21.0Tests: 17...\n214    TennesseeCases: 11891.0Deaths: 204.0Tests: 186...\n215      TexasCases: 29229.0Deaths: 816.0Tests: 351775.0\n216         UtahCases: 4828.0Deaths: 46.0Tests: 112558.0\n217    VirginiaCases: 16901.0Deaths: 581.0Tests: 1061...\n218    United States Virgin IslandsCases: 66.0Deaths:...\n219        VermontCases: 879.0Deaths: 50.0Tests: 16233.0\n220    WashingtonCases: 14327.0Deaths: 814.0Tests: 19...\n221    WisconsinCases: 7314.0Deaths: 327.0Tests: 80098.0\n222    West VirginiaCases: 1136.0Deaths: 46.0Tests: 4...\n223          WyomingCases: 559.0Deaths: 7.0Tests: 9695.0\nName: text, dtype: object, 'marker': {'line': {'color': 'rgb(255,255,255)', 'width': 2}}, 'colorbar': {'title': 'Confirmed Cases'}}], [{'type': 'choropleth', 'colorscale': [[0.0, '#ffffff'], [0.2, '#ff9999'], [0.4, '#ff4d4d'], [0.6, '#ff1a1a'], [0.8, '#cc0000'], [1.0, '#4d0000']], 'autocolorscale': False, 'locations': 224    AK\n225    AL\n226    AR\n227    AS\n228    AZ\n229    CA\n230    CO\n231    CT\n232    DC\n233    DE\n234    FL\n235    GA\n236    GU\n237    HI\n238    IA\n239    ID\n240    IL\n241    IN\n242    KS\n243    KY\n244    LA\n245    MA\n246    MD\n247    ME\n248    MI\n249    MN\n250    MO\n251    MP\n252    MS\n253    MT\n254    NC\n255    ND\n256    NE\n257    NH\n258    NJ\n259    NM\n260    NV\n261    NY\n262    OH\n263    OK\n264    OR\n265    PA\n266    PR\n267    RI\n268    SC\n269    SD\n270    TN\n271    TX\n272    UT\n273    VA\n274    VI\n275    VT\n276    WA\n277    WI\n278    WV\n279    WY\nName: state, dtype: object, 'z': 224       355.0\n225      7019.0\n226      3255.0\n227         0.0\n228      7648.0\n229     48917.0\n230     14758.0\n231     27700.0\n232      4323.0\n233      4734.0\n234     33690.0\n235     26155.0\n236       146.0\n237       613.0\n238      7145.0\n239      1984.0\n240     52918.0\n241     17835.0\n242      4238.0\n243      4539.0\n244     28001.0\n245     62205.0\n246     21742.0\n247      1095.0\n248     41379.0\n249      5136.0\n250      7562.0\n251        14.0\n252      6815.0\n253       453.0\n254     10509.0\n255      1067.0\n256      3784.0\n257      2054.0\n258    118652.0\n259      3213.0\n260      4998.0\n261    304372.0\n262     18027.0\n263      3618.0\n264      2510.0\n265     45763.0\n266      1539.0\n267      8621.0\n268      6095.0\n269      2449.0\n270     10735.0\n271     28087.0\n272      4672.0\n273     15846.0\n274        66.0\n275       866.0\n276     14070.0\n277      6854.0\n278      1118.0\n279       544.0\nName: positive, dtype: float64, 'locationmode': 'USA-states', 'text': 224          AlaskaCases: 355.0Deaths: 9.0Tests: 19119.0\n225      AlabamaCases: 7019.0Deaths: 269.0Tests: 87196.0\n226      ArkansasCases: 3255.0Deaths: 61.0Tests: 48379.0\n227       American SamoaCases: 0.0Deaths: 0.0Tests: 20.0\n228      ArizonaCases: 7648.0Deaths: 320.0Tests: 71786.0\n229    CaliforniaCases: 48917.0Deaths: 1982.0Tests: 6...\n230    ColoradoCases: 14758.0Deaths: 766.0Tests: 71059.0\n231    ConnecticutCases: 27700.0Deaths: 2257.0Tests: ...\n232    District of ColumbiaCases: 4323.0Deaths: 224.0...\n233     DelawareCases: 4734.0Deaths: 152.0Tests: 21820.0\n234    FloridaCases: 33690.0Deaths: 1290.0Tests: 3835...\n235    GeorgiaCases: 26155.0Deaths: 1120.0Tests: 1490...\n236             GuamCases: 146.0Deaths: 5.0Tests: 2108.0\n237         HawaiiCases: 613.0Deaths: 16.0Tests: 30640.0\n238         IowaCases: 7145.0Deaths: 162.0Tests: 42667.0\n239         IdahoCases: 1984.0Deaths: 60.0Tests: 28693.0\n240    IllinoisCases: 52918.0Deaths: 2355.0Tests: 269...\n241    IndianaCases: 17835.0Deaths: 1114.0Tests: 94998.0\n242       KansasCases: 4238.0Deaths: 129.0Tests: 31626.0\n243     KentuckyCases: 4539.0Deaths: 235.0Tests: 54101.0\n244    LouisianaCases: 28001.0Deaths: 1862.0Tests: 16...\n245    MassachusettsCases: 62205.0Deaths: 3562.0Tests...\n246    MarylandCases: 21742.0Deaths: 1140.0Tests: 114...\n247         MaineCases: 1095.0Deaths: 53.0Tests: 20641.0\n248    MichiganCases: 41379.0Deaths: 3789.0Tests: 180...\n249    MinnesotaCases: 5136.0Deaths: 343.0Tests: 70276.0\n250     MissouriCases: 7562.0Deaths: 329.0Tests: 80687.0\n251    Commonwealth of the Northern Mariana IslandsCa...\n252    MississippiCases: 6815.0Deaths: 261.0Tests: 66...\n253        MontanaCases: 453.0Deaths: 16.0Tests: 13914.0\n254    North CarolinaCases: 10509.0Deaths: 378.0Tests...\n255    North DakotaCases: 1067.0Deaths: 19.0Tests: 27...\n256      NebraskaCases: 3784.0Deaths: 68.0Tests: 25321.0\n257    New HampshireCases: 2054.0Deaths: 66.0Tests: 2...\n258    New JerseyCases: 118652.0Deaths: 7228.0Tests: ...\n259    New MexicoCases: 3213.0Deaths: 112.0Tests: 650...\n260       NevadaCases: 4998.0Deaths: 237.0Tests: 41986.0\n261    New YorkCases: 304372.0Deaths: 18321.0Tests: 9...\n262       OhioCases: 18027.0Deaths: 975.0Tests: 133890.0\n263     OklahomaCases: 3618.0Deaths: 222.0Tests: 63422.0\n264       OregonCases: 2510.0Deaths: 103.0Tests: 56032.0\n265    PennsylvaniaCases: 45763.0Deaths: 2292.0Tests:...\n266    Puerto RicoCases: 1539.0Deaths: 92.0Tests: 108...\n267    Rhode IslandCases: 8621.0Deaths: 266.0Tests: 6...\n268    South CarolinaCases: 6095.0Deaths: 244.0Tests:...\n269    South DakotaCases: 2449.0Deaths: 17.0Tests: 17...\n270    TennesseeCases: 10735.0Deaths: 199.0Tests: 177...\n271      TexasCases: 28087.0Deaths: 782.0Tests: 330300.0\n272         UtahCases: 4672.0Deaths: 46.0Tests: 108501.0\n273    VirginiaCases: 15846.0Deaths: 552.0Tests: 92092.0\n274    United States Virgin IslandsCases: 66.0Deaths:...\n275        VermontCases: 866.0Deaths: 49.0Tests: 15652.0\n276    WashingtonCases: 14070.0Deaths: 801.0Tests: 18...\n277    WisconsinCases: 6854.0Deaths: 316.0Tests: 76443.0\n278    West VirginiaCases: 1118.0Deaths: 41.0Tests: 4...\n279          WyomingCases: 544.0Deaths: 7.0Tests: 9446.0\nName: text, dtype: object, 'marker': {'line': {'color': 'rgb(255,255,255)', 'width': 2}}, 'colorbar': {'title': 'Confirmed Cases'}}], [{'type': 'choropleth', 'colorscale': [[0.0, '#ffffff'], [0.2, '#ff9999'], [0.4, '#ff4d4d'], [0.6, '#ff1a1a'], [0.8, '#cc0000'], [1.0, '#4d0000']], 'autocolorscale': False, 'locations': 280    AK\n281    AL\n282    AR\n283    AS\n284    AZ\n285    CA\n286    CO\n287    CT\n288    DC\n289    DE\n290    FL\n291    GA\n292    GU\n293    HI\n294    IA\n295    ID\n296    IL\n297    IN\n298    KS\n299    KY\n300    LA\n301    MA\n302    MD\n303    ME\n304    MI\n305    MN\n306    MO\n307    MP\n308    MS\n309    MT\n310    NC\n311    ND\n312    NE\n313    NH\n314    NJ\n315    NM\n316    NV\n317    NY\n318    OH\n319    OK\n320    OR\n321    PA\n322    PR\n323    RI\n324    SC\n325    SD\n326    TN\n327    TX\n328    UT\n329    VA\n330    VI\n331    VT\n332    WA\n333    WI\n334    WV\n335    WY\nName: state, dtype: object, 'z': 280       355.0\n281      6842.0\n282      3192.0\n283         0.0\n284      7202.0\n285     46500.0\n286     14735.0\n287     26767.0\n288      4106.0\n289      4655.0\n290     33193.0\n291     25572.0\n292       145.0\n293       609.0\n294      6843.0\n295      1952.0\n296     50355.0\n297     17182.0\n298      3738.0\n299      4375.0\n300     27660.0\n301     60265.0\n302     20849.0\n303      1056.0\n304     40399.0\n305      4644.0\n306      7425.0\n307        14.0\n308      6569.0\n309       451.0\n310      9948.0\n311      1033.0\n312      3374.0\n313      2010.0\n314    116264.0\n315      2974.0\n316      4898.0\n317    299691.0\n318     17303.0\n319      3473.0\n320      2446.0\n321     44366.0\n322      1433.0\n323      8247.0\n324      5881.0\n325      2373.0\n326     10366.0\n327     27054.0\n328      4495.0\n329     14961.0\n330        62.0\n331       862.0\n332     13842.0\n333      6520.0\n334      1095.0\n335       536.0\nName: positive, dtype: float64, 'locationmode': 'USA-states', 'text': 280          AlaskaCases: 355.0Deaths: 9.0Tests: 19119.0\n281      AlabamaCases: 6842.0Deaths: 245.0Tests: 80449.0\n282      ArkansasCases: 3192.0Deaths: 59.0Tests: 45449.0\n283       American SamoaCases: 0.0Deaths: 0.0Tests: 20.0\n284      ArizonaCases: 7202.0Deaths: 304.0Tests: 68813.0\n285    CaliforniaCases: 46500.0Deaths: 1887.0Tests: 6...\n286    ColoradoCases: 14735.0Deaths: 760.0Tests: 69449.0\n287    ConnecticutCases: 26767.0Deaths: 2168.0Tests: ...\n288    District of ColumbiaCases: 4106.0Deaths: 205.0...\n289     DelawareCases: 4655.0Deaths: 144.0Tests: 21538.0\n290    FloridaCases: 33193.0Deaths: 1240.0Tests: 3747...\n291    GeorgiaCases: 25572.0Deaths: 1093.0Tests: 1439...\n292             GuamCases: 145.0Deaths: 5.0Tests: 1847.0\n293         HawaiiCases: 609.0Deaths: 16.0Tests: 29618.0\n294         IowaCases: 6843.0Deaths: 148.0Tests: 41337.0\n295         IdahoCases: 1952.0Deaths: 60.0Tests: 28382.0\n296    IllinoisCases: 50355.0Deaths: 2215.0Tests: 256...\n297    IndianaCases: 17182.0Deaths: 1065.0Tests: 91550.0\n298       KansasCases: 3738.0Deaths: 125.0Tests: 29458.0\n299     KentuckyCases: 4375.0Deaths: 225.0Tests: 52411.0\n300    LouisianaCases: 27660.0Deaths: 1845.0Tests: 15...\n301    MassachusettsCases: 60265.0Deaths: 3405.0Tests...\n302    MarylandCases: 20849.0Deaths: 1078.0Tests: 110...\n303         MaineCases: 1056.0Deaths: 52.0Tests: 20602.0\n304    MichiganCases: 40399.0Deaths: 3670.0Tests: 172...\n305    MinnesotaCases: 4644.0Deaths: 319.0Tests: 66744.0\n306     MissouriCases: 7425.0Deaths: 318.0Tests: 77159.0\n307    Commonwealth of the Northern Mariana IslandsCa...\n308    MississippiCases: 6569.0Deaths: 250.0Tests: 66...\n309        MontanaCases: 451.0Deaths: 16.0Tests: 13528.0\n310    North CarolinaCases: 9948.0Deaths: 354.0Tests:...\n311    North DakotaCases: 1033.0Deaths: 19.0Tests: 25...\n312      NebraskaCases: 3374.0Deaths: 55.0Tests: 23631.0\n313    New HampshireCases: 2010.0Deaths: 60.0Tests: 2...\n314    New JerseyCases: 116264.0Deaths: 6770.0Tests: ...\n315    New MexicoCases: 2974.0Deaths: 110.0Tests: 617...\n316       NevadaCases: 4898.0Deaths: 230.0Tests: 41028.0\n317    New YorkCases: 299691.0Deaths: 18015.0Tests: 8...\n318       OhioCases: 17303.0Deaths: 937.0Tests: 128908.0\n319     OklahomaCases: 3473.0Deaths: 214.0Tests: 61267.0\n320       OregonCases: 2446.0Deaths: 101.0Tests: 54472.0\n321    PennsylvaniaCases: 44366.0Deaths: 2195.0Tests:...\n322    Puerto RicoCases: 1433.0Deaths: 86.0Tests: 126...\n323    Rhode IslandCases: 8247.0Deaths: 251.0Tests: 6...\n324    South CarolinaCases: 5881.0Deaths: 203.0Tests:...\n325    South DakotaCases: 2373.0Deaths: 13.0Tests: 16...\n326    TennesseeCases: 10366.0Deaths: 195.0Tests: 168...\n327      TexasCases: 27054.0Deaths: 732.0Tests: 314790.0\n328         UtahCases: 4495.0Deaths: 45.0Tests: 105778.0\n329    VirginiaCases: 14961.0Deaths: 522.0Tests: 86560.0\n330    United States Virgin IslandsCases: 62.0Deaths:...\n331        VermontCases: 862.0Deaths: 47.0Tests: 15429.0\n332    WashingtonCases: 13842.0Deaths: 786.0Tests: 18...\n333    WisconsinCases: 6520.0Deaths: 308.0Tests: 73377.0\n334    West VirginiaCases: 1095.0Deaths: 38.0Tests: 4...\n335          WyomingCases: 536.0Deaths: 7.0Tests: 9217.0\nName: text, dtype: object, 'marker': {'line': {'color': 'rgb(255,255,255)', 'width': 2}}, 'colorbar': {'title': 'Confirmed Cases'}}], [{'type': 'choropleth', 'colorscale': [[0.0, '#ffffff'], [0.2, '#ff9999'], [0.4, '#ff4d4d'], [0.6, '#ff1a1a'], [0.8, '#cc0000'], [1.0, '#4d0000']], 'autocolorscale': False, 'locations': 336    AK\n337    AL\n338    AR\n339    AS\n340    AZ\n341    CA\n342    CO\n343    CT\n344    DC\n345    DE\n346    FL\n347    GA\n348    GU\n349    HI\n350    IA\n351    ID\n352    IL\n353    IN\n354    KS\n355    KY\n356    LA\n357    MA\n358    MD\n359    ME\n360    MI\n361    MN\n362    MO\n363    MP\n364    MS\n365    MT\n366    NC\n367    ND\n368    NE\n369    NH\n370    NJ\n371    NM\n372    NV\n373    NY\n374    OH\n375    OK\n376    OR\n377    PA\n378    PR\n379    RI\n380    SC\n381    SD\n382    TN\n383    TX\n384    UT\n385    VA\n386    VI\n387    VT\n388    WA\n389    WI\n390    WV\n391    WY\nName: state, dtype: object, 'z': 336       351.0\n337      6687.0\n338      3111.0\n339         0.0\n340      6948.0\n341     45031.0\n342     13879.0\n343     26312.0\n344      3994.0\n345      4575.0\n346     32846.0\n347     24615.0\n348       145.0\n349       607.0\n350      6376.0\n351      1917.0\n352     48102.0\n353     16588.0\n354      3491.0\n355      4146.0\n356     27286.0\n357     58302.0\n358     20113.0\n359      1040.0\n360     39262.0\n361      4181.0\n362      7303.0\n363        14.0\n364      6342.0\n365       451.0\n366      9568.0\n367       991.0\n368      3358.0\n369      1938.0\n370    113856.0\n371      2823.0\n372      4805.0\n373    295106.0\n374     16325.0\n375      3410.0\n376      2354.0\n377     43264.0\n378      1400.0\n379      7926.0\n380      5613.0\n381      2313.0\n382     10052.0\n383     26171.0\n384      4343.0\n385     13794.0\n386        59.0\n387       862.0\n388     13686.0\n389      6289.0\n390      1079.0\n391       389.0\nName: positive, dtype: float64, 'locationmode': 'USA-states', 'text': 336          AlaskaCases: 351.0Deaths: 9.0Tests: 17089.0\n337      AlabamaCases: 6687.0Deaths: 242.0Tests: 75827.0\n338      ArkansasCases: 3111.0Deaths: 52.0Tests: 40671.0\n339       American SamoaCases: 0.0Deaths: 0.0Tests: 20.0\n340      ArizonaCases: 6948.0Deaths: 293.0Tests: 67438.0\n341    CaliforniaCases: 45031.0Deaths: 1809.0Tests: 5...\n342    ColoradoCases: 13879.0Deaths: 706.0Tests: 66341.0\n343    ConnecticutCases: 26312.0Deaths: 2089.0Tests: ...\n344    District of ColumbiaCases: 3994.0Deaths: 190.0...\n345     DelawareCases: 4575.0Deaths: 137.0Tests: 21180.0\n346    FloridaCases: 32846.0Deaths: 1154.0Tests: 3680...\n347    GeorgiaCases: 24615.0Deaths: 1026.0Tests: 1400...\n348             GuamCases: 145.0Deaths: 5.0Tests: 1683.0\n349         HawaiiCases: 607.0Deaths: 16.0Tests: 29183.0\n350         IowaCases: 6376.0Deaths: 136.0Tests: 39823.0\n351         IdahoCases: 1917.0Deaths: 58.0Tests: 20052.0\n352    IllinoisCases: 48102.0Deaths: 2125.0Tests: 242...\n353     IndianaCases: 16588.0Deaths: 901.0Tests: 87181.0\n354       KansasCases: 3491.0Deaths: 124.0Tests: 28090.0\n355     KentuckyCases: 4146.0Deaths: 213.0Tests: 48799.0\n356    LouisianaCases: 27286.0Deaths: 1801.0Tests: 15...\n357    MassachusettsCases: 58302.0Deaths: 3153.0Tests...\n358    MarylandCases: 20113.0Deaths: 1016.0Tests: 107...\n359         MaineCases: 1040.0Deaths: 51.0Tests: 17824.0\n360    MichiganCases: 39262.0Deaths: 3567.0Tests: 164...\n361    MinnesotaCases: 4181.0Deaths: 301.0Tests: 63829.0\n362     MissouriCases: 7303.0Deaths: 314.0Tests: 73503.0\n363    Commonwealth of the Northern Mariana IslandsCa...\n364    MississippiCases: 6342.0Deaths: 239.0Tests: 64...\n365        MontanaCases: 451.0Deaths: 15.0Tests: 13191.0\n366    North CarolinaCases: 9568.0Deaths: 342.0Tests:...\n367    North DakotaCases: 991.0Deaths: 19.0Tests: 237...\n368      NebraskaCases: 3358.0Deaths: 55.0Tests: 23605.0\n369    New HampshireCases: 1938.0Deaths: 60.0Tests: 2...\n370    New JerseyCases: 113856.0Deaths: 6442.0Tests: ...\n371    New MexicoCases: 2823.0Deaths: 104.0Tests: 588...\n372       NevadaCases: 4805.0Deaths: 219.0Tests: 40119.0\n373    New YorkCases: 295106.0Deaths: 17638.0Tests: 8...\n374       OhioCases: 16325.0Deaths: 799.0Tests: 122903.0\n375     OklahomaCases: 3410.0Deaths: 207.0Tests: 59699.0\n376        OregonCases: 2354.0Deaths: 92.0Tests: 51198.0\n377    PennsylvaniaCases: 43264.0Deaths: 1716.0Tests:...\n378    Puerto RicoCases: 1400.0Deaths: 86.0Tests: 126...\n379    Rhode IslandCases: 7926.0Deaths: 239.0Tests: 5...\n380    South CarolinaCases: 5613.0Deaths: 177.0Tests:...\n381    South DakotaCases: 2313.0Deaths: 11.0Tests: 16...\n382    TennesseeCases: 10052.0Deaths: 188.0Tests: 161...\n383      TexasCases: 26171.0Deaths: 690.0Tests: 300384.0\n384         UtahCases: 4343.0Deaths: 45.0Tests: 102439.0\n385    VirginiaCases: 13794.0Deaths: 492.0Tests: 83313.0\n386    United States Virgin IslandsCases: 59.0Deaths:...\n387        VermontCases: 862.0Deaths: 47.0Tests: 15215.0\n388    WashingtonCases: 13686.0Deaths: 765.0Tests: 17...\n389    WisconsinCases: 6289.0Deaths: 300.0Tests: 70017.0\n390    West VirginiaCases: 1079.0Deaths: 37.0Tests: 4...\n391          WyomingCases: 389.0Deaths: 7.0Tests: 8615.0\nName: text, dtype: object, 'marker': {'line': {'color': 'rgb(255,255,255)', 'width': 2}}, 'colorbar': {'title': 'Confirmed Cases'}}], [{'type': 'choropleth', 'colorscale': [[0.0, '#ffffff'], [0.2, '#ff9999'], [0.4, '#ff4d4d'], [0.6, '#ff1a1a'], [0.8, '#cc0000'], [1.0, '#4d0000']], 'autocolorscale': False, 'locations': 392    AK\n393    AL\n394    AR\n395    AS\n396    AZ\n397    CA\n398    CO\n399    CT\n400    DC\n401    DE\n402    FL\n403    GA\n404    GU\n405    HI\n406    IA\n407    ID\n408    IL\n409    IN\n410    KS\n411    KY\n412    LA\n413    MA\n414    MD\n415    ME\n416    MI\n417    MN\n418    MO\n419    MP\n420    MS\n421    MT\n422    NC\n423    ND\n424    NE\n425    NH\n426    NJ\n427    NM\n428    NV\n429    NY\n430    OH\n431    OK\n432    OR\n433    PA\n434    PR\n435    RI\n436    SC\n437    SD\n438    TN\n439    TX\n440    UT\n441    VA\n442    VI\n443    VT\n444    WA\n445    WI\n446    WV\n447    WY\nName: state, dtype: object, 'z': 392       345.0\n393      6499.0\n394      3017.0\n395         0.0\n396      6716.0\n397     43464.0\n398     13441.0\n399     25269.0\n400      3892.0\n401      4162.0\n402     32138.0\n403     23913.0\n404       144.0\n405       606.0\n406      5868.0\n407      1897.0\n408     45883.0\n409     15961.0\n410      3328.0\n411      4074.0\n412     27068.0\n413     56462.0\n414     19487.0\n415      1023.0\n416     38210.0\n417      3816.0\n418      7171.0\n419        14.0\n420      6094.0\n421       449.0\n422      9142.0\n423       942.0\n424      3028.0\n425      1864.0\n426    111188.0\n427      2726.0\n428      4690.0\n429    291996.0\n430     16325.0\n431      3280.0\n432      2354.0\n433     42050.0\n434      1389.0\n435      7708.0\n436      5490.0\n437      2245.0\n438      9918.0\n439     25297.0\n440      4233.0\n441     13535.0\n442        59.0\n443       855.0\n444     13521.0\n445      6081.0\n446      1063.0\n447       370.0\nName: positive, dtype: float64, 'locationmode': 'USA-states', 'text': 392          AlaskaCases: 345.0Deaths: 9.0Tests: 16256.0\n393      AlabamaCases: 6499.0Deaths: 222.0Tests: 73997.0\n394      ArkansasCases: 3017.0Deaths: 50.0Tests: 40457.0\n395       American SamoaCases: 0.0Deaths: 0.0Tests: 20.0\n396      ArizonaCases: 6716.0Deaths: 275.0Tests: 66543.0\n397    CaliforniaCases: 43464.0Deaths: 1755.0Tests: 5...\n398    ColoradoCases: 13441.0Deaths: 680.0Tests: 63274.0\n399    ConnecticutCases: 25269.0Deaths: 1998.0Tests: ...\n400    District of ColumbiaCases: 3892.0Deaths: 185.0...\n401     DelawareCases: 4162.0Deaths: 125.0Tests: 19616.0\n402    FloridaCases: 32138.0Deaths: 1101.0Tests: 3575...\n403    GeorgiaCases: 23913.0Deaths: 971.0Tests: 127169.0\n404             GuamCases: 144.0Deaths: 5.0Tests: 1568.0\n405         HawaiiCases: 606.0Deaths: 14.0Tests: 29010.0\n406         IowaCases: 5868.0Deaths: 127.0Tests: 38150.0\n407         IdahoCases: 1897.0Deaths: 56.0Tests: 19895.0\n408    IllinoisCases: 45883.0Deaths: 1983.0Tests: 227...\n409     IndianaCases: 15961.0Deaths: 844.0Tests: 84476.0\n410       KansasCases: 3328.0Deaths: 120.0Tests: 27167.0\n411     KentuckyCases: 4074.0Deaths: 208.0Tests: 48474.0\n412    LouisianaCases: 27068.0Deaths: 1670.0Tests: 14...\n413    MassachusettsCases: 56462.0Deaths: 3003.0Tests...\n414    MarylandCases: 19487.0Deaths: 945.0Tests: 1049...\n415         MaineCases: 1023.0Deaths: 51.0Tests: 17807.0\n416    MichiganCases: 38210.0Deaths: 3407.0Tests: 157...\n417    MinnesotaCases: 3816.0Deaths: 286.0Tests: 61268.0\n418     MissouriCases: 7171.0Deaths: 288.0Tests: 71106.0\n419    Commonwealth of the Northern Mariana IslandsCa...\n420    MississippiCases: 6094.0Deaths: 229.0Tests: 63...\n421        MontanaCases: 449.0Deaths: 14.0Tests: 13033.0\n422    North CarolinaCases: 9142.0Deaths: 306.0Tests:...\n423    North DakotaCases: 942.0Deaths: 19.0Tests: 224...\n424      NebraskaCases: 3028.0Deaths: 56.0Tests: 22363.0\n425    New HampshireCases: 1864.0Deaths: 60.0Tests: 1...\n426    New JerseyCases: 111188.0Deaths: 6044.0Tests: ...\n427    New MexicoCases: 2726.0Deaths: 99.0Tests: 56615.0\n428       NevadaCases: 4690.0Deaths: 206.0Tests: 38813.0\n429    New YorkCases: 291996.0Deaths: 17303.0Tests: 8...\n430       OhioCases: 16325.0Deaths: 753.0Tests: 120017.0\n431     OklahomaCases: 3280.0Deaths: 197.0Tests: 53171.0\n432        OregonCases: 2354.0Deaths: 92.0Tests: 51198.0\n433    PennsylvaniaCases: 42050.0Deaths: 1597.0Tests:...\n434    Puerto RicoCases: 1389.0Deaths: 84.0Tests: 126...\n435    Rhode IslandCases: 7708.0Deaths: 233.0Tests: 5...\n436    South CarolinaCases: 5490.0Deaths: 174.0Tests:...\n437    South DakotaCases: 2245.0Deaths: 11.0Tests: 16...\n438    TennesseeCases: 9918.0Deaths: 184.0Tests: 1544...\n439      TexasCases: 25297.0Deaths: 663.0Tests: 290517.0\n440         UtahCases: 4233.0Deaths: 41.0Tests: 100195.0\n441    VirginiaCases: 13535.0Deaths: 458.0Tests: 81221.0\n442    United States Virgin IslandsCases: 59.0Deaths:...\n443        VermontCases: 855.0Deaths: 47.0Tests: 15073.0\n444    WashingtonCases: 13521.0Deaths: 749.0Tests: 17...\n445    WisconsinCases: 6081.0Deaths: 281.0Tests: 67596.0\n446    West VirginiaCases: 1063.0Deaths: 36.0Tests: 4...\n447          WyomingCases: 370.0Deaths: 7.0Tests: 8167.0\nName: text, dtype: object, 'marker': {'line': {'color': 'rgb(255,255,255)', 'width': 2}}, 'colorbar': {'title': 'Confirmed Cases'}}], [{'type': 'choropleth', 'colorscale': [[0.0, '#ffffff'], [0.2, '#ff9999'], [0.4, '#ff4d4d'], [0.6, '#ff1a1a'], [0.8, '#cc0000'], [1.0, '#4d0000']], 'autocolorscale': False, 'locations': 448    AK\n449    AL\n450    AR\n451    AS\n452    AZ\n453    CA\n454    CO\n455    CT\n456    DC\n457    DE\n458    FL\n459    GA\n460    GU\n461    HI\n462    IA\n463    ID\n464    IL\n465    IN\n466    KS\n467    KY\n468    LA\n469    MA\n470    MD\n471    ME\n472    MI\n473    MN\n474    MO\n475    MP\n476    MS\n477    MT\n478    NC\n479    ND\n480    NE\n481    NH\n482    NJ\n483    NM\n484    NV\n485    NY\n486    OH\n487    OK\n488    OR\n489    PA\n490    PR\n491    RI\n492    SC\n493    SD\n494    TN\n495    TX\n496    UT\n497    VA\n498    VI\n499    VT\n500    WA\n501    WI\n502    WV\n503    WY\nName: state, dtype: object, 'z': 448       341.0\n449      6270.0\n450      2941.0\n451         0.0\n452      6526.0\n453     42164.0\n454     12968.0\n455     25269.0\n456      3841.0\n457      4034.0\n458     31528.0\n459     23401.0\n460       141.0\n461       603.0\n462      5476.0\n463      1887.0\n464     43903.0\n465     15012.0\n466      3174.0\n467      3905.0\n468     26773.0\n469     54938.0\n470     18581.0\n471      1015.0\n472     37778.0\n473      3602.0\n474      6997.0\n475        14.0\n476      5911.0\n477       448.0\n478      8830.0\n479       867.0\n480      2732.0\n481      1787.0\n482    109038.0\n483      2660.0\n484      4602.0\n485    288045.0\n486     15963.0\n487      3253.0\n488      2311.0\n489     41165.0\n490      1371.0\n491      7439.0\n492      5490.0\n493      2212.0\n494      9667.0\n495     24631.0\n496      4123.0\n497     12488.0\n498        57.0\n499       851.0\n500     13521.0\n501      5911.0\n502      1044.0\n503       362.0\nName: positive, dtype: float64, 'locationmode': 'USA-states', 'text': 448          AlaskaCases: 341.0Deaths: 9.0Tests: 16177.0\n449      AlabamaCases: 6270.0Deaths: 216.0Tests: 73551.0\n450      ArkansasCases: 2941.0Deaths: 49.0Tests: 39469.0\n451       American SamoaCases: 0.0Deaths: 0.0Tests: 20.0\n452      ArizonaCases: 6526.0Deaths: 275.0Tests: 64811.0\n453    CaliforniaCases: 42164.0Deaths: 1710.0Tests: 5...\n454    ColoradoCases: 12968.0Deaths: 672.0Tests: 59791.0\n455    ConnecticutCases: 25269.0Deaths: 1924.0Tests: ...\n456    District of ColumbiaCases: 3841.0Deaths: 178.0...\n457     DelawareCases: 4034.0Deaths: 120.0Tests: 19249.0\n458    FloridaCases: 31528.0Deaths: 1094.0Tests: 3457...\n459    GeorgiaCases: 23401.0Deaths: 912.0Tests: 123223.0\n460             GuamCases: 141.0Deaths: 5.0Tests: 1528.0\n461         HawaiiCases: 603.0Deaths: 14.0Tests: 28483.0\n462         IowaCases: 5476.0Deaths: 118.0Tests: 36090.0\n463         IdahoCases: 1887.0Deaths: 56.0Tests: 19565.0\n464    IllinoisCases: 43903.0Deaths: 1933.0Tests: 214...\n465     IndianaCases: 15012.0Deaths: 813.0Tests: 81708.0\n466       KansasCases: 3174.0Deaths: 118.0Tests: 26227.0\n467     KentuckyCases: 3905.0Deaths: 205.0Tests: 46558.0\n468    LouisianaCases: 26773.0Deaths: 1670.0Tests: 14...\n469    MassachusettsCases: 54938.0Deaths: 2899.0Tests...\n470    MarylandCases: 18581.0Deaths: 910.0Tests: 96665.0\n471         MaineCases: 1015.0Deaths: 50.0Tests: 17799.0\n472    MichiganCases: 37778.0Deaths: 3315.0Tests: 151...\n473    MinnesotaCases: 3602.0Deaths: 272.0Tests: 58987.0\n474     MissouriCases: 6997.0Deaths: 274.0Tests: 69748.0\n475    Commonwealth of the Northern Mariana IslandsCa...\n476    MississippiCases: 5911.0Deaths: 227.0Tests: 60...\n477        MontanaCases: 448.0Deaths: 14.0Tests: 12862.0\n478    North CarolinaCases: 8830.0Deaths: 299.0Tests:...\n479    North DakotaCases: 867.0Deaths: 17.0Tests: 207...\n480      NebraskaCases: 2732.0Deaths: 53.0Tests: 21228.0\n481    New HampshireCases: 1787.0Deaths: 60.0Tests: 1...\n482    New JerseyCases: 109038.0Deaths: 5938.0Tests: ...\n483    New MexicoCases: 2660.0Deaths: 93.0Tests: 53735.0\n484       NevadaCases: 4602.0Deaths: 206.0Tests: 38186.0\n485    New YorkCases: 288045.0Deaths: 16966.0Tests: 8...\n486       OhioCases: 15963.0Deaths: 728.0Tests: 116386.0\n487     OklahomaCases: 3253.0Deaths: 195.0Tests: 53144.0\n488        OregonCases: 2311.0Deaths: 91.0Tests: 48964.0\n489    PennsylvaniaCases: 41165.0Deaths: 1550.0Tests:...\n490    Puerto RicoCases: 1371.0Deaths: 84.0Tests: 126...\n491    Rhode IslandCases: 7439.0Deaths: 226.0Tests: 5...\n492    South CarolinaCases: 5490.0Deaths: 174.0Tests:...\n493    South DakotaCases: 2212.0Deaths: 11.0Tests: 16...\n494    TennesseeCases: 9667.0Deaths: 181.0Tests: 1482...\n495      TexasCases: 24631.0Deaths: 648.0Tests: 276021.0\n496          UtahCases: 4123.0Deaths: 41.0Tests: 95702.0\n497    VirginiaCases: 12488.0Deaths: 448.0Tests: 76657.0\n498    United States Virgin IslandsCases: 57.0Deaths:...\n499        VermontCases: 851.0Deaths: 46.0Tests: 14797.0\n500    WashingtonCases: 13521.0Deaths: 738.0Tests: 17...\n501    WisconsinCases: 5911.0Deaths: 272.0Tests: 65343.0\n502    West VirginiaCases: 1044.0Deaths: 34.0Tests: 3...\n503          WyomingCases: 362.0Deaths: 7.0Tests: 8159.0\nName: text, dtype: object, 'marker': {'line': {'color': 'rgb(255,255,255)', 'width': 2}}, 'colorbar': {'title': 'Confirmed Cases'}}], [{'type': 'choropleth', 'colorscale': [[0.0, '#ffffff'], [0.2, '#ff9999'], [0.4, '#ff4d4d'], [0.6, '#ff1a1a'], [0.8, '#cc0000'], [1.0, '#4d0000']], 'autocolorscale': False, 'locations': 504    AK\n505    AL\n506    AR\n507    AS\n508    AZ\n509    CA\n510    CO\n511    CT\n512    DC\n513    DE\n514    FL\n515    GA\n516    GU\n517    HI\n518    IA\n519    ID\n520    IL\n521    IN\n522    KS\n523    KY\n524    LA\n525    MA\n526    MD\n527    ME\n528    MI\n529    MN\n530    MO\n531    MP\n532    MS\n533    MT\n534    NC\n535    ND\n536    NE\n537    NH\n538    NJ\n539    NM\n540    NV\n541    NY\n542    OH\n543    OK\n544    OR\n545    PA\n546    PR\n547    RI\n548    SC\n549    SD\n550    TN\n551    TX\n552    UT\n553    VA\n554    VI\n555    VT\n556    WA\n557    WI\n558    WV\n559    WY\nName: state, dtype: object, 'z': 504       339.0\n505      6137.0\n506      2829.0\n507         0.0\n508      6280.0\n509     41137.0\n510     12256.0\n511     24582.0\n512      3699.0\n513      3576.0\n514     30839.0\n515     22695.0\n516       141.0\n517       601.0\n518      5092.0\n519      1870.0\n520     41777.0\n521     14395.0\n522      3056.0\n523      3779.0\n524     26512.0\n525     53348.0\n526     17766.0\n527       990.0\n528     37203.0\n529      3446.0\n530      6826.0\n531        14.0\n532      5718.0\n533       445.0\n534      8623.0\n535       803.0\n536      2421.0\n537      1720.0\n538    105523.0\n539      2521.0\n540      4539.0\n541    282143.0\n542     15587.0\n543      3193.0\n544      2253.0\n545     40049.0\n546      1307.0\n547      7129.0\n548      5253.0\n549      2147.0\n550      9189.0\n551     23773.0\n552      3948.0\n553     11902.0\n554        55.0\n555       843.0\n556     13521.0\n557      5687.0\n558      1020.0\n559       349.0\nName: positive, dtype: float64, 'locationmode': 'USA-states', 'text': 504          AlaskaCases: 339.0Deaths: 9.0Tests: 15732.0\n505      AlabamaCases: 6137.0Deaths: 212.0Tests: 71344.0\n506      ArkansasCases: 2829.0Deaths: 47.0Tests: 38053.0\n507       American SamoaCases: 0.0Deaths: 0.0Tests: 20.0\n508      ArizonaCases: 6280.0Deaths: 266.0Tests: 62508.0\n509    CaliforniaCases: 41137.0Deaths: 1651.0Tests: 5...\n510    ColoradoCases: 12256.0Deaths: 674.0Tests: 56789.0\n511    ConnecticutCases: 24582.0Deaths: 1862.0Tests: ...\n512    District of ColumbiaCases: 3699.0Deaths: 165.0...\n513     DelawareCases: 3576.0Deaths: 112.0Tests: 17698.0\n514    FloridaCases: 30839.0Deaths: 1075.0Tests: 3343...\n515    GeorgiaCases: 22695.0Deaths: 904.0Tests: 119014.0\n516             GuamCases: 141.0Deaths: 5.0Tests: 1449.0\n517         HawaiiCases: 601.0Deaths: 13.0Tests: 28040.0\n518         IowaCases: 5092.0Deaths: 112.0Tests: 34350.0\n519         IdahoCases: 1870.0Deaths: 54.0Tests: 19361.0\n520    IllinoisCases: 41777.0Deaths: 1874.0Tests: 201...\n521     IndianaCases: 14395.0Deaths: 785.0Tests: 79774.0\n522       KansasCases: 3056.0Deaths: 117.0Tests: 25199.0\n523     KentuckyCases: 3779.0Deaths: 200.0Tests: 44962.0\n524    LouisianaCases: 26512.0Deaths: 1644.0Tests: 13...\n525    MassachusettsCases: 53348.0Deaths: 2877.0Tests...\n526    MarylandCases: 17766.0Deaths: 875.0Tests: 89123.0\n527          MaineCases: 990.0Deaths: 50.0Tests: 17774.0\n528    MichiganCases: 37203.0Deaths: 3274.0Tests: 144...\n529    MinnesotaCases: 3446.0Deaths: 244.0Tests: 56597.0\n530     MissouriCases: 6826.0Deaths: 273.0Tests: 67218.0\n531    Commonwealth of the Northern Mariana IslandsCa...\n532    MississippiCases: 5718.0Deaths: 221.0Tests: 58...\n533        MontanaCases: 445.0Deaths: 14.0Tests: 12497.0\n534    North CarolinaCases: 8623.0Deaths: 289.0Tests:...\n535    North DakotaCases: 803.0Deaths: 16.0Tests: 193...\n536      NebraskaCases: 2421.0Deaths: 50.0Tests: 19973.0\n537    New HampshireCases: 1720.0Deaths: 53.0Tests: 1...\n538    New JerseyCases: 105523.0Deaths: 5863.0Tests: ...\n539    New MexicoCases: 2521.0Deaths: 84.0Tests: 51510.0\n540       NevadaCases: 4539.0Deaths: 204.0Tests: 37208.0\n541    New YorkCases: 282143.0Deaths: 16599.0Tests: 7...\n542       OhioCases: 15587.0Deaths: 711.0Tests: 111983.0\n543     OklahomaCases: 3193.0Deaths: 194.0Tests: 53084.0\n544        OregonCases: 2253.0Deaths: 87.0Tests: 47377.0\n545    PennsylvaniaCases: 40049.0Deaths: 1537.0Tests:...\n546    Puerto RicoCases: 1307.0Deaths: 83.0Tests: 125...\n547    Rhode IslandCases: 7129.0Deaths: 215.0Tests: 5...\n548    South CarolinaCases: 5253.0Deaths: 166.0Tests:...\n549    South DakotaCases: 2147.0Deaths: 10.0Tests: 15...\n550    TennesseeCases: 9189.0Deaths: 178.0Tests: 1414...\n551      TexasCases: 23773.0Deaths: 623.0Tests: 262816.0\n552          UtahCases: 3948.0Deaths: 41.0Tests: 90206.0\n553    VirginiaCases: 11902.0Deaths: 436.0Tests: 73583.0\n554    United States Virgin IslandsCases: 55.0Deaths:...\n555        VermontCases: 843.0Deaths: 46.0Tests: 14682.0\n556    WashingtonCases: 13521.0Deaths: 665.0Tests: 17...\n557    WisconsinCases: 5687.0Deaths: 266.0Tests: 63066.0\n558    West VirginiaCases: 1020.0Deaths: 32.0Tests: 3...\n559          WyomingCases: 349.0Deaths: 7.0Tests: 8146.0\nName: text, dtype: object, 'marker': {'line': {'color': 'rgb(255,255,255)', 'width': 2}}, 'colorbar': {'title': 'Confirmed Cases'}}]]\n\n    The 'data' property is a tuple of trace instances\n    that may be specified as:\n      - A list or tuple of trace instances\n        (e.g. [Scatter(...), Bar(...)])\n      - A single trace instance\n        (e.g. Scatter(...), Bar(...), etc.)\n      - A list or tuple of dicts of string/value properties where:\n        - The 'type' property specifies the trace type\n            One of: ['area', 'bar', 'barpolar', 'box',\n                     'candlestick', 'carpet', 'choropleth',\n                     'choroplethmapbox', 'cone', 'contour',\n                     'contourcarpet', 'densitymapbox', 'funnel',\n                     'funnelarea', 'heatmap', 'heatmapgl',\n                     'histogram', 'histogram2d',\n                     'histogram2dcontour', 'image', 'indicator',\n                     'isosurface', 'mesh3d', 'ohlc', 'parcats',\n                     'parcoords', 'pie', 'pointcloud', 'sankey',\n                     'scatter', 'scatter3d', 'scattercarpet',\n                     'scattergeo', 'scattergl', 'scattermapbox',\n                     'scatterpolar', 'scatterpolargl',\n                     'scatterternary', 'splom', 'streamtube',\n                     'sunburst', 'surface', 'table', 'treemap',\n                     'violin', 'volume', 'waterfall']\n\n        - All remaining properties are passed to the constructor of\n          the specified trace type\n\n        (e.g. [{'type': 'scatter', ...}, {'type': 'bar, ...}])",
     "output_type": "error",
     "traceback": [
      "\u001b[1;31m---------------------------------------------------------------------------\u001b[0m",
      "\u001b[1;31mValueError\u001b[0m                                Traceback (most recent call last)",
      "\u001b[1;32m<ipython-input-119-a904c6bd274c>\u001b[0m in \u001b[0;36m<module>\u001b[1;34m\u001b[0m\n\u001b[0;32m     16\u001b[0m \u001b[1;33m\u001b[0m\u001b[0m\n\u001b[0;32m     17\u001b[0m \u001b[1;31m# plot\u001b[0m\u001b[1;33m\u001b[0m\u001b[1;33m\u001b[0m\u001b[1;33m\u001b[0m\u001b[0m\n\u001b[1;32m---> 18\u001b[1;33m \u001b[0mplotly\u001b[0m\u001b[1;33m.\u001b[0m\u001b[0moffline\u001b[0m\u001b[1;33m.\u001b[0m\u001b[0miplot\u001b[0m\u001b[1;33m(\u001b[0m\u001b[0mfig\u001b[0m\u001b[1;33m)\u001b[0m\u001b[1;33m\u001b[0m\u001b[1;33m\u001b[0m\u001b[0m\n\u001b[0m\u001b[0;32m     19\u001b[0m \u001b[1;33m\u001b[0m\u001b[0m\n\u001b[0;32m     20\u001b[0m \u001b[1;31m# if want to plot in a different window on your browser\u001b[0m\u001b[1;33m\u001b[0m\u001b[1;33m\u001b[0m\u001b[1;33m\u001b[0m\u001b[0m\n",
      "\u001b[1;32m~\\anaconda3\\envs\\GIS\\lib\\site-packages\\plotly\\offline\\offline.py\u001b[0m in \u001b[0;36miplot\u001b[1;34m(figure_or_data, show_link, link_text, validate, image, filename, image_width, image_height, config, auto_play, animation_opts)\u001b[0m\n\u001b[0;32m    382\u001b[0m \u001b[1;33m\u001b[0m\u001b[0m\n\u001b[0;32m    383\u001b[0m     \u001b[1;31m# Get figure\u001b[0m\u001b[1;33m\u001b[0m\u001b[1;33m\u001b[0m\u001b[1;33m\u001b[0m\u001b[0m\n\u001b[1;32m--> 384\u001b[1;33m     \u001b[0mfigure\u001b[0m \u001b[1;33m=\u001b[0m \u001b[0mtools\u001b[0m\u001b[1;33m.\u001b[0m\u001b[0mreturn_figure_from_figure_or_data\u001b[0m\u001b[1;33m(\u001b[0m\u001b[0mfigure_or_data\u001b[0m\u001b[1;33m,\u001b[0m \u001b[0mvalidate\u001b[0m\u001b[1;33m)\u001b[0m\u001b[1;33m\u001b[0m\u001b[1;33m\u001b[0m\u001b[0m\n\u001b[0m\u001b[0;32m    385\u001b[0m \u001b[1;33m\u001b[0m\u001b[0m\n\u001b[0;32m    386\u001b[0m     \u001b[1;31m# Handle image request\u001b[0m\u001b[1;33m\u001b[0m\u001b[1;33m\u001b[0m\u001b[1;33m\u001b[0m\u001b[0m\n",
      "\u001b[1;32m~\\anaconda3\\envs\\GIS\\lib\\site-packages\\plotly\\tools.py\u001b[0m in \u001b[0;36mreturn_figure_from_figure_or_data\u001b[1;34m(figure_or_data, validate_figure)\u001b[0m\n\u001b[0;32m    551\u001b[0m \u001b[1;33m\u001b[0m\u001b[0m\n\u001b[0;32m    552\u001b[0m         \u001b[1;32mtry\u001b[0m\u001b[1;33m:\u001b[0m\u001b[1;33m\u001b[0m\u001b[1;33m\u001b[0m\u001b[0m\n\u001b[1;32m--> 553\u001b[1;33m             \u001b[0mfigure\u001b[0m \u001b[1;33m=\u001b[0m \u001b[0mFigure\u001b[0m\u001b[1;33m(\u001b[0m\u001b[1;33m**\u001b[0m\u001b[0mfigure\u001b[0m\u001b[1;33m)\u001b[0m\u001b[1;33m.\u001b[0m\u001b[0mto_dict\u001b[0m\u001b[1;33m(\u001b[0m\u001b[1;33m)\u001b[0m\u001b[1;33m\u001b[0m\u001b[1;33m\u001b[0m\u001b[0m\n\u001b[0m\u001b[0;32m    554\u001b[0m         \u001b[1;32mexcept\u001b[0m \u001b[0mexceptions\u001b[0m\u001b[1;33m.\u001b[0m\u001b[0mPlotlyError\u001b[0m \u001b[1;32mas\u001b[0m \u001b[0merr\u001b[0m\u001b[1;33m:\u001b[0m\u001b[1;33m\u001b[0m\u001b[1;33m\u001b[0m\u001b[0m\n\u001b[0;32m    555\u001b[0m             raise exceptions.PlotlyError(\n",
      "\u001b[1;32m~\\anaconda3\\envs\\GIS\\lib\\site-packages\\plotly\\graph_objs\\_figure.py\u001b[0m in \u001b[0;36m__init__\u001b[1;34m(self, data, layout, frames, skip_invalid, **kwargs)\u001b[0m\n\u001b[0;32m    626\u001b[0m             \u001b[1;32mis\u001b[0m \u001b[0minvalid\u001b[0m \u001b[0mAND\u001b[0m \u001b[0mskip_invalid\u001b[0m \u001b[1;32mis\u001b[0m \u001b[1;32mFalse\u001b[0m\u001b[1;33m\u001b[0m\u001b[1;33m\u001b[0m\u001b[0m\n\u001b[0;32m    627\u001b[0m         \"\"\"\n\u001b[1;32m--> 628\u001b[1;33m         \u001b[0msuper\u001b[0m\u001b[1;33m(\u001b[0m\u001b[0mFigure\u001b[0m\u001b[1;33m,\u001b[0m \u001b[0mself\u001b[0m\u001b[1;33m)\u001b[0m\u001b[1;33m.\u001b[0m\u001b[0m__init__\u001b[0m\u001b[1;33m(\u001b[0m\u001b[0mdata\u001b[0m\u001b[1;33m,\u001b[0m \u001b[0mlayout\u001b[0m\u001b[1;33m,\u001b[0m \u001b[0mframes\u001b[0m\u001b[1;33m,\u001b[0m \u001b[0mskip_invalid\u001b[0m\u001b[1;33m,\u001b[0m \u001b[1;33m**\u001b[0m\u001b[0mkwargs\u001b[0m\u001b[1;33m)\u001b[0m\u001b[1;33m\u001b[0m\u001b[1;33m\u001b[0m\u001b[0m\n\u001b[0m\u001b[0;32m    629\u001b[0m \u001b[1;33m\u001b[0m\u001b[0m\n\u001b[0;32m    630\u001b[0m     def add_area(\n",
      "\u001b[1;32m~\\anaconda3\\envs\\GIS\\lib\\site-packages\\plotly\\basedatatypes.py\u001b[0m in \u001b[0;36m__init__\u001b[1;34m(self, data, layout_plotly, frames, skip_invalid, **kwargs)\u001b[0m\n\u001b[0;32m    155\u001b[0m \u001b[1;33m\u001b[0m\u001b[0m\n\u001b[0;32m    156\u001b[0m         \u001b[1;31m# ### Import traces ###\u001b[0m\u001b[1;33m\u001b[0m\u001b[1;33m\u001b[0m\u001b[1;33m\u001b[0m\u001b[0m\n\u001b[1;32m--> 157\u001b[1;33m         \u001b[0mdata\u001b[0m \u001b[1;33m=\u001b[0m \u001b[0mself\u001b[0m\u001b[1;33m.\u001b[0m\u001b[0m_data_validator\u001b[0m\u001b[1;33m.\u001b[0m\u001b[0mvalidate_coerce\u001b[0m\u001b[1;33m(\u001b[0m\u001b[0mdata\u001b[0m\u001b[1;33m,\u001b[0m \u001b[0mskip_invalid\u001b[0m\u001b[1;33m=\u001b[0m\u001b[0mskip_invalid\u001b[0m\u001b[1;33m)\u001b[0m\u001b[1;33m\u001b[0m\u001b[1;33m\u001b[0m\u001b[0m\n\u001b[0m\u001b[0;32m    158\u001b[0m \u001b[1;33m\u001b[0m\u001b[0m\n\u001b[0;32m    159\u001b[0m         \u001b[1;31m# ### Save tuple of trace objects ###\u001b[0m\u001b[1;33m\u001b[0m\u001b[1;33m\u001b[0m\u001b[1;33m\u001b[0m\u001b[0m\n",
      "\u001b[1;32m~\\anaconda3\\envs\\GIS\\lib\\site-packages\\_plotly_utils\\basevalidators.py\u001b[0m in \u001b[0;36mvalidate_coerce\u001b[1;34m(self, v, skip_invalid)\u001b[0m\n\u001b[0;32m   2667\u001b[0m \u001b[1;33m\u001b[0m\u001b[0m\n\u001b[0;32m   2668\u001b[0m             \u001b[1;32mif\u001b[0m \u001b[0minvalid_els\u001b[0m\u001b[1;33m:\u001b[0m\u001b[1;33m\u001b[0m\u001b[1;33m\u001b[0m\u001b[0m\n\u001b[1;32m-> 2669\u001b[1;33m                 \u001b[0mself\u001b[0m\u001b[1;33m.\u001b[0m\u001b[0mraise_invalid_elements\u001b[0m\u001b[1;33m(\u001b[0m\u001b[0minvalid_els\u001b[0m\u001b[1;33m)\u001b[0m\u001b[1;33m\u001b[0m\u001b[1;33m\u001b[0m\u001b[0m\n\u001b[0m\u001b[0;32m   2670\u001b[0m \u001b[1;33m\u001b[0m\u001b[0m\n\u001b[0;32m   2671\u001b[0m             \u001b[0mv\u001b[0m \u001b[1;33m=\u001b[0m \u001b[0mto_scalar_or_list\u001b[0m\u001b[1;33m(\u001b[0m\u001b[0mres\u001b[0m\u001b[1;33m)\u001b[0m\u001b[1;33m\u001b[0m\u001b[1;33m\u001b[0m\u001b[0m\n",
      "\u001b[1;32m~\\anaconda3\\envs\\GIS\\lib\\site-packages\\_plotly_utils\\basevalidators.py\u001b[0m in \u001b[0;36mraise_invalid_elements\u001b[1;34m(self, invalid_els)\u001b[0m\n\u001b[0;32m    296\u001b[0m                     \u001b[0mpname\u001b[0m\u001b[1;33m=\u001b[0m\u001b[0mself\u001b[0m\u001b[1;33m.\u001b[0m\u001b[0mparent_name\u001b[0m\u001b[1;33m,\u001b[0m\u001b[1;33m\u001b[0m\u001b[1;33m\u001b[0m\u001b[0m\n\u001b[0;32m    297\u001b[0m                     \u001b[0minvalid\u001b[0m\u001b[1;33m=\u001b[0m\u001b[0minvalid_els\u001b[0m\u001b[1;33m[\u001b[0m\u001b[1;33m:\u001b[0m\u001b[1;36m10\u001b[0m\u001b[1;33m]\u001b[0m\u001b[1;33m,\u001b[0m\u001b[1;33m\u001b[0m\u001b[1;33m\u001b[0m\u001b[0m\n\u001b[1;32m--> 298\u001b[1;33m                     \u001b[0mvalid_clr_desc\u001b[0m\u001b[1;33m=\u001b[0m\u001b[0mself\u001b[0m\u001b[1;33m.\u001b[0m\u001b[0mdescription\u001b[0m\u001b[1;33m(\u001b[0m\u001b[1;33m)\u001b[0m\u001b[1;33m,\u001b[0m\u001b[1;33m\u001b[0m\u001b[1;33m\u001b[0m\u001b[0m\n\u001b[0m\u001b[0;32m    299\u001b[0m                 )\n\u001b[0;32m    300\u001b[0m             )\n",
      "\u001b[1;31mValueError\u001b[0m: \n    Invalid element(s) received for the 'data' property of \n        Invalid elements include: [[{'type': 'choropleth', 'colorscale': [[0.0, '#ffffff'], [0.2, '#ff9999'], [0.4, '#ff4d4d'], [0.6, '#ff1a1a'], [0.8, '#cc0000'], [1.0, '#4d0000']], 'autocolorscale': False, 'locations': 0     AK\n1     AL\n2     AR\n3     AS\n4     AZ\n5     CA\n6     CO\n7     CT\n8     DC\n9     DE\n10    FL\n11    GA\n12    GU\n13    HI\n14    IA\n15    ID\n16    IL\n17    IN\n18    KS\n19    KY\n20    LA\n21    MA\n22    MD\n23    ME\n24    MI\n25    MN\n26    MO\n27    MP\n28    MS\n29    MT\n30    NC\n31    ND\n32    NE\n33    NH\n34    NJ\n35    NM\n36    NV\n37    NY\n38    OH\n39    OK\n40    OR\n41    PA\n42    PR\n43    RI\n44    SC\n45    SD\n46    TN\n47    TX\n48    UT\n49    VA\n50    VI\n51    VT\n52    WA\n53    WI\n54    WV\n55    WY\nName: state, dtype: object, 'z': 0        370.0\n1       8025.0\n2       3458.0\n3          0.0\n4       8919.0\n5      54937.0\n6      16635.0\n7      29287.0\n8       5170.0\n9       5288.0\n10     36897.0\n11     29368.0\n12       149.0\n13       620.0\n14      9703.0\n15      2061.0\n16     63840.0\n17     20507.0\n18      5245.0\n19      5130.0\n20     29673.0\n21     69087.0\n22     26408.0\n23      1205.0\n24     43754.0\n25      7234.0\n26      8754.0\n27        14.0\n28      7877.0\n29       457.0\n30     11848.0\n31      1225.0\n32      5910.0\n33      2588.0\n34    128269.0\n35      3850.0\n36      5491.0\n37    318953.0\n38     20474.0\n39      4044.0\n40      2759.0\n41     50092.0\n42      1843.0\n43      9652.0\n44      6626.0\n45      2668.0\n46     13571.0\n47     32332.0\n48      5317.0\n49     19492.0\n50        66.0\n51       902.0\n52     15185.0\n53      8236.0\n54      1206.0\n55       586.0\nName: positive, dtype: float64, 'locationmode': 'USA-states', 'text': 0           AlaskaCases: 370.0Deaths: 9.0Tests: 21723.0\n1      AlabamaCases: 8025.0Deaths: 296.0Tests: 103117.0\n2       ArkansasCases: 3458.0Deaths: 81.0Tests: 54442.0\n3        American SamoaCases: 0.0Deaths: 0.0Tests: 83.0\n4       ArizonaCases: 8919.0Deaths: 362.0Tests: 85253.0\n5     CaliforniaCases: 54937.0Deaths: 2254.0Tests: 7...\n6     ColoradoCases: 16635.0Deaths: 842.0Tests: 83090.0\n7     ConnecticutCases: 29287.0Deaths: 2495.0Tests: ...\n8     District of ColumbiaCases: 5170.0Deaths: 284.0...\n9      DelawareCases: 5288.0Deaths: 182.0Tests: 24110.0\n10    FloridaCases: 36897.0Deaths: 1423.0Tests: 4454...\n11    GeorgiaCases: 29368.0Deaths: 1222.0Tests: 1833...\n12             GuamCases: 149.0Deaths: 5.0Tests: 3391.0\n13         HawaiiCases: 620.0Deaths: 17.0Tests: 33866.0\n14         IowaCases: 9703.0Deaths: 188.0Tests: 57161.0\n15         IdahoCases: 2061.0Deaths: 64.0Tests: 29807.0\n16    IllinoisCases: 63840.0Deaths: 2662.0Tests: 333...\n17    IndianaCases: 20507.0Deaths: 1264.0Tests: 1132...\n18       KansasCases: 5245.0Deaths: 136.0Tests: 38603.0\n19     KentuckyCases: 5130.0Deaths: 253.0Tests: 58409.0\n20    LouisianaCases: 29673.0Deaths: 2064.0Tests: 18...\n21    MassachusettsCases: 69087.0Deaths: 4090.0Tests...\n22    MarylandCases: 26408.0Deaths: 1317.0Tests: 136...\n23         MaineCases: 1205.0Deaths: 57.0Tests: 20751.0\n24    MichiganCases: 43754.0Deaths: 4049.0Tests: 222...\n25    MinnesotaCases: 7234.0Deaths: 428.0Tests: 85941.0\n26     MissouriCases: 8754.0Deaths: 358.0Tests: 91451.0\n27    Commonwealth of the Northern Mariana IslandsCa...\n28    MississippiCases: 7877.0Deaths: 310.0Tests: 79...\n29        MontanaCases: 457.0Deaths: 16.0Tests: 15088.0\n30    North CarolinaCases: 11848.0Deaths: 430.0Tests...\n31    North DakotaCases: 1225.0Deaths: 25.0Tests: 34...\n32      NebraskaCases: 5910.0Deaths: 78.0Tests: 33754.0\n33    New HampshireCases: 2588.0Deaths: 86.0Tests: 2...\n34    New JerseyCases: 128269.0Deaths: 7910.0Tests: ...\n35    New MexicoCases: 3850.0Deaths: 151.0Tests: 779...\n36       NevadaCases: 5491.0Deaths: 262.0Tests: 46166.0\n37    New YorkCases: 318953.0Deaths: 19415.0Tests: 1...\n38      OhioCases: 20474.0Deaths: 1056.0Tests: 155155.0\n39     OklahomaCases: 4044.0Deaths: 238.0Tests: 63848.0\n40       OregonCases: 2759.0Deaths: 109.0Tests: 63457.0\n41    PennsylvaniaCases: 50092.0Deaths: 2458.0Tests:...\n42    Puerto RicoCases: 1843.0Deaths: 97.0Tests: 111...\n43    Rhode IslandCases: 9652.0Deaths: 341.0Tests: 7...\n44    South CarolinaCases: 6626.0Deaths: 275.0Tests:...\n45    South DakotaCases: 2668.0Deaths: 21.0Tests: 18...\n46    TennesseeCases: 13571.0Deaths: 219.0Tests: 211...\n47      TexasCases: 32332.0Deaths: 884.0Tests: 407398.0\n48         UtahCases: 5317.0Deaths: 50.0Tests: 124661.0\n49    VirginiaCases: 19492.0Deaths: 684.0Tests: 1127...\n50    United States Virgin IslandsCases: 66.0Deaths:...\n51        VermontCases: 902.0Deaths: 52.0Tests: 17332.0\n52    WashingtonCases: 15185.0Deaths: 834.0Tests: 21...\n53    WisconsinCases: 8236.0Deaths: 340.0Tests: 88929.0\n54    West VirginiaCases: 1206.0Deaths: 50.0Tests: 5...\n55         WyomingCases: 586.0Deaths: 7.0Tests: 10454.0\nName: text, dtype: object, 'marker': {'line': {'color': 'rgb(255,255,255)', 'width': 2}}, 'colorbar': {'title': 'Confirmed Cases'}}], [{'type': 'choropleth', 'colorscale': [[0.0, '#ffffff'], [0.2, '#ff9999'], [0.4, '#ff4d4d'], [0.6, '#ff1a1a'], [0.8, '#cc0000'], [1.0, '#4d0000']], 'autocolorscale': False, 'locations': 56     AK\n57     AL\n58     AR\n59     AS\n60     AZ\n61     CA\n62     CO\n63     CT\n64     DC\n65     DE\n66     FL\n67     GA\n68     GU\n69     HI\n70     IA\n71     ID\n72     IL\n73     IN\n74     KS\n75     KY\n76     LA\n77     MA\n78     MD\n79     ME\n80     MI\n81     MN\n82     MO\n83     MP\n84     MS\n85     MT\n86     NC\n87     ND\n88     NE\n89     NH\n90     NJ\n91     NM\n92     NV\n93     NY\n94     OH\n95     OK\n96     OR\n97     PA\n98     PR\n99     RI\n100    SC\n101    SD\n102    TN\n103    TX\n104    UT\n105    VA\n106    VI\n107    VT\n108    WA\n109    WI\n110    WV\n111    WY\nName: state, dtype: object, 'z': 56        368.0\n57       7725.0\n58       3431.0\n59          0.0\n60       8640.0\n61      53616.0\n62      16225.0\n63      29287.0\n64       5016.0\n65       5208.0\n66      36078.0\n67      28602.0\n68        150.0\n69        620.0\n70       9169.0\n71       2061.0\n72      61499.0\n73      19933.0\n74       5030.0\n75       4879.0\n76      29340.0\n77      68087.0\n78      25462.0\n79       1185.0\n80      43754.0\n81       6663.0\n82       8386.0\n83         14.0\n84       7550.0\n85        455.0\n86      11664.0\n87       1191.0\n88       5326.0\n89       2429.0\n90     126744.0\n91       3732.0\n92       5426.0\n93     316415.0\n94      19914.0\n95       3972.0\n96       2680.0\n97      49267.0\n98       1808.0\n99       9477.0\n100      6626.0\n101      2631.0\n102     13177.0\n103     31548.0\n104      5175.0\n105     18671.0\n106        66.0\n107       897.0\n108     15003.0\n109      7964.0\n110      1191.0\n111       579.0\nName: positive, dtype: float64, 'locationmode': 'USA-states', 'text': 56           AlaskaCases: 368.0Deaths: 9.0Tests: 21578.0\n57       AlabamaCases: 7725.0Deaths: 290.0Tests: 92500.0\n58       ArkansasCases: 3431.0Deaths: 76.0Tests: 52890.0\n59        American SamoaCases: 0.0Deaths: 0.0Tests: 57.0\n60       ArizonaCases: 8640.0Deaths: 362.0Tests: 81119.0\n61     CaliforniaCases: 53616.0Deaths: 2215.0Tests: 7...\n62     ColoradoCases: 16225.0Deaths: 832.0Tests: 79906.0\n63     ConnecticutCases: 29287.0Deaths: 2436.0Tests: ...\n64     District of ColumbiaCases: 5016.0Deaths: 251.0...\n65      DelawareCases: 5208.0Deaths: 177.0Tests: 23737.0\n66     FloridaCases: 36078.0Deaths: 1403.0Tests: 4294...\n67     GeorgiaCases: 28602.0Deaths: 1177.0Tests: 1750...\n68              GuamCases: 150.0Deaths: 5.0Tests: 3302.0\n69          HawaiiCases: 620.0Deaths: 16.0Tests: 32950.0\n70          IowaCases: 9169.0Deaths: 184.0Tests: 53186.0\n71          IdahoCases: 2061.0Deaths: 63.0Tests: 29807.0\n72     IllinoisCases: 61499.0Deaths: 2618.0Tests: 319...\n73     IndianaCases: 19933.0Deaths: 1246.0Tests: 1088...\n74        KansasCases: 5030.0Deaths: 134.0Tests: 36778.0\n75      KentuckyCases: 4879.0Deaths: 248.0Tests: 57649.0\n76     LouisianaCases: 29340.0Deaths: 1969.0Tests: 17...\n77     MassachusettsCases: 68087.0Deaths: 4004.0Tests...\n78     MarylandCases: 25462.0Deaths: 1281.0Tests: 132...\n79          MaineCases: 1185.0Deaths: 57.0Tests: 20731.0\n80     MichiganCases: 43754.0Deaths: 4049.0Tests: 212...\n81     MinnesotaCases: 6663.0Deaths: 419.0Tests: 82632.0\n82      MissouriCases: 8386.0Deaths: 352.0Tests: 82976.0\n83     Commonwealth of the Northern Mariana IslandsCa...\n84     MississippiCases: 7550.0Deaths: 303.0Tests: 77...\n85         MontanaCases: 455.0Deaths: 16.0Tests: 15007.0\n86     North CarolinaCases: 11664.0Deaths: 422.0Tests...\n87     North DakotaCases: 1191.0Deaths: 25.0Tests: 33...\n88       NebraskaCases: 5326.0Deaths: 76.0Tests: 31262.0\n89     New HampshireCases: 2429.0Deaths: 84.0Tests: 2...\n90     New JerseyCases: 126744.0Deaths: 7871.0Tests: ...\n91     New MexicoCases: 3732.0Deaths: 139.0Tests: 749...\n92        NevadaCases: 5426.0Deaths: 257.0Tests: 45269.0\n93     New YorkCases: 316415.0Deaths: 19189.0Tests: 9...\n94       OhioCases: 19914.0Deaths: 1038.0Tests: 150166.0\n95      OklahomaCases: 3972.0Deaths: 238.0Tests: 63776.0\n96        OregonCases: 2680.0Deaths: 109.0Tests: 62054.0\n97     PennsylvaniaCases: 49267.0Deaths: 2444.0Tests:...\n98     Puerto RicoCases: 1808.0Deaths: 97.0Tests: 111...\n99     Rhode IslandCases: 9477.0Deaths: 320.0Tests: 7...\n100    South CarolinaCases: 6626.0Deaths: 275.0Tests:...\n101    South DakotaCases: 2631.0Deaths: 21.0Tests: 18...\n102    TennesseeCases: 13177.0Deaths: 210.0Tests: 204...\n103      TexasCases: 31548.0Deaths: 867.0Tests: 390560.0\n104         UtahCases: 5175.0Deaths: 50.0Tests: 122102.0\n105    VirginiaCases: 18671.0Deaths: 660.0Tests: 1084...\n106    United States Virgin IslandsCases: 66.0Deaths:...\n107        VermontCases: 897.0Deaths: 52.0Tests: 16954.0\n108    WashingtonCases: 15003.0Deaths: 830.0Tests: 20...\n109    WisconsinCases: 7964.0Deaths: 339.0Tests: 86192.0\n110    West VirginiaCases: 1191.0Deaths: 50.0Tests: 5...\n111         WyomingCases: 579.0Deaths: 7.0Tests: 10219.0\nName: text, dtype: object, 'marker': {'line': {'color': 'rgb(255,255,255)', 'width': 2}}, 'colorbar': {'title': 'Confirmed Cases'}}], [{'type': 'choropleth', 'colorscale': [[0.0, '#ffffff'], [0.2, '#ff9999'], [0.4, '#ff4d4d'], [0.6, '#ff1a1a'], [0.8, '#cc0000'], [1.0, '#4d0000']], 'autocolorscale': False, 'locations': 112    AK\n113    AL\n114    AR\n115    AS\n116    AZ\n117    CA\n118    CO\n119    CT\n120    DC\n121    DE\n122    FL\n123    GA\n124    GU\n125    HI\n126    IA\n127    ID\n128    IL\n129    IN\n130    KS\n131    KY\n132    LA\n133    MA\n134    MD\n135    ME\n136    MI\n137    MN\n138    MO\n139    MP\n140    MS\n141    MT\n142    NC\n143    ND\n144    NE\n145    NH\n146    NJ\n147    NM\n148    NV\n149    NY\n150    OH\n151    OK\n152    OR\n153    PA\n154    PR\n155    RI\n156    SC\n157    SD\n158    TN\n159    TX\n160    UT\n161    VA\n162    VI\n163    VT\n164    WA\n165    WI\n166    WV\n167    WY\nName: state, dtype: object, 'z': 112       365.0\n113      7434.0\n114      3372.0\n115         0.0\n116      8364.0\n117     52197.0\n118     15768.0\n119     28764.0\n120      4797.0\n121      5038.0\n122     35463.0\n123     28306.0\n124       148.0\n125       619.0\n126      8641.0\n127      2035.0\n128     58505.0\n129     19295.0\n130      4746.0\n131      4879.0\n132     29140.0\n133     66263.0\n134     24473.0\n135      1152.0\n136     43207.0\n137      6228.0\n138      8154.0\n139        14.0\n140      7441.0\n141       455.0\n142     11509.0\n143      1153.0\n144      4838.0\n145      2310.0\n146    123717.0\n147      3513.0\n148      5311.0\n149    312977.0\n150     19335.0\n151      3851.0\n152      2635.0\n153     48305.0\n154      1757.0\n155      9289.0\n156      6489.0\n157      2588.0\n158     12661.0\n159     30522.0\n160      4981.0\n161     17731.0\n162        66.0\n163       886.0\n164     14637.0\n165      7660.0\n166      1169.0\n167       566.0\nName: positive, dtype: float64, 'locationmode': 'USA-states', 'text': 112          AlaskaCases: 365.0Deaths: 9.0Tests: 21399.0\n113      AlabamaCases: 7434.0Deaths: 288.0Tests: 92209.0\n114      ArkansasCases: 3372.0Deaths: 73.0Tests: 51582.0\n115       American SamoaCases: 0.0Deaths: 0.0Tests: 57.0\n116      ArizonaCases: 8364.0Deaths: 348.0Tests: 77997.0\n117    CaliforniaCases: 52197.0Deaths: 2171.0Tests: 6...\n118    ColoradoCases: 15768.0Deaths: 820.0Tests: 76949.0\n119    ConnecticutCases: 28764.0Deaths: 2339.0Tests: ...\n120    District of ColumbiaCases: 4797.0Deaths: 240.0...\n121     DelawareCases: 5038.0Deaths: 168.0Tests: 23112.0\n122    FloridaCases: 35463.0Deaths: 1388.0Tests: 4160...\n123    GeorgiaCases: 28306.0Deaths: 1174.0Tests: 1748...\n124             GuamCases: 148.0Deaths: 5.0Tests: 3188.0\n125         HawaiiCases: 619.0Deaths: 16.0Tests: 31985.0\n126         IowaCases: 8641.0Deaths: 175.0Tests: 46349.0\n127         IdahoCases: 2035.0Deaths: 63.0Tests: 29490.0\n128    IllinoisCases: 58505.0Deaths: 2559.0Tests: 299...\n129    IndianaCases: 19295.0Deaths: 1229.0Tests: 1041...\n130       KansasCases: 4746.0Deaths: 131.0Tests: 34942.0\n131     KentuckyCases: 4879.0Deaths: 248.0Tests: 57649.0\n132    LouisianaCases: 29140.0Deaths: 1950.0Tests: 17...\n133    MassachusettsCases: 66263.0Deaths: 3846.0Tests...\n134    MarylandCases: 24473.0Deaths: 1251.0Tests: 125...\n135         MaineCases: 1152.0Deaths: 56.0Tests: 20698.0\n136    MichiganCases: 43207.0Deaths: 4020.0Tests: 201...\n137    MinnesotaCases: 6228.0Deaths: 395.0Tests: 79007.0\n138     MissouriCases: 8154.0Deaths: 351.0Tests: 82744.0\n139    Commonwealth of the Northern Mariana IslandsCa...\n140    MississippiCases: 7441.0Deaths: 291.0Tests: 74...\n141        MontanaCases: 455.0Deaths: 16.0Tests: 14635.0\n142    North CarolinaCases: 11509.0Deaths: 420.0Tests...\n143    North DakotaCases: 1153.0Deaths: 24.0Tests: 31...\n144      NebraskaCases: 4838.0Deaths: 73.0Tests: 29348.0\n145    New HampshireCases: 2310.0Deaths: 81.0Tests: 2...\n146    New JerseyCases: 123717.0Deaths: 7742.0Tests: ...\n147    New MexicoCases: 3513.0Deaths: 131.0Tests: 711...\n148       NevadaCases: 5311.0Deaths: 254.0Tests: 44387.0\n149    New YorkCases: 312977.0Deaths: 18909.0Tests: 9...\n150      OhioCases: 19335.0Deaths: 1021.0Tests: 145819.0\n151     OklahomaCases: 3851.0Deaths: 238.0Tests: 63655.0\n152       OregonCases: 2635.0Deaths: 109.0Tests: 60136.0\n153    PennsylvaniaCases: 48305.0Deaths: 2418.0Tests:...\n154    Puerto RicoCases: 1757.0Deaths: 95.0Tests: 110...\n155    Rhode IslandCases: 9289.0Deaths: 296.0Tests: 6...\n156    South CarolinaCases: 6489.0Deaths: 267.0Tests:...\n157    South DakotaCases: 2588.0Deaths: 21.0Tests: 18...\n158    TennesseeCases: 12661.0Deaths: 209.0Tests: 196...\n159      TexasCases: 30522.0Deaths: 847.0Tests: 380648.0\n160         UtahCases: 4981.0Deaths: 49.0Tests: 117804.0\n161    VirginiaCases: 17731.0Deaths: 616.0Tests: 1025...\n162    United States Virgin IslandsCases: 66.0Deaths:...\n163        VermontCases: 886.0Deaths: 51.0Tests: 16591.0\n164    WashingtonCases: 14637.0Deaths: 824.0Tests: 19...\n165    WisconsinCases: 7660.0Deaths: 334.0Tests: 83461.0\n166    West VirginiaCases: 1169.0Deaths: 48.0Tests: 4...\n167         WyomingCases: 566.0Deaths: 7.0Tests: 10029.0\nName: text, dtype: object, 'marker': {'line': {'color': 'rgb(255,255,255)', 'width': 2}}, 'colorbar': {'title': 'Confirmed Cases'}}], [{'type': 'choropleth', 'colorscale': [[0.0, '#ffffff'], [0.2, '#ff9999'], [0.4, '#ff4d4d'], [0.6, '#ff1a1a'], [0.8, '#cc0000'], [1.0, '#4d0000']], 'autocolorscale': False, 'locations': 168    AK\n169    AL\n170    AR\n171    AS\n172    AZ\n173    CA\n174    CO\n175    CT\n176    DC\n177    DE\n178    FL\n179    GA\n180    GU\n181    HI\n182    IA\n183    ID\n184    IL\n185    IN\n186    KS\n187    KY\n188    LA\n189    MA\n190    MD\n191    ME\n192    MI\n193    MN\n194    MO\n195    MP\n196    MS\n197    MT\n198    NC\n199    ND\n200    NE\n201    NH\n202    NJ\n203    NM\n204    NV\n205    NY\n206    OH\n207    OK\n208    OR\n209    PA\n210    PR\n211    RI\n212    SC\n213    SD\n214    TN\n215    TX\n216    UT\n217    VA\n218    VI\n219    VT\n220    WA\n221    WI\n222    WV\n223    WY\nName: state, dtype: object, 'z': 168       364.0\n169      7158.0\n170      3321.0\n171         0.0\n172      7962.0\n173     50442.0\n174     15284.0\n175     28764.0\n176      4658.0\n177      4918.0\n178     34728.0\n179     27270.0\n180       146.0\n181       618.0\n182      7884.0\n183      2015.0\n184     56055.0\n185     18630.0\n186      4449.0\n187      4708.0\n188     28711.0\n189     64311.0\n190     23472.0\n191      1123.0\n192     42356.0\n193      5730.0\n194      7835.0\n195        14.0\n196      7212.0\n197       453.0\n198     10923.0\n199      1107.0\n200      4281.0\n201      2146.0\n202    121190.0\n203      3411.0\n204      5227.0\n205    308314.0\n206     18743.0\n207      3748.0\n208      2579.0\n209     46971.0\n210      1575.0\n211      8962.0\n212      6258.0\n213      2525.0\n214     11891.0\n215     29229.0\n216      4828.0\n217     16901.0\n218        66.0\n219       879.0\n220     14327.0\n221      7314.0\n222      1136.0\n223       559.0\nName: positive, dtype: float64, 'locationmode': 'USA-states', 'text': 168          AlaskaCases: 364.0Deaths: 9.0Tests: 20325.0\n169      AlabamaCases: 7158.0Deaths: 279.0Tests: 91933.0\n170      ArkansasCases: 3321.0Deaths: 64.0Tests: 49676.0\n171       American SamoaCases: 0.0Deaths: 0.0Tests: 57.0\n172      ArizonaCases: 7962.0Deaths: 330.0Tests: 74879.0\n173    CaliforniaCases: 50442.0Deaths: 2073.0Tests: 6...\n174    ColoradoCases: 15284.0Deaths: 777.0Tests: 72390.0\n175    ConnecticutCases: 28764.0Deaths: 2339.0Tests: ...\n176    District of ColumbiaCases: 4658.0Deaths: 231.0...\n177     DelawareCases: 4918.0Deaths: 159.0Tests: 22585.0\n178    FloridaCases: 34728.0Deaths: 1314.0Tests: 4026...\n179    GeorgiaCases: 27270.0Deaths: 1154.0Tests: 1683...\n180             GuamCases: 146.0Deaths: 5.0Tests: 3005.0\n181         HawaiiCases: 618.0Deaths: 16.0Tests: 31094.0\n182         IowaCases: 7884.0Deaths: 170.0Tests: 45592.0\n183         IdahoCases: 2015.0Deaths: 63.0Tests: 29225.0\n184    IllinoisCases: 56055.0Deaths: 2457.0Tests: 284...\n185    IndianaCases: 18630.0Deaths: 1175.0Tests: 99639.0\n186       KansasCases: 4449.0Deaths: 130.0Tests: 33034.0\n187     KentuckyCases: 4708.0Deaths: 240.0Tests: 56612.0\n188    LouisianaCases: 28711.0Deaths: 1927.0Tests: 16...\n189    MassachusettsCases: 64311.0Deaths: 3716.0Tests...\n190    MarylandCases: 23472.0Deaths: 1192.0Tests: 120...\n191         MaineCases: 1123.0Deaths: 55.0Tests: 20669.0\n192    MichiganCases: 42356.0Deaths: 3866.0Tests: 190...\n193    MinnesotaCases: 5730.0Deaths: 371.0Tests: 74829.0\n194     MissouriCases: 7835.0Deaths: 337.0Tests: 82425.0\n195    Commonwealth of the Northern Mariana IslandsCa...\n196    MississippiCases: 7212.0Deaths: 281.0Tests: 71...\n197        MontanaCases: 453.0Deaths: 16.0Tests: 14203.0\n198    North CarolinaCases: 10923.0Deaths: 399.0Tests...\n199    North DakotaCases: 1107.0Deaths: 23.0Tests: 29...\n200      NebraskaCases: 4281.0Deaths: 70.0Tests: 27385.0\n201    New HampshireCases: 2146.0Deaths: 72.0Tests: 2...\n202    New JerseyCases: 121190.0Deaths: 7538.0Tests: ...\n203    New MexicoCases: 3411.0Deaths: 123.0Tests: 678...\n204       NevadaCases: 5227.0Deaths: 243.0Tests: 43595.0\n205    New YorkCases: 308314.0Deaths: 18610.0Tests: 9...\n206      OhioCases: 18743.0Deaths: 1002.0Tests: 140506.0\n207     OklahomaCases: 3748.0Deaths: 230.0Tests: 63552.0\n208       OregonCases: 2579.0Deaths: 104.0Tests: 58176.0\n209    PennsylvaniaCases: 46971.0Deaths: 2354.0Tests:...\n210    Puerto RicoCases: 1575.0Deaths: 92.0Tests: 108...\n211    Rhode IslandCases: 8962.0Deaths: 279.0Tests: 6...\n212    South CarolinaCases: 6258.0Deaths: 256.0Tests:...\n213    South DakotaCases: 2525.0Deaths: 21.0Tests: 17...\n214    TennesseeCases: 11891.0Deaths: 204.0Tests: 186...\n215      TexasCases: 29229.0Deaths: 816.0Tests: 351775.0\n216         UtahCases: 4828.0Deaths: 46.0Tests: 112558.0\n217    VirginiaCases: 16901.0Deaths: 581.0Tests: 1061...\n218    United States Virgin IslandsCases: 66.0Deaths:...\n219        VermontCases: 879.0Deaths: 50.0Tests: 16233.0\n220    WashingtonCases: 14327.0Deaths: 814.0Tests: 19...\n221    WisconsinCases: 7314.0Deaths: 327.0Tests: 80098.0\n222    West VirginiaCases: 1136.0Deaths: 46.0Tests: 4...\n223          WyomingCases: 559.0Deaths: 7.0Tests: 9695.0\nName: text, dtype: object, 'marker': {'line': {'color': 'rgb(255,255,255)', 'width': 2}}, 'colorbar': {'title': 'Confirmed Cases'}}], [{'type': 'choropleth', 'colorscale': [[0.0, '#ffffff'], [0.2, '#ff9999'], [0.4, '#ff4d4d'], [0.6, '#ff1a1a'], [0.8, '#cc0000'], [1.0, '#4d0000']], 'autocolorscale': False, 'locations': 224    AK\n225    AL\n226    AR\n227    AS\n228    AZ\n229    CA\n230    CO\n231    CT\n232    DC\n233    DE\n234    FL\n235    GA\n236    GU\n237    HI\n238    IA\n239    ID\n240    IL\n241    IN\n242    KS\n243    KY\n244    LA\n245    MA\n246    MD\n247    ME\n248    MI\n249    MN\n250    MO\n251    MP\n252    MS\n253    MT\n254    NC\n255    ND\n256    NE\n257    NH\n258    NJ\n259    NM\n260    NV\n261    NY\n262    OH\n263    OK\n264    OR\n265    PA\n266    PR\n267    RI\n268    SC\n269    SD\n270    TN\n271    TX\n272    UT\n273    VA\n274    VI\n275    VT\n276    WA\n277    WI\n278    WV\n279    WY\nName: state, dtype: object, 'z': 224       355.0\n225      7019.0\n226      3255.0\n227         0.0\n228      7648.0\n229     48917.0\n230     14758.0\n231     27700.0\n232      4323.0\n233      4734.0\n234     33690.0\n235     26155.0\n236       146.0\n237       613.0\n238      7145.0\n239      1984.0\n240     52918.0\n241     17835.0\n242      4238.0\n243      4539.0\n244     28001.0\n245     62205.0\n246     21742.0\n247      1095.0\n248     41379.0\n249      5136.0\n250      7562.0\n251        14.0\n252      6815.0\n253       453.0\n254     10509.0\n255      1067.0\n256      3784.0\n257      2054.0\n258    118652.0\n259      3213.0\n260      4998.0\n261    304372.0\n262     18027.0\n263      3618.0\n264      2510.0\n265     45763.0\n266      1539.0\n267      8621.0\n268      6095.0\n269      2449.0\n270     10735.0\n271     28087.0\n272      4672.0\n273     15846.0\n274        66.0\n275       866.0\n276     14070.0\n277      6854.0\n278      1118.0\n279       544.0\nName: positive, dtype: float64, 'locationmode': 'USA-states', 'text': 224          AlaskaCases: 355.0Deaths: 9.0Tests: 19119.0\n225      AlabamaCases: 7019.0Deaths: 269.0Tests: 87196.0\n226      ArkansasCases: 3255.0Deaths: 61.0Tests: 48379.0\n227       American SamoaCases: 0.0Deaths: 0.0Tests: 20.0\n228      ArizonaCases: 7648.0Deaths: 320.0Tests: 71786.0\n229    CaliforniaCases: 48917.0Deaths: 1982.0Tests: 6...\n230    ColoradoCases: 14758.0Deaths: 766.0Tests: 71059.0\n231    ConnecticutCases: 27700.0Deaths: 2257.0Tests: ...\n232    District of ColumbiaCases: 4323.0Deaths: 224.0...\n233     DelawareCases: 4734.0Deaths: 152.0Tests: 21820.0\n234    FloridaCases: 33690.0Deaths: 1290.0Tests: 3835...\n235    GeorgiaCases: 26155.0Deaths: 1120.0Tests: 1490...\n236             GuamCases: 146.0Deaths: 5.0Tests: 2108.0\n237         HawaiiCases: 613.0Deaths: 16.0Tests: 30640.0\n238         IowaCases: 7145.0Deaths: 162.0Tests: 42667.0\n239         IdahoCases: 1984.0Deaths: 60.0Tests: 28693.0\n240    IllinoisCases: 52918.0Deaths: 2355.0Tests: 269...\n241    IndianaCases: 17835.0Deaths: 1114.0Tests: 94998.0\n242       KansasCases: 4238.0Deaths: 129.0Tests: 31626.0\n243     KentuckyCases: 4539.0Deaths: 235.0Tests: 54101.0\n244    LouisianaCases: 28001.0Deaths: 1862.0Tests: 16...\n245    MassachusettsCases: 62205.0Deaths: 3562.0Tests...\n246    MarylandCases: 21742.0Deaths: 1140.0Tests: 114...\n247         MaineCases: 1095.0Deaths: 53.0Tests: 20641.0\n248    MichiganCases: 41379.0Deaths: 3789.0Tests: 180...\n249    MinnesotaCases: 5136.0Deaths: 343.0Tests: 70276.0\n250     MissouriCases: 7562.0Deaths: 329.0Tests: 80687.0\n251    Commonwealth of the Northern Mariana IslandsCa...\n252    MississippiCases: 6815.0Deaths: 261.0Tests: 66...\n253        MontanaCases: 453.0Deaths: 16.0Tests: 13914.0\n254    North CarolinaCases: 10509.0Deaths: 378.0Tests...\n255    North DakotaCases: 1067.0Deaths: 19.0Tests: 27...\n256      NebraskaCases: 3784.0Deaths: 68.0Tests: 25321.0\n257    New HampshireCases: 2054.0Deaths: 66.0Tests: 2...\n258    New JerseyCases: 118652.0Deaths: 7228.0Tests: ...\n259    New MexicoCases: 3213.0Deaths: 112.0Tests: 650...\n260       NevadaCases: 4998.0Deaths: 237.0Tests: 41986.0\n261    New YorkCases: 304372.0Deaths: 18321.0Tests: 9...\n262       OhioCases: 18027.0Deaths: 975.0Tests: 133890.0\n263     OklahomaCases: 3618.0Deaths: 222.0Tests: 63422.0\n264       OregonCases: 2510.0Deaths: 103.0Tests: 56032.0\n265    PennsylvaniaCases: 45763.0Deaths: 2292.0Tests:...\n266    Puerto RicoCases: 1539.0Deaths: 92.0Tests: 108...\n267    Rhode IslandCases: 8621.0Deaths: 266.0Tests: 6...\n268    South CarolinaCases: 6095.0Deaths: 244.0Tests:...\n269    South DakotaCases: 2449.0Deaths: 17.0Tests: 17...\n270    TennesseeCases: 10735.0Deaths: 199.0Tests: 177...\n271      TexasCases: 28087.0Deaths: 782.0Tests: 330300.0\n272         UtahCases: 4672.0Deaths: 46.0Tests: 108501.0\n273    VirginiaCases: 15846.0Deaths: 552.0Tests: 92092.0\n274    United States Virgin IslandsCases: 66.0Deaths:...\n275        VermontCases: 866.0Deaths: 49.0Tests: 15652.0\n276    WashingtonCases: 14070.0Deaths: 801.0Tests: 18...\n277    WisconsinCases: 6854.0Deaths: 316.0Tests: 76443.0\n278    West VirginiaCases: 1118.0Deaths: 41.0Tests: 4...\n279          WyomingCases: 544.0Deaths: 7.0Tests: 9446.0\nName: text, dtype: object, 'marker': {'line': {'color': 'rgb(255,255,255)', 'width': 2}}, 'colorbar': {'title': 'Confirmed Cases'}}], [{'type': 'choropleth', 'colorscale': [[0.0, '#ffffff'], [0.2, '#ff9999'], [0.4, '#ff4d4d'], [0.6, '#ff1a1a'], [0.8, '#cc0000'], [1.0, '#4d0000']], 'autocolorscale': False, 'locations': 280    AK\n281    AL\n282    AR\n283    AS\n284    AZ\n285    CA\n286    CO\n287    CT\n288    DC\n289    DE\n290    FL\n291    GA\n292    GU\n293    HI\n294    IA\n295    ID\n296    IL\n297    IN\n298    KS\n299    KY\n300    LA\n301    MA\n302    MD\n303    ME\n304    MI\n305    MN\n306    MO\n307    MP\n308    MS\n309    MT\n310    NC\n311    ND\n312    NE\n313    NH\n314    NJ\n315    NM\n316    NV\n317    NY\n318    OH\n319    OK\n320    OR\n321    PA\n322    PR\n323    RI\n324    SC\n325    SD\n326    TN\n327    TX\n328    UT\n329    VA\n330    VI\n331    VT\n332    WA\n333    WI\n334    WV\n335    WY\nName: state, dtype: object, 'z': 280       355.0\n281      6842.0\n282      3192.0\n283         0.0\n284      7202.0\n285     46500.0\n286     14735.0\n287     26767.0\n288      4106.0\n289      4655.0\n290     33193.0\n291     25572.0\n292       145.0\n293       609.0\n294      6843.0\n295      1952.0\n296     50355.0\n297     17182.0\n298      3738.0\n299      4375.0\n300     27660.0\n301     60265.0\n302     20849.0\n303      1056.0\n304     40399.0\n305      4644.0\n306      7425.0\n307        14.0\n308      6569.0\n309       451.0\n310      9948.0\n311      1033.0\n312      3374.0\n313      2010.0\n314    116264.0\n315      2974.0\n316      4898.0\n317    299691.0\n318     17303.0\n319      3473.0\n320      2446.0\n321     44366.0\n322      1433.0\n323      8247.0\n324      5881.0\n325      2373.0\n326     10366.0\n327     27054.0\n328      4495.0\n329     14961.0\n330        62.0\n331       862.0\n332     13842.0\n333      6520.0\n334      1095.0\n335       536.0\nName: positive, dtype: float64, 'locationmode': 'USA-states', 'text': 280          AlaskaCases: 355.0Deaths: 9.0Tests: 19119.0\n281      AlabamaCases: 6842.0Deaths: 245.0Tests: 80449.0\n282      ArkansasCases: 3192.0Deaths: 59.0Tests: 45449.0\n283       American SamoaCases: 0.0Deaths: 0.0Tests: 20.0\n284      ArizonaCases: 7202.0Deaths: 304.0Tests: 68813.0\n285    CaliforniaCases: 46500.0Deaths: 1887.0Tests: 6...\n286    ColoradoCases: 14735.0Deaths: 760.0Tests: 69449.0\n287    ConnecticutCases: 26767.0Deaths: 2168.0Tests: ...\n288    District of ColumbiaCases: 4106.0Deaths: 205.0...\n289     DelawareCases: 4655.0Deaths: 144.0Tests: 21538.0\n290    FloridaCases: 33193.0Deaths: 1240.0Tests: 3747...\n291    GeorgiaCases: 25572.0Deaths: 1093.0Tests: 1439...\n292             GuamCases: 145.0Deaths: 5.0Tests: 1847.0\n293         HawaiiCases: 609.0Deaths: 16.0Tests: 29618.0\n294         IowaCases: 6843.0Deaths: 148.0Tests: 41337.0\n295         IdahoCases: 1952.0Deaths: 60.0Tests: 28382.0\n296    IllinoisCases: 50355.0Deaths: 2215.0Tests: 256...\n297    IndianaCases: 17182.0Deaths: 1065.0Tests: 91550.0\n298       KansasCases: 3738.0Deaths: 125.0Tests: 29458.0\n299     KentuckyCases: 4375.0Deaths: 225.0Tests: 52411.0\n300    LouisianaCases: 27660.0Deaths: 1845.0Tests: 15...\n301    MassachusettsCases: 60265.0Deaths: 3405.0Tests...\n302    MarylandCases: 20849.0Deaths: 1078.0Tests: 110...\n303         MaineCases: 1056.0Deaths: 52.0Tests: 20602.0\n304    MichiganCases: 40399.0Deaths: 3670.0Tests: 172...\n305    MinnesotaCases: 4644.0Deaths: 319.0Tests: 66744.0\n306     MissouriCases: 7425.0Deaths: 318.0Tests: 77159.0\n307    Commonwealth of the Northern Mariana IslandsCa...\n308    MississippiCases: 6569.0Deaths: 250.0Tests: 66...\n309        MontanaCases: 451.0Deaths: 16.0Tests: 13528.0\n310    North CarolinaCases: 9948.0Deaths: 354.0Tests:...\n311    North DakotaCases: 1033.0Deaths: 19.0Tests: 25...\n312      NebraskaCases: 3374.0Deaths: 55.0Tests: 23631.0\n313    New HampshireCases: 2010.0Deaths: 60.0Tests: 2...\n314    New JerseyCases: 116264.0Deaths: 6770.0Tests: ...\n315    New MexicoCases: 2974.0Deaths: 110.0Tests: 617...\n316       NevadaCases: 4898.0Deaths: 230.0Tests: 41028.0\n317    New YorkCases: 299691.0Deaths: 18015.0Tests: 8...\n318       OhioCases: 17303.0Deaths: 937.0Tests: 128908.0\n319     OklahomaCases: 3473.0Deaths: 214.0Tests: 61267.0\n320       OregonCases: 2446.0Deaths: 101.0Tests: 54472.0\n321    PennsylvaniaCases: 44366.0Deaths: 2195.0Tests:...\n322    Puerto RicoCases: 1433.0Deaths: 86.0Tests: 126...\n323    Rhode IslandCases: 8247.0Deaths: 251.0Tests: 6...\n324    South CarolinaCases: 5881.0Deaths: 203.0Tests:...\n325    South DakotaCases: 2373.0Deaths: 13.0Tests: 16...\n326    TennesseeCases: 10366.0Deaths: 195.0Tests: 168...\n327      TexasCases: 27054.0Deaths: 732.0Tests: 314790.0\n328         UtahCases: 4495.0Deaths: 45.0Tests: 105778.0\n329    VirginiaCases: 14961.0Deaths: 522.0Tests: 86560.0\n330    United States Virgin IslandsCases: 62.0Deaths:...\n331        VermontCases: 862.0Deaths: 47.0Tests: 15429.0\n332    WashingtonCases: 13842.0Deaths: 786.0Tests: 18...\n333    WisconsinCases: 6520.0Deaths: 308.0Tests: 73377.0\n334    West VirginiaCases: 1095.0Deaths: 38.0Tests: 4...\n335          WyomingCases: 536.0Deaths: 7.0Tests: 9217.0\nName: text, dtype: object, 'marker': {'line': {'color': 'rgb(255,255,255)', 'width': 2}}, 'colorbar': {'title': 'Confirmed Cases'}}], [{'type': 'choropleth', 'colorscale': [[0.0, '#ffffff'], [0.2, '#ff9999'], [0.4, '#ff4d4d'], [0.6, '#ff1a1a'], [0.8, '#cc0000'], [1.0, '#4d0000']], 'autocolorscale': False, 'locations': 336    AK\n337    AL\n338    AR\n339    AS\n340    AZ\n341    CA\n342    CO\n343    CT\n344    DC\n345    DE\n346    FL\n347    GA\n348    GU\n349    HI\n350    IA\n351    ID\n352    IL\n353    IN\n354    KS\n355    KY\n356    LA\n357    MA\n358    MD\n359    ME\n360    MI\n361    MN\n362    MO\n363    MP\n364    MS\n365    MT\n366    NC\n367    ND\n368    NE\n369    NH\n370    NJ\n371    NM\n372    NV\n373    NY\n374    OH\n375    OK\n376    OR\n377    PA\n378    PR\n379    RI\n380    SC\n381    SD\n382    TN\n383    TX\n384    UT\n385    VA\n386    VI\n387    VT\n388    WA\n389    WI\n390    WV\n391    WY\nName: state, dtype: object, 'z': 336       351.0\n337      6687.0\n338      3111.0\n339         0.0\n340      6948.0\n341     45031.0\n342     13879.0\n343     26312.0\n344      3994.0\n345      4575.0\n346     32846.0\n347     24615.0\n348       145.0\n349       607.0\n350      6376.0\n351      1917.0\n352     48102.0\n353     16588.0\n354      3491.0\n355      4146.0\n356     27286.0\n357     58302.0\n358     20113.0\n359      1040.0\n360     39262.0\n361      4181.0\n362      7303.0\n363        14.0\n364      6342.0\n365       451.0\n366      9568.0\n367       991.0\n368      3358.0\n369      1938.0\n370    113856.0\n371      2823.0\n372      4805.0\n373    295106.0\n374     16325.0\n375      3410.0\n376      2354.0\n377     43264.0\n378      1400.0\n379      7926.0\n380      5613.0\n381      2313.0\n382     10052.0\n383     26171.0\n384      4343.0\n385     13794.0\n386        59.0\n387       862.0\n388     13686.0\n389      6289.0\n390      1079.0\n391       389.0\nName: positive, dtype: float64, 'locationmode': 'USA-states', 'text': 336          AlaskaCases: 351.0Deaths: 9.0Tests: 17089.0\n337      AlabamaCases: 6687.0Deaths: 242.0Tests: 75827.0\n338      ArkansasCases: 3111.0Deaths: 52.0Tests: 40671.0\n339       American SamoaCases: 0.0Deaths: 0.0Tests: 20.0\n340      ArizonaCases: 6948.0Deaths: 293.0Tests: 67438.0\n341    CaliforniaCases: 45031.0Deaths: 1809.0Tests: 5...\n342    ColoradoCases: 13879.0Deaths: 706.0Tests: 66341.0\n343    ConnecticutCases: 26312.0Deaths: 2089.0Tests: ...\n344    District of ColumbiaCases: 3994.0Deaths: 190.0...\n345     DelawareCases: 4575.0Deaths: 137.0Tests: 21180.0\n346    FloridaCases: 32846.0Deaths: 1154.0Tests: 3680...\n347    GeorgiaCases: 24615.0Deaths: 1026.0Tests: 1400...\n348             GuamCases: 145.0Deaths: 5.0Tests: 1683.0\n349         HawaiiCases: 607.0Deaths: 16.0Tests: 29183.0\n350         IowaCases: 6376.0Deaths: 136.0Tests: 39823.0\n351         IdahoCases: 1917.0Deaths: 58.0Tests: 20052.0\n352    IllinoisCases: 48102.0Deaths: 2125.0Tests: 242...\n353     IndianaCases: 16588.0Deaths: 901.0Tests: 87181.0\n354       KansasCases: 3491.0Deaths: 124.0Tests: 28090.0\n355     KentuckyCases: 4146.0Deaths: 213.0Tests: 48799.0\n356    LouisianaCases: 27286.0Deaths: 1801.0Tests: 15...\n357    MassachusettsCases: 58302.0Deaths: 3153.0Tests...\n358    MarylandCases: 20113.0Deaths: 1016.0Tests: 107...\n359         MaineCases: 1040.0Deaths: 51.0Tests: 17824.0\n360    MichiganCases: 39262.0Deaths: 3567.0Tests: 164...\n361    MinnesotaCases: 4181.0Deaths: 301.0Tests: 63829.0\n362     MissouriCases: 7303.0Deaths: 314.0Tests: 73503.0\n363    Commonwealth of the Northern Mariana IslandsCa...\n364    MississippiCases: 6342.0Deaths: 239.0Tests: 64...\n365        MontanaCases: 451.0Deaths: 15.0Tests: 13191.0\n366    North CarolinaCases: 9568.0Deaths: 342.0Tests:...\n367    North DakotaCases: 991.0Deaths: 19.0Tests: 237...\n368      NebraskaCases: 3358.0Deaths: 55.0Tests: 23605.0\n369    New HampshireCases: 1938.0Deaths: 60.0Tests: 2...\n370    New JerseyCases: 113856.0Deaths: 6442.0Tests: ...\n371    New MexicoCases: 2823.0Deaths: 104.0Tests: 588...\n372       NevadaCases: 4805.0Deaths: 219.0Tests: 40119.0\n373    New YorkCases: 295106.0Deaths: 17638.0Tests: 8...\n374       OhioCases: 16325.0Deaths: 799.0Tests: 122903.0\n375     OklahomaCases: 3410.0Deaths: 207.0Tests: 59699.0\n376        OregonCases: 2354.0Deaths: 92.0Tests: 51198.0\n377    PennsylvaniaCases: 43264.0Deaths: 1716.0Tests:...\n378    Puerto RicoCases: 1400.0Deaths: 86.0Tests: 126...\n379    Rhode IslandCases: 7926.0Deaths: 239.0Tests: 5...\n380    South CarolinaCases: 5613.0Deaths: 177.0Tests:...\n381    South DakotaCases: 2313.0Deaths: 11.0Tests: 16...\n382    TennesseeCases: 10052.0Deaths: 188.0Tests: 161...\n383      TexasCases: 26171.0Deaths: 690.0Tests: 300384.0\n384         UtahCases: 4343.0Deaths: 45.0Tests: 102439.0\n385    VirginiaCases: 13794.0Deaths: 492.0Tests: 83313.0\n386    United States Virgin IslandsCases: 59.0Deaths:...\n387        VermontCases: 862.0Deaths: 47.0Tests: 15215.0\n388    WashingtonCases: 13686.0Deaths: 765.0Tests: 17...\n389    WisconsinCases: 6289.0Deaths: 300.0Tests: 70017.0\n390    West VirginiaCases: 1079.0Deaths: 37.0Tests: 4...\n391          WyomingCases: 389.0Deaths: 7.0Tests: 8615.0\nName: text, dtype: object, 'marker': {'line': {'color': 'rgb(255,255,255)', 'width': 2}}, 'colorbar': {'title': 'Confirmed Cases'}}], [{'type': 'choropleth', 'colorscale': [[0.0, '#ffffff'], [0.2, '#ff9999'], [0.4, '#ff4d4d'], [0.6, '#ff1a1a'], [0.8, '#cc0000'], [1.0, '#4d0000']], 'autocolorscale': False, 'locations': 392    AK\n393    AL\n394    AR\n395    AS\n396    AZ\n397    CA\n398    CO\n399    CT\n400    DC\n401    DE\n402    FL\n403    GA\n404    GU\n405    HI\n406    IA\n407    ID\n408    IL\n409    IN\n410    KS\n411    KY\n412    LA\n413    MA\n414    MD\n415    ME\n416    MI\n417    MN\n418    MO\n419    MP\n420    MS\n421    MT\n422    NC\n423    ND\n424    NE\n425    NH\n426    NJ\n427    NM\n428    NV\n429    NY\n430    OH\n431    OK\n432    OR\n433    PA\n434    PR\n435    RI\n436    SC\n437    SD\n438    TN\n439    TX\n440    UT\n441    VA\n442    VI\n443    VT\n444    WA\n445    WI\n446    WV\n447    WY\nName: state, dtype: object, 'z': 392       345.0\n393      6499.0\n394      3017.0\n395         0.0\n396      6716.0\n397     43464.0\n398     13441.0\n399     25269.0\n400      3892.0\n401      4162.0\n402     32138.0\n403     23913.0\n404       144.0\n405       606.0\n406      5868.0\n407      1897.0\n408     45883.0\n409     15961.0\n410      3328.0\n411      4074.0\n412     27068.0\n413     56462.0\n414     19487.0\n415      1023.0\n416     38210.0\n417      3816.0\n418      7171.0\n419        14.0\n420      6094.0\n421       449.0\n422      9142.0\n423       942.0\n424      3028.0\n425      1864.0\n426    111188.0\n427      2726.0\n428      4690.0\n429    291996.0\n430     16325.0\n431      3280.0\n432      2354.0\n433     42050.0\n434      1389.0\n435      7708.0\n436      5490.0\n437      2245.0\n438      9918.0\n439     25297.0\n440      4233.0\n441     13535.0\n442        59.0\n443       855.0\n444     13521.0\n445      6081.0\n446      1063.0\n447       370.0\nName: positive, dtype: float64, 'locationmode': 'USA-states', 'text': 392          AlaskaCases: 345.0Deaths: 9.0Tests: 16256.0\n393      AlabamaCases: 6499.0Deaths: 222.0Tests: 73997.0\n394      ArkansasCases: 3017.0Deaths: 50.0Tests: 40457.0\n395       American SamoaCases: 0.0Deaths: 0.0Tests: 20.0\n396      ArizonaCases: 6716.0Deaths: 275.0Tests: 66543.0\n397    CaliforniaCases: 43464.0Deaths: 1755.0Tests: 5...\n398    ColoradoCases: 13441.0Deaths: 680.0Tests: 63274.0\n399    ConnecticutCases: 25269.0Deaths: 1998.0Tests: ...\n400    District of ColumbiaCases: 3892.0Deaths: 185.0...\n401     DelawareCases: 4162.0Deaths: 125.0Tests: 19616.0\n402    FloridaCases: 32138.0Deaths: 1101.0Tests: 3575...\n403    GeorgiaCases: 23913.0Deaths: 971.0Tests: 127169.0\n404             GuamCases: 144.0Deaths: 5.0Tests: 1568.0\n405         HawaiiCases: 606.0Deaths: 14.0Tests: 29010.0\n406         IowaCases: 5868.0Deaths: 127.0Tests: 38150.0\n407         IdahoCases: 1897.0Deaths: 56.0Tests: 19895.0\n408    IllinoisCases: 45883.0Deaths: 1983.0Tests: 227...\n409     IndianaCases: 15961.0Deaths: 844.0Tests: 84476.0\n410       KansasCases: 3328.0Deaths: 120.0Tests: 27167.0\n411     KentuckyCases: 4074.0Deaths: 208.0Tests: 48474.0\n412    LouisianaCases: 27068.0Deaths: 1670.0Tests: 14...\n413    MassachusettsCases: 56462.0Deaths: 3003.0Tests...\n414    MarylandCases: 19487.0Deaths: 945.0Tests: 1049...\n415         MaineCases: 1023.0Deaths: 51.0Tests: 17807.0\n416    MichiganCases: 38210.0Deaths: 3407.0Tests: 157...\n417    MinnesotaCases: 3816.0Deaths: 286.0Tests: 61268.0\n418     MissouriCases: 7171.0Deaths: 288.0Tests: 71106.0\n419    Commonwealth of the Northern Mariana IslandsCa...\n420    MississippiCases: 6094.0Deaths: 229.0Tests: 63...\n421        MontanaCases: 449.0Deaths: 14.0Tests: 13033.0\n422    North CarolinaCases: 9142.0Deaths: 306.0Tests:...\n423    North DakotaCases: 942.0Deaths: 19.0Tests: 224...\n424      NebraskaCases: 3028.0Deaths: 56.0Tests: 22363.0\n425    New HampshireCases: 1864.0Deaths: 60.0Tests: 1...\n426    New JerseyCases: 111188.0Deaths: 6044.0Tests: ...\n427    New MexicoCases: 2726.0Deaths: 99.0Tests: 56615.0\n428       NevadaCases: 4690.0Deaths: 206.0Tests: 38813.0\n429    New YorkCases: 291996.0Deaths: 17303.0Tests: 8...\n430       OhioCases: 16325.0Deaths: 753.0Tests: 120017.0\n431     OklahomaCases: 3280.0Deaths: 197.0Tests: 53171.0\n432        OregonCases: 2354.0Deaths: 92.0Tests: 51198.0\n433    PennsylvaniaCases: 42050.0Deaths: 1597.0Tests:...\n434    Puerto RicoCases: 1389.0Deaths: 84.0Tests: 126...\n435    Rhode IslandCases: 7708.0Deaths: 233.0Tests: 5...\n436    South CarolinaCases: 5490.0Deaths: 174.0Tests:...\n437    South DakotaCases: 2245.0Deaths: 11.0Tests: 16...\n438    TennesseeCases: 9918.0Deaths: 184.0Tests: 1544...\n439      TexasCases: 25297.0Deaths: 663.0Tests: 290517.0\n440         UtahCases: 4233.0Deaths: 41.0Tests: 100195.0\n441    VirginiaCases: 13535.0Deaths: 458.0Tests: 81221.0\n442    United States Virgin IslandsCases: 59.0Deaths:...\n443        VermontCases: 855.0Deaths: 47.0Tests: 15073.0\n444    WashingtonCases: 13521.0Deaths: 749.0Tests: 17...\n445    WisconsinCases: 6081.0Deaths: 281.0Tests: 67596.0\n446    West VirginiaCases: 1063.0Deaths: 36.0Tests: 4...\n447          WyomingCases: 370.0Deaths: 7.0Tests: 8167.0\nName: text, dtype: object, 'marker': {'line': {'color': 'rgb(255,255,255)', 'width': 2}}, 'colorbar': {'title': 'Confirmed Cases'}}], [{'type': 'choropleth', 'colorscale': [[0.0, '#ffffff'], [0.2, '#ff9999'], [0.4, '#ff4d4d'], [0.6, '#ff1a1a'], [0.8, '#cc0000'], [1.0, '#4d0000']], 'autocolorscale': False, 'locations': 448    AK\n449    AL\n450    AR\n451    AS\n452    AZ\n453    CA\n454    CO\n455    CT\n456    DC\n457    DE\n458    FL\n459    GA\n460    GU\n461    HI\n462    IA\n463    ID\n464    IL\n465    IN\n466    KS\n467    KY\n468    LA\n469    MA\n470    MD\n471    ME\n472    MI\n473    MN\n474    MO\n475    MP\n476    MS\n477    MT\n478    NC\n479    ND\n480    NE\n481    NH\n482    NJ\n483    NM\n484    NV\n485    NY\n486    OH\n487    OK\n488    OR\n489    PA\n490    PR\n491    RI\n492    SC\n493    SD\n494    TN\n495    TX\n496    UT\n497    VA\n498    VI\n499    VT\n500    WA\n501    WI\n502    WV\n503    WY\nName: state, dtype: object, 'z': 448       341.0\n449      6270.0\n450      2941.0\n451         0.0\n452      6526.0\n453     42164.0\n454     12968.0\n455     25269.0\n456      3841.0\n457      4034.0\n458     31528.0\n459     23401.0\n460       141.0\n461       603.0\n462      5476.0\n463      1887.0\n464     43903.0\n465     15012.0\n466      3174.0\n467      3905.0\n468     26773.0\n469     54938.0\n470     18581.0\n471      1015.0\n472     37778.0\n473      3602.0\n474      6997.0\n475        14.0\n476      5911.0\n477       448.0\n478      8830.0\n479       867.0\n480      2732.0\n481      1787.0\n482    109038.0\n483      2660.0\n484      4602.0\n485    288045.0\n486     15963.0\n487      3253.0\n488      2311.0\n489     41165.0\n490      1371.0\n491      7439.0\n492      5490.0\n493      2212.0\n494      9667.0\n495     24631.0\n496      4123.0\n497     12488.0\n498        57.0\n499       851.0\n500     13521.0\n501      5911.0\n502      1044.0\n503       362.0\nName: positive, dtype: float64, 'locationmode': 'USA-states', 'text': 448          AlaskaCases: 341.0Deaths: 9.0Tests: 16177.0\n449      AlabamaCases: 6270.0Deaths: 216.0Tests: 73551.0\n450      ArkansasCases: 2941.0Deaths: 49.0Tests: 39469.0\n451       American SamoaCases: 0.0Deaths: 0.0Tests: 20.0\n452      ArizonaCases: 6526.0Deaths: 275.0Tests: 64811.0\n453    CaliforniaCases: 42164.0Deaths: 1710.0Tests: 5...\n454    ColoradoCases: 12968.0Deaths: 672.0Tests: 59791.0\n455    ConnecticutCases: 25269.0Deaths: 1924.0Tests: ...\n456    District of ColumbiaCases: 3841.0Deaths: 178.0...\n457     DelawareCases: 4034.0Deaths: 120.0Tests: 19249.0\n458    FloridaCases: 31528.0Deaths: 1094.0Tests: 3457...\n459    GeorgiaCases: 23401.0Deaths: 912.0Tests: 123223.0\n460             GuamCases: 141.0Deaths: 5.0Tests: 1528.0\n461         HawaiiCases: 603.0Deaths: 14.0Tests: 28483.0\n462         IowaCases: 5476.0Deaths: 118.0Tests: 36090.0\n463         IdahoCases: 1887.0Deaths: 56.0Tests: 19565.0\n464    IllinoisCases: 43903.0Deaths: 1933.0Tests: 214...\n465     IndianaCases: 15012.0Deaths: 813.0Tests: 81708.0\n466       KansasCases: 3174.0Deaths: 118.0Tests: 26227.0\n467     KentuckyCases: 3905.0Deaths: 205.0Tests: 46558.0\n468    LouisianaCases: 26773.0Deaths: 1670.0Tests: 14...\n469    MassachusettsCases: 54938.0Deaths: 2899.0Tests...\n470    MarylandCases: 18581.0Deaths: 910.0Tests: 96665.0\n471         MaineCases: 1015.0Deaths: 50.0Tests: 17799.0\n472    MichiganCases: 37778.0Deaths: 3315.0Tests: 151...\n473    MinnesotaCases: 3602.0Deaths: 272.0Tests: 58987.0\n474     MissouriCases: 6997.0Deaths: 274.0Tests: 69748.0\n475    Commonwealth of the Northern Mariana IslandsCa...\n476    MississippiCases: 5911.0Deaths: 227.0Tests: 60...\n477        MontanaCases: 448.0Deaths: 14.0Tests: 12862.0\n478    North CarolinaCases: 8830.0Deaths: 299.0Tests:...\n479    North DakotaCases: 867.0Deaths: 17.0Tests: 207...\n480      NebraskaCases: 2732.0Deaths: 53.0Tests: 21228.0\n481    New HampshireCases: 1787.0Deaths: 60.0Tests: 1...\n482    New JerseyCases: 109038.0Deaths: 5938.0Tests: ...\n483    New MexicoCases: 2660.0Deaths: 93.0Tests: 53735.0\n484       NevadaCases: 4602.0Deaths: 206.0Tests: 38186.0\n485    New YorkCases: 288045.0Deaths: 16966.0Tests: 8...\n486       OhioCases: 15963.0Deaths: 728.0Tests: 116386.0\n487     OklahomaCases: 3253.0Deaths: 195.0Tests: 53144.0\n488        OregonCases: 2311.0Deaths: 91.0Tests: 48964.0\n489    PennsylvaniaCases: 41165.0Deaths: 1550.0Tests:...\n490    Puerto RicoCases: 1371.0Deaths: 84.0Tests: 126...\n491    Rhode IslandCases: 7439.0Deaths: 226.0Tests: 5...\n492    South CarolinaCases: 5490.0Deaths: 174.0Tests:...\n493    South DakotaCases: 2212.0Deaths: 11.0Tests: 16...\n494    TennesseeCases: 9667.0Deaths: 181.0Tests: 1482...\n495      TexasCases: 24631.0Deaths: 648.0Tests: 276021.0\n496          UtahCases: 4123.0Deaths: 41.0Tests: 95702.0\n497    VirginiaCases: 12488.0Deaths: 448.0Tests: 76657.0\n498    United States Virgin IslandsCases: 57.0Deaths:...\n499        VermontCases: 851.0Deaths: 46.0Tests: 14797.0\n500    WashingtonCases: 13521.0Deaths: 738.0Tests: 17...\n501    WisconsinCases: 5911.0Deaths: 272.0Tests: 65343.0\n502    West VirginiaCases: 1044.0Deaths: 34.0Tests: 3...\n503          WyomingCases: 362.0Deaths: 7.0Tests: 8159.0\nName: text, dtype: object, 'marker': {'line': {'color': 'rgb(255,255,255)', 'width': 2}}, 'colorbar': {'title': 'Confirmed Cases'}}], [{'type': 'choropleth', 'colorscale': [[0.0, '#ffffff'], [0.2, '#ff9999'], [0.4, '#ff4d4d'], [0.6, '#ff1a1a'], [0.8, '#cc0000'], [1.0, '#4d0000']], 'autocolorscale': False, 'locations': 504    AK\n505    AL\n506    AR\n507    AS\n508    AZ\n509    CA\n510    CO\n511    CT\n512    DC\n513    DE\n514    FL\n515    GA\n516    GU\n517    HI\n518    IA\n519    ID\n520    IL\n521    IN\n522    KS\n523    KY\n524    LA\n525    MA\n526    MD\n527    ME\n528    MI\n529    MN\n530    MO\n531    MP\n532    MS\n533    MT\n534    NC\n535    ND\n536    NE\n537    NH\n538    NJ\n539    NM\n540    NV\n541    NY\n542    OH\n543    OK\n544    OR\n545    PA\n546    PR\n547    RI\n548    SC\n549    SD\n550    TN\n551    TX\n552    UT\n553    VA\n554    VI\n555    VT\n556    WA\n557    WI\n558    WV\n559    WY\nName: state, dtype: object, 'z': 504       339.0\n505      6137.0\n506      2829.0\n507         0.0\n508      6280.0\n509     41137.0\n510     12256.0\n511     24582.0\n512      3699.0\n513      3576.0\n514     30839.0\n515     22695.0\n516       141.0\n517       601.0\n518      5092.0\n519      1870.0\n520     41777.0\n521     14395.0\n522      3056.0\n523      3779.0\n524     26512.0\n525     53348.0\n526     17766.0\n527       990.0\n528     37203.0\n529      3446.0\n530      6826.0\n531        14.0\n532      5718.0\n533       445.0\n534      8623.0\n535       803.0\n536      2421.0\n537      1720.0\n538    105523.0\n539      2521.0\n540      4539.0\n541    282143.0\n542     15587.0\n543      3193.0\n544      2253.0\n545     40049.0\n546      1307.0\n547      7129.0\n548      5253.0\n549      2147.0\n550      9189.0\n551     23773.0\n552      3948.0\n553     11902.0\n554        55.0\n555       843.0\n556     13521.0\n557      5687.0\n558      1020.0\n559       349.0\nName: positive, dtype: float64, 'locationmode': 'USA-states', 'text': 504          AlaskaCases: 339.0Deaths: 9.0Tests: 15732.0\n505      AlabamaCases: 6137.0Deaths: 212.0Tests: 71344.0\n506      ArkansasCases: 2829.0Deaths: 47.0Tests: 38053.0\n507       American SamoaCases: 0.0Deaths: 0.0Tests: 20.0\n508      ArizonaCases: 6280.0Deaths: 266.0Tests: 62508.0\n509    CaliforniaCases: 41137.0Deaths: 1651.0Tests: 5...\n510    ColoradoCases: 12256.0Deaths: 674.0Tests: 56789.0\n511    ConnecticutCases: 24582.0Deaths: 1862.0Tests: ...\n512    District of ColumbiaCases: 3699.0Deaths: 165.0...\n513     DelawareCases: 3576.0Deaths: 112.0Tests: 17698.0\n514    FloridaCases: 30839.0Deaths: 1075.0Tests: 3343...\n515    GeorgiaCases: 22695.0Deaths: 904.0Tests: 119014.0\n516             GuamCases: 141.0Deaths: 5.0Tests: 1449.0\n517         HawaiiCases: 601.0Deaths: 13.0Tests: 28040.0\n518         IowaCases: 5092.0Deaths: 112.0Tests: 34350.0\n519         IdahoCases: 1870.0Deaths: 54.0Tests: 19361.0\n520    IllinoisCases: 41777.0Deaths: 1874.0Tests: 201...\n521     IndianaCases: 14395.0Deaths: 785.0Tests: 79774.0\n522       KansasCases: 3056.0Deaths: 117.0Tests: 25199.0\n523     KentuckyCases: 3779.0Deaths: 200.0Tests: 44962.0\n524    LouisianaCases: 26512.0Deaths: 1644.0Tests: 13...\n525    MassachusettsCases: 53348.0Deaths: 2877.0Tests...\n526    MarylandCases: 17766.0Deaths: 875.0Tests: 89123.0\n527          MaineCases: 990.0Deaths: 50.0Tests: 17774.0\n528    MichiganCases: 37203.0Deaths: 3274.0Tests: 144...\n529    MinnesotaCases: 3446.0Deaths: 244.0Tests: 56597.0\n530     MissouriCases: 6826.0Deaths: 273.0Tests: 67218.0\n531    Commonwealth of the Northern Mariana IslandsCa...\n532    MississippiCases: 5718.0Deaths: 221.0Tests: 58...\n533        MontanaCases: 445.0Deaths: 14.0Tests: 12497.0\n534    North CarolinaCases: 8623.0Deaths: 289.0Tests:...\n535    North DakotaCases: 803.0Deaths: 16.0Tests: 193...\n536      NebraskaCases: 2421.0Deaths: 50.0Tests: 19973.0\n537    New HampshireCases: 1720.0Deaths: 53.0Tests: 1...\n538    New JerseyCases: 105523.0Deaths: 5863.0Tests: ...\n539    New MexicoCases: 2521.0Deaths: 84.0Tests: 51510.0\n540       NevadaCases: 4539.0Deaths: 204.0Tests: 37208.0\n541    New YorkCases: 282143.0Deaths: 16599.0Tests: 7...\n542       OhioCases: 15587.0Deaths: 711.0Tests: 111983.0\n543     OklahomaCases: 3193.0Deaths: 194.0Tests: 53084.0\n544        OregonCases: 2253.0Deaths: 87.0Tests: 47377.0\n545    PennsylvaniaCases: 40049.0Deaths: 1537.0Tests:...\n546    Puerto RicoCases: 1307.0Deaths: 83.0Tests: 125...\n547    Rhode IslandCases: 7129.0Deaths: 215.0Tests: 5...\n548    South CarolinaCases: 5253.0Deaths: 166.0Tests:...\n549    South DakotaCases: 2147.0Deaths: 10.0Tests: 15...\n550    TennesseeCases: 9189.0Deaths: 178.0Tests: 1414...\n551      TexasCases: 23773.0Deaths: 623.0Tests: 262816.0\n552          UtahCases: 3948.0Deaths: 41.0Tests: 90206.0\n553    VirginiaCases: 11902.0Deaths: 436.0Tests: 73583.0\n554    United States Virgin IslandsCases: 55.0Deaths:...\n555        VermontCases: 843.0Deaths: 46.0Tests: 14682.0\n556    WashingtonCases: 13521.0Deaths: 665.0Tests: 17...\n557    WisconsinCases: 5687.0Deaths: 266.0Tests: 63066.0\n558    West VirginiaCases: 1020.0Deaths: 32.0Tests: 3...\n559          WyomingCases: 349.0Deaths: 7.0Tests: 8146.0\nName: text, dtype: object, 'marker': {'line': {'color': 'rgb(255,255,255)', 'width': 2}}, 'colorbar': {'title': 'Confirmed Cases'}}]]\n\n    The 'data' property is a tuple of trace instances\n    that may be specified as:\n      - A list or tuple of trace instances\n        (e.g. [Scatter(...), Bar(...)])\n      - A single trace instance\n        (e.g. Scatter(...), Bar(...), etc.)\n      - A list or tuple of dicts of string/value properties where:\n        - The 'type' property specifies the trace type\n            One of: ['area', 'bar', 'barpolar', 'box',\n                     'candlestick', 'carpet', 'choropleth',\n                     'choroplethmapbox', 'cone', 'contour',\n                     'contourcarpet', 'densitymapbox', 'funnel',\n                     'funnelarea', 'heatmap', 'heatmapgl',\n                     'histogram', 'histogram2d',\n                     'histogram2dcontour', 'image', 'indicator',\n                     'isosurface', 'mesh3d', 'ohlc', 'parcats',\n                     'parcoords', 'pie', 'pointcloud', 'sankey',\n                     'scatter', 'scatter3d', 'scattercarpet',\n                     'scattergeo', 'scattergl', 'scattermapbox',\n                     'scatterpolar', 'scatterpolargl',\n                     'scatterternary', 'splom', 'streamtube',\n                     'sunburst', 'surface', 'table', 'treemap',\n                     'violin', 'volume', 'waterfall']\n\n        - All remaining properties are passed to the constructor of\n          the specified trace type\n\n        (e.g. [{'type': 'scatter', ...}, {'type': 'bar, ...}])"
     ]
    }
   ],
   "source": [
    "# set up the layout including the slider option\n",
    "layout = dict(\n",
    "        title = state_start_date.strftime('%b %d'),\n",
    "        geo = dict(\n",
    "            scope='usa',\n",
    "            projection=dict( type='albers usa' ),\n",
    "            # showlakes = True,  # if you want to give color to the lakes\n",
    "            # lakecolor = 'rgb(73, 216, 230)'  \n",
    "            ),\n",
    "        sliders=sliders,\n",
    "        )\n",
    "\n",
    "\n",
    "fig = dict(data=data_slider, layout=layout)\n",
    "\n",
    "\n",
    "# plot\n",
    "plotly.offline.iplot(fig)\n",
    "\n",
    "# if want to plot in a different window on your browser\n",
    "# offline.plot(\n",
    "#     fig, \n",
    "#     auto_open=True, \n",
    "#     image = 'png', \n",
    "#     image_filename=\"US State COVID-19 Confirmed Cases\"+str(state_start_date.strftime('%b %d')),  \n",
    "#     image_width=2000, image_height=1000, \n",
    "#     filename='/C:/Users/dun4g/OneDrive/Documents/GitHub/COVID-19_Response_Comparison/temp-plot.html'/span>\"US State COVID-19 Confirmed Cases\"str(state_start_date.strftime('%b %d'))+'.html', validate=True)"
   ]
  },
  {
   "cell_type": "code",
   "execution_count": null,
   "metadata": {},
   "outputs": [],
   "source": []
  },
  {
   "cell_type": "code",
   "execution_count": null,
   "metadata": {},
   "outputs": [],
   "source": []
  },
  {
   "cell_type": "markdown",
   "metadata": {},
   "source": [
    "# South Korea COVID-19 Case Data Visualisation\n",
    "## Procedure 1: South Korea Provinces and Special/Metropolitan Cities GeoDataFrame (EPSG: 4326)"
   ]
  },
  {
   "cell_type": "code",
   "execution_count": 113,
   "metadata": {},
   "outputs": [],
   "source": [
    "# Read in Natural Earth Large Scale Cultural Data (Admin 1 - States and Provinces) Boundary Shapefile\n",
    "ne_admin_1_states_gdf = gpd.read_file('Data/input/ne_admin_1_states_provinces/ne_10m_admin_1_states_provinces.shp')"
   ]
  },
  {
   "cell_type": "code",
   "execution_count": 114,
   "metadata": {},
   "outputs": [],
   "source": [
    "# Create a GeoDataFrame for South Korea Provinces & Special/Metropolitan Cities ONLY\n",
    "south_korea_gdf=ne_admin_1_states_gdf[ne_admin_1_states_gdf['admin']=='South Korea']"
   ]
  },
  {
   "cell_type": "code",
   "execution_count": 115,
   "metadata": {},
   "outputs": [],
   "source": [
    "# Keep the only columns that needed\n",
    "south_korea_gdf = south_korea_gdf[['geonunit', 'gu_a3', 'gn_name', 'name_de', 'fips', 'latitude', 'longitude', 'geometry']]"
   ]
  },
  {
   "cell_type": "markdown",
   "metadata": {},
   "source": [
    "## Procedure 2: South Korea COVID-19 Cases/Deaths/Testing DataFrame\n",
    "### [South Korea Accumulative Data](https://github.com/katkim0307/COVID-19_Response_Comparison/blob/master/Data/input/covid_19_south_korea_full_xls.xlsx)"
   ]
  },
  {
   "cell_type": "code",
   "execution_count": 144,
   "metadata": {},
   "outputs": [],
   "source": [
    "# Read \n",
    "kor_cov19_df = pd.read_excel('Data/input/covid_19_south_korea_full_xls.xlsx',\n",
    "                            sheet_name='covid_19_daily_country')\n",
    "\n",
    "kor_cov19_df.fillna(0, inplace=True)"
   ]
  },
  {
   "cell_type": "code",
   "execution_count": 169,
   "metadata": {
    "scrolled": true
   },
   "outputs": [
    {
     "data": {
      "text/html": [
       "<div>\n",
       "<style scoped>\n",
       "    .dataframe tbody tr th:only-of-type {\n",
       "        vertical-align: middle;\n",
       "    }\n",
       "\n",
       "    .dataframe tbody tr th {\n",
       "        vertical-align: top;\n",
       "    }\n",
       "\n",
       "    .dataframe thead th {\n",
       "        text-align: right;\n",
       "    }\n",
       "</style>\n",
       "<table border=\"1\" class=\"dataframe\">\n",
       "  <thead>\n",
       "    <tr style=\"text-align: right;\">\n",
       "      <th></th>\n",
       "      <th>Date</th>\n",
       "      <th>Country</th>\n",
       "      <th>Confirm_New</th>\n",
       "      <th>Confirm_Tot</th>\n",
       "      <th>Death_New</th>\n",
       "      <th>Death_Tot</th>\n",
       "      <th>Test_New</th>\n",
       "      <th>Test_Tot</th>\n",
       "      <th>Test_Curr</th>\n",
       "    </tr>\n",
       "  </thead>\n",
       "  <tbody>\n",
       "    <tr>\n",
       "      <th>0</th>\n",
       "      <td>2020-01-20</td>\n",
       "      <td>South Korea</td>\n",
       "      <td>1.0</td>\n",
       "      <td>1</td>\n",
       "      <td>0.0</td>\n",
       "      <td>0.0</td>\n",
       "      <td>0.0</td>\n",
       "      <td>4.0</td>\n",
       "      <td>0.0</td>\n",
       "    </tr>\n",
       "    <tr>\n",
       "      <th>1</th>\n",
       "      <td>2020-01-24</td>\n",
       "      <td>South Korea</td>\n",
       "      <td>1.0</td>\n",
       "      <td>2</td>\n",
       "      <td>0.0</td>\n",
       "      <td>0.0</td>\n",
       "      <td>23.0</td>\n",
       "      <td>27.0</td>\n",
       "      <td>0.0</td>\n",
       "    </tr>\n",
       "    <tr>\n",
       "      <th>2</th>\n",
       "      <td>2020-01-26</td>\n",
       "      <td>South Korea</td>\n",
       "      <td>1.0</td>\n",
       "      <td>3</td>\n",
       "      <td>0.0</td>\n",
       "      <td>0.0</td>\n",
       "      <td>24.0</td>\n",
       "      <td>51.0</td>\n",
       "      <td>1.0</td>\n",
       "    </tr>\n",
       "    <tr>\n",
       "      <th>3</th>\n",
       "      <td>2020-01-27</td>\n",
       "      <td>South Korea</td>\n",
       "      <td>1.0</td>\n",
       "      <td>4</td>\n",
       "      <td>0.0</td>\n",
       "      <td>0.0</td>\n",
       "      <td>10.0</td>\n",
       "      <td>61.0</td>\n",
       "      <td>1.0</td>\n",
       "    </tr>\n",
       "    <tr>\n",
       "      <th>4</th>\n",
       "      <td>2020-01-28</td>\n",
       "      <td>South Korea</td>\n",
       "      <td>0.0</td>\n",
       "      <td>4</td>\n",
       "      <td>0.0</td>\n",
       "      <td>0.0</td>\n",
       "      <td>55.0</td>\n",
       "      <td>116.0</td>\n",
       "      <td>15.0</td>\n",
       "    </tr>\n",
       "  </tbody>\n",
       "</table>\n",
       "</div>"
      ],
      "text/plain": [
       "        Date      Country  Confirm_New  Confirm_Tot  Death_New  Death_Tot  \\\n",
       "0 2020-01-20  South Korea          1.0            1        0.0        0.0   \n",
       "1 2020-01-24  South Korea          1.0            2        0.0        0.0   \n",
       "2 2020-01-26  South Korea          1.0            3        0.0        0.0   \n",
       "3 2020-01-27  South Korea          1.0            4        0.0        0.0   \n",
       "4 2020-01-28  South Korea          0.0            4        0.0        0.0   \n",
       "\n",
       "   Test_New  Test_Tot  Test_Curr  \n",
       "0       0.0       4.0        0.0  \n",
       "1      23.0      27.0        0.0  \n",
       "2      24.0      51.0        1.0  \n",
       "3      10.0      61.0        1.0  \n",
       "4      55.0     116.0       15.0  "
      ]
     },
     "execution_count": 169,
     "metadata": {},
     "output_type": "execute_result"
    }
   ],
   "source": [
    "kor_cov19_df.head()"
   ]
  },
  {
   "cell_type": "code",
   "execution_count": 170,
   "metadata": {},
   "outputs": [
    {
     "name": "stdout",
     "output_type": "stream",
     "text": [
      "<class 'pandas.core.frame.DataFrame'>\n",
      "RangeIndex: 100 entries, 0 to 99\n",
      "Data columns (total 9 columns):\n",
      " #   Column       Non-Null Count  Dtype         \n",
      "---  ------       --------------  -----         \n",
      " 0   Date         100 non-null    datetime64[ns]\n",
      " 1   Country      100 non-null    object        \n",
      " 2   Confirm_New  100 non-null    float64       \n",
      " 3   Confirm_Tot  100 non-null    int64         \n",
      " 4   Death_New    100 non-null    float64       \n",
      " 5   Death_Tot    100 non-null    float64       \n",
      " 6   Test_New     100 non-null    float64       \n",
      " 7   Test_Tot     100 non-null    float64       \n",
      " 8   Test_Curr    100 non-null    float64       \n",
      "dtypes: datetime64[ns](1), float64(6), int64(1), object(1)\n",
      "memory usage: 7.2+ KB\n"
     ]
    }
   ],
   "source": [
    "kor_cov19_df.info()"
   ]
  },
  {
   "cell_type": "code",
   "execution_count": 145,
   "metadata": {},
   "outputs": [],
   "source": [
    "# Creating a DataFrame for plotting charts (Set 'Date' as the index)\n",
    "kor_cov19_plot_df = kor_cov19_df[['Date', 'Confirm_New', 'Confirm_Tot', \n",
    "                                'Death_New', 'Death_Tot', \n",
    "                                'Test_New', 'Test_Tot', 'Test_Curr']].copy()\n",
    "kor_cov19_plot_df.set_index('Date', inplace=True)"
   ]
  },
  {
   "cell_type": "markdown",
   "metadata": {},
   "source": [
    "### [South Korea Provinces and Special/Metropolitan Cities Data](https://github.com/katkim0307/COVID-19_Response_Comparison/blob/master/Data/input/covid_19_south_korea_full_xls.xlsx)"
   ]
  },
  {
   "cell_type": "code",
   "execution_count": 173,
   "metadata": {},
   "outputs": [],
   "source": [
    "# Read\n",
    "kor_cov19_province_df = pd.read_excel('Data/input/covid_19_south_korea_full_xls.xlsx',\n",
    "                                      sheet_name='covid_19_daily_province')"
   ]
  },
  {
   "cell_type": "code",
   "execution_count": 176,
   "metadata": {},
   "outputs": [],
   "source": [
    "# Converting the Dtype of 'Date' to datetime\n",
    "kor_cov19_province_df['Date']=pd.to_datetime(kor_cov19_province_df['Date'])\n",
    "\n",
    "# Converting the Dtype of 'Test_Tot' from object to float\n",
    "kor_cov19_province_df['Test_Tot']=kor_cov19_province_df['Test_Tot'].astype('category').cat.codes.astype(float)"
   ]
  },
  {
   "cell_type": "code",
   "execution_count": 190,
   "metadata": {
    "scrolled": true
   },
   "outputs": [],
   "source": [
    "kor_cov19_province_df.update(kor_cov19_province_df[['Death_New', 'Death_Tot', \"Test_New\", 'Test_Tot', 'Test_Curr']].fillna(0))"
   ]
  },
  {
   "cell_type": "code",
   "execution_count": 192,
   "metadata": {},
   "outputs": [],
   "source": [
    "# Creating a DataFrame for plotting charts (Set 'Date' as the index)\n",
    "kor_cov19_province_plot_df = kor_cov19_province_df[['Date', 'Province', 'Confirm_New', 'Confirm_Tot', \n",
    "                                                 'Death_New', 'Death_Tot', \n",
    "                                                 'Test_New', 'Test_Tot', 'Test_Curr']].copy()\n",
    "kor_cov19_province_plot_df.set_index('Date', inplace=True)"
   ]
  },
  {
   "cell_type": "markdown",
   "metadata": {},
   "source": [
    "## Procedure 3: Merge South Korea COVID-19 DataFrame with Province GeoDataFrame "
   ]
  },
  {
   "cell_type": "code",
   "execution_count": 194,
   "metadata": {},
   "outputs": [],
   "source": [
    "kor_cov19_province_merged_df = pd.merge(\n",
    "    kor_cov19_province_df,\n",
    "    south_korea_gdf[['geonunit', 'name_de', 'fips', 'latitude', 'longitude', 'geometry']],\n",
    "    left_on='Province',\n",
    "    right_on='name_de',\n",
    "    how='left',\n",
    ")"
   ]
  },
  {
   "cell_type": "code",
   "execution_count": 195,
   "metadata": {},
   "outputs": [],
   "source": [
    "kor_cov19_province_merged_df = kor_cov19_province_merged_df.drop(['name_de'], axis=1)"
   ]
  },
  {
   "cell_type": "code",
   "execution_count": 196,
   "metadata": {},
   "outputs": [],
   "source": [
    "kor_cov19_province_gdf = gpd.GeoDataFrame(kor_cov19_province_merged_df, \n",
    "                                          crs={'init': 'epsg:4326'},\n",
    "                                          geometry='geometry')"
   ]
  },
  {
   "cell_type": "code",
   "execution_count": 197,
   "metadata": {
    "scrolled": true
   },
   "outputs": [
    {
     "data": {
      "text/html": [
       "<div>\n",
       "<style scoped>\n",
       "    .dataframe tbody tr th:only-of-type {\n",
       "        vertical-align: middle;\n",
       "    }\n",
       "\n",
       "    .dataframe tbody tr th {\n",
       "        vertical-align: top;\n",
       "    }\n",
       "\n",
       "    .dataframe thead th {\n",
       "        text-align: right;\n",
       "    }\n",
       "</style>\n",
       "<table border=\"1\" class=\"dataframe\">\n",
       "  <thead>\n",
       "    <tr style=\"text-align: right;\">\n",
       "      <th></th>\n",
       "      <th>Date</th>\n",
       "      <th>Province</th>\n",
       "      <th>Confirm_New</th>\n",
       "      <th>Confirm_Tot</th>\n",
       "      <th>Confirm_Acc</th>\n",
       "      <th>Death_New</th>\n",
       "      <th>Death_Tot</th>\n",
       "      <th>Test_New</th>\n",
       "      <th>Test_Tot</th>\n",
       "      <th>Test_Curr</th>\n",
       "      <th>geonunit</th>\n",
       "      <th>fips</th>\n",
       "      <th>latitude</th>\n",
       "      <th>longitude</th>\n",
       "      <th>geometry</th>\n",
       "    </tr>\n",
       "  </thead>\n",
       "  <tbody>\n",
       "    <tr>\n",
       "      <th>0</th>\n",
       "      <td>2020-01-20</td>\n",
       "      <td>Incheon</td>\n",
       "      <td>1.0</td>\n",
       "      <td>1.0</td>\n",
       "      <td>1.0</td>\n",
       "      <td>0.0</td>\n",
       "      <td>0.0</td>\n",
       "      <td>0.0</td>\n",
       "      <td>-1.0</td>\n",
       "      <td>0.0</td>\n",
       "      <td>South Korea</td>\n",
       "      <td>KS12</td>\n",
       "      <td>37.4983</td>\n",
       "      <td>126.507</td>\n",
       "      <td>MULTIPOLYGON (((126.72005 37.37705, 126.71716 ...</td>\n",
       "    </tr>\n",
       "    <tr>\n",
       "      <th>1</th>\n",
       "      <td>2020-01-24</td>\n",
       "      <td>Seoul</td>\n",
       "      <td>1.0</td>\n",
       "      <td>1.0</td>\n",
       "      <td>2.0</td>\n",
       "      <td>0.0</td>\n",
       "      <td>0.0</td>\n",
       "      <td>0.0</td>\n",
       "      <td>-1.0</td>\n",
       "      <td>0.0</td>\n",
       "      <td>South Korea</td>\n",
       "      <td>KS11</td>\n",
       "      <td>37.5408</td>\n",
       "      <td>126.994</td>\n",
       "      <td>POLYGON ((127.05429 37.68313, 127.09026 37.680...</td>\n",
       "    </tr>\n",
       "    <tr>\n",
       "      <th>2</th>\n",
       "      <td>2020-01-26</td>\n",
       "      <td>Gyeonggi-do</td>\n",
       "      <td>1.0</td>\n",
       "      <td>1.0</td>\n",
       "      <td>3.0</td>\n",
       "      <td>0.0</td>\n",
       "      <td>0.0</td>\n",
       "      <td>0.0</td>\n",
       "      <td>-1.0</td>\n",
       "      <td>0.0</td>\n",
       "      <td>South Korea</td>\n",
       "      <td>KS13</td>\n",
       "      <td>37.2562</td>\n",
       "      <td>127.205</td>\n",
       "      <td>MULTIPOLYGON (((126.66746 37.82781, 126.66052 ...</td>\n",
       "    </tr>\n",
       "    <tr>\n",
       "      <th>3</th>\n",
       "      <td>2020-01-27</td>\n",
       "      <td>Gyeonggi-do</td>\n",
       "      <td>1.0</td>\n",
       "      <td>2.0</td>\n",
       "      <td>4.0</td>\n",
       "      <td>0.0</td>\n",
       "      <td>0.0</td>\n",
       "      <td>0.0</td>\n",
       "      <td>-1.0</td>\n",
       "      <td>0.0</td>\n",
       "      <td>South Korea</td>\n",
       "      <td>KS13</td>\n",
       "      <td>37.2562</td>\n",
       "      <td>127.205</td>\n",
       "      <td>MULTIPOLYGON (((126.66746 37.82781, 126.66052 ...</td>\n",
       "    </tr>\n",
       "    <tr>\n",
       "      <th>4</th>\n",
       "      <td>2020-01-30</td>\n",
       "      <td>Seoul</td>\n",
       "      <td>3.0</td>\n",
       "      <td>4.0</td>\n",
       "      <td>7.0</td>\n",
       "      <td>0.0</td>\n",
       "      <td>0.0</td>\n",
       "      <td>0.0</td>\n",
       "      <td>-1.0</td>\n",
       "      <td>0.0</td>\n",
       "      <td>South Korea</td>\n",
       "      <td>KS11</td>\n",
       "      <td>37.5408</td>\n",
       "      <td>126.994</td>\n",
       "      <td>POLYGON ((127.05429 37.68313, 127.09026 37.680...</td>\n",
       "    </tr>\n",
       "  </tbody>\n",
       "</table>\n",
       "</div>"
      ],
      "text/plain": [
       "        Date     Province  Confirm_New  Confirm_Tot  Confirm_Acc  Death_New  \\\n",
       "0 2020-01-20      Incheon          1.0          1.0          1.0        0.0   \n",
       "1 2020-01-24        Seoul          1.0          1.0          2.0        0.0   \n",
       "2 2020-01-26  Gyeonggi-do          1.0          1.0          3.0        0.0   \n",
       "3 2020-01-27  Gyeonggi-do          1.0          2.0          4.0        0.0   \n",
       "4 2020-01-30        Seoul          3.0          4.0          7.0        0.0   \n",
       "\n",
       "   Death_Tot  Test_New  Test_Tot  Test_Curr     geonunit  fips  latitude  \\\n",
       "0        0.0       0.0      -1.0        0.0  South Korea  KS12   37.4983   \n",
       "1        0.0       0.0      -1.0        0.0  South Korea  KS11   37.5408   \n",
       "2        0.0       0.0      -1.0        0.0  South Korea  KS13   37.2562   \n",
       "3        0.0       0.0      -1.0        0.0  South Korea  KS13   37.2562   \n",
       "4        0.0       0.0      -1.0        0.0  South Korea  KS11   37.5408   \n",
       "\n",
       "   longitude                                           geometry  \n",
       "0    126.507  MULTIPOLYGON (((126.72005 37.37705, 126.71716 ...  \n",
       "1    126.994  POLYGON ((127.05429 37.68313, 127.09026 37.680...  \n",
       "2    127.205  MULTIPOLYGON (((126.66746 37.82781, 126.66052 ...  \n",
       "3    127.205  MULTIPOLYGON (((126.66746 37.82781, 126.66052 ...  \n",
       "4    126.994  POLYGON ((127.05429 37.68313, 127.09026 37.680...  "
      ]
     },
     "execution_count": 197,
     "metadata": {},
     "output_type": "execute_result"
    }
   ],
   "source": [
    "kor_cov19_province_gdf.head()"
   ]
  },
  {
   "cell_type": "code",
   "execution_count": 198,
   "metadata": {},
   "outputs": [],
   "source": [
    "# Creating a DataFrame for plotting charts (Set 'Date' as the index)\n",
    "kor_cov19_province_plot_gdf = kor_cov19_province_gdf.copy()\n",
    "kor_cov19_province_plot_gdf.set_index('Date', inplace=True)"
   ]
  },
  {
   "cell_type": "code",
   "execution_count": 199,
   "metadata": {},
   "outputs": [
    {
     "data": {
      "text/html": [
       "<div>\n",
       "<style scoped>\n",
       "    .dataframe tbody tr th:only-of-type {\n",
       "        vertical-align: middle;\n",
       "    }\n",
       "\n",
       "    .dataframe tbody tr th {\n",
       "        vertical-align: top;\n",
       "    }\n",
       "\n",
       "    .dataframe thead th {\n",
       "        text-align: right;\n",
       "    }\n",
       "</style>\n",
       "<table border=\"1\" class=\"dataframe\">\n",
       "  <thead>\n",
       "    <tr style=\"text-align: right;\">\n",
       "      <th></th>\n",
       "      <th>Province</th>\n",
       "      <th>Confirm_New</th>\n",
       "      <th>Confirm_Tot</th>\n",
       "      <th>Confirm_Acc</th>\n",
       "      <th>Death_New</th>\n",
       "      <th>Death_Tot</th>\n",
       "      <th>Test_New</th>\n",
       "      <th>Test_Tot</th>\n",
       "      <th>Test_Curr</th>\n",
       "      <th>geonunit</th>\n",
       "      <th>fips</th>\n",
       "      <th>latitude</th>\n",
       "      <th>longitude</th>\n",
       "      <th>geometry</th>\n",
       "    </tr>\n",
       "    <tr>\n",
       "      <th>Date</th>\n",
       "      <th></th>\n",
       "      <th></th>\n",
       "      <th></th>\n",
       "      <th></th>\n",
       "      <th></th>\n",
       "      <th></th>\n",
       "      <th></th>\n",
       "      <th></th>\n",
       "      <th></th>\n",
       "      <th></th>\n",
       "      <th></th>\n",
       "      <th></th>\n",
       "      <th></th>\n",
       "      <th></th>\n",
       "    </tr>\n",
       "  </thead>\n",
       "  <tbody>\n",
       "    <tr>\n",
       "      <th>2020-01-20</th>\n",
       "      <td>Incheon</td>\n",
       "      <td>1.0</td>\n",
       "      <td>1.0</td>\n",
       "      <td>1.0</td>\n",
       "      <td>0.0</td>\n",
       "      <td>0.0</td>\n",
       "      <td>0.0</td>\n",
       "      <td>-1.0</td>\n",
       "      <td>0.0</td>\n",
       "      <td>South Korea</td>\n",
       "      <td>KS12</td>\n",
       "      <td>37.4983</td>\n",
       "      <td>126.507</td>\n",
       "      <td>MULTIPOLYGON (((126.72005 37.37705, 126.71716 ...</td>\n",
       "    </tr>\n",
       "    <tr>\n",
       "      <th>2020-01-24</th>\n",
       "      <td>Seoul</td>\n",
       "      <td>1.0</td>\n",
       "      <td>1.0</td>\n",
       "      <td>2.0</td>\n",
       "      <td>0.0</td>\n",
       "      <td>0.0</td>\n",
       "      <td>0.0</td>\n",
       "      <td>-1.0</td>\n",
       "      <td>0.0</td>\n",
       "      <td>South Korea</td>\n",
       "      <td>KS11</td>\n",
       "      <td>37.5408</td>\n",
       "      <td>126.994</td>\n",
       "      <td>POLYGON ((127.05429 37.68313, 127.09026 37.680...</td>\n",
       "    </tr>\n",
       "    <tr>\n",
       "      <th>2020-01-26</th>\n",
       "      <td>Gyeonggi-do</td>\n",
       "      <td>1.0</td>\n",
       "      <td>1.0</td>\n",
       "      <td>3.0</td>\n",
       "      <td>0.0</td>\n",
       "      <td>0.0</td>\n",
       "      <td>0.0</td>\n",
       "      <td>-1.0</td>\n",
       "      <td>0.0</td>\n",
       "      <td>South Korea</td>\n",
       "      <td>KS13</td>\n",
       "      <td>37.2562</td>\n",
       "      <td>127.205</td>\n",
       "      <td>MULTIPOLYGON (((126.66746 37.82781, 126.66052 ...</td>\n",
       "    </tr>\n",
       "    <tr>\n",
       "      <th>2020-01-27</th>\n",
       "      <td>Gyeonggi-do</td>\n",
       "      <td>1.0</td>\n",
       "      <td>2.0</td>\n",
       "      <td>4.0</td>\n",
       "      <td>0.0</td>\n",
       "      <td>0.0</td>\n",
       "      <td>0.0</td>\n",
       "      <td>-1.0</td>\n",
       "      <td>0.0</td>\n",
       "      <td>South Korea</td>\n",
       "      <td>KS13</td>\n",
       "      <td>37.2562</td>\n",
       "      <td>127.205</td>\n",
       "      <td>MULTIPOLYGON (((126.66746 37.82781, 126.66052 ...</td>\n",
       "    </tr>\n",
       "    <tr>\n",
       "      <th>2020-01-30</th>\n",
       "      <td>Seoul</td>\n",
       "      <td>3.0</td>\n",
       "      <td>4.0</td>\n",
       "      <td>7.0</td>\n",
       "      <td>0.0</td>\n",
       "      <td>0.0</td>\n",
       "      <td>0.0</td>\n",
       "      <td>-1.0</td>\n",
       "      <td>0.0</td>\n",
       "      <td>South Korea</td>\n",
       "      <td>KS11</td>\n",
       "      <td>37.5408</td>\n",
       "      <td>126.994</td>\n",
       "      <td>POLYGON ((127.05429 37.68313, 127.09026 37.680...</td>\n",
       "    </tr>\n",
       "  </tbody>\n",
       "</table>\n",
       "</div>"
      ],
      "text/plain": [
       "               Province  Confirm_New  Confirm_Tot  Confirm_Acc  Death_New  \\\n",
       "Date                                                                        \n",
       "2020-01-20      Incheon          1.0          1.0          1.0        0.0   \n",
       "2020-01-24        Seoul          1.0          1.0          2.0        0.0   \n",
       "2020-01-26  Gyeonggi-do          1.0          1.0          3.0        0.0   \n",
       "2020-01-27  Gyeonggi-do          1.0          2.0          4.0        0.0   \n",
       "2020-01-30        Seoul          3.0          4.0          7.0        0.0   \n",
       "\n",
       "            Death_Tot  Test_New  Test_Tot  Test_Curr     geonunit  fips  \\\n",
       "Date                                                                      \n",
       "2020-01-20        0.0       0.0      -1.0        0.0  South Korea  KS12   \n",
       "2020-01-24        0.0       0.0      -1.0        0.0  South Korea  KS11   \n",
       "2020-01-26        0.0       0.0      -1.0        0.0  South Korea  KS13   \n",
       "2020-01-27        0.0       0.0      -1.0        0.0  South Korea  KS13   \n",
       "2020-01-30        0.0       0.0      -1.0        0.0  South Korea  KS11   \n",
       "\n",
       "            latitude  longitude  \\\n",
       "Date                              \n",
       "2020-01-20   37.4983    126.507   \n",
       "2020-01-24   37.5408    126.994   \n",
       "2020-01-26   37.2562    127.205   \n",
       "2020-01-27   37.2562    127.205   \n",
       "2020-01-30   37.5408    126.994   \n",
       "\n",
       "                                                     geometry  \n",
       "Date                                                           \n",
       "2020-01-20  MULTIPOLYGON (((126.72005 37.37705, 126.71716 ...  \n",
       "2020-01-24  POLYGON ((127.05429 37.68313, 127.09026 37.680...  \n",
       "2020-01-26  MULTIPOLYGON (((126.66746 37.82781, 126.66052 ...  \n",
       "2020-01-27  MULTIPOLYGON (((126.66746 37.82781, 126.66052 ...  \n",
       "2020-01-30  POLYGON ((127.05429 37.68313, 127.09026 37.680...  "
      ]
     },
     "execution_count": 199,
     "metadata": {},
     "output_type": "execute_result"
    }
   ],
   "source": [
    "kor_cov19_province_plot_gdf.head()"
   ]
  },
  {
   "cell_type": "code",
   "execution_count": null,
   "metadata": {},
   "outputs": [],
   "source": []
  },
  {
   "cell_type": "code",
   "execution_count": null,
   "metadata": {},
   "outputs": [],
   "source": []
  },
  {
   "cell_type": "code",
   "execution_count": null,
   "metadata": {},
   "outputs": [],
   "source": []
  },
  {
   "cell_type": "code",
   "execution_count": null,
   "metadata": {},
   "outputs": [],
   "source": []
  },
  {
   "cell_type": "code",
   "execution_count": null,
   "metadata": {},
   "outputs": [],
   "source": []
  },
  {
   "cell_type": "code",
   "execution_count": null,
   "metadata": {},
   "outputs": [],
   "source": []
  },
  {
   "cell_type": "code",
   "execution_count": null,
   "metadata": {},
   "outputs": [],
   "source": []
  }
 ],
 "metadata": {
  "kernelspec": {
   "display_name": "Python 3",
   "language": "python",
   "name": "python3"
  },
  "language_info": {
   "codemirror_mode": {
    "name": "ipython",
    "version": 3
   },
   "file_extension": ".py",
   "mimetype": "text/x-python",
   "name": "python",
   "nbconvert_exporter": "python",
   "pygments_lexer": "ipython3",
   "version": "3.7.7"
  }
 },
 "nbformat": 4,
 "nbformat_minor": 4
}
