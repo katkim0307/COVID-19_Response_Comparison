{
 "cells": [
  {
   "cell_type": "markdown",
   "metadata": {},
   "source": [
    "# US Geodata"
   ]
  },
  {
   "cell_type": "code",
   "execution_count": 3,
   "metadata": {},
   "outputs": [],
   "source": [
    "import os\n",
    "import sys\n",
    "\n",
    "from IPython.display import IFrame\n",
    "import pandas as pd\n",
    "import geopandas as gpd\n",
    "import matplotlib.pyplot as plt\n",
    "import numpy as np\n",
    "# import missingno as msno\n",
    "# import seaborn as sns\n",
    "# import matplotlib.patches as patches\n",
    "# import warnings\n",
    "# import networkx as nx\n",
    "# import osmnx as ox\n",
    "# import requests\n",
    "# import matplotlib.cm as cm\n",
    "# import matplotlib.colors as colors\n",
    "\n",
    "import urllib\n",
    "import zipfile\n",
    "import glob"
   ]
  },
  {
   "cell_type": "markdown",
   "metadata": {},
   "source": [
    "## Downloading US geodata through census.gov\n",
    "\n",
    "The [US Census Bureau](https://www.census.gov/) has [Cartographic Boundary Files](https://www.census.gov/geographies/mapping-files/time-series/geo/carto-boundary-file.html) available for download.\n",
    "\n",
    "[![census_geographies_mapping-files](https://raw.githubusercontent.com/katkim0307/COVID-19_Response_Comparison/master/Data/image/census_geo_map_page.PNG)](https://www.census.gov/geographies/mapping-files/time-series/geo/carto-boundary-file.html)\n",
    "\n",
    "\n",
    "#### Additional Link for another shapefile from [DATA.GOV](https://catalog.data.gov/dataset/tiger-line-shapefile-2017-nation-u-s-current-county-and-equivalent-national-shapefile)"
   ]
  },
  {
   "cell_type": "markdown",
   "metadata": {},
   "source": [
    "## Download the zipfile and store it in the Data folder"
   ]
  },
  {
   "cell_type": "code",
   "execution_count": 16,
   "metadata": {},
   "outputs": [],
   "source": [
    "us_counties_url = 'https://www2.census.gov/geo/tiger/GENZ2018/shp/cb_2018_us_county_5m.zip'"
   ]
  },
  {
   "cell_type": "code",
   "execution_count": 17,
   "metadata": {},
   "outputs": [
    {
     "data": {
      "text/plain": [
       "('Data/us_counties.zip', <http.client.HTTPMessage at 0x1d070a69508>)"
      ]
     },
     "execution_count": 17,
     "metadata": {},
     "output_type": "execute_result"
    }
   ],
   "source": [
    "urllib.request.urlretrieve(us_counties_url, \"Data/input/us_counties.zip\")"
   ]
  },
  {
   "cell_type": "markdown",
   "metadata": {},
   "source": [
    "## Unzip the zipfile and Extract"
   ]
  },
  {
   "cell_type": "code",
   "execution_count": 18,
   "metadata": {},
   "outputs": [
    {
     "data": {
      "text/plain": [
       "<zipfile.ZipFile filename='Data/us_counties.zip' mode='r'>"
      ]
     },
     "execution_count": 18,
     "metadata": {},
     "output_type": "execute_result"
    }
   ],
   "source": [
    "us_counties_zip = zipfile.ZipFile('Data/input/us_counties.zip')\n",
    "\n",
    "us_counties_zip"
   ]
  },
  {
   "cell_type": "code",
   "execution_count": 19,
   "metadata": {},
   "outputs": [],
   "source": [
    "us_counties_zip.extractall('Data/input/us_counties')"
   ]
  },
  {
   "cell_type": "markdown",
   "metadata": {},
   "source": [
    "## Look in the directory and see what files are available"
   ]
  },
  {
   "cell_type": "code",
   "execution_count": 8,
   "metadata": {},
   "outputs": [
    {
     "data": {
      "text/plain": [
       "['Data/input/us_counties\\\\cb_2018_us_county_5m.cpg',\n",
       " 'Data/input/us_counties\\\\cb_2018_us_county_5m.dbf',\n",
       " 'Data/input/us_counties\\\\cb_2018_us_county_5m.prj',\n",
       " 'Data/input/us_counties\\\\cb_2018_us_county_5m.shp',\n",
       " 'Data/input/us_counties\\\\cb_2018_us_county_5m.shp.ea.iso.xml',\n",
       " 'Data/input/us_counties\\\\cb_2018_us_county_5m.shp.iso.xml',\n",
       " 'Data/input/us_counties\\\\cb_2018_us_county_5m.shx']"
      ]
     },
     "execution_count": 8,
     "metadata": {},
     "output_type": "execute_result"
    }
   ],
   "source": [
    "glob.glob('Data/input/us_counties/*')"
   ]
  },
  {
   "cell_type": "markdown",
   "metadata": {},
   "source": [
    "## Read the shapefile in the directory"
   ]
  },
  {
   "cell_type": "code",
   "execution_count": 9,
   "metadata": {},
   "outputs": [
    {
     "data": {
      "text/html": [
       "<div>\n",
       "<style scoped>\n",
       "    .dataframe tbody tr th:only-of-type {\n",
       "        vertical-align: middle;\n",
       "    }\n",
       "\n",
       "    .dataframe tbody tr th {\n",
       "        vertical-align: top;\n",
       "    }\n",
       "\n",
       "    .dataframe thead th {\n",
       "        text-align: right;\n",
       "    }\n",
       "</style>\n",
       "<table border=\"1\" class=\"dataframe\">\n",
       "  <thead>\n",
       "    <tr style=\"text-align: right;\">\n",
       "      <th></th>\n",
       "      <th>STATEFP</th>\n",
       "      <th>COUNTYFP</th>\n",
       "      <th>COUNTYNS</th>\n",
       "      <th>AFFGEOID</th>\n",
       "      <th>GEOID</th>\n",
       "      <th>NAME</th>\n",
       "      <th>LSAD</th>\n",
       "      <th>ALAND</th>\n",
       "      <th>AWATER</th>\n",
       "      <th>geometry</th>\n",
       "    </tr>\n",
       "  </thead>\n",
       "  <tbody>\n",
       "    <tr>\n",
       "      <th>0</th>\n",
       "      <td>39</td>\n",
       "      <td>071</td>\n",
       "      <td>01074048</td>\n",
       "      <td>0500000US39071</td>\n",
       "      <td>39071</td>\n",
       "      <td>Highland</td>\n",
       "      <td>06</td>\n",
       "      <td>1432479992</td>\n",
       "      <td>12194983</td>\n",
       "      <td>POLYGON ((-83.86976 39.05553, -83.86568 39.247...</td>\n",
       "    </tr>\n",
       "    <tr>\n",
       "      <th>1</th>\n",
       "      <td>06</td>\n",
       "      <td>003</td>\n",
       "      <td>01675840</td>\n",
       "      <td>0500000US06003</td>\n",
       "      <td>06003</td>\n",
       "      <td>Alpine</td>\n",
       "      <td>06</td>\n",
       "      <td>1912292630</td>\n",
       "      <td>12557304</td>\n",
       "      <td>POLYGON ((-120.07248 38.50987, -120.07239 38.7...</td>\n",
       "    </tr>\n",
       "    <tr>\n",
       "      <th>2</th>\n",
       "      <td>12</td>\n",
       "      <td>033</td>\n",
       "      <td>00295737</td>\n",
       "      <td>0500000US12033</td>\n",
       "      <td>12033</td>\n",
       "      <td>Escambia</td>\n",
       "      <td>06</td>\n",
       "      <td>1701544502</td>\n",
       "      <td>563927612</td>\n",
       "      <td>POLYGON ((-87.62999 30.87766, -87.62946 30.880...</td>\n",
       "    </tr>\n",
       "    <tr>\n",
       "      <th>3</th>\n",
       "      <td>17</td>\n",
       "      <td>101</td>\n",
       "      <td>00424252</td>\n",
       "      <td>0500000US17101</td>\n",
       "      <td>17101</td>\n",
       "      <td>Lawrence</td>\n",
       "      <td>06</td>\n",
       "      <td>963936864</td>\n",
       "      <td>5077783</td>\n",
       "      <td>POLYGON ((-87.91028 38.57493, -87.90811 38.850...</td>\n",
       "    </tr>\n",
       "    <tr>\n",
       "      <th>4</th>\n",
       "      <td>28</td>\n",
       "      <td>153</td>\n",
       "      <td>00695797</td>\n",
       "      <td>0500000US28153</td>\n",
       "      <td>28153</td>\n",
       "      <td>Wayne</td>\n",
       "      <td>06</td>\n",
       "      <td>2099745573</td>\n",
       "      <td>7255476</td>\n",
       "      <td>POLYGON ((-88.94317 31.78421, -88.94335 31.824...</td>\n",
       "    </tr>\n",
       "  </tbody>\n",
       "</table>\n",
       "</div>"
      ],
      "text/plain": [
       "  STATEFP COUNTYFP  COUNTYNS        AFFGEOID  GEOID      NAME LSAD  \\\n",
       "0      39      071  01074048  0500000US39071  39071  Highland   06   \n",
       "1      06      003  01675840  0500000US06003  06003    Alpine   06   \n",
       "2      12      033  00295737  0500000US12033  12033  Escambia   06   \n",
       "3      17      101  00424252  0500000US17101  17101  Lawrence   06   \n",
       "4      28      153  00695797  0500000US28153  28153     Wayne   06   \n",
       "\n",
       "        ALAND     AWATER                                           geometry  \n",
       "0  1432479992   12194983  POLYGON ((-83.86976 39.05553, -83.86568 39.247...  \n",
       "1  1912292630   12557304  POLYGON ((-120.07248 38.50987, -120.07239 38.7...  \n",
       "2  1701544502  563927612  POLYGON ((-87.62999 30.87766, -87.62946 30.880...  \n",
       "3   963936864    5077783  POLYGON ((-87.91028 38.57493, -87.90811 38.850...  \n",
       "4  2099745573    7255476  POLYGON ((-88.94317 31.78421, -88.94335 31.824...  "
      ]
     },
     "execution_count": 9,
     "metadata": {},
     "output_type": "execute_result"
    }
   ],
   "source": [
    "us_counties_gdf = gpd.read_file('Data/input/us_counties/cb_2018_us_county_5m.shp')\n",
    "\n",
    "us_counties_gdf.head()"
   ]
  },
  {
   "cell_type": "code",
   "execution_count": 10,
   "metadata": {
    "scrolled": true
   },
   "outputs": [
    {
     "data": {
      "text/plain": [
       "(3233, 10)"
      ]
     },
     "execution_count": 10,
     "metadata": {},
     "output_type": "execute_result"
    }
   ],
   "source": [
    "us_counties_gdf.shape"
   ]
  },
  {
   "cell_type": "code",
   "execution_count": 11,
   "metadata": {},
   "outputs": [
    {
     "name": "stdout",
     "output_type": "stream",
     "text": [
      "<class 'geopandas.geodataframe.GeoDataFrame'>\n",
      "RangeIndex: 3233 entries, 0 to 3232\n",
      "Data columns (total 10 columns):\n",
      " #   Column    Non-Null Count  Dtype   \n",
      "---  ------    --------------  -----   \n",
      " 0   STATEFP   3233 non-null   object  \n",
      " 1   COUNTYFP  3233 non-null   object  \n",
      " 2   COUNTYNS  3233 non-null   object  \n",
      " 3   AFFGEOID  3233 non-null   object  \n",
      " 4   GEOID     3233 non-null   object  \n",
      " 5   NAME      3233 non-null   object  \n",
      " 6   LSAD      3233 non-null   object  \n",
      " 7   ALAND     3233 non-null   int64   \n",
      " 8   AWATER    3233 non-null   int64   \n",
      " 9   geometry  3233 non-null   geometry\n",
      "dtypes: geometry(1), int64(2), object(7)\n",
      "memory usage: 252.7+ KB\n"
     ]
    }
   ],
   "source": [
    "us_counties_gdf.info()"
   ]
  },
  {
   "cell_type": "code",
   "execution_count": 12,
   "metadata": {},
   "outputs": [
    {
     "data": {
      "text/plain": [
       "<Geographic 2D CRS: EPSG:4269>\n",
       "Name: NAD83\n",
       "Axis Info [ellipsoidal]:\n",
       "- Lat[north]: Geodetic latitude (degree)\n",
       "- Lon[east]: Geodetic longitude (degree)\n",
       "Area of Use:\n",
       "- name: North America - NAD83\n",
       "- bounds: (167.65, 14.92, -47.74, 86.46)\n",
       "Datum: North American Datum 1983\n",
       "- Ellipsoid: GRS 1980\n",
       "- Prime Meridian: Greenwich"
      ]
     },
     "execution_count": 12,
     "metadata": {},
     "output_type": "execute_result"
    }
   ],
   "source": [
    "us_counties_gdf.crs"
   ]
  },
  {
   "cell_type": "code",
   "execution_count": 13,
   "metadata": {
    "scrolled": true
   },
   "outputs": [
    {
     "data": {
      "text/html": [
       "<div>\n",
       "<style scoped>\n",
       "    .dataframe tbody tr th:only-of-type {\n",
       "        vertical-align: middle;\n",
       "    }\n",
       "\n",
       "    .dataframe tbody tr th {\n",
       "        vertical-align: top;\n",
       "    }\n",
       "\n",
       "    .dataframe thead th {\n",
       "        text-align: right;\n",
       "    }\n",
       "</style>\n",
       "<table border=\"1\" class=\"dataframe\">\n",
       "  <thead>\n",
       "    <tr style=\"text-align: right;\">\n",
       "      <th></th>\n",
       "      <th>STATEFP</th>\n",
       "      <th>COUNTYFP</th>\n",
       "      <th>COUNTYNS</th>\n",
       "      <th>AFFGEOID</th>\n",
       "      <th>GEOID</th>\n",
       "      <th>NAME</th>\n",
       "      <th>LSAD</th>\n",
       "      <th>ALAND</th>\n",
       "      <th>AWATER</th>\n",
       "      <th>geometry</th>\n",
       "    </tr>\n",
       "  </thead>\n",
       "  <tbody>\n",
       "    <tr>\n",
       "      <th>7</th>\n",
       "      <td>36</td>\n",
       "      <td>001</td>\n",
       "      <td>00974099</td>\n",
       "      <td>0500000US36001</td>\n",
       "      <td>36001</td>\n",
       "      <td>Albany</td>\n",
       "      <td>06</td>\n",
       "      <td>1354120790</td>\n",
       "      <td>27124553</td>\n",
       "      <td>POLYGON ((-74.26486 42.41986, -74.24446 42.470...</td>\n",
       "    </tr>\n",
       "    <tr>\n",
       "      <th>84</th>\n",
       "      <td>36</td>\n",
       "      <td>049</td>\n",
       "      <td>00974123</td>\n",
       "      <td>0500000US36049</td>\n",
       "      <td>36049</td>\n",
       "      <td>Lewis</td>\n",
       "      <td>06</td>\n",
       "      <td>3301307118</td>\n",
       "      <td>39612945</td>\n",
       "      <td>POLYGON ((-75.84056 43.88398, -75.75816 43.878...</td>\n",
       "    </tr>\n",
       "    <tr>\n",
       "      <th>129</th>\n",
       "      <td>36</td>\n",
       "      <td>099</td>\n",
       "      <td>00974147</td>\n",
       "      <td>0500000US36099</td>\n",
       "      <td>36099</td>\n",
       "      <td>Seneca</td>\n",
       "      <td>06</td>\n",
       "      <td>838403627</td>\n",
       "      <td>172828921</td>\n",
       "      <td>POLYGON ((-76.97853 42.86907, -76.96336 42.872...</td>\n",
       "    </tr>\n",
       "    <tr>\n",
       "      <th>160</th>\n",
       "      <td>36</td>\n",
       "      <td>097</td>\n",
       "      <td>00974146</td>\n",
       "      <td>0500000US36097</td>\n",
       "      <td>36097</td>\n",
       "      <td>Schuyler</td>\n",
       "      <td>06</td>\n",
       "      <td>850405404</td>\n",
       "      <td>36246373</td>\n",
       "      <td>POLYGON ((-77.10720 42.48377, -76.98933 42.484...</td>\n",
       "    </tr>\n",
       "    <tr>\n",
       "      <th>201</th>\n",
       "      <td>36</td>\n",
       "      <td>003</td>\n",
       "      <td>00974100</td>\n",
       "      <td>0500000US36003</td>\n",
       "      <td>36003</td>\n",
       "      <td>Allegany</td>\n",
       "      <td>06</td>\n",
       "      <td>2666029673</td>\n",
       "      <td>12999275</td>\n",
       "      <td>POLYGON ((-78.30884 42.52122, -78.04198 42.520...</td>\n",
       "    </tr>\n",
       "  </tbody>\n",
       "</table>\n",
       "</div>"
      ],
      "text/plain": [
       "    STATEFP COUNTYFP  COUNTYNS        AFFGEOID  GEOID      NAME LSAD  \\\n",
       "7        36      001  00974099  0500000US36001  36001    Albany   06   \n",
       "84       36      049  00974123  0500000US36049  36049     Lewis   06   \n",
       "129      36      099  00974147  0500000US36099  36099    Seneca   06   \n",
       "160      36      097  00974146  0500000US36097  36097  Schuyler   06   \n",
       "201      36      003  00974100  0500000US36003  36003  Allegany   06   \n",
       "\n",
       "          ALAND     AWATER                                           geometry  \n",
       "7    1354120790   27124553  POLYGON ((-74.26486 42.41986, -74.24446 42.470...  \n",
       "84   3301307118   39612945  POLYGON ((-75.84056 43.88398, -75.75816 43.878...  \n",
       "129   838403627  172828921  POLYGON ((-76.97853 42.86907, -76.96336 42.872...  \n",
       "160   850405404   36246373  POLYGON ((-77.10720 42.48377, -76.98933 42.484...  \n",
       "201  2666029673   12999275  POLYGON ((-78.30884 42.52122, -78.04198 42.520...  "
      ]
     },
     "execution_count": 13,
     "metadata": {},
     "output_type": "execute_result"
    }
   ],
   "source": [
    "ny_counties_gdf = us_counties_gdf[us_counties_gdf['STATEFP']=='36']\n",
    "\n",
    "ny_counties_gdf.head()"
   ]
  },
  {
   "cell_type": "code",
   "execution_count": 14,
   "metadata": {
    "scrolled": true
   },
   "outputs": [
    {
     "data": {
      "text/plain": [
       "(62, 10)"
      ]
     },
     "execution_count": 14,
     "metadata": {},
     "output_type": "execute_result"
    }
   ],
   "source": [
    "ny_counties_gdf.shape"
   ]
  },
  {
   "cell_type": "markdown",
   "metadata": {},
   "source": [
    "## Problem 1: There is no State Name, only State Fips code\n",
    "\n",
    "### Let's get the State name by merging `us_counties_gdf` with `Data/input/us_state_fips/us-state-ansi-fips.csv`"
   ]
  },
  {
   "cell_type": "code",
   "execution_count": 49,
   "metadata": {},
   "outputs": [],
   "source": [
    "fips_csv_dir = 'Data/input/us_state_fips/us-state-ansi-fips.csv'"
   ]
  },
  {
   "cell_type": "code",
   "execution_count": 50,
   "metadata": {
    "scrolled": true
   },
   "outputs": [
    {
     "data": {
      "text/html": [
       "<div>\n",
       "<style scoped>\n",
       "    .dataframe tbody tr th:only-of-type {\n",
       "        vertical-align: middle;\n",
       "    }\n",
       "\n",
       "    .dataframe tbody tr th {\n",
       "        vertical-align: top;\n",
       "    }\n",
       "\n",
       "    .dataframe thead th {\n",
       "        text-align: right;\n",
       "    }\n",
       "</style>\n",
       "<table border=\"1\" class=\"dataframe\">\n",
       "  <thead>\n",
       "    <tr style=\"text-align: right;\">\n",
       "      <th></th>\n",
       "      <th>stname</th>\n",
       "      <th>fips</th>\n",
       "      <th>stusps</th>\n",
       "    </tr>\n",
       "  </thead>\n",
       "  <tbody>\n",
       "    <tr>\n",
       "      <th>0</th>\n",
       "      <td>Alabama</td>\n",
       "      <td>1</td>\n",
       "      <td>AL</td>\n",
       "    </tr>\n",
       "    <tr>\n",
       "      <th>1</th>\n",
       "      <td>Alaska</td>\n",
       "      <td>2</td>\n",
       "      <td>AK</td>\n",
       "    </tr>\n",
       "    <tr>\n",
       "      <th>2</th>\n",
       "      <td>Arizona</td>\n",
       "      <td>4</td>\n",
       "      <td>AZ</td>\n",
       "    </tr>\n",
       "    <tr>\n",
       "      <th>3</th>\n",
       "      <td>Arkansas</td>\n",
       "      <td>5</td>\n",
       "      <td>AR</td>\n",
       "    </tr>\n",
       "    <tr>\n",
       "      <th>4</th>\n",
       "      <td>California</td>\n",
       "      <td>6</td>\n",
       "      <td>CA</td>\n",
       "    </tr>\n",
       "  </tbody>\n",
       "</table>\n",
       "</div>"
      ],
      "text/plain": [
       "       stname   fips  stusps\n",
       "0     Alabama      1      AL\n",
       "1      Alaska      2      AK\n",
       "2     Arizona      4      AZ\n",
       "3    Arkansas      5      AR\n",
       "4  California      6      CA"
      ]
     },
     "execution_count": 50,
     "metadata": {},
     "output_type": "execute_result"
    }
   ],
   "source": [
    "fips_df = pd.read_csv(fips_csv_dir)\n",
    "\n",
    "fips_df.head()"
   ]
  },
  {
   "cell_type": "code",
   "execution_count": 51,
   "metadata": {
    "scrolled": true
   },
   "outputs": [
    {
     "name": "stdout",
     "output_type": "stream",
     "text": [
      "<class 'pandas.core.frame.DataFrame'>\n",
      "RangeIndex: 51 entries, 0 to 50\n",
      "Data columns (total 3 columns):\n",
      " #   Column   Non-Null Count  Dtype \n",
      "---  ------   --------------  ----- \n",
      " 0   stname   51 non-null     object\n",
      " 1    fips    51 non-null     int64 \n",
      " 2    stusps  51 non-null     object\n",
      "dtypes: int64(1), object(2)\n",
      "memory usage: 1.3+ KB\n"
     ]
    }
   ],
   "source": [
    "fips_df.info()"
   ]
  },
  {
   "cell_type": "code",
   "execution_count": 52,
   "metadata": {},
   "outputs": [],
   "source": [
    "fips_df.rename(columns=\n",
    "    {' fips': 'fips',\n",
    "    ' stusps': 'postcode',},\n",
    "    inplace=True)"
   ]
  },
  {
   "cell_type": "code",
   "execution_count": 53,
   "metadata": {},
   "outputs": [
    {
     "name": "stdout",
     "output_type": "stream",
     "text": [
      "<class 'pandas.core.frame.DataFrame'>\n",
      "RangeIndex: 51 entries, 0 to 50\n",
      "Data columns (total 3 columns):\n",
      " #   Column    Non-Null Count  Dtype \n",
      "---  ------    --------------  ----- \n",
      " 0   stname    51 non-null     object\n",
      " 1   fips      51 non-null     int64 \n",
      " 2   postcode  51 non-null     object\n",
      "dtypes: int64(1), object(2)\n",
      "memory usage: 1.3+ KB\n"
     ]
    }
   ],
   "source": [
    "fips_df.info()"
   ]
  },
  {
   "cell_type": "markdown",
   "metadata": {},
   "source": [
    "## Attribute Joins (Merging on 'STATEFP' and 'State (FIPS)')\n",
    "\n",
    "Since `us_counties_gdf` is a GeoDataFrame and `fips_df` is a dataframe, I will first convert `us_counties_gdf` to a dataframe, and then merge them."
   ]
  },
  {
   "cell_type": "code",
   "execution_count": 20,
   "metadata": {},
   "outputs": [
    {
     "name": "stdout",
     "output_type": "stream",
     "text": [
      "<class 'pandas.core.frame.DataFrame'>\n",
      "RangeIndex: 3233 entries, 0 to 3232\n",
      "Data columns (total 10 columns):\n",
      " #   Column    Non-Null Count  Dtype   \n",
      "---  ------    --------------  -----   \n",
      " 0   STATEFP   3233 non-null   object  \n",
      " 1   COUNTYFP  3233 non-null   object  \n",
      " 2   COUNTYNS  3233 non-null   object  \n",
      " 3   AFFGEOID  3233 non-null   object  \n",
      " 4   GEOID     3233 non-null   object  \n",
      " 5   NAME      3233 non-null   object  \n",
      " 6   LSAD      3233 non-null   object  \n",
      " 7   ALAND     3233 non-null   int64   \n",
      " 8   AWATER    3233 non-null   int64   \n",
      " 9   geometry  3233 non-null   geometry\n",
      "dtypes: geometry(1), int64(2), object(7)\n",
      "memory usage: 252.7+ KB\n"
     ]
    }
   ],
   "source": [
    "us_counties_df = pd.DataFrame(us_counties_gdf)\n",
    "\n",
    "us_counties_df.info()\n",
    "# type(us_counties_df)"
   ]
  },
  {
   "cell_type": "code",
   "execution_count": 54,
   "metadata": {},
   "outputs": [
    {
     "ename": "ValueError",
     "evalue": "You are trying to merge on object and int64 columns. If you wish to proceed you should use pd.concat",
     "output_type": "error",
     "traceback": [
      "\u001b[1;31m---------------------------------------------------------------------------\u001b[0m",
      "\u001b[1;31mValueError\u001b[0m                                Traceback (most recent call last)",
      "\u001b[1;32m<ipython-input-54-3f9da100a540>\u001b[0m in \u001b[0;36m<module>\u001b[1;34m\u001b[0m\n\u001b[1;32m----> 1\u001b[1;33m \u001b[0mmerged_df\u001b[0m \u001b[1;33m=\u001b[0m \u001b[0mpd\u001b[0m\u001b[1;33m.\u001b[0m\u001b[0mmerge\u001b[0m\u001b[1;33m(\u001b[0m\u001b[0mleft\u001b[0m\u001b[1;33m=\u001b[0m\u001b[0mus_counties_df\u001b[0m\u001b[1;33m,\u001b[0m \u001b[0mright\u001b[0m\u001b[1;33m=\u001b[0m\u001b[0mfips_df\u001b[0m\u001b[1;33m,\u001b[0m \u001b[0mhow\u001b[0m\u001b[1;33m=\u001b[0m\u001b[1;34m'left'\u001b[0m\u001b[1;33m,\u001b[0m \u001b[0mleft_on\u001b[0m\u001b[1;33m=\u001b[0m\u001b[1;34m'STATEFP'\u001b[0m\u001b[1;33m,\u001b[0m \u001b[0mright_on\u001b[0m\u001b[1;33m=\u001b[0m\u001b[1;34m'fips'\u001b[0m\u001b[1;33m)\u001b[0m\u001b[1;33m\u001b[0m\u001b[1;33m\u001b[0m\u001b[0m\n\u001b[0m\u001b[0;32m      2\u001b[0m \u001b[1;33m\u001b[0m\u001b[0m\n\u001b[0;32m      3\u001b[0m \u001b[0mmerged_df\u001b[0m\u001b[1;33m\u001b[0m\u001b[1;33m\u001b[0m\u001b[0m\n",
      "\u001b[1;32m~\\anaconda3\\envs\\GIS\\lib\\site-packages\\pandas\\core\\reshape\\merge.py\u001b[0m in \u001b[0;36mmerge\u001b[1;34m(left, right, how, on, left_on, right_on, left_index, right_index, sort, suffixes, copy, indicator, validate)\u001b[0m\n\u001b[0;32m     84\u001b[0m         \u001b[0mcopy\u001b[0m\u001b[1;33m=\u001b[0m\u001b[0mcopy\u001b[0m\u001b[1;33m,\u001b[0m\u001b[1;33m\u001b[0m\u001b[1;33m\u001b[0m\u001b[0m\n\u001b[0;32m     85\u001b[0m         \u001b[0mindicator\u001b[0m\u001b[1;33m=\u001b[0m\u001b[0mindicator\u001b[0m\u001b[1;33m,\u001b[0m\u001b[1;33m\u001b[0m\u001b[1;33m\u001b[0m\u001b[0m\n\u001b[1;32m---> 86\u001b[1;33m         \u001b[0mvalidate\u001b[0m\u001b[1;33m=\u001b[0m\u001b[0mvalidate\u001b[0m\u001b[1;33m,\u001b[0m\u001b[1;33m\u001b[0m\u001b[1;33m\u001b[0m\u001b[0m\n\u001b[0m\u001b[0;32m     87\u001b[0m     )\n\u001b[0;32m     88\u001b[0m     \u001b[1;32mreturn\u001b[0m \u001b[0mop\u001b[0m\u001b[1;33m.\u001b[0m\u001b[0mget_result\u001b[0m\u001b[1;33m(\u001b[0m\u001b[1;33m)\u001b[0m\u001b[1;33m\u001b[0m\u001b[1;33m\u001b[0m\u001b[0m\n",
      "\u001b[1;32m~\\anaconda3\\envs\\GIS\\lib\\site-packages\\pandas\\core\\reshape\\merge.py\u001b[0m in \u001b[0;36m__init__\u001b[1;34m(self, left, right, how, on, left_on, right_on, axis, left_index, right_index, sort, suffixes, copy, indicator, validate)\u001b[0m\n\u001b[0;32m    629\u001b[0m         \u001b[1;31m# validate the merge keys dtypes. We may need to coerce\u001b[0m\u001b[1;33m\u001b[0m\u001b[1;33m\u001b[0m\u001b[1;33m\u001b[0m\u001b[0m\n\u001b[0;32m    630\u001b[0m         \u001b[1;31m# to avoid incompat dtypes\u001b[0m\u001b[1;33m\u001b[0m\u001b[1;33m\u001b[0m\u001b[1;33m\u001b[0m\u001b[0m\n\u001b[1;32m--> 631\u001b[1;33m         \u001b[0mself\u001b[0m\u001b[1;33m.\u001b[0m\u001b[0m_maybe_coerce_merge_keys\u001b[0m\u001b[1;33m(\u001b[0m\u001b[1;33m)\u001b[0m\u001b[1;33m\u001b[0m\u001b[1;33m\u001b[0m\u001b[0m\n\u001b[0m\u001b[0;32m    632\u001b[0m \u001b[1;33m\u001b[0m\u001b[0m\n\u001b[0;32m    633\u001b[0m         \u001b[1;31m# If argument passed to validate,\u001b[0m\u001b[1;33m\u001b[0m\u001b[1;33m\u001b[0m\u001b[1;33m\u001b[0m\u001b[0m\n",
      "\u001b[1;32m~\\anaconda3\\envs\\GIS\\lib\\site-packages\\pandas\\core\\reshape\\merge.py\u001b[0m in \u001b[0;36m_maybe_coerce_merge_keys\u001b[1;34m(self)\u001b[0m\n\u001b[0;32m   1144\u001b[0m                     \u001b[0minferred_right\u001b[0m \u001b[1;32min\u001b[0m \u001b[0mstring_types\u001b[0m \u001b[1;32mand\u001b[0m \u001b[0minferred_left\u001b[0m \u001b[1;32mnot\u001b[0m \u001b[1;32min\u001b[0m \u001b[0mstring_types\u001b[0m\u001b[1;33m\u001b[0m\u001b[1;33m\u001b[0m\u001b[0m\n\u001b[0;32m   1145\u001b[0m                 ):\n\u001b[1;32m-> 1146\u001b[1;33m                     \u001b[1;32mraise\u001b[0m \u001b[0mValueError\u001b[0m\u001b[1;33m(\u001b[0m\u001b[0mmsg\u001b[0m\u001b[1;33m)\u001b[0m\u001b[1;33m\u001b[0m\u001b[1;33m\u001b[0m\u001b[0m\n\u001b[0m\u001b[0;32m   1147\u001b[0m \u001b[1;33m\u001b[0m\u001b[0m\n\u001b[0;32m   1148\u001b[0m             \u001b[1;31m# datetimelikes must match exactly\u001b[0m\u001b[1;33m\u001b[0m\u001b[1;33m\u001b[0m\u001b[1;33m\u001b[0m\u001b[0m\n",
      "\u001b[1;31mValueError\u001b[0m: You are trying to merge on object and int64 columns. If you wish to proceed you should use pd.concat"
     ]
    }
   ],
   "source": [
    "merged_df = pd.merge(left=us_counties_df, right=fips_df, how='left', left_on='STATEFP', right_on='fips')\n",
    "\n",
    "merged_df"
   ]
  },
  {
   "cell_type": "markdown",
   "metadata": {},
   "source": [
    "## Arg, their Dtype is different.  Let's convert `fips_df['fips']` from int64 to string"
   ]
  },
  {
   "cell_type": "code",
   "execution_count": 55,
   "metadata": {},
   "outputs": [],
   "source": [
    "fips_df['fips'] = fips_df['fips'].astype(str)"
   ]
  },
  {
   "cell_type": "code",
   "execution_count": 56,
   "metadata": {},
   "outputs": [
    {
     "name": "stdout",
     "output_type": "stream",
     "text": [
      "<class 'pandas.core.frame.DataFrame'>\n",
      "RangeIndex: 51 entries, 0 to 50\n",
      "Data columns (total 3 columns):\n",
      " #   Column    Non-Null Count  Dtype \n",
      "---  ------    --------------  ----- \n",
      " 0   stname    51 non-null     object\n",
      " 1   fips      51 non-null     object\n",
      " 2   postcode  51 non-null     object\n",
      "dtypes: object(3)\n",
      "memory usage: 1.3+ KB\n"
     ]
    }
   ],
   "source": [
    "fips_df.info()"
   ]
  },
  {
   "cell_type": "code",
   "execution_count": 57,
   "metadata": {
    "scrolled": false
   },
   "outputs": [
    {
     "data": {
      "text/html": [
       "<div>\n",
       "<style scoped>\n",
       "    .dataframe tbody tr th:only-of-type {\n",
       "        vertical-align: middle;\n",
       "    }\n",
       "\n",
       "    .dataframe tbody tr th {\n",
       "        vertical-align: top;\n",
       "    }\n",
       "\n",
       "    .dataframe thead th {\n",
       "        text-align: right;\n",
       "    }\n",
       "</style>\n",
       "<table border=\"1\" class=\"dataframe\">\n",
       "  <thead>\n",
       "    <tr style=\"text-align: right;\">\n",
       "      <th></th>\n",
       "      <th>STATEFP</th>\n",
       "      <th>COUNTYFP</th>\n",
       "      <th>COUNTYNS</th>\n",
       "      <th>AFFGEOID</th>\n",
       "      <th>GEOID</th>\n",
       "      <th>NAME</th>\n",
       "      <th>LSAD</th>\n",
       "      <th>ALAND</th>\n",
       "      <th>AWATER</th>\n",
       "      <th>geometry</th>\n",
       "      <th>stname</th>\n",
       "      <th>fips</th>\n",
       "      <th>postcode</th>\n",
       "    </tr>\n",
       "  </thead>\n",
       "  <tbody>\n",
       "    <tr>\n",
       "      <th>0</th>\n",
       "      <td>39</td>\n",
       "      <td>071</td>\n",
       "      <td>01074048</td>\n",
       "      <td>0500000US39071</td>\n",
       "      <td>39071</td>\n",
       "      <td>Highland</td>\n",
       "      <td>06</td>\n",
       "      <td>1432479992</td>\n",
       "      <td>12194983</td>\n",
       "      <td>POLYGON ((-83.86976 39.05553, -83.86568 39.247...</td>\n",
       "      <td>Ohio</td>\n",
       "      <td>39</td>\n",
       "      <td>OH</td>\n",
       "    </tr>\n",
       "    <tr>\n",
       "      <th>1</th>\n",
       "      <td>06</td>\n",
       "      <td>003</td>\n",
       "      <td>01675840</td>\n",
       "      <td>0500000US06003</td>\n",
       "      <td>06003</td>\n",
       "      <td>Alpine</td>\n",
       "      <td>06</td>\n",
       "      <td>1912292630</td>\n",
       "      <td>12557304</td>\n",
       "      <td>POLYGON ((-120.07248 38.50987, -120.07239 38.7...</td>\n",
       "      <td>NaN</td>\n",
       "      <td>NaN</td>\n",
       "      <td>NaN</td>\n",
       "    </tr>\n",
       "    <tr>\n",
       "      <th>2</th>\n",
       "      <td>12</td>\n",
       "      <td>033</td>\n",
       "      <td>00295737</td>\n",
       "      <td>0500000US12033</td>\n",
       "      <td>12033</td>\n",
       "      <td>Escambia</td>\n",
       "      <td>06</td>\n",
       "      <td>1701544502</td>\n",
       "      <td>563927612</td>\n",
       "      <td>POLYGON ((-87.62999 30.87766, -87.62946 30.880...</td>\n",
       "      <td>Florida</td>\n",
       "      <td>12</td>\n",
       "      <td>FL</td>\n",
       "    </tr>\n",
       "    <tr>\n",
       "      <th>3</th>\n",
       "      <td>17</td>\n",
       "      <td>101</td>\n",
       "      <td>00424252</td>\n",
       "      <td>0500000US17101</td>\n",
       "      <td>17101</td>\n",
       "      <td>Lawrence</td>\n",
       "      <td>06</td>\n",
       "      <td>963936864</td>\n",
       "      <td>5077783</td>\n",
       "      <td>POLYGON ((-87.91028 38.57493, -87.90811 38.850...</td>\n",
       "      <td>Illinois</td>\n",
       "      <td>17</td>\n",
       "      <td>IL</td>\n",
       "    </tr>\n",
       "    <tr>\n",
       "      <th>4</th>\n",
       "      <td>28</td>\n",
       "      <td>153</td>\n",
       "      <td>00695797</td>\n",
       "      <td>0500000US28153</td>\n",
       "      <td>28153</td>\n",
       "      <td>Wayne</td>\n",
       "      <td>06</td>\n",
       "      <td>2099745573</td>\n",
       "      <td>7255476</td>\n",
       "      <td>POLYGON ((-88.94317 31.78421, -88.94335 31.824...</td>\n",
       "      <td>Mississippi</td>\n",
       "      <td>28</td>\n",
       "      <td>MS</td>\n",
       "    </tr>\n",
       "  </tbody>\n",
       "</table>\n",
       "</div>"
      ],
      "text/plain": [
       "  STATEFP COUNTYFP  COUNTYNS        AFFGEOID  GEOID      NAME LSAD  \\\n",
       "0      39      071  01074048  0500000US39071  39071  Highland   06   \n",
       "1      06      003  01675840  0500000US06003  06003    Alpine   06   \n",
       "2      12      033  00295737  0500000US12033  12033  Escambia   06   \n",
       "3      17      101  00424252  0500000US17101  17101  Lawrence   06   \n",
       "4      28      153  00695797  0500000US28153  28153     Wayne   06   \n",
       "\n",
       "        ALAND     AWATER                                           geometry  \\\n",
       "0  1432479992   12194983  POLYGON ((-83.86976 39.05553, -83.86568 39.247...   \n",
       "1  1912292630   12557304  POLYGON ((-120.07248 38.50987, -120.07239 38.7...   \n",
       "2  1701544502  563927612  POLYGON ((-87.62999 30.87766, -87.62946 30.880...   \n",
       "3   963936864    5077783  POLYGON ((-87.91028 38.57493, -87.90811 38.850...   \n",
       "4  2099745573    7255476  POLYGON ((-88.94317 31.78421, -88.94335 31.824...   \n",
       "\n",
       "        stname fips postcode  \n",
       "0         Ohio   39       OH  \n",
       "1          NaN  NaN      NaN  \n",
       "2      Florida   12       FL  \n",
       "3     Illinois   17       IL  \n",
       "4  Mississippi   28       MS  "
      ]
     },
     "execution_count": 57,
     "metadata": {},
     "output_type": "execute_result"
    }
   ],
   "source": [
    "merged_df = pd.merge(\n",
    "    left=us_counties_df, \n",
    "    right=fips_df, \n",
    "    how='left', \n",
    "    left_on='STATEFP', \n",
    "    right_on='fips'\n",
    ")\n",
    "\n",
    "merged_df.head()"
   ]
  },
  {
   "cell_type": "code",
   "execution_count": 73,
   "metadata": {
    "scrolled": false
   },
   "outputs": [
    {
     "data": {
      "text/html": [
       "<div>\n",
       "<style scoped>\n",
       "    .dataframe tbody tr th:only-of-type {\n",
       "        vertical-align: middle;\n",
       "    }\n",
       "\n",
       "    .dataframe tbody tr th {\n",
       "        vertical-align: top;\n",
       "    }\n",
       "\n",
       "    .dataframe thead th {\n",
       "        text-align: right;\n",
       "    }\n",
       "</style>\n",
       "<table border=\"1\" class=\"dataframe\">\n",
       "  <thead>\n",
       "    <tr style=\"text-align: right;\">\n",
       "      <th></th>\n",
       "      <th>STATEFP</th>\n",
       "      <th>COUNTYFP</th>\n",
       "      <th>COUNTYNS</th>\n",
       "      <th>AFFGEOID</th>\n",
       "      <th>GEOID</th>\n",
       "      <th>NAME</th>\n",
       "      <th>LSAD</th>\n",
       "      <th>ALAND</th>\n",
       "      <th>AWATER</th>\n",
       "      <th>geometry</th>\n",
       "      <th>stname</th>\n",
       "      <th>postcode</th>\n",
       "    </tr>\n",
       "  </thead>\n",
       "  <tbody>\n",
       "    <tr>\n",
       "      <th>0</th>\n",
       "      <td>39</td>\n",
       "      <td>071</td>\n",
       "      <td>01074048</td>\n",
       "      <td>0500000US39071</td>\n",
       "      <td>39071</td>\n",
       "      <td>Highland</td>\n",
       "      <td>06</td>\n",
       "      <td>1432479992</td>\n",
       "      <td>12194983</td>\n",
       "      <td>POLYGON ((-83.86976 39.05553, -83.86568 39.247...</td>\n",
       "      <td>Ohio</td>\n",
       "      <td>OH</td>\n",
       "    </tr>\n",
       "    <tr>\n",
       "      <th>1</th>\n",
       "      <td>06</td>\n",
       "      <td>003</td>\n",
       "      <td>01675840</td>\n",
       "      <td>0500000US06003</td>\n",
       "      <td>06003</td>\n",
       "      <td>Alpine</td>\n",
       "      <td>06</td>\n",
       "      <td>1912292630</td>\n",
       "      <td>12557304</td>\n",
       "      <td>POLYGON ((-120.07248 38.50987, -120.07239 38.7...</td>\n",
       "      <td>NaN</td>\n",
       "      <td>NaN</td>\n",
       "    </tr>\n",
       "    <tr>\n",
       "      <th>2</th>\n",
       "      <td>12</td>\n",
       "      <td>033</td>\n",
       "      <td>00295737</td>\n",
       "      <td>0500000US12033</td>\n",
       "      <td>12033</td>\n",
       "      <td>Escambia</td>\n",
       "      <td>06</td>\n",
       "      <td>1701544502</td>\n",
       "      <td>563927612</td>\n",
       "      <td>POLYGON ((-87.62999 30.87766, -87.62946 30.880...</td>\n",
       "      <td>Florida</td>\n",
       "      <td>FL</td>\n",
       "    </tr>\n",
       "    <tr>\n",
       "      <th>3</th>\n",
       "      <td>17</td>\n",
       "      <td>101</td>\n",
       "      <td>00424252</td>\n",
       "      <td>0500000US17101</td>\n",
       "      <td>17101</td>\n",
       "      <td>Lawrence</td>\n",
       "      <td>06</td>\n",
       "      <td>963936864</td>\n",
       "      <td>5077783</td>\n",
       "      <td>POLYGON ((-87.91028 38.57493, -87.90811 38.850...</td>\n",
       "      <td>Illinois</td>\n",
       "      <td>IL</td>\n",
       "    </tr>\n",
       "    <tr>\n",
       "      <th>4</th>\n",
       "      <td>28</td>\n",
       "      <td>153</td>\n",
       "      <td>00695797</td>\n",
       "      <td>0500000US28153</td>\n",
       "      <td>28153</td>\n",
       "      <td>Wayne</td>\n",
       "      <td>06</td>\n",
       "      <td>2099745573</td>\n",
       "      <td>7255476</td>\n",
       "      <td>POLYGON ((-88.94317 31.78421, -88.94335 31.824...</td>\n",
       "      <td>Mississippi</td>\n",
       "      <td>MS</td>\n",
       "    </tr>\n",
       "    <tr>\n",
       "      <th>...</th>\n",
       "      <td>...</td>\n",
       "      <td>...</td>\n",
       "      <td>...</td>\n",
       "      <td>...</td>\n",
       "      <td>...</td>\n",
       "      <td>...</td>\n",
       "      <td>...</td>\n",
       "      <td>...</td>\n",
       "      <td>...</td>\n",
       "      <td>...</td>\n",
       "      <td>...</td>\n",
       "      <td>...</td>\n",
       "    </tr>\n",
       "    <tr>\n",
       "      <th>3228</th>\n",
       "      <td>42</td>\n",
       "      <td>055</td>\n",
       "      <td>01213670</td>\n",
       "      <td>0500000US42055</td>\n",
       "      <td>42055</td>\n",
       "      <td>Franklin</td>\n",
       "      <td>06</td>\n",
       "      <td>2000048804</td>\n",
       "      <td>1547614</td>\n",
       "      <td>POLYGON ((-78.09897 39.72247, -78.06930 39.748...</td>\n",
       "      <td>Pennsylvania</td>\n",
       "      <td>PA</td>\n",
       "    </tr>\n",
       "    <tr>\n",
       "      <th>3229</th>\n",
       "      <td>12</td>\n",
       "      <td>001</td>\n",
       "      <td>00308548</td>\n",
       "      <td>0500000US12001</td>\n",
       "      <td>12001</td>\n",
       "      <td>Alachua</td>\n",
       "      <td>06</td>\n",
       "      <td>2266324954</td>\n",
       "      <td>242877007</td>\n",
       "      <td>POLYGON ((-82.65855 29.83014, -82.65149 29.825...</td>\n",
       "      <td>Florida</td>\n",
       "      <td>FL</td>\n",
       "    </tr>\n",
       "    <tr>\n",
       "      <th>3230</th>\n",
       "      <td>48</td>\n",
       "      <td>247</td>\n",
       "      <td>01383909</td>\n",
       "      <td>0500000US48247</td>\n",
       "      <td>48247</td>\n",
       "      <td>Jim Hogg</td>\n",
       "      <td>06</td>\n",
       "      <td>2942674729</td>\n",
       "      <td>92565</td>\n",
       "      <td>POLYGON ((-98.95467 27.26940, -98.79809 27.268...</td>\n",
       "      <td>Texas</td>\n",
       "      <td>TX</td>\n",
       "    </tr>\n",
       "    <tr>\n",
       "      <th>3231</th>\n",
       "      <td>29</td>\n",
       "      <td>099</td>\n",
       "      <td>00758504</td>\n",
       "      <td>0500000US29099</td>\n",
       "      <td>29099</td>\n",
       "      <td>Jefferson</td>\n",
       "      <td>06</td>\n",
       "      <td>1700345322</td>\n",
       "      <td>20143587</td>\n",
       "      <td>POLYGON ((-90.76280 38.29555, -90.75560 38.330...</td>\n",
       "      <td>Missouri</td>\n",
       "      <td>MO</td>\n",
       "    </tr>\n",
       "    <tr>\n",
       "      <th>3232</th>\n",
       "      <td>13</td>\n",
       "      <td>307</td>\n",
       "      <td>00352287</td>\n",
       "      <td>0500000US13307</td>\n",
       "      <td>13307</td>\n",
       "      <td>Webster</td>\n",
       "      <td>06</td>\n",
       "      <td>542230980</td>\n",
       "      <td>2348162</td>\n",
       "      <td>POLYGON ((-84.65501 31.96153, -84.64536 31.961...</td>\n",
       "      <td>Georgia</td>\n",
       "      <td>GA</td>\n",
       "    </tr>\n",
       "  </tbody>\n",
       "</table>\n",
       "<p>3233 rows × 12 columns</p>\n",
       "</div>"
      ],
      "text/plain": [
       "     STATEFP COUNTYFP  COUNTYNS        AFFGEOID  GEOID       NAME LSAD  \\\n",
       "0         39      071  01074048  0500000US39071  39071   Highland   06   \n",
       "1         06      003  01675840  0500000US06003  06003     Alpine   06   \n",
       "2         12      033  00295737  0500000US12033  12033   Escambia   06   \n",
       "3         17      101  00424252  0500000US17101  17101   Lawrence   06   \n",
       "4         28      153  00695797  0500000US28153  28153      Wayne   06   \n",
       "...      ...      ...       ...             ...    ...        ...  ...   \n",
       "3228      42      055  01213670  0500000US42055  42055   Franklin   06   \n",
       "3229      12      001  00308548  0500000US12001  12001    Alachua   06   \n",
       "3230      48      247  01383909  0500000US48247  48247   Jim Hogg   06   \n",
       "3231      29      099  00758504  0500000US29099  29099  Jefferson   06   \n",
       "3232      13      307  00352287  0500000US13307  13307    Webster   06   \n",
       "\n",
       "           ALAND     AWATER  \\\n",
       "0     1432479992   12194983   \n",
       "1     1912292630   12557304   \n",
       "2     1701544502  563927612   \n",
       "3      963936864    5077783   \n",
       "4     2099745573    7255476   \n",
       "...          ...        ...   \n",
       "3228  2000048804    1547614   \n",
       "3229  2266324954  242877007   \n",
       "3230  2942674729      92565   \n",
       "3231  1700345322   20143587   \n",
       "3232   542230980    2348162   \n",
       "\n",
       "                                               geometry        stname postcode  \n",
       "0     POLYGON ((-83.86976 39.05553, -83.86568 39.247...          Ohio       OH  \n",
       "1     POLYGON ((-120.07248 38.50987, -120.07239 38.7...           NaN      NaN  \n",
       "2     POLYGON ((-87.62999 30.87766, -87.62946 30.880...       Florida       FL  \n",
       "3     POLYGON ((-87.91028 38.57493, -87.90811 38.850...      Illinois       IL  \n",
       "4     POLYGON ((-88.94317 31.78421, -88.94335 31.824...   Mississippi       MS  \n",
       "...                                                 ...           ...      ...  \n",
       "3228  POLYGON ((-78.09897 39.72247, -78.06930 39.748...  Pennsylvania       PA  \n",
       "3229  POLYGON ((-82.65855 29.83014, -82.65149 29.825...       Florida       FL  \n",
       "3230  POLYGON ((-98.95467 27.26940, -98.79809 27.268...         Texas       TX  \n",
       "3231  POLYGON ((-90.76280 38.29555, -90.75560 38.330...      Missouri       MO  \n",
       "3232  POLYGON ((-84.65501 31.96153, -84.64536 31.961...       Georgia       GA  \n",
       "\n",
       "[3233 rows x 12 columns]"
      ]
     },
     "execution_count": 73,
     "metadata": {},
     "output_type": "execute_result"
    }
   ],
   "source": [
    "merged_df = merged_df.drop(['fips'], axis=1)\n",
    "\n",
    "merged_df"
   ]
  },
  {
   "cell_type": "code",
   "execution_count": 74,
   "metadata": {
    "scrolled": true
   },
   "outputs": [
    {
     "data": {
      "text/html": [
       "<div>\n",
       "<style scoped>\n",
       "    .dataframe tbody tr th:only-of-type {\n",
       "        vertical-align: middle;\n",
       "    }\n",
       "\n",
       "    .dataframe tbody tr th {\n",
       "        vertical-align: top;\n",
       "    }\n",
       "\n",
       "    .dataframe thead th {\n",
       "        text-align: right;\n",
       "    }\n",
       "</style>\n",
       "<table border=\"1\" class=\"dataframe\">\n",
       "  <thead>\n",
       "    <tr style=\"text-align: right;\">\n",
       "      <th></th>\n",
       "      <th>STATEFP</th>\n",
       "      <th>COUNTYFP</th>\n",
       "      <th>COUNTYNS</th>\n",
       "      <th>AFFGEOID</th>\n",
       "      <th>GEOID</th>\n",
       "      <th>NAME</th>\n",
       "      <th>LSAD</th>\n",
       "      <th>ALAND</th>\n",
       "      <th>AWATER</th>\n",
       "      <th>geometry</th>\n",
       "      <th>stname</th>\n",
       "      <th>postcode</th>\n",
       "    </tr>\n",
       "  </thead>\n",
       "  <tbody>\n",
       "    <tr>\n",
       "      <th>1</th>\n",
       "      <td>06</td>\n",
       "      <td>003</td>\n",
       "      <td>01675840</td>\n",
       "      <td>0500000US06003</td>\n",
       "      <td>06003</td>\n",
       "      <td>Alpine</td>\n",
       "      <td>06</td>\n",
       "      <td>1912292630</td>\n",
       "      <td>12557304</td>\n",
       "      <td>POLYGON ((-120.07248 38.50987, -120.07239 38.7...</td>\n",
       "      <td>NaN</td>\n",
       "      <td>NaN</td>\n",
       "    </tr>\n",
       "    <tr>\n",
       "      <th>11</th>\n",
       "      <td>02</td>\n",
       "      <td>100</td>\n",
       "      <td>01419970</td>\n",
       "      <td>0500000US02100</td>\n",
       "      <td>02100</td>\n",
       "      <td>Haines</td>\n",
       "      <td>04</td>\n",
       "      <td>6059513753</td>\n",
       "      <td>1051059522</td>\n",
       "      <td>MULTIPOLYGON (((-135.34933 59.02003, -135.3303...</td>\n",
       "      <td>NaN</td>\n",
       "      <td>NaN</td>\n",
       "    </tr>\n",
       "    <tr>\n",
       "      <th>12</th>\n",
       "      <td>04</td>\n",
       "      <td>015</td>\n",
       "      <td>00025445</td>\n",
       "      <td>0500000US04015</td>\n",
       "      <td>04015</td>\n",
       "      <td>Mohave</td>\n",
       "      <td>06</td>\n",
       "      <td>34475503959</td>\n",
       "      <td>387309657</td>\n",
       "      <td>POLYGON ((-114.75562 36.08717, -114.75364 36.0...</td>\n",
       "      <td>NaN</td>\n",
       "      <td>NaN</td>\n",
       "    </tr>\n",
       "    <tr>\n",
       "      <th>20</th>\n",
       "      <td>05</td>\n",
       "      <td>051</td>\n",
       "      <td>00066855</td>\n",
       "      <td>0500000US05051</td>\n",
       "      <td>05051</td>\n",
       "      <td>Garland</td>\n",
       "      <td>06</td>\n",
       "      <td>1755290360</td>\n",
       "      <td>147383937</td>\n",
       "      <td>POLYGON ((-93.40355 34.60199, -93.40350 34.610...</td>\n",
       "      <td>NaN</td>\n",
       "      <td>NaN</td>\n",
       "    </tr>\n",
       "    <tr>\n",
       "      <th>21</th>\n",
       "      <td>06</td>\n",
       "      <td>109</td>\n",
       "      <td>00277319</td>\n",
       "      <td>0500000US06109</td>\n",
       "      <td>06109</td>\n",
       "      <td>Tuolumne</td>\n",
       "      <td>06</td>\n",
       "      <td>5752079372</td>\n",
       "      <td>138722707</td>\n",
       "      <td>POLYGON ((-120.65255 37.83346, -120.64407 37.8...</td>\n",
       "      <td>NaN</td>\n",
       "      <td>NaN</td>\n",
       "    </tr>\n",
       "    <tr>\n",
       "      <th>...</th>\n",
       "      <td>...</td>\n",
       "      <td>...</td>\n",
       "      <td>...</td>\n",
       "      <td>...</td>\n",
       "      <td>...</td>\n",
       "      <td>...</td>\n",
       "      <td>...</td>\n",
       "      <td>...</td>\n",
       "      <td>...</td>\n",
       "      <td>...</td>\n",
       "      <td>...</td>\n",
       "      <td>...</td>\n",
       "    </tr>\n",
       "    <tr>\n",
       "      <th>3194</th>\n",
       "      <td>04</td>\n",
       "      <td>009</td>\n",
       "      <td>00025444</td>\n",
       "      <td>0500000US04009</td>\n",
       "      <td>04009</td>\n",
       "      <td>Graham</td>\n",
       "      <td>06</td>\n",
       "      <td>11972737302</td>\n",
       "      <td>47477716</td>\n",
       "      <td>POLYGON ((-110.45744 33.29498, -110.45302 33.2...</td>\n",
       "      <td>NaN</td>\n",
       "      <td>NaN</td>\n",
       "    </tr>\n",
       "    <tr>\n",
       "      <th>3195</th>\n",
       "      <td>08</td>\n",
       "      <td>075</td>\n",
       "      <td>00198153</td>\n",
       "      <td>0500000US08075</td>\n",
       "      <td>08075</td>\n",
       "      <td>Logan</td>\n",
       "      <td>06</td>\n",
       "      <td>4761947992</td>\n",
       "      <td>16363553</td>\n",
       "      <td>POLYGON ((-103.58037 40.70202, -103.57430 40.7...</td>\n",
       "      <td>NaN</td>\n",
       "      <td>NaN</td>\n",
       "    </tr>\n",
       "    <tr>\n",
       "      <th>3197</th>\n",
       "      <td>72</td>\n",
       "      <td>139</td>\n",
       "      <td>01804550</td>\n",
       "      <td>0500000US72139</td>\n",
       "      <td>72139</td>\n",
       "      <td>Trujillo Alto</td>\n",
       "      <td>13</td>\n",
       "      <td>53786133</td>\n",
       "      <td>1592599</td>\n",
       "      <td>POLYGON ((-66.03550 18.31984, -66.03553 18.344...</td>\n",
       "      <td>NaN</td>\n",
       "      <td>NaN</td>\n",
       "    </tr>\n",
       "    <tr>\n",
       "      <th>3222</th>\n",
       "      <td>72</td>\n",
       "      <td>017</td>\n",
       "      <td>01804488</td>\n",
       "      <td>0500000US72017</td>\n",
       "      <td>72017</td>\n",
       "      <td>Barceloneta</td>\n",
       "      <td>13</td>\n",
       "      <td>48421898</td>\n",
       "      <td>31649450</td>\n",
       "      <td>POLYGON ((-66.58322 18.43778, -66.58777 18.437...</td>\n",
       "      <td>NaN</td>\n",
       "      <td>NaN</td>\n",
       "    </tr>\n",
       "    <tr>\n",
       "      <th>3227</th>\n",
       "      <td>08</td>\n",
       "      <td>009</td>\n",
       "      <td>00198120</td>\n",
       "      <td>0500000US08009</td>\n",
       "      <td>08009</td>\n",
       "      <td>Baca</td>\n",
       "      <td>06</td>\n",
       "      <td>6617400546</td>\n",
       "      <td>6142193</td>\n",
       "      <td>POLYGON ((-103.08254 37.38161, -103.07466 37.3...</td>\n",
       "      <td>NaN</td>\n",
       "      <td>NaN</td>\n",
       "    </tr>\n",
       "  </tbody>\n",
       "</table>\n",
       "<p>407 rows × 12 columns</p>\n",
       "</div>"
      ],
      "text/plain": [
       "     STATEFP COUNTYFP  COUNTYNS        AFFGEOID  GEOID           NAME LSAD  \\\n",
       "1         06      003  01675840  0500000US06003  06003         Alpine   06   \n",
       "11        02      100  01419970  0500000US02100  02100         Haines   04   \n",
       "12        04      015  00025445  0500000US04015  04015         Mohave   06   \n",
       "20        05      051  00066855  0500000US05051  05051        Garland   06   \n",
       "21        06      109  00277319  0500000US06109  06109       Tuolumne   06   \n",
       "...      ...      ...       ...             ...    ...            ...  ...   \n",
       "3194      04      009  00025444  0500000US04009  04009         Graham   06   \n",
       "3195      08      075  00198153  0500000US08075  08075          Logan   06   \n",
       "3197      72      139  01804550  0500000US72139  72139  Trujillo Alto   13   \n",
       "3222      72      017  01804488  0500000US72017  72017    Barceloneta   13   \n",
       "3227      08      009  00198120  0500000US08009  08009           Baca   06   \n",
       "\n",
       "            ALAND      AWATER  \\\n",
       "1      1912292630    12557304   \n",
       "11     6059513753  1051059522   \n",
       "12    34475503959   387309657   \n",
       "20     1755290360   147383937   \n",
       "21     5752079372   138722707   \n",
       "...           ...         ...   \n",
       "3194  11972737302    47477716   \n",
       "3195   4761947992    16363553   \n",
       "3197     53786133     1592599   \n",
       "3222     48421898    31649450   \n",
       "3227   6617400546     6142193   \n",
       "\n",
       "                                               geometry stname postcode  \n",
       "1     POLYGON ((-120.07248 38.50987, -120.07239 38.7...    NaN      NaN  \n",
       "11    MULTIPOLYGON (((-135.34933 59.02003, -135.3303...    NaN      NaN  \n",
       "12    POLYGON ((-114.75562 36.08717, -114.75364 36.0...    NaN      NaN  \n",
       "20    POLYGON ((-93.40355 34.60199, -93.40350 34.610...    NaN      NaN  \n",
       "21    POLYGON ((-120.65255 37.83346, -120.64407 37.8...    NaN      NaN  \n",
       "...                                                 ...    ...      ...  \n",
       "3194  POLYGON ((-110.45744 33.29498, -110.45302 33.2...    NaN      NaN  \n",
       "3195  POLYGON ((-103.58037 40.70202, -103.57430 40.7...    NaN      NaN  \n",
       "3197  POLYGON ((-66.03550 18.31984, -66.03553 18.344...    NaN      NaN  \n",
       "3222  POLYGON ((-66.58322 18.43778, -66.58777 18.437...    NaN      NaN  \n",
       "3227  POLYGON ((-103.08254 37.38161, -103.07466 37.3...    NaN      NaN  \n",
       "\n",
       "[407 rows x 12 columns]"
      ]
     },
     "execution_count": 74,
     "metadata": {},
     "output_type": "execute_result"
    }
   ],
   "source": [
    "merged_df[merged_df['stname'].isnull()]"
   ]
  },
  {
   "cell_type": "markdown",
   "metadata": {},
   "source": [
    "## Now let's convert it back to a GeoDataFrame"
   ]
  },
  {
   "cell_type": "code",
   "execution_count": 75,
   "metadata": {
    "scrolled": true
   },
   "outputs": [
    {
     "data": {
      "text/html": [
       "<div>\n",
       "<style scoped>\n",
       "    .dataframe tbody tr th:only-of-type {\n",
       "        vertical-align: middle;\n",
       "    }\n",
       "\n",
       "    .dataframe tbody tr th {\n",
       "        vertical-align: top;\n",
       "    }\n",
       "\n",
       "    .dataframe thead th {\n",
       "        text-align: right;\n",
       "    }\n",
       "</style>\n",
       "<table border=\"1\" class=\"dataframe\">\n",
       "  <thead>\n",
       "    <tr style=\"text-align: right;\">\n",
       "      <th></th>\n",
       "      <th>STATEFP</th>\n",
       "      <th>COUNTYFP</th>\n",
       "      <th>COUNTYNS</th>\n",
       "      <th>AFFGEOID</th>\n",
       "      <th>GEOID</th>\n",
       "      <th>NAME</th>\n",
       "      <th>LSAD</th>\n",
       "      <th>ALAND</th>\n",
       "      <th>AWATER</th>\n",
       "      <th>geometry</th>\n",
       "      <th>stname</th>\n",
       "      <th>postcode</th>\n",
       "    </tr>\n",
       "  </thead>\n",
       "  <tbody>\n",
       "    <tr>\n",
       "      <th>0</th>\n",
       "      <td>39</td>\n",
       "      <td>071</td>\n",
       "      <td>01074048</td>\n",
       "      <td>0500000US39071</td>\n",
       "      <td>39071</td>\n",
       "      <td>Highland</td>\n",
       "      <td>06</td>\n",
       "      <td>1432479992</td>\n",
       "      <td>12194983</td>\n",
       "      <td>POLYGON ((-83.86976 39.05553, -83.86568 39.247...</td>\n",
       "      <td>Ohio</td>\n",
       "      <td>OH</td>\n",
       "    </tr>\n",
       "    <tr>\n",
       "      <th>1</th>\n",
       "      <td>06</td>\n",
       "      <td>003</td>\n",
       "      <td>01675840</td>\n",
       "      <td>0500000US06003</td>\n",
       "      <td>06003</td>\n",
       "      <td>Alpine</td>\n",
       "      <td>06</td>\n",
       "      <td>1912292630</td>\n",
       "      <td>12557304</td>\n",
       "      <td>POLYGON ((-120.07248 38.50987, -120.07239 38.7...</td>\n",
       "      <td>NaN</td>\n",
       "      <td>NaN</td>\n",
       "    </tr>\n",
       "    <tr>\n",
       "      <th>2</th>\n",
       "      <td>12</td>\n",
       "      <td>033</td>\n",
       "      <td>00295737</td>\n",
       "      <td>0500000US12033</td>\n",
       "      <td>12033</td>\n",
       "      <td>Escambia</td>\n",
       "      <td>06</td>\n",
       "      <td>1701544502</td>\n",
       "      <td>563927612</td>\n",
       "      <td>POLYGON ((-87.62999 30.87766, -87.62946 30.880...</td>\n",
       "      <td>Florida</td>\n",
       "      <td>FL</td>\n",
       "    </tr>\n",
       "    <tr>\n",
       "      <th>3</th>\n",
       "      <td>17</td>\n",
       "      <td>101</td>\n",
       "      <td>00424252</td>\n",
       "      <td>0500000US17101</td>\n",
       "      <td>17101</td>\n",
       "      <td>Lawrence</td>\n",
       "      <td>06</td>\n",
       "      <td>963936864</td>\n",
       "      <td>5077783</td>\n",
       "      <td>POLYGON ((-87.91028 38.57493, -87.90811 38.850...</td>\n",
       "      <td>Illinois</td>\n",
       "      <td>IL</td>\n",
       "    </tr>\n",
       "    <tr>\n",
       "      <th>4</th>\n",
       "      <td>28</td>\n",
       "      <td>153</td>\n",
       "      <td>00695797</td>\n",
       "      <td>0500000US28153</td>\n",
       "      <td>28153</td>\n",
       "      <td>Wayne</td>\n",
       "      <td>06</td>\n",
       "      <td>2099745573</td>\n",
       "      <td>7255476</td>\n",
       "      <td>POLYGON ((-88.94317 31.78421, -88.94335 31.824...</td>\n",
       "      <td>Mississippi</td>\n",
       "      <td>MS</td>\n",
       "    </tr>\n",
       "  </tbody>\n",
       "</table>\n",
       "</div>"
      ],
      "text/plain": [
       "  STATEFP COUNTYFP  COUNTYNS        AFFGEOID  GEOID      NAME LSAD  \\\n",
       "0      39      071  01074048  0500000US39071  39071  Highland   06   \n",
       "1      06      003  01675840  0500000US06003  06003    Alpine   06   \n",
       "2      12      033  00295737  0500000US12033  12033  Escambia   06   \n",
       "3      17      101  00424252  0500000US17101  17101  Lawrence   06   \n",
       "4      28      153  00695797  0500000US28153  28153     Wayne   06   \n",
       "\n",
       "        ALAND     AWATER                                           geometry  \\\n",
       "0  1432479992   12194983  POLYGON ((-83.86976 39.05553, -83.86568 39.247...   \n",
       "1  1912292630   12557304  POLYGON ((-120.07248 38.50987, -120.07239 38.7...   \n",
       "2  1701544502  563927612  POLYGON ((-87.62999 30.87766, -87.62946 30.880...   \n",
       "3   963936864    5077783  POLYGON ((-87.91028 38.57493, -87.90811 38.850...   \n",
       "4  2099745573    7255476  POLYGON ((-88.94317 31.78421, -88.94335 31.824...   \n",
       "\n",
       "        stname postcode  \n",
       "0         Ohio       OH  \n",
       "1          NaN      NaN  \n",
       "2      Florida       FL  \n",
       "3     Illinois       IL  \n",
       "4  Mississippi       MS  "
      ]
     },
     "execution_count": 75,
     "metadata": {},
     "output_type": "execute_result"
    }
   ],
   "source": [
    "us_counties_gdf = gpd.GeoDataFrame(merged_df, geometry=merged_df['geometry'])\n",
    "\n",
    "us_counties_gdf.head()"
   ]
  },
  {
   "cell_type": "code",
   "execution_count": 66,
   "metadata": {},
   "outputs": [
    {
     "data": {
      "text/plain": [
       "(3233, 13)"
      ]
     },
     "execution_count": 66,
     "metadata": {},
     "output_type": "execute_result"
    }
   ],
   "source": [
    "us_counties_gdf.shape"
   ]
  },
  {
   "cell_type": "markdown",
   "metadata": {},
   "source": [
    "## Plot the US counties"
   ]
  },
  {
   "cell_type": "code",
   "execution_count": 71,
   "metadata": {},
   "outputs": [
    {
     "data": {
      "image/png": "[encoded data removed]",
      "text/plain": [
       "<Figure size 1440x1440 with 1 Axes>"
      ]
     },
     "metadata": {
      "needs_background": "light"
     },
     "output_type": "display_data"
    }
   ],
   "source": [
    "us_counties_gdf.plot(figsize=(20, 20));"
   ]
  },
  {
   "cell_type": "markdown",
   "metadata": {},
   "source": [
    "## Uh oh..  What's going on?\n",
    "\n",
    "There are US States that are not necessary for this project including Palau (PW/70), Guam (GU/66), Northern Mariana Islands (MP/69), Puerto Rico (PR/72), and Virgin Islnads (VI/78).  Let's query them out."
   ]
  },
  {
   "cell_type": "code",
   "execution_count": 67,
   "metadata": {},
   "outputs": [],
   "source": [
    "us_counties_gdf = us_counties_gdf[\n",
    "    (us_counties_gdf['STATEFP'] != '70') &\n",
    "    (us_counties_gdf['STATEFP'] != '66') &\n",
    "    (us_counties_gdf['STATEFP'] != '69') &\n",
    "    (us_counties_gdf['STATEFP'] != '72') &\n",
    "    (us_counties_gdf['STATEFP'] != '78')\n",
    "]"
   ]
  },
  {
   "cell_type": "code",
   "execution_count": 68,
   "metadata": {},
   "outputs": [
    {
     "data": {
      "text/plain": [
       "(3147, 13)"
      ]
     },
     "execution_count": 68,
     "metadata": {},
     "output_type": "execute_result"
    }
   ],
   "source": [
    "us_counties_gdf.shape"
   ]
  },
  {
   "cell_type": "code",
   "execution_count": 72,
   "metadata": {},
   "outputs": [
    {
     "data": {
      "image/png": "[encoded data removed]",
      "text/plain": [
       "<Figure size 1440x1440 with 1 Axes>"
      ]
     },
     "metadata": {
      "needs_background": "light"
     },
     "output_type": "display_data"
    }
   ],
   "source": [
    "us_counties_gdf.plot(\n",
    "    figsize=(20, 20),\n",
    "    column='STATEFP',\n",
    "    alpha=0.7,    \n",
    ");"
   ]
  },
  {
   "cell_type": "code",
   "execution_count": null,
   "metadata": {},
   "outputs": [],
   "source": []
  }
 ],
 "metadata": {
  "kernelspec": {
   "display_name": "Python 3",
   "language": "python",
   "name": "python3"
  },
  "language_info": {
   "codemirror_mode": {
    "name": "ipython",
    "version": 3
   },
   "file_extension": ".py",
   "mimetype": "text/x-python",
   "name": "python",
   "nbconvert_exporter": "python",
   "pygments_lexer": "ipython3",
   "version": "3.7.7"
  }
 },
 "nbformat": 4,
 "nbformat_minor": 4
}
